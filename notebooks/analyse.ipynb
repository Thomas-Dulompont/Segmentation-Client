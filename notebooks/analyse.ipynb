{
 "cells": [
  {
   "cell_type": "code",
   "execution_count": 94,
   "metadata": {},
   "outputs": [],
   "source": [
    "import pandas as pd\n",
    "import missingno as msno\n",
    "import datetime\n",
    "\n",
    "current_date = \"2018-12-31 23:59:59\""
   ]
  },
  {
   "cell_type": "code",
   "execution_count": 95,
   "metadata": {},
   "outputs": [],
   "source": [
    "customers = pd.read_csv(\"../data/olist_customers_dataset.csv\") # Client\n",
    "geolocalisation = pd.read_csv(\"../data/olist_geolocation_dataset.csv\") # Loc\n",
    "\n",
    "order_items = pd.read_csv(\"../data/olist_order_items_dataset.csv\") # Commandes items\n",
    "order_payments = pd.read_csv(\"../data/olist_order_payments_dataset.csv\") # Commandes paiement\n",
    "order_reviews = pd.read_csv(\"../data/olist_order_reviews_dataset.csv\") # Commandes reviews\n",
    "orders = pd.read_csv(\"../data/olist_orders_dataset.csv\") # Commandes\n",
    "\n",
    "sellers = pd.read_csv(\"../data/olist_sellers_dataset.csv\") # Vendeurs\n",
    "products = pd.read_csv(\"../data/olist_products_dataset.csv\") # Produits\n",
    "\n",
    "cat_trans = pd.read_csv('../data/product_category_name_translation.csv') # Translate"
   ]
  },
  {
   "cell_type": "code",
   "execution_count": 96,
   "metadata": {},
   "outputs": [],
   "source": [
    "# orders['order_approved_at'] = pd.to_datetime(orders['order_approved_at'])\n",
    "# orders.set_index('order_approved_at', inplace=True)"
   ]
  },
  {
   "cell_type": "code",
   "execution_count": 97,
   "metadata": {},
   "outputs": [],
   "source": [
    "order_cust = pd.merge(left=customers, right=orders, how=\"left\", left_on=\"customer_id\", right_on=\"customer_id\")\n",
    "forder_cust = pd.merge(left=order_cust, right=order_items, how=\"outer\", left_on=\"order_id\", right_on=\"order_id\")\n",
    "\n",
    "forder_cust['total'] = forder_cust[[\"price\", \"freight_value\"]].sum(axis=1)"
   ]
  },
  {
   "cell_type": "code",
   "execution_count": 98,
   "metadata": {},
   "outputs": [],
   "source": [
    "client = forder_cust.drop(['customer_id', 'shipping_limit_date', 'order_delivered_carrier_date', 'order_delivered_customer_date', 'order_purchase_timestamp', 'order_estimated_delivery_date'], axis=1)"
   ]
  },
  {
   "cell_type": "code",
   "execution_count": 99,
   "metadata": {},
   "outputs": [],
   "source": [
    "client = client.merge(right=client.groupby(\"customer_unique_id\").agg(freq = (\"order_id\", \"count\")).reset_index(), on=\"customer_unique_id\")"
   ]
  },
  {
   "cell_type": "code",
   "execution_count": 100,
   "metadata": {},
   "outputs": [],
   "source": [
    "client['order_approved_at'] = pd.to_datetime(client['order_approved_at'])\n",
    "\n",
    "client = client.merge(right=client.groupby('customer_unique_id').agg(last_date =('order_approved_at','max')).reset_index(), on=\"customer_unique_id\")"
   ]
  },
  {
   "cell_type": "code",
   "execution_count": 101,
   "metadata": {},
   "outputs": [],
   "source": [
    "client['periode'] = client['last_date'].apply(lambda x: (pd.to_datetime(current_date) - x).days)"
   ]
  },
  {
   "cell_type": "code",
   "execution_count": 102,
   "metadata": {},
   "outputs": [],
   "source": [
    "def recence_transform(x):\n",
    "    if x > 365:\n",
    "        return 0\n",
    "    if x > 270:\n",
    "        return 3\n",
    "    if x > 180:\n",
    "        return 6\n",
    "    if x > 90:\n",
    "        return 10\n",
    "    if x < 90:\n",
    "        return 15\n",
    "\n",
    "def montant_transform(x):\n",
    "    x = x * 0.02\n",
    "    if x > 10:\n",
    "        x = 10\n",
    "    return round(x)"
   ]
  },
  {
   "cell_type": "code",
   "execution_count": 103,
   "metadata": {},
   "outputs": [],
   "source": [
    "client['recense'] = client['periode'].apply(lambda x: recence_transform(x))"
   ]
  },
  {
   "cell_type": "code",
   "execution_count": 104,
   "metadata": {},
   "outputs": [],
   "source": [
    "client = client.merge(right=client.groupby(\"customer_unique_id\").agg(montant = (\"total\", \"sum\")).reset_index(), on=\"customer_unique_id\")"
   ]
  },
  {
   "cell_type": "code",
   "execution_count": 105,
   "metadata": {},
   "outputs": [],
   "source": [
    "client['total'] = client['montant']"
   ]
  },
  {
   "cell_type": "code",
   "execution_count": 106,
   "metadata": {},
   "outputs": [],
   "source": [
    "client['montant'] = client['montant'].apply(lambda x: montant_transform(x))"
   ]
  },
  {
   "cell_type": "code",
   "execution_count": 107,
   "metadata": {},
   "outputs": [],
   "source": [
    "client = client.dropna(axis=0)\n",
    "client = client.drop_duplicates(\"customer_unique_id\")\n",
    "client = client.drop([\"order_id\",\"order_status\",\"order_approved_at\",\"order_item_id\",\"product_id\",\"seller_id\",\"price\",\"freight_value\"], axis=1)"
   ]
  },
  {
   "cell_type": "code",
   "execution_count": 108,
   "metadata": {},
   "outputs": [
    {
     "name": "stderr",
     "output_type": "stream",
     "text": [
      "/var/folders/gv/tfv3kbl11y58yd1f4j17_fqr0000gn/T/ipykernel_1060/753506522.py:1: SettingWithCopyWarning: \n",
      "A value is trying to be set on a copy of a slice from a DataFrame\n",
      "\n",
      "See the caveats in the documentation: https://pandas.pydata.org/pandas-docs/stable/user_guide/indexing.html#returning-a-view-versus-a-copy\n",
      "  client['freq'].loc[(pd.to_datetime(current_date) - client['last_date']).dt.days > 365] = 0\n"
     ]
    }
   ],
   "source": [
    "client['freq'].loc[(pd.to_datetime(current_date) - client['last_date']).dt.days > 365] = 0"
   ]
  },
  {
   "cell_type": "code",
   "execution_count": 109,
   "metadata": {},
   "outputs": [],
   "source": [
    "client['freq'] = client['freq'].apply(lambda x: x * 3)"
   ]
  },
  {
   "cell_type": "code",
   "execution_count": 110,
   "metadata": {},
   "outputs": [],
   "source": [
    "client = client.rename(columns={\n",
    "    \"customer_unique_id\" : \"id\", \n",
    "    \"customer_zip_code_prefix\" : \"zipcode\", \n",
    "    \"customer_city\": \"city\",\n",
    "    \"customer_state\" : \"state\",\n",
    "    \"last_date\" : \"last_purchase\",\n",
    "    \"periode\" : \"no_purchase_period\",\n",
    "    })"
   ]
  },
  {
   "cell_type": "code",
   "execution_count": 140,
   "metadata": {},
   "outputs": [],
   "source": [
    "client[[\"zipcode\", \"id\", \"city\", \"state\"]] = client[[\"zipcode\", \"id\", \"city\", \"state\"]].astype('string')"
   ]
  },
  {
   "cell_type": "code",
   "execution_count": 144,
   "metadata": {},
   "outputs": [],
   "source": [
    "client.to_csv(\"data.csv\", index=False)"
   ]
  },
  {
   "attachments": {},
   "cell_type": "markdown",
   "metadata": {},
   "source": [
    "## Autre\n"
   ]
  },
  {
   "attachments": {},
   "cell_type": "markdown",
   "metadata": {},
   "source": [
    "## Heat map"
   ]
  },
  {
   "cell_type": "code",
   "execution_count": 112,
   "metadata": {},
   "outputs": [],
   "source": [
    "import folium\n",
    "from folium.plugins import HeatMap\n",
    "import json\n",
    "\n",
    "geo = json.load(open(\"../data/bresil.geojson\"))"
   ]
  },
  {
   "cell_type": "code",
   "execution_count": 113,
   "metadata": {},
   "outputs": [
    {
     "ename": "NameError",
     "evalue": "name 'df' is not defined",
     "output_type": "error",
     "traceback": [
      "\u001b[0;31m---------------------------------------------------------------------------\u001b[0m",
      "\u001b[0;31mNameError\u001b[0m                                 Traceback (most recent call last)",
      "Cell \u001b[0;32mIn[113], line 1\u001b[0m\n\u001b[0;32m----> 1\u001b[0m df\u001b[39m.\u001b[39msort_values(by\u001b[39m=\u001b[39m\u001b[39m\"\u001b[39m\u001b[39mmean\u001b[39m\u001b[39m\"\u001b[39m, ascending\u001b[39m=\u001b[39m\u001b[39mFalse\u001b[39;00m)\n",
      "\u001b[0;31mNameError\u001b[0m: name 'df' is not defined"
     ]
    }
   ],
   "source": [
    "df.sort_values(by=\"mean\", ascending=False)"
   ]
  },
  {
   "cell_type": "code",
   "execution_count": null,
   "metadata": {},
   "outputs": [],
   "source": [
    "m = folium.Map(location=[df['lat'].mean(), df['lon'].mean()], zoom_start=5)\n",
    "\n",
    "folium.Choropleth(\n",
    "    geo_data=geo,\n",
    "    name=\"choropleth\",\n",
    "    data=df,\n",
    "    columns=[\"geolocation_state\", \"mean\"],\n",
    "    key_on=\"properties.sigla\",\n",
    "    fill_color=\"OrRd\",\n",
    "    fill_opacity=0.7,\n",
    "    line_opacity=0.2,\n",
    "    legend_name=\"Unemployment Rate (%)\",\n",
    ").add_to(m)\n",
    "\n",
    "folium.LayerControl().add_to(m)\n",
    "m"
   ]
  }
 ],
 "metadata": {
  "kernelspec": {
   "display_name": "segmentation-client",
   "language": "python",
   "name": "python3"
  },
  "language_info": {
   "codemirror_mode": {
    "name": "ipython",
    "version": 3
   },
   "file_extension": ".py",
   "mimetype": "text/x-python",
   "name": "python",
   "nbconvert_exporter": "python",
   "pygments_lexer": "ipython3",
   "version": "3.9.16"
  },
  "orig_nbformat": 4,
  "vscode": {
   "interpreter": {
    "hash": "113ff8151af049f5b4e9fdffd0b20667fdcc00ce06e5e2d67cd9b81e1862e1df"
   }
  }
 },
 "nbformat": 4,
 "nbformat_minor": 2
}
