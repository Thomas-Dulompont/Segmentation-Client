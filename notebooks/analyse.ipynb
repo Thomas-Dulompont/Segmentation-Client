{
 "cells": [
  {
   "cell_type": "code",
   "execution_count": 162,
   "metadata": {},
   "outputs": [],
   "source": [
    "import pandas as pd\n",
    "import missingno as msno\n",
    "from datetime import datetime\n",
    "import numpy as np\n",
    "import sklearn.compose._column_transformer\n",
    "import seaborn as sns\n",
    "import matplotlib.pyplot as plt"
   ]
  },
  {
   "cell_type": "code",
   "execution_count": 163,
   "metadata": {},
   "outputs": [],
   "source": [
    "customers = pd.read_csv(\"../data/olist_customers_dataset.csv\") # Client\n",
    "geolocalisation = pd.read_csv(\"../data/olist_geolocation_dataset.csv\") # Loc\n",
    "\n",
    "order_items = pd.read_csv(\"../data/olist_order_items_dataset.csv\") # Commandes items\n",
    "order_payments = pd.read_csv(\"../data/olist_order_payments_dataset.csv\") # Commandes paiement\n",
    "order_reviews = pd.read_csv(\"../data/olist_order_reviews_dataset.csv\") # Commandes reviews\n",
    "orders = pd.read_csv(\"../data/olist_orders_dataset.csv\") # Commandes\n",
    "\n",
    "sellers = pd.read_csv(\"../data/olist_sellers_dataset.csv\") # Vendeurs\n",
    "products = pd.read_csv(\"../data/olist_products_dataset.csv\") # Produits\n",
    "cat_trans = pd.read_csv('../data/product_category_name_translation.csv') # Translate\n"
   ]
  },
  {
   "cell_type": "code",
   "execution_count": 164,
   "metadata": {},
   "outputs": [],
   "source": [
    "# orders['order_approved_at'] = pd.to_datetime(orders['order_approved_at'])\n",
    "# orders.set_index('order_approved_at', inplace=True)"
   ]
  },
  {
   "cell_type": "code",
   "execution_count": 165,
   "metadata": {},
   "outputs": [],
   "source": [
    "order_cust = pd.merge(left=customers, right=orders, how=\"left\", left_on=\"customer_id\", right_on=\"customer_id\")\n",
    "forder_cust = pd.merge(left=order_cust, right=order_items, how=\"outer\", left_on=\"order_id\", right_on=\"order_id\")\n",
    "\n",
    "forder_cust['total'] = forder_cust[[\"price\", \"freight_value\"]].sum(axis=1)"
   ]
  },
  {
   "attachments": {},
   "cell_type": "markdown",
   "metadata": {},
   "source": [
    "## Recence "
   ]
  },
  {
   "cell_type": "code",
   "execution_count": 166,
   "metadata": {},
   "outputs": [
    {
     "data": {
      "text/html": [
       "<div>\n",
       "<style scoped>\n",
       "    .dataframe tbody tr th:only-of-type {\n",
       "        vertical-align: middle;\n",
       "    }\n",
       "\n",
       "    .dataframe tbody tr th {\n",
       "        vertical-align: top;\n",
       "    }\n",
       "\n",
       "    .dataframe thead th {\n",
       "        text-align: right;\n",
       "    }\n",
       "</style>\n",
       "<table border=\"1\" class=\"dataframe\">\n",
       "  <thead>\n",
       "    <tr style=\"text-align: right;\">\n",
       "      <th></th>\n",
       "      <th>customer_unique_id</th>\n",
       "      <th>last_date</th>\n",
       "      <th>periode</th>\n",
       "      <th>r_value</th>\n",
       "    </tr>\n",
       "  </thead>\n",
       "  <tbody>\n",
       "    <tr>\n",
       "      <th>0</th>\n",
       "      <td>0000366f3b9a7992bf8c76cfdf3221e2</td>\n",
       "      <td>2018-05-10 11:11:18</td>\n",
       "      <td>116</td>\n",
       "      <td>1</td>\n",
       "    </tr>\n",
       "    <tr>\n",
       "      <th>1</th>\n",
       "      <td>0000b849f77a49e4a4ce2b2a4ca5be3f</td>\n",
       "      <td>2018-05-07 18:25:44</td>\n",
       "      <td>118</td>\n",
       "      <td>1</td>\n",
       "    </tr>\n",
       "    <tr>\n",
       "      <th>2</th>\n",
       "      <td>0000f46a3911fa3c0805444483337064</td>\n",
       "      <td>2017-03-10 21:05:03</td>\n",
       "      <td>541</td>\n",
       "      <td>4</td>\n",
       "    </tr>\n",
       "    <tr>\n",
       "      <th>3</th>\n",
       "      <td>0000f6ccb0745a6a4b88665a16c9f078</td>\n",
       "      <td>2017-10-12 20:49:17</td>\n",
       "      <td>325</td>\n",
       "      <td>3</td>\n",
       "    </tr>\n",
       "    <tr>\n",
       "      <th>4</th>\n",
       "      <td>0004aac84e0df4da2b147fca70cf8255</td>\n",
       "      <td>2017-11-14 20:06:52</td>\n",
       "      <td>292</td>\n",
       "      <td>3</td>\n",
       "    </tr>\n",
       "  </tbody>\n",
       "</table>\n",
       "</div>"
      ],
      "text/plain": [
       "                 customer_unique_id           last_date  periode  r_value\n",
       "0  0000366f3b9a7992bf8c76cfdf3221e2 2018-05-10 11:11:18      116        1\n",
       "1  0000b849f77a49e4a4ce2b2a4ca5be3f 2018-05-07 18:25:44      118        1\n",
       "2  0000f46a3911fa3c0805444483337064 2017-03-10 21:05:03      541        4\n",
       "3  0000f6ccb0745a6a4b88665a16c9f078 2017-10-12 20:49:17      325        3\n",
       "4  0004aac84e0df4da2b147fca70cf8255 2017-11-14 20:06:52      292        3"
      ]
     },
     "execution_count": 166,
     "metadata": {},
     "output_type": "execute_result"
    }
   ],
   "source": [
    "dates = ['order_purchase_timestamp', 'order_approved_at','order_delivered_carrier_date', 'order_delivered_customer_date','order_estimated_delivery_date','shipping_limit_date']\n",
    "forder_cust[dates] =forder_cust[dates].apply(pd.to_datetime, format='%Y-%m-%d')\n",
    "date_1 = forder_cust.sort_values(by ='order_approved_at',ascending = False)\n",
    "\n",
    "\n",
    "recence = date_1.groupby('customer_unique_id').agg(last_date =('order_approved_at','max')).reset_index()\n",
    "\n",
    "\n",
    "recence['periode']=(date_1.order_approved_at.max()-recence.last_date).dt.days\n",
    "recence.dropna(inplace=True)\n",
    "recence.periode = recence.periode.astype(int)\n",
    "\n",
    "def recence_transform(row):\n",
    "    if row['periode'] <= 140:\n",
    "        return 1\n",
    "    if row['periode']> 140 and row['periode'] <= 280:\n",
    "        return 2\n",
    "    if row['periode']>280 and row['periode'] <= 420:\n",
    "        return 3\n",
    "    if row['periode']> 420 and row['periode'] <= 560:\n",
    "        return 4\n",
    "    if row['periode']> 560:\n",
    "        return 5 \n",
    "\n",
    "recence['r_value']=recence.apply(lambda row: recence_transform(row),axis=1)\n",
    "recence.head()"
   ]
  },
  {
   "cell_type": "code",
   "execution_count": 167,
   "metadata": {},
   "outputs": [],
   "source": [
    "\n",
    "liste1 =cat_trans.product_category_name.tolist()\n",
    "liste2 = cat_trans.product_category_name_english.tolist()\n",
    "dict = {}\n",
    "for key in liste1:\n",
    "    for value in liste2:\n",
    "        dict[key] = value\n",
    "        liste2.remove(value)\n",
    "        break\n",
    "products.product_category_name=products.product_category_name.map(dict)\n",
    "order_reviews.drop(['review_comment_title','review_comment_message'],inplace=True,axis=1)\n",
    "order_reviews['review_score'].dropna(inplace=True)"
   ]
  },
  {
   "attachments": {},
   "cell_type": "markdown",
   "metadata": {},
   "source": [
    "## Merging pour l'analyse des commandes"
   ]
  },
  {
   "attachments": {},
   "cell_type": "markdown",
   "metadata": {},
   "source": [
    "### reajustement du df payments pour obtenir une ligne = une commande"
   ]
  },
  {
   "cell_type": "code",
   "execution_count": 168,
   "metadata": {},
   "outputs": [],
   "source": [
    "p1 =order_payments.groupby('order_id').agg(total_pay =('payment_value','sum')).reset_index()\n"
   ]
  },
  {
   "cell_type": "code",
   "execution_count": 169,
   "metadata": {},
   "outputs": [],
   "source": [
    "p1 = order_payments.groupby(['order_id','payment_installments']).agg(payment_type = ('payment_type',apply(lambda)),total_pay =('payment_value','sum')).reset_index()\n",
    "p2=p1.groupby('order_id')['payment_installments'].apply(list).reset_index()\n",
    "p3 = p1.groupby('order_id')['payment_type'].apply(list).reset_index()"
   ]
  },
  {
   "cell_type": "code",
   "execution_count": 170,
   "metadata": {},
   "outputs": [],
   "source": [
    "p3.payment_type= p3.payment_type.astype(str)"
   ]
  },
  {
   "cell_type": "code",
   "execution_count": 171,
   "metadata": {},
   "outputs": [
    {
     "data": {
      "text/html": [
       "<div>\n",
       "<style scoped>\n",
       "    .dataframe tbody tr th:only-of-type {\n",
       "        vertical-align: middle;\n",
       "    }\n",
       "\n",
       "    .dataframe tbody tr th {\n",
       "        vertical-align: top;\n",
       "    }\n",
       "\n",
       "    .dataframe thead th {\n",
       "        text-align: right;\n",
       "    }\n",
       "</style>\n",
       "<table border=\"1\" class=\"dataframe\">\n",
       "  <thead>\n",
       "    <tr style=\"text-align: right;\">\n",
       "      <th></th>\n",
       "      <th>order_id</th>\n",
       "      <th>payment_sequential</th>\n",
       "      <th>payment_type</th>\n",
       "      <th>payment_installments</th>\n",
       "      <th>payment_value</th>\n",
       "    </tr>\n",
       "  </thead>\n",
       "  <tbody>\n",
       "    <tr>\n",
       "      <th>79945</th>\n",
       "      <td>02d0cd05f04ab2e3c1acc473b0abc865</td>\n",
       "      <td>2</td>\n",
       "      <td>credit_card</td>\n",
       "      <td>2</td>\n",
       "      <td>29.64</td>\n",
       "    </tr>\n",
       "    <tr>\n",
       "      <th>99441</th>\n",
       "      <td>02d0cd05f04ab2e3c1acc473b0abc865</td>\n",
       "      <td>1</td>\n",
       "      <td>credit_card</td>\n",
       "      <td>3</td>\n",
       "      <td>56.40</td>\n",
       "    </tr>\n",
       "  </tbody>\n",
       "</table>\n",
       "</div>"
      ],
      "text/plain": [
       "                               order_id  payment_sequential payment_type  \\\n",
       "79945  02d0cd05f04ab2e3c1acc473b0abc865                   2  credit_card   \n",
       "99441  02d0cd05f04ab2e3c1acc473b0abc865                   1  credit_card   \n",
       "\n",
       "       payment_installments  payment_value  \n",
       "79945                     2          29.64  \n",
       "99441                     3          56.40  "
      ]
     },
     "execution_count": 171,
     "metadata": {},
     "output_type": "execute_result"
    }
   ],
   "source": [
    "order_payments[order_payments.order_id=='02d0cd05f04ab2e3c1acc473b0abc865']"
   ]
  },
  {
   "cell_type": "code",
   "execution_count": 172,
   "metadata": {},
   "outputs": [
    {
     "data": {
      "text/html": [
       "<div>\n",
       "<style scoped>\n",
       "    .dataframe tbody tr th:only-of-type {\n",
       "        vertical-align: middle;\n",
       "    }\n",
       "\n",
       "    .dataframe tbody tr th {\n",
       "        vertical-align: top;\n",
       "    }\n",
       "\n",
       "    .dataframe thead th {\n",
       "        text-align: right;\n",
       "    }\n",
       "</style>\n",
       "<table border=\"1\" class=\"dataframe\">\n",
       "  <thead>\n",
       "    <tr style=\"text-align: right;\">\n",
       "      <th></th>\n",
       "      <th>order_id</th>\n",
       "      <th>payment_type</th>\n",
       "    </tr>\n",
       "  </thead>\n",
       "  <tbody>\n",
       "    <tr>\n",
       "      <th>1080</th>\n",
       "      <td>02d0cd05f04ab2e3c1acc473b0abc865</td>\n",
       "      <td>['credit_card', 'credit_card']</td>\n",
       "    </tr>\n",
       "    <tr>\n",
       "      <th>2255</th>\n",
       "      <td>05bd4a1f3930d20f351ce8c406d77103</td>\n",
       "      <td>['credit_card', 'credit_card']</td>\n",
       "    </tr>\n",
       "    <tr>\n",
       "      <th>2307</th>\n",
       "      <td>05d885b852158b0280c4abe2cd5108b4</td>\n",
       "      <td>['credit_card', 'credit_card']</td>\n",
       "    </tr>\n",
       "    <tr>\n",
       "      <th>2847</th>\n",
       "      <td>0741ee0ba3cb46d86325be2879e18706</td>\n",
       "      <td>['credit_card', 'credit_card']</td>\n",
       "    </tr>\n",
       "    <tr>\n",
       "      <th>2888</th>\n",
       "      <td>0758aeea44cefb9c7f59333c7c691714</td>\n",
       "      <td>['credit_card', 'credit_card']</td>\n",
       "    </tr>\n",
       "    <tr>\n",
       "      <th>...</th>\n",
       "      <td>...</td>\n",
       "      <td>...</td>\n",
       "    </tr>\n",
       "    <tr>\n",
       "      <th>95838</th>\n",
       "      <td>f6cbd0bea76d160391128a43b629ae9f</td>\n",
       "      <td>['credit_card', 'credit_card']</td>\n",
       "    </tr>\n",
       "    <tr>\n",
       "      <th>96389</th>\n",
       "      <td>f8303e6eff198d1749d04649a1eb2bb6</td>\n",
       "      <td>['credit_card', 'credit_card']</td>\n",
       "    </tr>\n",
       "    <tr>\n",
       "      <th>98514</th>\n",
       "      <td>fd87d98feff1673e27f7302bceb00cf6</td>\n",
       "      <td>['credit_card', 'credit_card']</td>\n",
       "    </tr>\n",
       "    <tr>\n",
       "      <th>98976</th>\n",
       "      <td>febdd4292b7bc064ae8e10f572aa2ce9</td>\n",
       "      <td>['credit_card', 'credit_card']</td>\n",
       "    </tr>\n",
       "    <tr>\n",
       "      <th>99040</th>\n",
       "      <td>fee9afa24ed743a26803c4d03e8ba5e1</td>\n",
       "      <td>['credit_card', 'credit_card']</td>\n",
       "    </tr>\n",
       "  </tbody>\n",
       "</table>\n",
       "<p>148 rows × 2 columns</p>\n",
       "</div>"
      ],
      "text/plain": [
       "                               order_id                    payment_type\n",
       "1080   02d0cd05f04ab2e3c1acc473b0abc865  ['credit_card', 'credit_card']\n",
       "2255   05bd4a1f3930d20f351ce8c406d77103  ['credit_card', 'credit_card']\n",
       "2307   05d885b852158b0280c4abe2cd5108b4  ['credit_card', 'credit_card']\n",
       "2847   0741ee0ba3cb46d86325be2879e18706  ['credit_card', 'credit_card']\n",
       "2888   0758aeea44cefb9c7f59333c7c691714  ['credit_card', 'credit_card']\n",
       "...                                 ...                             ...\n",
       "95838  f6cbd0bea76d160391128a43b629ae9f  ['credit_card', 'credit_card']\n",
       "96389  f8303e6eff198d1749d04649a1eb2bb6  ['credit_card', 'credit_card']\n",
       "98514  fd87d98feff1673e27f7302bceb00cf6  ['credit_card', 'credit_card']\n",
       "98976  febdd4292b7bc064ae8e10f572aa2ce9  ['credit_card', 'credit_card']\n",
       "99040  fee9afa24ed743a26803c4d03e8ba5e1  ['credit_card', 'credit_card']\n",
       "\n",
       "[148 rows x 2 columns]"
      ]
     },
     "execution_count": 172,
     "metadata": {},
     "output_type": "execute_result"
    }
   ],
   "source": [
    "p3[p3.payment_type == \"['credit_card', 'credit_card']\"]"
   ]
  },
  {
   "attachments": {},
   "cell_type": "markdown",
   "metadata": {},
   "source": [
    "### Merging products and order_items et les regrouper par commandes uniques"
   ]
  },
  {
   "cell_type": "code",
   "execution_count": 173,
   "metadata": {},
   "outputs": [],
   "source": [
    "order_items.drop(['seller_id','price','freight_value'],inplace=True,axis=1)\n"
   ]
  },
  {
   "cell_type": "code",
   "execution_count": 174,
   "metadata": {},
   "outputs": [],
   "source": [
    "products_item = pd.merge(order_items,products,how ='left',left_on='product_id',right_on='product_id')\n",
    "a = products_item.groupby(['order_id','product_category_name']).agg(total_commande=('order_item_id','count'),prod =('product_id','nunique')).reset_index()\n",
    "c = a.groupby('order_id').agg(items_commande = ('total_commande','sum'),prod_commande=('prod','sum')).reset_index()\n",
    "b = a.groupby('order_id')['product_category_name'].apply(list).reset_index()\n"
   ]
  },
  {
   "cell_type": "code",
   "execution_count": 175,
   "metadata": {},
   "outputs": [
    {
     "data": {
      "text/plain": [
       "1     98666\n",
       "2      9803\n",
       "3      2287\n",
       "4       965\n",
       "5       460\n",
       "6       256\n",
       "7        58\n",
       "8        36\n",
       "9        28\n",
       "10       25\n",
       "11       17\n",
       "12       13\n",
       "13        8\n",
       "14        7\n",
       "15        5\n",
       "16        3\n",
       "17        3\n",
       "18        3\n",
       "19        3\n",
       "20        3\n",
       "21        1\n",
       "Name: order_item_id, dtype: int64"
      ]
     },
     "execution_count": 175,
     "metadata": {},
     "output_type": "execute_result"
    }
   ],
   "source": [
    "order_items.order_item_id.value_counts()"
   ]
  },
  {
   "cell_type": "code",
   "execution_count": 190,
   "metadata": {},
   "outputs": [
    {
     "data": {
      "text/html": [
       "<div>\n",
       "<style scoped>\n",
       "    .dataframe tbody tr th:only-of-type {\n",
       "        vertical-align: middle;\n",
       "    }\n",
       "\n",
       "    .dataframe tbody tr th {\n",
       "        vertical-align: top;\n",
       "    }\n",
       "\n",
       "    .dataframe thead th {\n",
       "        text-align: right;\n",
       "    }\n",
       "</style>\n",
       "<table border=\"1\" class=\"dataframe\">\n",
       "  <thead>\n",
       "    <tr style=\"text-align: right;\">\n",
       "      <th></th>\n",
       "      <th>order_id</th>\n",
       "      <th>items_commande</th>\n",
       "      <th>prod_commande</th>\n",
       "      <th>product_category_name</th>\n",
       "    </tr>\n",
       "  </thead>\n",
       "  <tbody>\n",
       "    <tr>\n",
       "      <th>1052</th>\n",
       "      <td>02d0cd05f04ab2e3c1acc473b0abc865</td>\n",
       "      <td>1</td>\n",
       "      <td>1</td>\n",
       "      <td>[fashion_bags_accessories]</td>\n",
       "    </tr>\n",
       "  </tbody>\n",
       "</table>\n",
       "</div>"
      ],
      "text/plain": [
       "                              order_id  items_commande  prod_commande  \\\n",
       "1052  02d0cd05f04ab2e3c1acc473b0abc865               1              1   \n",
       "\n",
       "           product_category_name  \n",
       "1052  [fashion_bags_accessories]  "
      ]
     },
     "execution_count": 190,
     "metadata": {},
     "output_type": "execute_result"
    }
   ],
   "source": [
    "new_products_items = pd.merge(c,b,how='left',left_on='order_id',right_on='order_id')\n",
    "new_products_items[new_products_items.order_id=='02d0cd05f04ab2e3c1acc473b0abc865']"
   ]
  },
  {
   "cell_type": "code",
   "execution_count": 194,
   "metadata": {},
   "outputs": [
    {
     "data": {
      "text/html": [
       "<div>\n",
       "<style scoped>\n",
       "    .dataframe tbody tr th:only-of-type {\n",
       "        vertical-align: middle;\n",
       "    }\n",
       "\n",
       "    .dataframe tbody tr th {\n",
       "        vertical-align: top;\n",
       "    }\n",
       "\n",
       "    .dataframe thead th {\n",
       "        text-align: right;\n",
       "    }\n",
       "</style>\n",
       "<table border=\"1\" class=\"dataframe\">\n",
       "  <thead>\n",
       "    <tr style=\"text-align: right;\">\n",
       "      <th></th>\n",
       "      <th>order_id</th>\n",
       "      <th>payment_installments</th>\n",
       "      <th>payment_type</th>\n",
       "      <th>total_pay</th>\n",
       "    </tr>\n",
       "  </thead>\n",
       "  <tbody>\n",
       "    <tr>\n",
       "      <th>1091</th>\n",
       "      <td>02d0cd05f04ab2e3c1acc473b0abc865</td>\n",
       "      <td>2</td>\n",
       "      <td>credit_card</td>\n",
       "      <td>29.64</td>\n",
       "    </tr>\n",
       "    <tr>\n",
       "      <th>1092</th>\n",
       "      <td>02d0cd05f04ab2e3c1acc473b0abc865</td>\n",
       "      <td>3</td>\n",
       "      <td>credit_card</td>\n",
       "      <td>56.40</td>\n",
       "    </tr>\n",
       "  </tbody>\n",
       "</table>\n",
       "</div>"
      ],
      "text/plain": [
       "                              order_id  payment_installments payment_type  \\\n",
       "1091  02d0cd05f04ab2e3c1acc473b0abc865                     2  credit_card   \n",
       "1092  02d0cd05f04ab2e3c1acc473b0abc865                     3  credit_card   \n",
       "\n",
       "      total_pay  \n",
       "1091      29.64  \n",
       "1092      56.40  "
      ]
     },
     "execution_count": 194,
     "metadata": {},
     "output_type": "execute_result"
    }
   ],
   "source": [
    "p1[p1.order_id=='02d0cd05f04ab2e3c1acc473b0abc865']"
   ]
  },
  {
   "cell_type": "code",
   "execution_count": 191,
   "metadata": {},
   "outputs": [
    {
     "data": {
      "text/html": [
       "<div>\n",
       "<style scoped>\n",
       "    .dataframe tbody tr th:only-of-type {\n",
       "        vertical-align: middle;\n",
       "    }\n",
       "\n",
       "    .dataframe tbody tr th {\n",
       "        vertical-align: top;\n",
       "    }\n",
       "\n",
       "    .dataframe thead th {\n",
       "        text-align: right;\n",
       "    }\n",
       "</style>\n",
       "<table border=\"1\" class=\"dataframe\">\n",
       "  <thead>\n",
       "    <tr style=\"text-align: right;\">\n",
       "      <th></th>\n",
       "      <th>order_id</th>\n",
       "      <th>payment_type</th>\n",
       "    </tr>\n",
       "  </thead>\n",
       "  <tbody>\n",
       "    <tr>\n",
       "      <th>1080</th>\n",
       "      <td>02d0cd05f04ab2e3c1acc473b0abc865</td>\n",
       "      <td>['credit_card', 'credit_card']</td>\n",
       "    </tr>\n",
       "  </tbody>\n",
       "</table>\n",
       "</div>"
      ],
      "text/plain": [
       "                              order_id                    payment_type\n",
       "1080  02d0cd05f04ab2e3c1acc473b0abc865  ['credit_card', 'credit_card']"
      ]
     },
     "execution_count": 191,
     "metadata": {},
     "output_type": "execute_result"
    }
   ],
   "source": [
    "p3[p3.order_id=='02d0cd05f04ab2e3c1acc473b0abc865']"
   ]
  },
  {
   "cell_type": "code",
   "execution_count": 192,
   "metadata": {},
   "outputs": [
    {
     "data": {
      "text/html": [
       "<div>\n",
       "<style scoped>\n",
       "    .dataframe tbody tr th:only-of-type {\n",
       "        vertical-align: middle;\n",
       "    }\n",
       "\n",
       "    .dataframe tbody tr th {\n",
       "        vertical-align: top;\n",
       "    }\n",
       "\n",
       "    .dataframe thead th {\n",
       "        text-align: right;\n",
       "    }\n",
       "</style>\n",
       "<table border=\"1\" class=\"dataframe\">\n",
       "  <thead>\n",
       "    <tr style=\"text-align: right;\">\n",
       "      <th></th>\n",
       "      <th>order_id</th>\n",
       "      <th>payment_sequential</th>\n",
       "      <th>payment_type</th>\n",
       "      <th>payment_installments</th>\n",
       "      <th>payment_value</th>\n",
       "    </tr>\n",
       "  </thead>\n",
       "  <tbody>\n",
       "    <tr>\n",
       "      <th>79945</th>\n",
       "      <td>02d0cd05f04ab2e3c1acc473b0abc865</td>\n",
       "      <td>2</td>\n",
       "      <td>credit_card</td>\n",
       "      <td>2</td>\n",
       "      <td>29.64</td>\n",
       "    </tr>\n",
       "    <tr>\n",
       "      <th>99441</th>\n",
       "      <td>02d0cd05f04ab2e3c1acc473b0abc865</td>\n",
       "      <td>1</td>\n",
       "      <td>credit_card</td>\n",
       "      <td>3</td>\n",
       "      <td>56.40</td>\n",
       "    </tr>\n",
       "  </tbody>\n",
       "</table>\n",
       "</div>"
      ],
      "text/plain": [
       "                               order_id  payment_sequential payment_type  \\\n",
       "79945  02d0cd05f04ab2e3c1acc473b0abc865                   2  credit_card   \n",
       "99441  02d0cd05f04ab2e3c1acc473b0abc865                   1  credit_card   \n",
       "\n",
       "       payment_installments  payment_value  \n",
       "79945                     2          29.64  \n",
       "99441                     3          56.40  "
      ]
     },
     "execution_count": 192,
     "metadata": {},
     "output_type": "execute_result"
    }
   ],
   "source": [
    "order_payments[order_payments.order_id=='02d0cd05f04ab2e3c1acc473b0abc865']"
   ]
  },
  {
   "cell_type": "code",
   "execution_count": 193,
   "metadata": {},
   "outputs": [
    {
     "data": {
      "text/html": [
       "<div>\n",
       "<style scoped>\n",
       "    .dataframe tbody tr th:only-of-type {\n",
       "        vertical-align: middle;\n",
       "    }\n",
       "\n",
       "    .dataframe tbody tr th {\n",
       "        vertical-align: top;\n",
       "    }\n",
       "\n",
       "    .dataframe thead th {\n",
       "        text-align: right;\n",
       "    }\n",
       "</style>\n",
       "<table border=\"1\" class=\"dataframe\">\n",
       "  <thead>\n",
       "    <tr style=\"text-align: right;\">\n",
       "      <th></th>\n",
       "      <th>order_id</th>\n",
       "      <th>order_item_id</th>\n",
       "      <th>product_id</th>\n",
       "      <th>shipping_limit_date</th>\n",
       "      <th>product_category_name</th>\n",
       "      <th>product_name_lenght</th>\n",
       "      <th>product_description_lenght</th>\n",
       "      <th>product_photos_qty</th>\n",
       "      <th>product_weight_g</th>\n",
       "      <th>product_length_cm</th>\n",
       "      <th>product_height_cm</th>\n",
       "      <th>product_width_cm</th>\n",
       "    </tr>\n",
       "  </thead>\n",
       "  <tbody>\n",
       "    <tr>\n",
       "      <th>1212</th>\n",
       "      <td>02d0cd05f04ab2e3c1acc473b0abc865</td>\n",
       "      <td>1</td>\n",
       "      <td>77fa3381855b6763c52ca3b72824f508</td>\n",
       "      <td>2018-03-29 14:30:49</td>\n",
       "      <td>fashion_bags_accessories</td>\n",
       "      <td>60.0</td>\n",
       "      <td>177.0</td>\n",
       "      <td>6.0</td>\n",
       "      <td>250.0</td>\n",
       "      <td>16.0</td>\n",
       "      <td>2.0</td>\n",
       "      <td>20.0</td>\n",
       "    </tr>\n",
       "  </tbody>\n",
       "</table>\n",
       "</div>"
      ],
      "text/plain": [
       "                              order_id  order_item_id  \\\n",
       "1212  02d0cd05f04ab2e3c1acc473b0abc865              1   \n",
       "\n",
       "                            product_id  shipping_limit_date  \\\n",
       "1212  77fa3381855b6763c52ca3b72824f508  2018-03-29 14:30:49   \n",
       "\n",
       "         product_category_name  product_name_lenght  \\\n",
       "1212  fashion_bags_accessories                 60.0   \n",
       "\n",
       "      product_description_lenght  product_photos_qty  product_weight_g  \\\n",
       "1212                       177.0                 6.0             250.0   \n",
       "\n",
       "      product_length_cm  product_height_cm  product_width_cm  \n",
       "1212               16.0                2.0              20.0  "
      ]
     },
     "execution_count": 193,
     "metadata": {},
     "output_type": "execute_result"
    }
   ],
   "source": [
    "products_item[products_item.order_id == '02d0cd05f04ab2e3c1acc473b0abc865']"
   ]
  },
  {
   "attachments": {},
   "cell_type": "markdown",
   "metadata": {},
   "source": [
    "### ok"
   ]
  },
  {
   "cell_type": "code",
   "execution_count": 179,
   "metadata": {},
   "outputs": [],
   "source": [
    "new_order_items = order_items.groupby('order_id').agg(total_commande=('order_item_id','nunique'),prod =('product_id','nunique')).reset_index()\n",
    "\n"
   ]
  },
  {
   "cell_type": "code",
   "execution_count": 180,
   "metadata": {},
   "outputs": [
    {
     "data": {
      "text/html": [
       "<div>\n",
       "<style scoped>\n",
       "    .dataframe tbody tr th:only-of-type {\n",
       "        vertical-align: middle;\n",
       "    }\n",
       "\n",
       "    .dataframe tbody tr th {\n",
       "        vertical-align: top;\n",
       "    }\n",
       "\n",
       "    .dataframe thead th {\n",
       "        text-align: right;\n",
       "    }\n",
       "</style>\n",
       "<table border=\"1\" class=\"dataframe\">\n",
       "  <thead>\n",
       "    <tr style=\"text-align: right;\">\n",
       "      <th></th>\n",
       "      <th>order_id</th>\n",
       "      <th>payment_installments</th>\n",
       "      <th>payment_type</th>\n",
       "      <th>total_pay</th>\n",
       "    </tr>\n",
       "  </thead>\n",
       "  <tbody>\n",
       "    <tr>\n",
       "      <th>136</th>\n",
       "      <td>005d9a5423d47281ac463a968b3936fb</td>\n",
       "      <td>10</td>\n",
       "      <td>credit_card</td>\n",
       "      <td>145.26</td>\n",
       "    </tr>\n",
       "  </tbody>\n",
       "</table>\n",
       "</div>"
      ],
      "text/plain": [
       "                             order_id  payment_installments payment_type  \\\n",
       "136  005d9a5423d47281ac463a968b3936fb                    10  credit_card   \n",
       "\n",
       "     total_pay  \n",
       "136     145.26  "
      ]
     },
     "execution_count": 180,
     "metadata": {},
     "output_type": "execute_result"
    }
   ],
   "source": [
    "p1[p1.order_id=='005d9a5423d47281ac463a968b3936fb']"
   ]
  },
  {
   "cell_type": "code",
   "execution_count": 181,
   "metadata": {},
   "outputs": [
    {
     "data": {
      "text/html": [
       "<div>\n",
       "<style scoped>\n",
       "    .dataframe tbody tr th:only-of-type {\n",
       "        vertical-align: middle;\n",
       "    }\n",
       "\n",
       "    .dataframe tbody tr th {\n",
       "        vertical-align: top;\n",
       "    }\n",
       "\n",
       "    .dataframe thead th {\n",
       "        text-align: right;\n",
       "    }\n",
       "</style>\n",
       "<table border=\"1\" class=\"dataframe\">\n",
       "  <thead>\n",
       "    <tr style=\"text-align: right;\">\n",
       "      <th></th>\n",
       "      <th>product_id</th>\n",
       "      <th>product_category_name</th>\n",
       "      <th>product_name_lenght</th>\n",
       "      <th>product_description_lenght</th>\n",
       "      <th>product_photos_qty</th>\n",
       "      <th>product_weight_g</th>\n",
       "      <th>product_length_cm</th>\n",
       "      <th>product_height_cm</th>\n",
       "      <th>product_width_cm</th>\n",
       "    </tr>\n",
       "  </thead>\n",
       "  <tbody>\n",
       "    <tr>\n",
       "      <th>4642</th>\n",
       "      <td>8338cef8355d238f43711dcb9c0657b2</td>\n",
       "      <td>furniture_decor</td>\n",
       "      <td>59.0</td>\n",
       "      <td>473.0</td>\n",
       "      <td>1.0</td>\n",
       "      <td>700.0</td>\n",
       "      <td>30.0</td>\n",
       "      <td>3.0</td>\n",
       "      <td>20.0</td>\n",
       "    </tr>\n",
       "  </tbody>\n",
       "</table>\n",
       "</div>"
      ],
      "text/plain": [
       "                            product_id product_category_name  \\\n",
       "4642  8338cef8355d238f43711dcb9c0657b2       furniture_decor   \n",
       "\n",
       "      product_name_lenght  product_description_lenght  product_photos_qty  \\\n",
       "4642                 59.0                       473.0                 1.0   \n",
       "\n",
       "      product_weight_g  product_length_cm  product_height_cm  product_width_cm  \n",
       "4642             700.0               30.0                3.0              20.0  "
      ]
     },
     "execution_count": 181,
     "metadata": {},
     "output_type": "execute_result"
    }
   ],
   "source": [
    "products[products.product_id =='8338cef8355d238f43711dcb9c0657b2']"
   ]
  },
  {
   "cell_type": "code",
   "execution_count": 182,
   "metadata": {},
   "outputs": [
    {
     "data": {
      "text/html": [
       "<div>\n",
       "<style scoped>\n",
       "    .dataframe tbody tr th:only-of-type {\n",
       "        vertical-align: middle;\n",
       "    }\n",
       "\n",
       "    .dataframe tbody tr th {\n",
       "        vertical-align: top;\n",
       "    }\n",
       "\n",
       "    .dataframe thead th {\n",
       "        text-align: right;\n",
       "    }\n",
       "</style>\n",
       "<table border=\"1\" class=\"dataframe\">\n",
       "  <thead>\n",
       "    <tr style=\"text-align: right;\">\n",
       "      <th></th>\n",
       "      <th>order_id</th>\n",
       "      <th>order_item_id</th>\n",
       "      <th>product_id</th>\n",
       "      <th>shipping_limit_date</th>\n",
       "    </tr>\n",
       "  </thead>\n",
       "  <tbody>\n",
       "    <tr>\n",
       "      <th>151</th>\n",
       "      <td>005d9a5423d47281ac463a968b3936fb</td>\n",
       "      <td>1</td>\n",
       "      <td>fb7a100ec8c7b34f60cec22b1a9a10e0</td>\n",
       "      <td>2017-10-24 12:28:16</td>\n",
       "    </tr>\n",
       "    <tr>\n",
       "      <th>152</th>\n",
       "      <td>005d9a5423d47281ac463a968b3936fb</td>\n",
       "      <td>2</td>\n",
       "      <td>4c3ae5db49258df0784827bdacf3b396</td>\n",
       "      <td>2017-10-24 12:28:16</td>\n",
       "    </tr>\n",
       "    <tr>\n",
       "      <th>153</th>\n",
       "      <td>005d9a5423d47281ac463a968b3936fb</td>\n",
       "      <td>3</td>\n",
       "      <td>4c3ae5db49258df0784827bdacf3b396</td>\n",
       "      <td>2017-10-24 12:28:16</td>\n",
       "    </tr>\n",
       "  </tbody>\n",
       "</table>\n",
       "</div>"
      ],
      "text/plain": [
       "                             order_id  order_item_id  \\\n",
       "151  005d9a5423d47281ac463a968b3936fb              1   \n",
       "152  005d9a5423d47281ac463a968b3936fb              2   \n",
       "153  005d9a5423d47281ac463a968b3936fb              3   \n",
       "\n",
       "                           product_id  shipping_limit_date  \n",
       "151  fb7a100ec8c7b34f60cec22b1a9a10e0  2017-10-24 12:28:16  \n",
       "152  4c3ae5db49258df0784827bdacf3b396  2017-10-24 12:28:16  \n",
       "153  4c3ae5db49258df0784827bdacf3b396  2017-10-24 12:28:16  "
      ]
     },
     "execution_count": 182,
     "metadata": {},
     "output_type": "execute_result"
    }
   ],
   "source": [
    "order_items[order_items.order_id =='005d9a5423d47281ac463a968b3936fb']"
   ]
  },
  {
   "cell_type": "code",
   "execution_count": 183,
   "metadata": {},
   "outputs": [
    {
     "data": {
      "text/html": [
       "<div>\n",
       "<style scoped>\n",
       "    .dataframe tbody tr th:only-of-type {\n",
       "        vertical-align: middle;\n",
       "    }\n",
       "\n",
       "    .dataframe tbody tr th {\n",
       "        vertical-align: top;\n",
       "    }\n",
       "\n",
       "    .dataframe thead th {\n",
       "        text-align: right;\n",
       "    }\n",
       "</style>\n",
       "<table border=\"1\" class=\"dataframe\">\n",
       "  <thead>\n",
       "    <tr style=\"text-align: right;\">\n",
       "      <th></th>\n",
       "      <th>order_id</th>\n",
       "      <th>total_commande</th>\n",
       "      <th>prod</th>\n",
       "    </tr>\n",
       "  </thead>\n",
       "  <tbody>\n",
       "    <tr>\n",
       "      <th>447</th>\n",
       "      <td>012a238ab54294a3b365812ccc82b135</td>\n",
       "      <td>3</td>\n",
       "      <td>3</td>\n",
       "    </tr>\n",
       "    <tr>\n",
       "      <th>836</th>\n",
       "      <td>023669233121f0fb7899e5be2b22885f</td>\n",
       "      <td>3</td>\n",
       "      <td>3</td>\n",
       "    </tr>\n",
       "    <tr>\n",
       "      <th>1259</th>\n",
       "      <td>034afd1b074e35a1d1dcf70c4a5641b5</td>\n",
       "      <td>3</td>\n",
       "      <td>3</td>\n",
       "    </tr>\n",
       "    <tr>\n",
       "      <th>1607</th>\n",
       "      <td>0420dbc50fc554e303e4b2d6b39063f6</td>\n",
       "      <td>3</td>\n",
       "      <td>3</td>\n",
       "    </tr>\n",
       "    <tr>\n",
       "      <th>1775</th>\n",
       "      <td>048fec87f5858e3a91ce55d3a944b457</td>\n",
       "      <td>3</td>\n",
       "      <td>3</td>\n",
       "    </tr>\n",
       "    <tr>\n",
       "      <th>...</th>\n",
       "      <td>...</td>\n",
       "      <td>...</td>\n",
       "      <td>...</td>\n",
       "    </tr>\n",
       "    <tr>\n",
       "      <th>98255</th>\n",
       "      <td>fee26dd998861d207782234217b367ec</td>\n",
       "      <td>3</td>\n",
       "      <td>3</td>\n",
       "    </tr>\n",
       "    <tr>\n",
       "      <th>98297</th>\n",
       "      <td>fef9630717f341d93127dbf1d27650c9</td>\n",
       "      <td>3</td>\n",
       "      <td>3</td>\n",
       "    </tr>\n",
       "    <tr>\n",
       "      <th>98308</th>\n",
       "      <td>ff00a56fe9475a175cd651d77c707a09</td>\n",
       "      <td>3</td>\n",
       "      <td>3</td>\n",
       "    </tr>\n",
       "    <tr>\n",
       "      <th>98563</th>\n",
       "      <td>ffb8f7de8940249a3221252818937ecb</td>\n",
       "      <td>3</td>\n",
       "      <td>3</td>\n",
       "    </tr>\n",
       "    <tr>\n",
       "      <th>98564</th>\n",
       "      <td>ffb9a9cd00c74c11c24aa30b3d78e03b</td>\n",
       "      <td>4</td>\n",
       "      <td>3</td>\n",
       "    </tr>\n",
       "  </tbody>\n",
       "</table>\n",
       "<p>298 rows × 3 columns</p>\n",
       "</div>"
      ],
      "text/plain": [
       "                               order_id  total_commande  prod\n",
       "447    012a238ab54294a3b365812ccc82b135               3     3\n",
       "836    023669233121f0fb7899e5be2b22885f               3     3\n",
       "1259   034afd1b074e35a1d1dcf70c4a5641b5               3     3\n",
       "1607   0420dbc50fc554e303e4b2d6b39063f6               3     3\n",
       "1775   048fec87f5858e3a91ce55d3a944b457               3     3\n",
       "...                                 ...             ...   ...\n",
       "98255  fee26dd998861d207782234217b367ec               3     3\n",
       "98297  fef9630717f341d93127dbf1d27650c9               3     3\n",
       "98308  ff00a56fe9475a175cd651d77c707a09               3     3\n",
       "98563  ffb8f7de8940249a3221252818937ecb               3     3\n",
       "98564  ffb9a9cd00c74c11c24aa30b3d78e03b               4     3\n",
       "\n",
       "[298 rows x 3 columns]"
      ]
     },
     "execution_count": 183,
     "metadata": {},
     "output_type": "execute_result"
    }
   ],
   "source": [
    "new_order_items[new_order_items['prod']==3]"
   ]
  },
  {
   "cell_type": "code",
   "execution_count": 184,
   "metadata": {},
   "outputs": [],
   "source": [
    "prorder_items = pd.merge(left=df,right=orders,how='left',left_on='order_id',right_on='order_id') #orders_items,orders,products\n",
    "merged_review = pd.merge(left=prorder_items,right=order_reviews,how='inner',left_on='order_id',right_on='order_id')#review\n",
    "merged_payment = pd.merge(left=merged_review,right=order_payments,how='inner',left_on='order_id',right_on='order_id')#payments\n",
    "merged_customers = pd.merge(left=merged_payment,right=customers,how='inner',left_on='customer_id',right_on='customer_id')#rcustomers\n",
    "merged_sellers = pd.merge(left=merged_customers ,right=sellers,how='inner',left_on='seller_id',right_on='seller_id')#sellers"
   ]
  },
  {
   "cell_type": "code",
   "execution_count": 185,
   "metadata": {},
   "outputs": [],
   "source": [
    "merged_sellers.drop_duplicates(inplace=True)"
   ]
  },
  {
   "cell_type": "code",
   "execution_count": 186,
   "metadata": {},
   "outputs": [],
   "source": [
    "merged_sellers.drop(['review_id','customer_id','product_height_cm','product_width_cm','product_weight_g','product_length_cm','review_creation_date'],axis=1,inplace=True)"
   ]
  },
  {
   "cell_type": "code",
   "execution_count": 187,
   "metadata": {},
   "outputs": [],
   "source": [
    "new = merged_sellers.groupby('order_id').agg(total_items = ('order_item_id','count'),total_price = ('price','sum'),total_freight=('freight_value','sum')).reset_index()\n",
    "\n"
   ]
  },
  {
   "cell_type": "code",
   "execution_count": 188,
   "metadata": {},
   "outputs": [
    {
     "ename": "NameError",
     "evalue": "name 'X_train_standard' is not defined",
     "output_type": "error",
     "traceback": [
      "\u001b[0;31m---------------------------------------------------------------------------\u001b[0m",
      "\u001b[0;31mNameError\u001b[0m                                 Traceback (most recent call last)",
      "Cell \u001b[0;32mIn [188], line 1\u001b[0m\n\u001b[0;32m----> 1\u001b[0m n_dims \u001b[39m=\u001b[39m X_train_standard\u001b[39m.\u001b[39mshape[\u001b[39m1\u001b[39m]\n\u001b[1;32m      2\u001b[0m model \u001b[39m=\u001b[39m PCA(n_components\u001b[39m=\u001b[39mn_dims)\n\u001b[1;32m      3\u001b[0m model\u001b[39m.\u001b[39mfit(X_train_standard)\n",
      "\u001b[0;31mNameError\u001b[0m: name 'X_train_standard' is not defined"
     ]
    }
   ],
   "source": [
    "n_dims = X_train_standard.shape[1]\n",
    "model = PCA(n_components=n_dims)\n",
    "model.fit(X_train_standard)\n",
    "\n",
    "variances = model.explained_variance_ratio_\n",
    "\n",
    "meilleur_dims = np.argmax(np.cumsum(variances) > 0.90)\n",
    "\n",
    "import matplotlib.pyplot as plt\n",
    "plt.bar(range(n_dims), np.cumsum(variances))\n",
    "plt.hlines(0.90, 0, meilleur_dims, colors='r')\n",
    "plt.vlines(meilleur_dims, 0, 0.90, colors='r')"
   ]
  }
 ],
 "metadata": {
  "kernelspec": {
   "display_name": "jng",
   "language": "python",
   "name": "python3"
  },
  "language_info": {
   "codemirror_mode": {
    "name": "ipython",
    "version": 3
   },
   "file_extension": ".py",
   "mimetype": "text/x-python",
   "name": "python",
   "nbconvert_exporter": "python",
   "pygments_lexer": "ipython3",
   "version": "3.10.8"
  },
  "orig_nbformat": 4,
  "vscode": {
   "interpreter": {
    "hash": "37227ed9c485f36684c918ad2ebf286762189d6ce6ae0d84fce244b97886ca3c"
   }
  }
 },
 "nbformat": 4,
 "nbformat_minor": 2
}
