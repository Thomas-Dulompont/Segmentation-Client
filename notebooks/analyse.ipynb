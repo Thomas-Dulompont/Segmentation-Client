{
 "cells": [
  {
   "cell_type": "code",
   "execution_count": 100,
   "metadata": {},
   "outputs": [],
   "source": [
    "import pandas as pd\n",
    "import missingno as msno\n",
    "from datetime import datetime\n",
    "import numpy as np\n",
    "import sklearn.compose._column_transformer\n",
    "import seaborn as sns\n",
    "import matplotlib.pyplot as plt"
   ]
  },
  {
   "cell_type": "code",
   "execution_count": 2,
   "metadata": {},
   "outputs": [],
   "source": [
    "customers = pd.read_csv(\"../data/olist_customers_dataset.csv\") # Client\n",
    "geolocalisation = pd.read_csv(\"../data/olist_geolocation_dataset.csv\") # Loc\n",
    "\n",
    "order_items = pd.read_csv(\"../data/olist_order_items_dataset.csv\") # Commandes items\n",
    "order_payments = pd.read_csv(\"../data/olist_order_payments_dataset.csv\") # Commandes paiement\n",
    "order_reviews = pd.read_csv(\"../data/olist_order_reviews_dataset.csv\") # Commandes reviews\n",
    "orders = pd.read_csv(\"../data/olist_orders_dataset.csv\") # Commandes\n",
    "\n",
    "sellers = pd.read_csv(\"../data/olist_sellers_dataset.csv\") # Vendeurs\n",
    "products = pd.read_csv(\"../data/olist_products_dataset.csv\") # Produits\n",
    "cat_trans = pd.read_csv('../data/product_category_name_translation.csv') # Translate\n"
   ]
  },
  {
   "cell_type": "code",
   "execution_count": 3,
   "metadata": {},
   "outputs": [],
   "source": [
    "order_cust = pd.merge(left=customers, right=orders, how=\"left\", left_on=\"customer_id\", right_on=\"customer_id\")\n",
    "forder_cust = pd.merge(left=order_cust, right=order_items, how=\"outer\", left_on=\"order_id\", right_on=\"order_id\")\n",
    "\n",
    "forder_cust['total'] = forder_cust[[\"price\", \"freight_value\"]].sum(axis=1)"
   ]
  },
  {
   "attachments": {},
   "cell_type": "markdown",
   "metadata": {},
   "source": [
    "## Recence "
   ]
  },
  {
   "cell_type": "code",
   "execution_count": 4,
   "metadata": {},
   "outputs": [
    {
     "data": {
      "text/html": [
       "<div>\n",
       "<style scoped>\n",
       "    .dataframe tbody tr th:only-of-type {\n",
       "        vertical-align: middle;\n",
       "    }\n",
       "\n",
       "    .dataframe tbody tr th {\n",
       "        vertical-align: top;\n",
       "    }\n",
       "\n",
       "    .dataframe thead th {\n",
       "        text-align: right;\n",
       "    }\n",
       "</style>\n",
       "<table border=\"1\" class=\"dataframe\">\n",
       "  <thead>\n",
       "    <tr style=\"text-align: right;\">\n",
       "      <th></th>\n",
       "      <th>customer_unique_id</th>\n",
       "      <th>last_date</th>\n",
       "      <th>periode</th>\n",
       "      <th>r_value</th>\n",
       "    </tr>\n",
       "  </thead>\n",
       "  <tbody>\n",
       "    <tr>\n",
       "      <th>0</th>\n",
       "      <td>0000366f3b9a7992bf8c76cfdf3221e2</td>\n",
       "      <td>2018-05-10 11:11:18</td>\n",
       "      <td>116</td>\n",
       "      <td>1</td>\n",
       "    </tr>\n",
       "    <tr>\n",
       "      <th>1</th>\n",
       "      <td>0000b849f77a49e4a4ce2b2a4ca5be3f</td>\n",
       "      <td>2018-05-07 18:25:44</td>\n",
       "      <td>118</td>\n",
       "      <td>1</td>\n",
       "    </tr>\n",
       "    <tr>\n",
       "      <th>2</th>\n",
       "      <td>0000f46a3911fa3c0805444483337064</td>\n",
       "      <td>2017-03-10 21:05:03</td>\n",
       "      <td>541</td>\n",
       "      <td>4</td>\n",
       "    </tr>\n",
       "    <tr>\n",
       "      <th>3</th>\n",
       "      <td>0000f6ccb0745a6a4b88665a16c9f078</td>\n",
       "      <td>2017-10-12 20:49:17</td>\n",
       "      <td>325</td>\n",
       "      <td>3</td>\n",
       "    </tr>\n",
       "    <tr>\n",
       "      <th>4</th>\n",
       "      <td>0004aac84e0df4da2b147fca70cf8255</td>\n",
       "      <td>2017-11-14 20:06:52</td>\n",
       "      <td>292</td>\n",
       "      <td>3</td>\n",
       "    </tr>\n",
       "  </tbody>\n",
       "</table>\n",
       "</div>"
      ],
      "text/plain": [
       "                 customer_unique_id           last_date  periode  r_value\n",
       "0  0000366f3b9a7992bf8c76cfdf3221e2 2018-05-10 11:11:18      116        1\n",
       "1  0000b849f77a49e4a4ce2b2a4ca5be3f 2018-05-07 18:25:44      118        1\n",
       "2  0000f46a3911fa3c0805444483337064 2017-03-10 21:05:03      541        4\n",
       "3  0000f6ccb0745a6a4b88665a16c9f078 2017-10-12 20:49:17      325        3\n",
       "4  0004aac84e0df4da2b147fca70cf8255 2017-11-14 20:06:52      292        3"
      ]
     },
     "execution_count": 4,
     "metadata": {},
     "output_type": "execute_result"
    }
   ],
   "source": [
    "dates = ['order_purchase_timestamp', 'order_approved_at','order_delivered_carrier_date', 'order_delivered_customer_date','order_estimated_delivery_date','shipping_limit_date']\n",
    "forder_cust[dates] =forder_cust[dates].apply(pd.to_datetime, format='%Y-%m-%d')\n",
    "date_1 = forder_cust.sort_values(by ='order_approved_at',ascending = False)\n",
    "\n",
    "\n",
    "recence = date_1.groupby('customer_unique_id').agg(last_date =('order_approved_at','max')).reset_index()\n",
    "\n",
    "\n",
    "recence['periode']=(date_1.order_approved_at.max()-recence.last_date).dt.days\n",
    "recence.dropna(inplace=True)\n",
    "recence.periode = recence.periode.astype(int)\n",
    "\n",
    "def recence_transform(row):\n",
    "    if row['periode'] <= 140:\n",
    "        return 1\n",
    "    if row['periode']> 140 and row['periode'] <= 280:\n",
    "        return 2\n",
    "    if row['periode']>280 and row['periode'] <= 420:\n",
    "        return 3\n",
    "    if row['periode']> 420 and row['periode'] <= 560:\n",
    "        return 4\n",
    "    if row['periode']> 560:\n",
    "        return 5 \n",
    "\n",
    "recence['r_value']=recence.apply(lambda row: recence_transform(row),axis=1)\n",
    "recence.head()"
   ]
  },
  {
   "cell_type": "code",
   "execution_count": 5,
   "metadata": {},
   "outputs": [],
   "source": [
    "\n",
    "liste1 =cat_trans.product_category_name.tolist()\n",
    "liste2 = cat_trans.product_category_name_english.tolist()\n",
    "dict = {}\n",
    "for key in liste1:\n",
    "    for value in liste2:\n",
    "        dict[key] = value\n",
    "        liste2.remove(value)\n",
    "        break\n",
    "products.product_category_name=products.product_category_name.map(dict)\n",
    "order_reviews.drop(['review_comment_title','review_comment_message'],inplace=True,axis=1)\n",
    "order_reviews['review_score'].dropna(inplace=True)"
   ]
  },
  {
   "attachments": {},
   "cell_type": "markdown",
   "metadata": {},
   "source": [
    "## Merging pour l'analyse des commandes"
   ]
  },
  {
   "attachments": {},
   "cell_type": "markdown",
   "metadata": {},
   "source": [
    "### reajustement du df payments pour obtenir une ligne = une commande"
   ]
  },
  {
   "cell_type": "code",
   "execution_count": 6,
   "metadata": {},
   "outputs": [],
   "source": [
    "def get_mode(x):\n",
    "    return x.mode().iloc[0]"
   ]
  },
  {
   "cell_type": "code",
   "execution_count": 7,
   "metadata": {},
   "outputs": [],
   "source": [
    "p1 = order_payments.groupby('order_id').agg(payment_installment = ('payment_installments',get_mode),payment_type = ('payment_type',get_mode),total_pay =('payment_value','sum')).reset_index()\n"
   ]
  },
  {
   "attachments": {},
   "cell_type": "markdown",
   "metadata": {},
   "source": [
    "### Merging products and order_items et les regrouper par commandes uniques"
   ]
  },
  {
   "cell_type": "code",
   "execution_count": 8,
   "metadata": {},
   "outputs": [
    {
     "data": {
      "text/html": [
       "<div>\n",
       "<style scoped>\n",
       "    .dataframe tbody tr th:only-of-type {\n",
       "        vertical-align: middle;\n",
       "    }\n",
       "\n",
       "    .dataframe tbody tr th {\n",
       "        vertical-align: top;\n",
       "    }\n",
       "\n",
       "    .dataframe thead th {\n",
       "        text-align: right;\n",
       "    }\n",
       "</style>\n",
       "<table border=\"1\" class=\"dataframe\">\n",
       "  <thead>\n",
       "    <tr style=\"text-align: right;\">\n",
       "      <th></th>\n",
       "      <th>order_id</th>\n",
       "      <th>payment_installment</th>\n",
       "      <th>payment_type</th>\n",
       "      <th>total_pay</th>\n",
       "      <th>category</th>\n",
       "      <th>items_commande</th>\n",
       "      <th>prod_commande</th>\n",
       "    </tr>\n",
       "  </thead>\n",
       "  <tbody>\n",
       "    <tr>\n",
       "      <th>0</th>\n",
       "      <td>00010242fe8c5a6d1ba2dd792cb16214</td>\n",
       "      <td>2</td>\n",
       "      <td>credit_card</td>\n",
       "      <td>72.19</td>\n",
       "      <td>cool_stuff</td>\n",
       "      <td>1.0</td>\n",
       "      <td>1.0</td>\n",
       "    </tr>\n",
       "    <tr>\n",
       "      <th>1</th>\n",
       "      <td>00018f77f2f0320c557190d7a144bdd3</td>\n",
       "      <td>3</td>\n",
       "      <td>credit_card</td>\n",
       "      <td>259.83</td>\n",
       "      <td>pet_shop</td>\n",
       "      <td>1.0</td>\n",
       "      <td>1.0</td>\n",
       "    </tr>\n",
       "    <tr>\n",
       "      <th>2</th>\n",
       "      <td>000229ec398224ef6ca0657da4fc703e</td>\n",
       "      <td>5</td>\n",
       "      <td>credit_card</td>\n",
       "      <td>216.87</td>\n",
       "      <td>furniture_decor</td>\n",
       "      <td>1.0</td>\n",
       "      <td>1.0</td>\n",
       "    </tr>\n",
       "    <tr>\n",
       "      <th>3</th>\n",
       "      <td>00024acbcdf0a6daa1e931b038114c75</td>\n",
       "      <td>2</td>\n",
       "      <td>credit_card</td>\n",
       "      <td>25.78</td>\n",
       "      <td>perfumery</td>\n",
       "      <td>1.0</td>\n",
       "      <td>1.0</td>\n",
       "    </tr>\n",
       "    <tr>\n",
       "      <th>4</th>\n",
       "      <td>00042b26cf59d7ce69dfabb4e55b4fd9</td>\n",
       "      <td>3</td>\n",
       "      <td>credit_card</td>\n",
       "      <td>218.04</td>\n",
       "      <td>garden_tools</td>\n",
       "      <td>1.0</td>\n",
       "      <td>1.0</td>\n",
       "    </tr>\n",
       "    <tr>\n",
       "      <th>...</th>\n",
       "      <td>...</td>\n",
       "      <td>...</td>\n",
       "      <td>...</td>\n",
       "      <td>...</td>\n",
       "      <td>...</td>\n",
       "      <td>...</td>\n",
       "      <td>...</td>\n",
       "    </tr>\n",
       "    <tr>\n",
       "      <th>99435</th>\n",
       "      <td>fffc94f6ce00a00581880bf54a75a037</td>\n",
       "      <td>1</td>\n",
       "      <td>boleto</td>\n",
       "      <td>343.40</td>\n",
       "      <td>housewares</td>\n",
       "      <td>1.0</td>\n",
       "      <td>1.0</td>\n",
       "    </tr>\n",
       "    <tr>\n",
       "      <th>99436</th>\n",
       "      <td>fffcd46ef2263f404302a634eb57f7eb</td>\n",
       "      <td>1</td>\n",
       "      <td>boleto</td>\n",
       "      <td>386.53</td>\n",
       "      <td>computers_accessories</td>\n",
       "      <td>1.0</td>\n",
       "      <td>1.0</td>\n",
       "    </tr>\n",
       "    <tr>\n",
       "      <th>99437</th>\n",
       "      <td>fffce4705a9662cd70adb13d4a31832d</td>\n",
       "      <td>3</td>\n",
       "      <td>credit_card</td>\n",
       "      <td>116.85</td>\n",
       "      <td>sports_leisure</td>\n",
       "      <td>1.0</td>\n",
       "      <td>1.0</td>\n",
       "    </tr>\n",
       "    <tr>\n",
       "      <th>99438</th>\n",
       "      <td>fffe18544ffabc95dfada21779c9644f</td>\n",
       "      <td>3</td>\n",
       "      <td>credit_card</td>\n",
       "      <td>64.71</td>\n",
       "      <td>computers_accessories</td>\n",
       "      <td>1.0</td>\n",
       "      <td>1.0</td>\n",
       "    </tr>\n",
       "    <tr>\n",
       "      <th>99439</th>\n",
       "      <td>fffe41c64501cc87c801fd61db3f6244</td>\n",
       "      <td>1</td>\n",
       "      <td>credit_card</td>\n",
       "      <td>55.79</td>\n",
       "      <td>bed_bath_table</td>\n",
       "      <td>1.0</td>\n",
       "      <td>1.0</td>\n",
       "    </tr>\n",
       "  </tbody>\n",
       "</table>\n",
       "<p>99440 rows × 7 columns</p>\n",
       "</div>"
      ],
      "text/plain": [
       "                               order_id  payment_installment payment_type  \\\n",
       "0      00010242fe8c5a6d1ba2dd792cb16214                    2  credit_card   \n",
       "1      00018f77f2f0320c557190d7a144bdd3                    3  credit_card   \n",
       "2      000229ec398224ef6ca0657da4fc703e                    5  credit_card   \n",
       "3      00024acbcdf0a6daa1e931b038114c75                    2  credit_card   \n",
       "4      00042b26cf59d7ce69dfabb4e55b4fd9                    3  credit_card   \n",
       "...                                 ...                  ...          ...   \n",
       "99435  fffc94f6ce00a00581880bf54a75a037                    1       boleto   \n",
       "99436  fffcd46ef2263f404302a634eb57f7eb                    1       boleto   \n",
       "99437  fffce4705a9662cd70adb13d4a31832d                    3  credit_card   \n",
       "99438  fffe18544ffabc95dfada21779c9644f                    3  credit_card   \n",
       "99439  fffe41c64501cc87c801fd61db3f6244                    1  credit_card   \n",
       "\n",
       "       total_pay               category  items_commande  prod_commande  \n",
       "0          72.19             cool_stuff             1.0            1.0  \n",
       "1         259.83               pet_shop             1.0            1.0  \n",
       "2         216.87        furniture_decor             1.0            1.0  \n",
       "3          25.78              perfumery             1.0            1.0  \n",
       "4         218.04           garden_tools             1.0            1.0  \n",
       "...          ...                    ...             ...            ...  \n",
       "99435     343.40             housewares             1.0            1.0  \n",
       "99436     386.53  computers_accessories             1.0            1.0  \n",
       "99437     116.85         sports_leisure             1.0            1.0  \n",
       "99438      64.71  computers_accessories             1.0            1.0  \n",
       "99439      55.79         bed_bath_table             1.0            1.0  \n",
       "\n",
       "[99440 rows x 7 columns]"
      ]
     },
     "execution_count": 8,
     "metadata": {},
     "output_type": "execute_result"
    }
   ],
   "source": [
    "order_items.drop(['seller_id','price','freight_value'],inplace=True,axis=1)\n",
    "products_item = pd.merge(order_items,products,how ='left',left_on='product_id',right_on='product_id')\n",
    "a = products_item.groupby(['order_id','product_category_name']).agg(total_commande=('order_item_id','count'),prod =('product_id','nunique')).reset_index()\n",
    "c = a.groupby('order_id').agg(category=('product_category_name',get_mode),items_commande = ('total_commande','sum'),prod_commande=('prod','sum')).reset_index()\n",
    "df_commande = pd.merge(p1,c,how='left',left_on='order_id',right_on='order_id')\n",
    "df_commande\n",
    "#Dataframe montrant par commande , le type de paiement le plus utilisé, le total de la commande en R$, la catégorie du produit le plus commandé, le nb d'items commandé et le nombre de produits différents commandés\n"
   ]
  },
  {
   "attachments": {},
   "cell_type": "markdown",
   "metadata": {},
   "source": [
    "### Merging orders_items/products/payments"
   ]
  },
  {
   "cell_type": "code",
   "execution_count": 9,
   "metadata": {},
   "outputs": [],
   "source": [
    "orders=orders.dropna()\n",
    "orders[['order_purchase_timestamp','order_approved_at','order_delivered_customer_date']]= orders[['order_purchase_timestamp','order_approved_at','order_delivered_customer_date']].apply(pd.to_datetime)\n",
    "orders['purchase_date']=orders.order_purchase_timestamp.dt.to_period('M')\n",
    "orders['approval_time']= (orders['order_approved_at'] - orders['order_purchase_timestamp']).dt.days\n",
    "orders['delivery_time'] = (orders['order_delivered_customer_date']-orders['order_purchase_timestamp']).dt.days\n",
    "orders.delivery_time =orders.delivery_time.astype(int)\n",
    "df_orders = orders[['order_id','customer_id','delivery_time','purchase_date']]"
   ]
  },
  {
   "cell_type": "code",
   "execution_count": 10,
   "metadata": {},
   "outputs": [
    {
     "data": {
      "text/plain": [
       "71"
      ]
     },
     "execution_count": 10,
     "metadata": {},
     "output_type": "execute_result"
    }
   ],
   "source": [
    "df_commande.category.nunique()"
   ]
  },
  {
   "cell_type": "code",
   "execution_count": 11,
   "metadata": {},
   "outputs": [],
   "source": [
    "df_client = pd.merge(df_commande,df_orders,how='left',left_on='order_id',right_on='order_id')"
   ]
  },
  {
   "cell_type": "code",
   "execution_count": 12,
   "metadata": {},
   "outputs": [],
   "source": [
    "df_client['months']=df_client.purchase_date.dt.month\n",
    "season_dict = {1: 'Winter',\n",
    "               2: 'Winter',\n",
    "               3: 'Spring', \n",
    "               4: 'Spring',\n",
    "               5: 'Spring',\n",
    "               6: 'Summer',\n",
    "               7: 'Summer',\n",
    "               8: 'Summer',\n",
    "               9: 'Autumn',\n",
    "               10: 'Autumn',\n",
    "               11: 'Autumn',\n",
    "               12: 'Winter'}\n",
    "df_client['Season'] = df_client['months'].map(season_dict)"
   ]
  },
  {
   "cell_type": "code",
   "execution_count": 13,
   "metadata": {},
   "outputs": [
    {
     "data": {
      "text/plain": [
       "71"
      ]
     },
     "execution_count": 13,
     "metadata": {},
     "output_type": "execute_result"
    }
   ],
   "source": [
    "df_client.category.nunique()"
   ]
  },
  {
   "attachments": {},
   "cell_type": "markdown",
   "metadata": {},
   "source": [
    "### REVIEW"
   ]
  },
  {
   "cell_type": "code",
   "execution_count": 14,
   "metadata": {},
   "outputs": [],
   "source": [
    "df_review = order_reviews.groupby('order_id',).agg(rating = ('review_score','mean'),review = ('review_id','count')).reset_index()\n"
   ]
  },
  {
   "attachments": {},
   "cell_type": "markdown",
   "metadata": {},
   "source": [
    "### Merging df_client et df_review"
   ]
  },
  {
   "cell_type": "code",
   "execution_count": 15,
   "metadata": {},
   "outputs": [
    {
     "data": {
      "text/html": [
       "<div>\n",
       "<style scoped>\n",
       "    .dataframe tbody tr th:only-of-type {\n",
       "        vertical-align: middle;\n",
       "    }\n",
       "\n",
       "    .dataframe tbody tr th {\n",
       "        vertical-align: top;\n",
       "    }\n",
       "\n",
       "    .dataframe thead th {\n",
       "        text-align: right;\n",
       "    }\n",
       "</style>\n",
       "<table border=\"1\" class=\"dataframe\">\n",
       "  <thead>\n",
       "    <tr style=\"text-align: right;\">\n",
       "      <th></th>\n",
       "      <th>order_id</th>\n",
       "      <th>payment_installment</th>\n",
       "      <th>payment_type</th>\n",
       "      <th>total_pay</th>\n",
       "      <th>category</th>\n",
       "      <th>items_commande</th>\n",
       "      <th>prod_commande</th>\n",
       "      <th>customer_id</th>\n",
       "      <th>delivery_time</th>\n",
       "      <th>purchase_date</th>\n",
       "      <th>months</th>\n",
       "      <th>Season</th>\n",
       "      <th>rating</th>\n",
       "      <th>review</th>\n",
       "    </tr>\n",
       "  </thead>\n",
       "  <tbody>\n",
       "    <tr>\n",
       "      <th>0</th>\n",
       "      <td>00010242fe8c5a6d1ba2dd792cb16214</td>\n",
       "      <td>2</td>\n",
       "      <td>credit_card</td>\n",
       "      <td>72.19</td>\n",
       "      <td>cool_stuff</td>\n",
       "      <td>1.0</td>\n",
       "      <td>1.0</td>\n",
       "      <td>3ce436f183e68e07877b285a838db11a</td>\n",
       "      <td>7.0</td>\n",
       "      <td>2017-09</td>\n",
       "      <td>9</td>\n",
       "      <td>Autumn</td>\n",
       "      <td>5.0</td>\n",
       "      <td>1.0</td>\n",
       "    </tr>\n",
       "    <tr>\n",
       "      <th>1</th>\n",
       "      <td>00018f77f2f0320c557190d7a144bdd3</td>\n",
       "      <td>3</td>\n",
       "      <td>credit_card</td>\n",
       "      <td>259.83</td>\n",
       "      <td>pet_shop</td>\n",
       "      <td>1.0</td>\n",
       "      <td>1.0</td>\n",
       "      <td>f6dd3ec061db4e3987629fe6b26e5cce</td>\n",
       "      <td>16.0</td>\n",
       "      <td>2017-04</td>\n",
       "      <td>4</td>\n",
       "      <td>Spring</td>\n",
       "      <td>4.0</td>\n",
       "      <td>1.0</td>\n",
       "    </tr>\n",
       "    <tr>\n",
       "      <th>2</th>\n",
       "      <td>000229ec398224ef6ca0657da4fc703e</td>\n",
       "      <td>5</td>\n",
       "      <td>credit_card</td>\n",
       "      <td>216.87</td>\n",
       "      <td>furniture_decor</td>\n",
       "      <td>1.0</td>\n",
       "      <td>1.0</td>\n",
       "      <td>6489ae5e4333f3693df5ad4372dab6d3</td>\n",
       "      <td>7.0</td>\n",
       "      <td>2018-01</td>\n",
       "      <td>1</td>\n",
       "      <td>Winter</td>\n",
       "      <td>5.0</td>\n",
       "      <td>1.0</td>\n",
       "    </tr>\n",
       "    <tr>\n",
       "      <th>3</th>\n",
       "      <td>00024acbcdf0a6daa1e931b038114c75</td>\n",
       "      <td>2</td>\n",
       "      <td>credit_card</td>\n",
       "      <td>25.78</td>\n",
       "      <td>perfumery</td>\n",
       "      <td>1.0</td>\n",
       "      <td>1.0</td>\n",
       "      <td>d4eb9395c8c0431ee92fce09860c5a06</td>\n",
       "      <td>6.0</td>\n",
       "      <td>2018-08</td>\n",
       "      <td>8</td>\n",
       "      <td>Summer</td>\n",
       "      <td>4.0</td>\n",
       "      <td>1.0</td>\n",
       "    </tr>\n",
       "    <tr>\n",
       "      <th>4</th>\n",
       "      <td>00042b26cf59d7ce69dfabb4e55b4fd9</td>\n",
       "      <td>3</td>\n",
       "      <td>credit_card</td>\n",
       "      <td>218.04</td>\n",
       "      <td>garden_tools</td>\n",
       "      <td>1.0</td>\n",
       "      <td>1.0</td>\n",
       "      <td>58dbd0b2d70206bf40e62cd34e84d795</td>\n",
       "      <td>25.0</td>\n",
       "      <td>2017-02</td>\n",
       "      <td>2</td>\n",
       "      <td>Winter</td>\n",
       "      <td>5.0</td>\n",
       "      <td>1.0</td>\n",
       "    </tr>\n",
       "    <tr>\n",
       "      <th>...</th>\n",
       "      <td>...</td>\n",
       "      <td>...</td>\n",
       "      <td>...</td>\n",
       "      <td>...</td>\n",
       "      <td>...</td>\n",
       "      <td>...</td>\n",
       "      <td>...</td>\n",
       "      <td>...</td>\n",
       "      <td>...</td>\n",
       "      <td>...</td>\n",
       "      <td>...</td>\n",
       "      <td>...</td>\n",
       "      <td>...</td>\n",
       "      <td>...</td>\n",
       "    </tr>\n",
       "    <tr>\n",
       "      <th>99435</th>\n",
       "      <td>fffc94f6ce00a00581880bf54a75a037</td>\n",
       "      <td>1</td>\n",
       "      <td>boleto</td>\n",
       "      <td>343.40</td>\n",
       "      <td>housewares</td>\n",
       "      <td>1.0</td>\n",
       "      <td>1.0</td>\n",
       "      <td>b51593916b4b8e0d6f66f2ae24f2673d</td>\n",
       "      <td>17.0</td>\n",
       "      <td>2018-04</td>\n",
       "      <td>4</td>\n",
       "      <td>Spring</td>\n",
       "      <td>5.0</td>\n",
       "      <td>1.0</td>\n",
       "    </tr>\n",
       "    <tr>\n",
       "      <th>99436</th>\n",
       "      <td>fffcd46ef2263f404302a634eb57f7eb</td>\n",
       "      <td>1</td>\n",
       "      <td>boleto</td>\n",
       "      <td>386.53</td>\n",
       "      <td>computers_accessories</td>\n",
       "      <td>1.0</td>\n",
       "      <td>1.0</td>\n",
       "      <td>84c5d4fbaf120aae381fad077416eaa0</td>\n",
       "      <td>9.0</td>\n",
       "      <td>2018-07</td>\n",
       "      <td>7</td>\n",
       "      <td>Summer</td>\n",
       "      <td>5.0</td>\n",
       "      <td>1.0</td>\n",
       "    </tr>\n",
       "    <tr>\n",
       "      <th>99437</th>\n",
       "      <td>fffce4705a9662cd70adb13d4a31832d</td>\n",
       "      <td>3</td>\n",
       "      <td>credit_card</td>\n",
       "      <td>116.85</td>\n",
       "      <td>sports_leisure</td>\n",
       "      <td>1.0</td>\n",
       "      <td>1.0</td>\n",
       "      <td>29309aa813182aaddc9b259e31b870e6</td>\n",
       "      <td>4.0</td>\n",
       "      <td>2017-10</td>\n",
       "      <td>10</td>\n",
       "      <td>Autumn</td>\n",
       "      <td>5.0</td>\n",
       "      <td>1.0</td>\n",
       "    </tr>\n",
       "    <tr>\n",
       "      <th>99438</th>\n",
       "      <td>fffe18544ffabc95dfada21779c9644f</td>\n",
       "      <td>3</td>\n",
       "      <td>credit_card</td>\n",
       "      <td>64.71</td>\n",
       "      <td>computers_accessories</td>\n",
       "      <td>1.0</td>\n",
       "      <td>1.0</td>\n",
       "      <td>b5e6afd5a41800fdf401e0272ca74655</td>\n",
       "      <td>1.0</td>\n",
       "      <td>2017-08</td>\n",
       "      <td>8</td>\n",
       "      <td>Summer</td>\n",
       "      <td>5.0</td>\n",
       "      <td>1.0</td>\n",
       "    </tr>\n",
       "    <tr>\n",
       "      <th>99439</th>\n",
       "      <td>fffe41c64501cc87c801fd61db3f6244</td>\n",
       "      <td>1</td>\n",
       "      <td>credit_card</td>\n",
       "      <td>55.79</td>\n",
       "      <td>bed_bath_table</td>\n",
       "      <td>1.0</td>\n",
       "      <td>1.0</td>\n",
       "      <td>96d649da0cc4ff33bb408b199d4c7dcf</td>\n",
       "      <td>5.0</td>\n",
       "      <td>2018-06</td>\n",
       "      <td>6</td>\n",
       "      <td>Summer</td>\n",
       "      <td>5.0</td>\n",
       "      <td>1.0</td>\n",
       "    </tr>\n",
       "  </tbody>\n",
       "</table>\n",
       "<p>99440 rows × 14 columns</p>\n",
       "</div>"
      ],
      "text/plain": [
       "                               order_id  payment_installment payment_type  \\\n",
       "0      00010242fe8c5a6d1ba2dd792cb16214                    2  credit_card   \n",
       "1      00018f77f2f0320c557190d7a144bdd3                    3  credit_card   \n",
       "2      000229ec398224ef6ca0657da4fc703e                    5  credit_card   \n",
       "3      00024acbcdf0a6daa1e931b038114c75                    2  credit_card   \n",
       "4      00042b26cf59d7ce69dfabb4e55b4fd9                    3  credit_card   \n",
       "...                                 ...                  ...          ...   \n",
       "99435  fffc94f6ce00a00581880bf54a75a037                    1       boleto   \n",
       "99436  fffcd46ef2263f404302a634eb57f7eb                    1       boleto   \n",
       "99437  fffce4705a9662cd70adb13d4a31832d                    3  credit_card   \n",
       "99438  fffe18544ffabc95dfada21779c9644f                    3  credit_card   \n",
       "99439  fffe41c64501cc87c801fd61db3f6244                    1  credit_card   \n",
       "\n",
       "       total_pay               category  items_commande  prod_commande  \\\n",
       "0          72.19             cool_stuff             1.0            1.0   \n",
       "1         259.83               pet_shop             1.0            1.0   \n",
       "2         216.87        furniture_decor             1.0            1.0   \n",
       "3          25.78              perfumery             1.0            1.0   \n",
       "4         218.04           garden_tools             1.0            1.0   \n",
       "...          ...                    ...             ...            ...   \n",
       "99435     343.40             housewares             1.0            1.0   \n",
       "99436     386.53  computers_accessories             1.0            1.0   \n",
       "99437     116.85         sports_leisure             1.0            1.0   \n",
       "99438      64.71  computers_accessories             1.0            1.0   \n",
       "99439      55.79         bed_bath_table             1.0            1.0   \n",
       "\n",
       "                            customer_id  delivery_time purchase_date  months  \\\n",
       "0      3ce436f183e68e07877b285a838db11a            7.0       2017-09       9   \n",
       "1      f6dd3ec061db4e3987629fe6b26e5cce           16.0       2017-04       4   \n",
       "2      6489ae5e4333f3693df5ad4372dab6d3            7.0       2018-01       1   \n",
       "3      d4eb9395c8c0431ee92fce09860c5a06            6.0       2018-08       8   \n",
       "4      58dbd0b2d70206bf40e62cd34e84d795           25.0       2017-02       2   \n",
       "...                                 ...            ...           ...     ...   \n",
       "99435  b51593916b4b8e0d6f66f2ae24f2673d           17.0       2018-04       4   \n",
       "99436  84c5d4fbaf120aae381fad077416eaa0            9.0       2018-07       7   \n",
       "99437  29309aa813182aaddc9b259e31b870e6            4.0       2017-10      10   \n",
       "99438  b5e6afd5a41800fdf401e0272ca74655            1.0       2017-08       8   \n",
       "99439  96d649da0cc4ff33bb408b199d4c7dcf            5.0       2018-06       6   \n",
       "\n",
       "       Season  rating  review  \n",
       "0      Autumn     5.0     1.0  \n",
       "1      Spring     4.0     1.0  \n",
       "2      Winter     5.0     1.0  \n",
       "3      Summer     4.0     1.0  \n",
       "4      Winter     5.0     1.0  \n",
       "...       ...     ...     ...  \n",
       "99435  Spring     5.0     1.0  \n",
       "99436  Summer     5.0     1.0  \n",
       "99437  Autumn     5.0     1.0  \n",
       "99438  Summer     5.0     1.0  \n",
       "99439  Summer     5.0     1.0  \n",
       "\n",
       "[99440 rows x 14 columns]"
      ]
     },
     "execution_count": 15,
     "metadata": {},
     "output_type": "execute_result"
    }
   ],
   "source": [
    "df_merge = pd.merge(df_client,df_review,how='left',left_on='order_id',right_on='order_id')\n",
    "df_merge"
   ]
  },
  {
   "cell_type": "code",
   "execution_count": 16,
   "metadata": {},
   "outputs": [],
   "source": [
    "df_merge2 = pd.merge(df_merge,customers,how='left',left_on='customer_id',right_on='customer_id')\n",
    "df_merge2.drop(['customer_id','customer_zip_code_prefix'],axis=1,inplace=True)\n",
    "df_merge2.dropna()\n",
    "df_merge2.category.fillna('None',inplace=True)\n",
    "sum_list = ['total_pay','items_commande','prod_commande','review']\n",
    "mod_list = ['customer_city','customer_state','category','payment_type']#,'payment_type','category']\n",
    "max_list = ['purchase_date']\n",
    "last_list = ['Season','months']\n",
    "mean_list = ['rating','delivery_time','payment_installment','freight_value','product_description_lenght','total_size']\n",
    "count_list = ['order_id']\n",
    "d1 = dict.fromkeys(sum_list, 'sum')\n",
    "d2 = dict.fromkeys(mod_list, get_mode)\n",
    "d3 = dict.fromkeys(max_list,'max')\n",
    "d4 = dict.fromkeys(last_list,'last')\n",
    "d5 = dict.fromkeys(mean_list,'mean')\n",
    "d6 = dict.fromkeys(count_list,'count')\n",
    "d = {**d1, **d2,**d3,**d4,**d5,**d6}"
   ]
  },
  {
   "cell_type": "code",
   "execution_count": 18,
   "metadata": {},
   "outputs": [],
   "source": [
    "order_items = pd.read_csv(\"../data/olist_order_items_dataset.csv\") # Commandes items\n",
    "products = pd.read_csv(\"../data/olist_products_dataset.csv\") # Produits"
   ]
  },
  {
   "cell_type": "code",
   "execution_count": 19,
   "metadata": {},
   "outputs": [
    {
     "data": {
      "text/html": [
       "<div>\n",
       "<style scoped>\n",
       "    .dataframe tbody tr th:only-of-type {\n",
       "        vertical-align: middle;\n",
       "    }\n",
       "\n",
       "    .dataframe tbody tr th {\n",
       "        vertical-align: top;\n",
       "    }\n",
       "\n",
       "    .dataframe thead th {\n",
       "        text-align: right;\n",
       "    }\n",
       "</style>\n",
       "<table border=\"1\" class=\"dataframe\">\n",
       "  <thead>\n",
       "    <tr style=\"text-align: right;\">\n",
       "      <th></th>\n",
       "      <th>order_id</th>\n",
       "      <th>freight_value</th>\n",
       "      <th>total_size</th>\n",
       "      <th>product_description_lenght</th>\n",
       "    </tr>\n",
       "  </thead>\n",
       "  <tbody>\n",
       "    <tr>\n",
       "      <th>0</th>\n",
       "      <td>00010242fe8c5a6d1ba2dd792cb16214</td>\n",
       "      <td>13.29</td>\n",
       "      <td>3528.0</td>\n",
       "      <td>598.0</td>\n",
       "    </tr>\n",
       "    <tr>\n",
       "      <th>1</th>\n",
       "      <td>00018f77f2f0320c557190d7a144bdd3</td>\n",
       "      <td>19.93</td>\n",
       "      <td>60000.0</td>\n",
       "      <td>239.0</td>\n",
       "    </tr>\n",
       "    <tr>\n",
       "      <th>2</th>\n",
       "      <td>000229ec398224ef6ca0657da4fc703e</td>\n",
       "      <td>17.87</td>\n",
       "      <td>14157.0</td>\n",
       "      <td>695.0</td>\n",
       "    </tr>\n",
       "    <tr>\n",
       "      <th>3</th>\n",
       "      <td>00024acbcdf0a6daa1e931b038114c75</td>\n",
       "      <td>12.79</td>\n",
       "      <td>2400.0</td>\n",
       "      <td>480.0</td>\n",
       "    </tr>\n",
       "    <tr>\n",
       "      <th>4</th>\n",
       "      <td>00042b26cf59d7ce69dfabb4e55b4fd9</td>\n",
       "      <td>18.14</td>\n",
       "      <td>42000.0</td>\n",
       "      <td>409.0</td>\n",
       "    </tr>\n",
       "    <tr>\n",
       "      <th>...</th>\n",
       "      <td>...</td>\n",
       "      <td>...</td>\n",
       "      <td>...</td>\n",
       "      <td>...</td>\n",
       "    </tr>\n",
       "    <tr>\n",
       "      <th>98661</th>\n",
       "      <td>fffc94f6ce00a00581880bf54a75a037</td>\n",
       "      <td>43.41</td>\n",
       "      <td>53400.0</td>\n",
       "      <td>1002.0</td>\n",
       "    </tr>\n",
       "    <tr>\n",
       "      <th>98662</th>\n",
       "      <td>fffcd46ef2263f404302a634eb57f7eb</td>\n",
       "      <td>36.53</td>\n",
       "      <td>44460.0</td>\n",
       "      <td>232.0</td>\n",
       "    </tr>\n",
       "    <tr>\n",
       "      <th>98663</th>\n",
       "      <td>fffce4705a9662cd70adb13d4a31832d</td>\n",
       "      <td>16.95</td>\n",
       "      <td>9576.0</td>\n",
       "      <td>869.0</td>\n",
       "    </tr>\n",
       "    <tr>\n",
       "      <th>98664</th>\n",
       "      <td>fffe18544ffabc95dfada21779c9644f</td>\n",
       "      <td>8.72</td>\n",
       "      <td>8000.0</td>\n",
       "      <td>1306.0</td>\n",
       "    </tr>\n",
       "    <tr>\n",
       "      <th>98665</th>\n",
       "      <td>fffe41c64501cc87c801fd61db3f6244</td>\n",
       "      <td>12.79</td>\n",
       "      <td>1710.0</td>\n",
       "      <td>511.0</td>\n",
       "    </tr>\n",
       "  </tbody>\n",
       "</table>\n",
       "<p>98666 rows × 4 columns</p>\n",
       "</div>"
      ],
      "text/plain": [
       "                               order_id  freight_value  total_size  \\\n",
       "0      00010242fe8c5a6d1ba2dd792cb16214          13.29      3528.0   \n",
       "1      00018f77f2f0320c557190d7a144bdd3          19.93     60000.0   \n",
       "2      000229ec398224ef6ca0657da4fc703e          17.87     14157.0   \n",
       "3      00024acbcdf0a6daa1e931b038114c75          12.79      2400.0   \n",
       "4      00042b26cf59d7ce69dfabb4e55b4fd9          18.14     42000.0   \n",
       "...                                 ...            ...         ...   \n",
       "98661  fffc94f6ce00a00581880bf54a75a037          43.41     53400.0   \n",
       "98662  fffcd46ef2263f404302a634eb57f7eb          36.53     44460.0   \n",
       "98663  fffce4705a9662cd70adb13d4a31832d          16.95      9576.0   \n",
       "98664  fffe18544ffabc95dfada21779c9644f           8.72      8000.0   \n",
       "98665  fffe41c64501cc87c801fd61db3f6244          12.79      1710.0   \n",
       "\n",
       "       product_description_lenght  \n",
       "0                           598.0  \n",
       "1                           239.0  \n",
       "2                           695.0  \n",
       "3                           480.0  \n",
       "4                           409.0  \n",
       "...                           ...  \n",
       "98661                      1002.0  \n",
       "98662                       232.0  \n",
       "98663                       869.0  \n",
       "98664                      1306.0  \n",
       "98665                       511.0  \n",
       "\n",
       "[98666 rows x 4 columns]"
      ]
     },
     "execution_count": 19,
     "metadata": {},
     "output_type": "execute_result"
    }
   ],
   "source": [
    "products['total_size']=products.product_height_cm*products.product_length_cm*products.product_width_cm\n",
    "\n",
    "jpp = pd.merge(order_items,products,how='left',left_on='product_id',right_on='product_id')\n",
    "jpp = jpp.groupby('order_id').agg({'freight_value':'mean','total_size':'mean','product_description_lenght':'mean'}).reset_index()\n",
    "jpp"
   ]
  },
  {
   "cell_type": "code",
   "execution_count": 20,
   "metadata": {},
   "outputs": [
    {
     "data": {
      "text/html": [
       "<div>\n",
       "<style scoped>\n",
       "    .dataframe tbody tr th:only-of-type {\n",
       "        vertical-align: middle;\n",
       "    }\n",
       "\n",
       "    .dataframe tbody tr th {\n",
       "        vertical-align: top;\n",
       "    }\n",
       "\n",
       "    .dataframe thead th {\n",
       "        text-align: right;\n",
       "    }\n",
       "</style>\n",
       "<table border=\"1\" class=\"dataframe\">\n",
       "  <thead>\n",
       "    <tr style=\"text-align: right;\">\n",
       "      <th></th>\n",
       "      <th>order_id</th>\n",
       "      <th>payment_installment</th>\n",
       "      <th>payment_type</th>\n",
       "      <th>total_pay</th>\n",
       "      <th>category</th>\n",
       "      <th>items_commande</th>\n",
       "      <th>prod_commande</th>\n",
       "      <th>delivery_time</th>\n",
       "      <th>purchase_date</th>\n",
       "      <th>months</th>\n",
       "      <th>Season</th>\n",
       "      <th>rating</th>\n",
       "      <th>review</th>\n",
       "      <th>customer_unique_id</th>\n",
       "      <th>customer_city</th>\n",
       "      <th>customer_state</th>\n",
       "      <th>freight_value</th>\n",
       "      <th>total_size</th>\n",
       "      <th>product_description_lenght</th>\n",
       "    </tr>\n",
       "  </thead>\n",
       "  <tbody>\n",
       "    <tr>\n",
       "      <th>0</th>\n",
       "      <td>00010242fe8c5a6d1ba2dd792cb16214</td>\n",
       "      <td>2</td>\n",
       "      <td>credit_card</td>\n",
       "      <td>72.19</td>\n",
       "      <td>cool_stuff</td>\n",
       "      <td>1.0</td>\n",
       "      <td>1.0</td>\n",
       "      <td>7.0</td>\n",
       "      <td>2017-09</td>\n",
       "      <td>9</td>\n",
       "      <td>Autumn</td>\n",
       "      <td>5.0</td>\n",
       "      <td>1.0</td>\n",
       "      <td>871766c5855e863f6eccc05f988b23cb</td>\n",
       "      <td>campos dos goytacazes</td>\n",
       "      <td>RJ</td>\n",
       "      <td>13.29</td>\n",
       "      <td>3528.0</td>\n",
       "      <td>598.0</td>\n",
       "    </tr>\n",
       "    <tr>\n",
       "      <th>1</th>\n",
       "      <td>00018f77f2f0320c557190d7a144bdd3</td>\n",
       "      <td>3</td>\n",
       "      <td>credit_card</td>\n",
       "      <td>259.83</td>\n",
       "      <td>pet_shop</td>\n",
       "      <td>1.0</td>\n",
       "      <td>1.0</td>\n",
       "      <td>16.0</td>\n",
       "      <td>2017-04</td>\n",
       "      <td>4</td>\n",
       "      <td>Spring</td>\n",
       "      <td>4.0</td>\n",
       "      <td>1.0</td>\n",
       "      <td>eb28e67c4c0b83846050ddfb8a35d051</td>\n",
       "      <td>santa fe do sul</td>\n",
       "      <td>SP</td>\n",
       "      <td>19.93</td>\n",
       "      <td>60000.0</td>\n",
       "      <td>239.0</td>\n",
       "    </tr>\n",
       "    <tr>\n",
       "      <th>2</th>\n",
       "      <td>000229ec398224ef6ca0657da4fc703e</td>\n",
       "      <td>5</td>\n",
       "      <td>credit_card</td>\n",
       "      <td>216.87</td>\n",
       "      <td>furniture_decor</td>\n",
       "      <td>1.0</td>\n",
       "      <td>1.0</td>\n",
       "      <td>7.0</td>\n",
       "      <td>2018-01</td>\n",
       "      <td>1</td>\n",
       "      <td>Winter</td>\n",
       "      <td>5.0</td>\n",
       "      <td>1.0</td>\n",
       "      <td>3818d81c6709e39d06b2738a8d3a2474</td>\n",
       "      <td>para de minas</td>\n",
       "      <td>MG</td>\n",
       "      <td>17.87</td>\n",
       "      <td>14157.0</td>\n",
       "      <td>695.0</td>\n",
       "    </tr>\n",
       "    <tr>\n",
       "      <th>3</th>\n",
       "      <td>00024acbcdf0a6daa1e931b038114c75</td>\n",
       "      <td>2</td>\n",
       "      <td>credit_card</td>\n",
       "      <td>25.78</td>\n",
       "      <td>perfumery</td>\n",
       "      <td>1.0</td>\n",
       "      <td>1.0</td>\n",
       "      <td>6.0</td>\n",
       "      <td>2018-08</td>\n",
       "      <td>8</td>\n",
       "      <td>Summer</td>\n",
       "      <td>4.0</td>\n",
       "      <td>1.0</td>\n",
       "      <td>af861d436cfc08b2c2ddefd0ba074622</td>\n",
       "      <td>atibaia</td>\n",
       "      <td>SP</td>\n",
       "      <td>12.79</td>\n",
       "      <td>2400.0</td>\n",
       "      <td>480.0</td>\n",
       "    </tr>\n",
       "    <tr>\n",
       "      <th>4</th>\n",
       "      <td>00042b26cf59d7ce69dfabb4e55b4fd9</td>\n",
       "      <td>3</td>\n",
       "      <td>credit_card</td>\n",
       "      <td>218.04</td>\n",
       "      <td>garden_tools</td>\n",
       "      <td>1.0</td>\n",
       "      <td>1.0</td>\n",
       "      <td>25.0</td>\n",
       "      <td>2017-02</td>\n",
       "      <td>2</td>\n",
       "      <td>Winter</td>\n",
       "      <td>5.0</td>\n",
       "      <td>1.0</td>\n",
       "      <td>64b576fb70d441e8f1b2d7d446e483c5</td>\n",
       "      <td>varzea paulista</td>\n",
       "      <td>SP</td>\n",
       "      <td>18.14</td>\n",
       "      <td>42000.0</td>\n",
       "      <td>409.0</td>\n",
       "    </tr>\n",
       "    <tr>\n",
       "      <th>...</th>\n",
       "      <td>...</td>\n",
       "      <td>...</td>\n",
       "      <td>...</td>\n",
       "      <td>...</td>\n",
       "      <td>...</td>\n",
       "      <td>...</td>\n",
       "      <td>...</td>\n",
       "      <td>...</td>\n",
       "      <td>...</td>\n",
       "      <td>...</td>\n",
       "      <td>...</td>\n",
       "      <td>...</td>\n",
       "      <td>...</td>\n",
       "      <td>...</td>\n",
       "      <td>...</td>\n",
       "      <td>...</td>\n",
       "      <td>...</td>\n",
       "      <td>...</td>\n",
       "      <td>...</td>\n",
       "    </tr>\n",
       "    <tr>\n",
       "      <th>99435</th>\n",
       "      <td>fffc94f6ce00a00581880bf54a75a037</td>\n",
       "      <td>1</td>\n",
       "      <td>boleto</td>\n",
       "      <td>343.40</td>\n",
       "      <td>housewares</td>\n",
       "      <td>1.0</td>\n",
       "      <td>1.0</td>\n",
       "      <td>17.0</td>\n",
       "      <td>2018-04</td>\n",
       "      <td>4</td>\n",
       "      <td>Spring</td>\n",
       "      <td>5.0</td>\n",
       "      <td>1.0</td>\n",
       "      <td>0c9aeda10a71f369396d0c04dce13a64</td>\n",
       "      <td>sao luis</td>\n",
       "      <td>MA</td>\n",
       "      <td>43.41</td>\n",
       "      <td>53400.0</td>\n",
       "      <td>1002.0</td>\n",
       "    </tr>\n",
       "    <tr>\n",
       "      <th>99436</th>\n",
       "      <td>fffcd46ef2263f404302a634eb57f7eb</td>\n",
       "      <td>1</td>\n",
       "      <td>boleto</td>\n",
       "      <td>386.53</td>\n",
       "      <td>computers_accessories</td>\n",
       "      <td>1.0</td>\n",
       "      <td>1.0</td>\n",
       "      <td>9.0</td>\n",
       "      <td>2018-07</td>\n",
       "      <td>7</td>\n",
       "      <td>Summer</td>\n",
       "      <td>5.0</td>\n",
       "      <td>1.0</td>\n",
       "      <td>0da9fe112eae0c74d3ba1fe16de0988b</td>\n",
       "      <td>curitiba</td>\n",
       "      <td>PR</td>\n",
       "      <td>36.53</td>\n",
       "      <td>44460.0</td>\n",
       "      <td>232.0</td>\n",
       "    </tr>\n",
       "    <tr>\n",
       "      <th>99437</th>\n",
       "      <td>fffce4705a9662cd70adb13d4a31832d</td>\n",
       "      <td>3</td>\n",
       "      <td>credit_card</td>\n",
       "      <td>116.85</td>\n",
       "      <td>sports_leisure</td>\n",
       "      <td>1.0</td>\n",
       "      <td>1.0</td>\n",
       "      <td>4.0</td>\n",
       "      <td>2017-10</td>\n",
       "      <td>10</td>\n",
       "      <td>Autumn</td>\n",
       "      <td>5.0</td>\n",
       "      <td>1.0</td>\n",
       "      <td>cd79b407828f02fdbba457111c38e4c4</td>\n",
       "      <td>sao paulo</td>\n",
       "      <td>SP</td>\n",
       "      <td>16.95</td>\n",
       "      <td>9576.0</td>\n",
       "      <td>869.0</td>\n",
       "    </tr>\n",
       "    <tr>\n",
       "      <th>99438</th>\n",
       "      <td>fffe18544ffabc95dfada21779c9644f</td>\n",
       "      <td>3</td>\n",
       "      <td>credit_card</td>\n",
       "      <td>64.71</td>\n",
       "      <td>computers_accessories</td>\n",
       "      <td>1.0</td>\n",
       "      <td>1.0</td>\n",
       "      <td>1.0</td>\n",
       "      <td>2017-08</td>\n",
       "      <td>8</td>\n",
       "      <td>Summer</td>\n",
       "      <td>5.0</td>\n",
       "      <td>1.0</td>\n",
       "      <td>eb803377c9315b564bdedad672039306</td>\n",
       "      <td>vinhedo</td>\n",
       "      <td>SP</td>\n",
       "      <td>8.72</td>\n",
       "      <td>8000.0</td>\n",
       "      <td>1306.0</td>\n",
       "    </tr>\n",
       "    <tr>\n",
       "      <th>99439</th>\n",
       "      <td>fffe41c64501cc87c801fd61db3f6244</td>\n",
       "      <td>1</td>\n",
       "      <td>credit_card</td>\n",
       "      <td>55.79</td>\n",
       "      <td>bed_bath_table</td>\n",
       "      <td>1.0</td>\n",
       "      <td>1.0</td>\n",
       "      <td>5.0</td>\n",
       "      <td>2018-06</td>\n",
       "      <td>6</td>\n",
       "      <td>Summer</td>\n",
       "      <td>5.0</td>\n",
       "      <td>1.0</td>\n",
       "      <td>cd76a00d8e3ca5e6ab9ed9ecb6667ac4</td>\n",
       "      <td>botucatu</td>\n",
       "      <td>SP</td>\n",
       "      <td>12.79</td>\n",
       "      <td>1710.0</td>\n",
       "      <td>511.0</td>\n",
       "    </tr>\n",
       "  </tbody>\n",
       "</table>\n",
       "<p>99440 rows × 19 columns</p>\n",
       "</div>"
      ],
      "text/plain": [
       "                               order_id  payment_installment payment_type  \\\n",
       "0      00010242fe8c5a6d1ba2dd792cb16214                    2  credit_card   \n",
       "1      00018f77f2f0320c557190d7a144bdd3                    3  credit_card   \n",
       "2      000229ec398224ef6ca0657da4fc703e                    5  credit_card   \n",
       "3      00024acbcdf0a6daa1e931b038114c75                    2  credit_card   \n",
       "4      00042b26cf59d7ce69dfabb4e55b4fd9                    3  credit_card   \n",
       "...                                 ...                  ...          ...   \n",
       "99435  fffc94f6ce00a00581880bf54a75a037                    1       boleto   \n",
       "99436  fffcd46ef2263f404302a634eb57f7eb                    1       boleto   \n",
       "99437  fffce4705a9662cd70adb13d4a31832d                    3  credit_card   \n",
       "99438  fffe18544ffabc95dfada21779c9644f                    3  credit_card   \n",
       "99439  fffe41c64501cc87c801fd61db3f6244                    1  credit_card   \n",
       "\n",
       "       total_pay               category  items_commande  prod_commande  \\\n",
       "0          72.19             cool_stuff             1.0            1.0   \n",
       "1         259.83               pet_shop             1.0            1.0   \n",
       "2         216.87        furniture_decor             1.0            1.0   \n",
       "3          25.78              perfumery             1.0            1.0   \n",
       "4         218.04           garden_tools             1.0            1.0   \n",
       "...          ...                    ...             ...            ...   \n",
       "99435     343.40             housewares             1.0            1.0   \n",
       "99436     386.53  computers_accessories             1.0            1.0   \n",
       "99437     116.85         sports_leisure             1.0            1.0   \n",
       "99438      64.71  computers_accessories             1.0            1.0   \n",
       "99439      55.79         bed_bath_table             1.0            1.0   \n",
       "\n",
       "       delivery_time purchase_date  months  Season  rating  review  \\\n",
       "0                7.0       2017-09       9  Autumn     5.0     1.0   \n",
       "1               16.0       2017-04       4  Spring     4.0     1.0   \n",
       "2                7.0       2018-01       1  Winter     5.0     1.0   \n",
       "3                6.0       2018-08       8  Summer     4.0     1.0   \n",
       "4               25.0       2017-02       2  Winter     5.0     1.0   \n",
       "...              ...           ...     ...     ...     ...     ...   \n",
       "99435           17.0       2018-04       4  Spring     5.0     1.0   \n",
       "99436            9.0       2018-07       7  Summer     5.0     1.0   \n",
       "99437            4.0       2017-10      10  Autumn     5.0     1.0   \n",
       "99438            1.0       2017-08       8  Summer     5.0     1.0   \n",
       "99439            5.0       2018-06       6  Summer     5.0     1.0   \n",
       "\n",
       "                     customer_unique_id          customer_city customer_state  \\\n",
       "0      871766c5855e863f6eccc05f988b23cb  campos dos goytacazes             RJ   \n",
       "1      eb28e67c4c0b83846050ddfb8a35d051        santa fe do sul             SP   \n",
       "2      3818d81c6709e39d06b2738a8d3a2474          para de minas             MG   \n",
       "3      af861d436cfc08b2c2ddefd0ba074622                atibaia             SP   \n",
       "4      64b576fb70d441e8f1b2d7d446e483c5        varzea paulista             SP   \n",
       "...                                 ...                    ...            ...   \n",
       "99435  0c9aeda10a71f369396d0c04dce13a64               sao luis             MA   \n",
       "99436  0da9fe112eae0c74d3ba1fe16de0988b               curitiba             PR   \n",
       "99437  cd79b407828f02fdbba457111c38e4c4              sao paulo             SP   \n",
       "99438  eb803377c9315b564bdedad672039306                vinhedo             SP   \n",
       "99439  cd76a00d8e3ca5e6ab9ed9ecb6667ac4               botucatu             SP   \n",
       "\n",
       "       freight_value  total_size  product_description_lenght  \n",
       "0              13.29      3528.0                       598.0  \n",
       "1              19.93     60000.0                       239.0  \n",
       "2              17.87     14157.0                       695.0  \n",
       "3              12.79      2400.0                       480.0  \n",
       "4              18.14     42000.0                       409.0  \n",
       "...              ...         ...                         ...  \n",
       "99435          43.41     53400.0                      1002.0  \n",
       "99436          36.53     44460.0                       232.0  \n",
       "99437          16.95      9576.0                       869.0  \n",
       "99438           8.72      8000.0                      1306.0  \n",
       "99439          12.79      1710.0                       511.0  \n",
       "\n",
       "[99440 rows x 19 columns]"
      ]
     },
     "execution_count": 20,
     "metadata": {},
     "output_type": "execute_result"
    }
   ],
   "source": [
    "df_merge3 = pd.merge(df_merge2,jpp,how='left',left_on='order_id',right_on='order_id')\n",
    "df_merge3"
   ]
  },
  {
   "cell_type": "code",
   "execution_count": 21,
   "metadata": {},
   "outputs": [],
   "source": [
    "df_last = df_merge3.groupby('customer_unique_id').agg(d).reset_index()\n",
    "rfm = pd.read_csv('data.csv')\n",
    "rfm.drop(['zipcode','city','state','total','no_purchase_period'],axis=1,inplace=True)"
   ]
  },
  {
   "cell_type": "code",
   "execution_count": 31,
   "metadata": {},
   "outputs": [],
   "source": [
    "df = pd.merge(df_last,rfm,how='left',left_on='customer_unique_id',right_on = 'id')\n",
    "df.drop(['id','last_purchase','customer_unique_id'],axis=1,inplace=True)\n",
    "df.dropna(how = 'any',inplace=True)"
   ]
  },
  {
   "cell_type": "code",
   "execution_count": 32,
   "metadata": {},
   "outputs": [],
   "source": [
    "transformer = {'Meubles et décoration': ['bed_bath_table','furniture_decor','office_furniture','home_comfort_2','home_confort', 'housewares', 'furniture_living_room','kitchen_dining_laundry_garden_furniture', 'furniture_bedroom','furniture_mattress_and_upholstery'],\n",
    "                'Électronique et informatique': ['audio','fixed_telephony','telephony', 'computers_accessories', 'electronics', 'consoles_games', 'computers', 'signaling_and_security','tablets_printing_image', 'cds_dvds_musicals', 'dvds_blu_ray', 'music'],\n",
    "                'Santé et beauté': ['health_beauty', 'perfumery'],\n",
    "                'Mode et accessoires': ['fashion_bags_accessories', 'fashion_underwear_beach', 'fashion_shoes', 'fashion_male_clothing', 'fashion_sport', 'luggage_accessories','fashio_female_clothing', 'fashion_childrens_clothes'],\n",
    "                'Petits appareils ménagers': ['home_appliances','home_appliances_2','small_appliances', 'small_appliances_home_oven_and_coffee', 'air_conditioning'],\n",
    "                'Outils et matériaux de construction': ['construction_tools_construction','construction_tools_safety','construction_tools_construction,' 'construction_tools_safety', 'construction_tools_lights', 'costruction_tools_garden', 'costruction_tools_tools','home_construction'],\n",
    "                'Loisirs et sports':['sports_leisure', 'garden_tools', 'musical_instruments', 'cool_stuff', 'toys', 'books_general_interest', 'books_technical', 'books_imported', 'cine_photo', 'art', 'arts_and_craftmanship'],\n",
    "                'Autres': ['stationery',  'watches_gifts', 'auto', 'christmas_supplies', 'drinks','baby', 'pet_shop', 'market_place', 'flowers', 'industry_commerce_and_business', 'food_drink', 'food', 'agro_industry_and_commerce', 'party_supplies', 'diapers_and_hygiene', 'security_and_services','la_cuisine'],\n",
    "                'Inconnu' : ['None']\n",
    "}        \n",
    "keys =transformer.keys()\n",
    "for key in keys:\n",
    "  df.category = df.category.replace(to_replace=transformer[key], value=key)\n"
   ]
  },
  {
   "cell_type": "code",
   "execution_count": 33,
   "metadata": {},
   "outputs": [],
   "source": [
    "df.columns =['total_pay', 'nb_total_items_commande', 'nb_prod_different', 'nb_review',\n",
    "       'customer_city', 'customer_state', 'category', 'payment_type','purchase_date','Season',\n",
    "       'months', 'rating_review', 'delivery_time', 'payment_installment',\n",
    "       'freight_value', 'product_description_lenght', 'total_size', 'nb_total_commande',\n",
    "       'freq', 'recense', 'montant']"
   ]
  },
  {
   "cell_type": "code",
   "execution_count": 34,
   "metadata": {},
   "outputs": [],
   "source": [
    "df['panier_moyen']=df['total_pay']/df['nb_total_commande']\n",
    "df.drop(['customer_city','customer_state'],axis=1,inplace=True)\n"
   ]
  },
  {
   "attachments": {},
   "cell_type": "markdown",
   "metadata": {},
   "source": [
    "### TESST"
   ]
  },
  {
   "cell_type": "code",
   "execution_count": 4,
   "metadata": {},
   "outputs": [],
   "source": [
    "merged = pd.read_csv('merged.csv')\n",
    "df = merged.copy()\n",
    "df.recense = df.recense +3\n",
    "df.freq = df.freq +3 \n"
   ]
  },
  {
   "cell_type": "code",
   "execution_count": 3,
   "metadata": {},
   "outputs": [],
   "source": [
    "from sklearn.compose import make_column_selector,make_column_transformer\n",
    "from sklearn.pipeline import make_pipeline\n",
    "from sklearn.decomposition import PCA\n",
    "from sklearn.preprocessing import MinMaxScaler,OneHotEncoder,FunctionTransformer,StandardScaler\n",
    "from sklearn.manifold import TSNE\n",
    "import plotly.express as px\n",
    "from kmodes.kprototypes import KPrototypes"
   ]
  },
  {
   "attachments": {},
   "cell_type": "markdown",
   "metadata": {},
   "source": [
    "## Clustering 2017"
   ]
  },
  {
   "cell_type": "code",
   "execution_count": 120,
   "metadata": {},
   "outputs": [
    {
     "data": {
      "text/plain": [
       "40466"
      ]
     },
     "execution_count": 120,
     "metadata": {},
     "output_type": "execute_result"
    }
   ],
   "source": [
    "df[df.Year=='2017'].shape[0]"
   ]
  },
  {
   "cell_type": "code",
   "execution_count": 121,
   "metadata": {},
   "outputs": [
    {
     "data": {
      "text/plain": [
       "50765"
      ]
     },
     "execution_count": 121,
     "metadata": {},
     "output_type": "execute_result"
    }
   ],
   "source": [
    "df[df.Year=='2018'].shape[0]"
   ]
  },
  {
   "cell_type": "code",
   "execution_count": 52,
   "metadata": {},
   "outputs": [],
   "source": [
    "df.sort_values('purchase_date',ascending=False,inplace=True)\n",
    "df['Year']=df.purchase_date.astype(str).str[0:4]"
   ]
  },
  {
   "cell_type": "code",
   "execution_count": 53,
   "metadata": {},
   "outputs": [],
   "source": [
    "df_2017 = df[df.Year=='2017'].drop(['purchase_date','months','Season','months','Year','nb_prod_different','nb_review','nb_total_items_commande','nb_total_commande','panier_moyen'],axis=1)\n",
    "df_2017_index = df_2017.index.tolist()"
   ]
  },
  {
   "cell_type": "code",
   "execution_count": 54,
   "metadata": {},
   "outputs": [
    {
     "data": {
      "text/html": [
       "<div>\n",
       "<style scoped>\n",
       "    .dataframe tbody tr th:only-of-type {\n",
       "        vertical-align: middle;\n",
       "    }\n",
       "\n",
       "    .dataframe tbody tr th {\n",
       "        vertical-align: top;\n",
       "    }\n",
       "\n",
       "    .dataframe thead th {\n",
       "        text-align: right;\n",
       "    }\n",
       "</style>\n",
       "<table border=\"1\" class=\"dataframe\">\n",
       "  <thead>\n",
       "    <tr style=\"text-align: right;\">\n",
       "      <th></th>\n",
       "      <th>total_pay</th>\n",
       "      <th>category</th>\n",
       "      <th>payment_type</th>\n",
       "      <th>rating_review</th>\n",
       "      <th>delivery_time</th>\n",
       "      <th>payment_installment</th>\n",
       "      <th>freight_value</th>\n",
       "      <th>product_description_lenght</th>\n",
       "      <th>total_size</th>\n",
       "      <th>freq</th>\n",
       "      <th>recense</th>\n",
       "      <th>montant</th>\n",
       "    </tr>\n",
       "  </thead>\n",
       "  <tbody>\n",
       "    <tr>\n",
       "      <th>15663</th>\n",
       "      <td>143.01</td>\n",
       "      <td>Autres</td>\n",
       "      <td>boleto</td>\n",
       "      <td>5.0</td>\n",
       "      <td>19.0</td>\n",
       "      <td>1.0</td>\n",
       "      <td>26.100000</td>\n",
       "      <td>138.000000</td>\n",
       "      <td>4050.0</td>\n",
       "      <td>3</td>\n",
       "      <td>3.0</td>\n",
       "      <td>3</td>\n",
       "    </tr>\n",
       "    <tr>\n",
       "      <th>76716</th>\n",
       "      <td>56.00</td>\n",
       "      <td>Électronique et informatique</td>\n",
       "      <td>credit_card</td>\n",
       "      <td>1.0</td>\n",
       "      <td>21.0</td>\n",
       "      <td>1.0</td>\n",
       "      <td>15.100000</td>\n",
       "      <td>401.000000</td>\n",
       "      <td>4862.0</td>\n",
       "      <td>3</td>\n",
       "      <td>3.0</td>\n",
       "      <td>1</td>\n",
       "    </tr>\n",
       "    <tr>\n",
       "      <th>4321</th>\n",
       "      <td>73.66</td>\n",
       "      <td>Autres</td>\n",
       "      <td>credit_card</td>\n",
       "      <td>3.0</td>\n",
       "      <td>18.0</td>\n",
       "      <td>2.0</td>\n",
       "      <td>15.160000</td>\n",
       "      <td>309.000000</td>\n",
       "      <td>1071.0</td>\n",
       "      <td>3</td>\n",
       "      <td>3.0</td>\n",
       "      <td>1</td>\n",
       "    </tr>\n",
       "    <tr>\n",
       "      <th>28217</th>\n",
       "      <td>135.00</td>\n",
       "      <td>Loisirs et sports</td>\n",
       "      <td>credit_card</td>\n",
       "      <td>4.0</td>\n",
       "      <td>21.0</td>\n",
       "      <td>1.0</td>\n",
       "      <td>20.000000</td>\n",
       "      <td>1597.000000</td>\n",
       "      <td>23625.0</td>\n",
       "      <td>3</td>\n",
       "      <td>3.0</td>\n",
       "      <td>3</td>\n",
       "    </tr>\n",
       "    <tr>\n",
       "      <th>61851</th>\n",
       "      <td>298.17</td>\n",
       "      <td>Autres</td>\n",
       "      <td>credit_card</td>\n",
       "      <td>5.0</td>\n",
       "      <td>18.0</td>\n",
       "      <td>10.0</td>\n",
       "      <td>21.180000</td>\n",
       "      <td>1250.000000</td>\n",
       "      <td>880.0</td>\n",
       "      <td>3</td>\n",
       "      <td>3.0</td>\n",
       "      <td>6</td>\n",
       "    </tr>\n",
       "    <tr>\n",
       "      <th>...</th>\n",
       "      <td>...</td>\n",
       "      <td>...</td>\n",
       "      <td>...</td>\n",
       "      <td>...</td>\n",
       "      <td>...</td>\n",
       "      <td>...</td>\n",
       "      <td>...</td>\n",
       "      <td>...</td>\n",
       "      <td>...</td>\n",
       "      <td>...</td>\n",
       "      <td>...</td>\n",
       "      <td>...</td>\n",
       "    </tr>\n",
       "    <tr>\n",
       "      <th>16712</th>\n",
       "      <td>164.21</td>\n",
       "      <td>Autres</td>\n",
       "      <td>credit_card</td>\n",
       "      <td>5.0</td>\n",
       "      <td>9.0</td>\n",
       "      <td>3.0</td>\n",
       "      <td>15.210000</td>\n",
       "      <td>748.000000</td>\n",
       "      <td>2704.0</td>\n",
       "      <td>3</td>\n",
       "      <td>3.0</td>\n",
       "      <td>3</td>\n",
       "    </tr>\n",
       "    <tr>\n",
       "      <th>6722</th>\n",
       "      <td>33.95</td>\n",
       "      <td>Électronique et informatique</td>\n",
       "      <td>boleto</td>\n",
       "      <td>4.0</td>\n",
       "      <td>5.0</td>\n",
       "      <td>1.0</td>\n",
       "      <td>10.960000</td>\n",
       "      <td>267.000000</td>\n",
       "      <td>627.0</td>\n",
       "      <td>3</td>\n",
       "      <td>3.0</td>\n",
       "      <td>1</td>\n",
       "    </tr>\n",
       "    <tr>\n",
       "      <th>51497</th>\n",
       "      <td>157.99</td>\n",
       "      <td>Loisirs et sports</td>\n",
       "      <td>credit_card</td>\n",
       "      <td>5.0</td>\n",
       "      <td>9.0</td>\n",
       "      <td>4.0</td>\n",
       "      <td>28.000000</td>\n",
       "      <td>1629.000000</td>\n",
       "      <td>39780.0</td>\n",
       "      <td>3</td>\n",
       "      <td>3.0</td>\n",
       "      <td>3</td>\n",
       "    </tr>\n",
       "    <tr>\n",
       "      <th>24214</th>\n",
       "      <td>146.01</td>\n",
       "      <td>Loisirs et sports</td>\n",
       "      <td>credit_card</td>\n",
       "      <td>2.0</td>\n",
       "      <td>10.0</td>\n",
       "      <td>10.0</td>\n",
       "      <td>16.020000</td>\n",
       "      <td>2751.000000</td>\n",
       "      <td>13020.0</td>\n",
       "      <td>3</td>\n",
       "      <td>3.0</td>\n",
       "      <td>3</td>\n",
       "    </tr>\n",
       "    <tr>\n",
       "      <th>16602</th>\n",
       "      <td>350.97</td>\n",
       "      <td>Loisirs et sports</td>\n",
       "      <td>boleto</td>\n",
       "      <td>5.0</td>\n",
       "      <td>11.0</td>\n",
       "      <td>1.0</td>\n",
       "      <td>16.138889</td>\n",
       "      <td>670.666667</td>\n",
       "      <td>7013.0</td>\n",
       "      <td>3</td>\n",
       "      <td>3.0</td>\n",
       "      <td>7</td>\n",
       "    </tr>\n",
       "  </tbody>\n",
       "</table>\n",
       "<p>40466 rows × 12 columns</p>\n",
       "</div>"
      ],
      "text/plain": [
       "       total_pay                      category payment_type  rating_review  \\\n",
       "15663     143.01                        Autres       boleto            5.0   \n",
       "76716      56.00  Électronique et informatique  credit_card            1.0   \n",
       "4321       73.66                        Autres  credit_card            3.0   \n",
       "28217     135.00             Loisirs et sports  credit_card            4.0   \n",
       "61851     298.17                        Autres  credit_card            5.0   \n",
       "...          ...                           ...          ...            ...   \n",
       "16712     164.21                        Autres  credit_card            5.0   \n",
       "6722       33.95  Électronique et informatique       boleto            4.0   \n",
       "51497     157.99             Loisirs et sports  credit_card            5.0   \n",
       "24214     146.01             Loisirs et sports  credit_card            2.0   \n",
       "16602     350.97             Loisirs et sports       boleto            5.0   \n",
       "\n",
       "       delivery_time  payment_installment  freight_value  \\\n",
       "15663           19.0                  1.0      26.100000   \n",
       "76716           21.0                  1.0      15.100000   \n",
       "4321            18.0                  2.0      15.160000   \n",
       "28217           21.0                  1.0      20.000000   \n",
       "61851           18.0                 10.0      21.180000   \n",
       "...              ...                  ...            ...   \n",
       "16712            9.0                  3.0      15.210000   \n",
       "6722             5.0                  1.0      10.960000   \n",
       "51497            9.0                  4.0      28.000000   \n",
       "24214           10.0                 10.0      16.020000   \n",
       "16602           11.0                  1.0      16.138889   \n",
       "\n",
       "       product_description_lenght  total_size  freq  recense  montant  \n",
       "15663                  138.000000      4050.0     3      3.0        3  \n",
       "76716                  401.000000      4862.0     3      3.0        1  \n",
       "4321                   309.000000      1071.0     3      3.0        1  \n",
       "28217                 1597.000000     23625.0     3      3.0        3  \n",
       "61851                 1250.000000       880.0     3      3.0        6  \n",
       "...                           ...         ...   ...      ...      ...  \n",
       "16712                  748.000000      2704.0     3      3.0        3  \n",
       "6722                   267.000000       627.0     3      3.0        1  \n",
       "51497                 1629.000000     39780.0     3      3.0        3  \n",
       "24214                 2751.000000     13020.0     3      3.0        3  \n",
       "16602                  670.666667      7013.0     3      3.0        7  \n",
       "\n",
       "[40466 rows x 12 columns]"
      ]
     },
     "execution_count": 54,
     "metadata": {},
     "output_type": "execute_result"
    }
   ],
   "source": [
    "df_2017"
   ]
  },
  {
   "cell_type": "code",
   "execution_count": 55,
   "metadata": {},
   "outputs": [],
   "source": [
    "def log(x):\n",
    "    return np.log1p(abs(x))\n",
    "transformer = FunctionTransformer(log)\n",
    "transformer2 = make_column_transformer(\n",
    "    (OneHotEncoder(sparse=False),make_column_selector(dtype_exclude=np.number)),\n",
    "    (transformer,make_column_selector(dtype_include=np.number))\n",
    "    )"
   ]
  },
  {
   "cell_type": "code",
   "execution_count": 56,
   "metadata": {},
   "outputs": [],
   "source": [
    "new_columns = df_2017.select_dtypes(np.number).columns.tolist()+df_2017.select_dtypes(object).columns.to_list()\n",
    "scaler = make_column_transformer((transformer,make_column_selector(dtype_include=np.number)),\n",
    "remainder='passthrough'\n",
    ")\n",
    "normalize =make_column_transformer((StandardScaler(),make_column_selector(dtype_include=np.number)),\n",
    "remainder='passthrough'\n",
    ")\n",
    "df_t = scaler.fit_transform(df_2017)\n",
    "test = pd.DataFrame(df_t,columns=new_columns)\n"
   ]
  },
  {
   "cell_type": "code",
   "execution_count": 60,
   "metadata": {},
   "outputs": [
    {
     "name": "stdout",
     "output_type": "stream",
     "text": [
      "Initialization method and algorithm are deterministic. Setting n_init to 1.\n",
      "Init: initializing centroids\n",
      "Init: initializing centroids\n",
      "Init: initializing centroids\n",
      "Init: initializing centroids\n",
      "Init: initializing clusters\n",
      "Init: initializing clusters\n",
      "Init: initializing clusters\n",
      "Init: initializing clusters\n",
      "Init: initializing centroids\n",
      "Init: initializing clusters\n",
      "Starting iterations...\n",
      "Starting iterations...\n",
      "Starting iterations...\n",
      "Starting iterations...\n",
      "Starting iterations...\n",
      "Run: 4, iteration: 1/50, moves: 9704, ncost: 102894.77288238646\n",
      "Run: 2, iteration: 1/50, moves: 12538, ncost: 97358.88073627734\n",
      "Run: 1, iteration: 1/50, moves: 14137, ncost: 94120.4327520031\n",
      "Run: 3, iteration: 1/50, moves: 13984, ncost: 95635.74998664927\n",
      "Run: 5, iteration: 1/50, moves: 10409, ncost: 92900.60472542749\n",
      "Run: 2, iteration: 2/50, moves: 4683, ncost: 95917.39295732717\n",
      "Run: 4, iteration: 2/50, moves: 6904, ncost: 99340.87640128097\n",
      "Run: 1, iteration: 2/50, moves: 4900, ncost: 92631.34857991918\n",
      "Run: 5, iteration: 2/50, moves: 2829, ncost: 92321.20547414297\n",
      "Run: 3, iteration: 2/50, moves: 3955, ncost: 94758.50341618246\n",
      "Run: 2, iteration: 3/50, moves: 2683, ncost: 95409.02768870622\n",
      "Run: 1, iteration: 3/50, moves: 2109, ncost: 92342.68579220572\n",
      "Run: 4, iteration: 3/50, moves: 6096, ncost: 96493.83727581332\n",
      "Run: 5, iteration: 3/50, moves: 1401, ncost: 92133.36775277431\n",
      "Run: 3, iteration: 3/50, moves: 1706, ncost: 94565.63656494652\n",
      "Run: 2, iteration: 4/50, moves: 1794, ncost: 95093.07044203034\n",
      "Run: 1, iteration: 4/50, moves: 1361, ncost: 92175.34809181577\n",
      "Run: 5, iteration: 4/50, moves: 869, ncost: 92071.78834755285\n",
      "Run: 4, iteration: 4/50, moves: 4257, ncost: 94953.71878788927\n",
      "Run: 3, iteration: 4/50, moves: 1307, ncost: 94438.00273474217\n",
      "Run: 1, iteration: 5/50, moves: 824, ncost: 92119.55582302385\n",
      "Run: 5, iteration: 5/50, moves: 443, ncost: 92055.08317032085\n",
      "Run: 3, iteration: 5/50, moves: 1236, ncost: 94313.71995228548\n",
      "Run: 2, iteration: 5/50, moves: 1765, ncost: 94679.87864456585\n",
      "Run: 4, iteration: 5/50, moves: 2683, ncost: 94125.86192953913\n",
      "Run: 1, iteration: 6/50, moves: 458, ncost: 92062.85834297794\n",
      "Run: 5, iteration: 6/50, moves: 280, ncost: 92049.13892442499\n",
      "Run: 2, iteration: 6/50, moves: 2079, ncost: 94127.82150520732\n",
      "Run: 3, iteration: 6/50, moves: 1397, ncost: 94129.5306854858\n",
      "Run: 4, iteration: 6/50, moves: 2340, ncost: 93370.38586361386\n",
      "Run: 1, iteration: 7/50, moves: 518, ncost: 92051.88382325115\n",
      "Run: 5, iteration: 7/50, moves: 121, ncost: 92047.95105989002\n",
      "Run: 2, iteration: 7/50, moves: 2190, ncost: 93538.28304367543\n",
      "Run: 4, iteration: 7/50, moves: 2099, ncost: 92853.04234734915\n",
      "Run: 3, iteration: 7/50, moves: 1429, ncost: 93912.89876557294\n",
      "Run: 1, iteration: 8/50, moves: 205, ncost: 92048.08629685281\n",
      "Run: 5, iteration: 8/50, moves: 72, ncost: 92047.4557650816\n",
      "Run: 2, iteration: 8/50, moves: 2376, ncost: 92882.78284228833\n",
      "Run: 4, iteration: 8/50, moves: 1530, ncost: 92617.33552634288\n",
      "Run: 3, iteration: 8/50, moves: 1479, ncost: 93644.33700076063\n",
      "Run: 1, iteration: 9/50, moves: 84, ncost: 92047.46460894776\n",
      "Run: 2, iteration: 9/50, moves: 2115, ncost: 92334.97455819858\n",
      "Run: 5, iteration: 9/50, moves: 32, ncost: 92047.34263685584\n",
      "Run: 4, iteration: 9/50, moves: 1075, ncost: 92500.50413307214\n",
      "Run: 3, iteration: 9/50, moves: 1792, ncost: 93202.05180042006\n",
      "Run: 2, iteration: 10/50, moves: 1616, ncost: 92074.10596993811\n",
      "Run: 1, iteration: 10/50, moves: 36, ncost: 92047.32086092136\n",
      "Run: 5, iteration: 10/50, moves: 20, ncost: 92047.3006069227\n",
      "Run: 4, iteration: 10/50, moves: 989, ncost: 92379.11235630681\n",
      "Run: 3, iteration: 10/50, moves: 2010, ncost: 92707.52806433877\n",
      "Run: 2, iteration: 11/50, moves: 901, ncost: 92012.13114361979\n",
      "Run: 1, iteration: 11/50, moves: 15, ncost: 92047.29124586988\n",
      "Run: 4, iteration: 11/50, moves: 1020, ncost: 92252.33636674627\n",
      "Run: 5, iteration: 11/50, moves: 9, ncost: 92047.28871515642\n",
      "Run: 1, iteration: 12/50, moves: 5, ncost: 92047.28514507318\n",
      "Run: 3, iteration: 11/50, moves: 1703, ncost: 92465.6378187855\n",
      "Run: 2, iteration: 12/50, moves: 547, ncost: 91987.6267029237\n",
      "Run: 5, iteration: 12/50, moves: 7, ncost: 92047.28303313821\n",
      "Run: 4, iteration: 12/50, moves: 944, ncost: 92154.13128705608\n",
      "Run: 1, iteration: 13/50, moves: 2, ncost: 92047.28271622887\n",
      "Run: 3, iteration: 12/50, moves: 1027, ncost: 92340.74741030998\n",
      "Run: 5, iteration: 13/50, moves: 1, ncost: 92047.28269335396\n",
      "Run: 2, iteration: 13/50, moves: 295, ncost: 91981.47983891382\n",
      "Run: 1, iteration: 14/50, moves: 1, ncost: 92047.28237644472\n",
      "Run: 4, iteration: 13/50, moves: 644, ncost: 92114.71197733197\n",
      "Run: 3, iteration: 13/50, moves: 1054, ncost: 92215.03361364584\n",
      "Run: 2, iteration: 14/50, moves: 126, ncost: 91980.07349730872\n",
      "Run: 5, iteration: 14/50, moves: 0, ncost: 92047.28269335396\n",
      "Run: 4, iteration: 14/50, moves: 482, ncost: 92061.7631165563\n",
      "Run: 1, iteration: 15/50, moves: 0, ncost: 92047.28237644472\n",
      "Run: 3, iteration: 14/50, moves: 1053, ncost: 92103.43909738453\n",
      "Run: 2, iteration: 15/50, moves: 74, ncost: 91979.36298852833\n",
      "Run: 4, iteration: 15/50, moves: 431, ncost: 92050.89747007763\n",
      "Run: 3, iteration: 15/50, moves: 679, ncost: 92065.62892559418\n",
      "Run: 2, iteration: 16/50, moves: 58, ncost: 91978.99835014805\n",
      "Run: 4, iteration: 16/50, moves: 182, ncost: 92048.04922410319\n",
      "Run: 3, iteration: 16/50, moves: 387, ncost: 92052.1146204058\n",
      "Run: 2, iteration: 17/50, moves: 60, ncost: 91978.64769616592\n",
      "Run: 4, iteration: 17/50, moves: 78, ncost: 92047.4737000509\n",
      "Run: 3, iteration: 17/50, moves: 197, ncost: 92048.50420232536\n",
      "Run: 2, iteration: 18/50, moves: 27, ncost: 91978.56224699902\n",
      "Run: 4, iteration: 18/50, moves: 40, ncost: 92047.32521832573\n",
      "Run: 3, iteration: 18/50, moves: 88, ncost: 92047.65844178769\n",
      "Run: 2, iteration: 19/50, moves: 19, ncost: 91978.50597827043\n",
      "Run: 4, iteration: 19/50, moves: 15, ncost: 92047.29470985549\n",
      "Run: 3, iteration: 19/50, moves: 54, ncost: 92047.3511177373\n",
      "Run: 2, iteration: 20/50, moves: 23, ncost: 91978.44530178605\n",
      "Run: 4, iteration: 20/50, moves: 7, ncost: 92047.28564916019\n",
      "Run: 3, iteration: 20/50, moves: 20, ncost: 92047.30760040808\n",
      "Run: 2, iteration: 21/50, moves: 18, ncost: 91978.41017205696\n",
      "Run: 4, iteration: 21/50, moves: 4, ncost: 92047.28199614938\n",
      "Run: 3, iteration: 21/50, moves: 12, ncost: 92047.28688303773\n",
      "Run: 2, iteration: 22/50, moves: 7, ncost: 91978.39860396512\n",
      "Run: 4, iteration: 22/50, moves: 1, ncost: 92047.28165636533\n",
      "Run: 3, iteration: 22/50, moves: 2, ncost: 92047.28469486361\n",
      "Run: 2, iteration: 23/50, moves: 6, ncost: 91978.38986645253\n",
      "Run: 4, iteration: 23/50, moves: 0, ncost: 92047.28165636533\n",
      "Run: 3, iteration: 23/50, moves: 2, ncost: 92047.2822660194\n",
      "Run: 2, iteration: 24/50, moves: 3, ncost: 91978.38812320257\n",
      "Run: 3, iteration: 24/50, moves: 1, ncost: 92047.28192623532\n",
      "Run: 2, iteration: 25/50, moves: 3, ncost: 91978.38224657881\n",
      "Run: 3, iteration: 25/50, moves: 0, ncost: 92047.28192623532\n",
      "Run: 2, iteration: 26/50, moves: 8, ncost: 91978.36559095416\n",
      "Run: 2, iteration: 27/50, moves: 8, ncost: 91978.35702475441\n",
      "Run: 2, iteration: 28/50, moves: 0, ncost: 91978.35702475441\n",
      "Best run was number 2\n"
     ]
    }
   ],
   "source": [
    "k = 5\n",
    "df_test =normalize.fit_transform(test)\n",
    "model = KPrototypes(n_clusters=k, init=\"Cao\", verbose=2, n_jobs=-1, n_init=5, max_iter=50, random_state=42)\n",
    "\n",
    "clusters = model.fit_predict(df_t, categorical=[10,11])\n"
   ]
  },
  {
   "cell_type": "code",
   "execution_count": 61,
   "metadata": {},
   "outputs": [],
   "source": [
    "clusters_list = []\n",
    "for c in clusters:\n",
    "    clusters_list.append(c)"
   ]
  },
  {
   "cell_type": "code",
   "execution_count": 62,
   "metadata": {},
   "outputs": [],
   "source": [
    "df_2017['clusters']= clusters_list"
   ]
  },
  {
   "attachments": {},
   "cell_type": "markdown",
   "metadata": {},
   "source": [
    "## CLUSTERING 2017 N+3\n"
   ]
  },
  {
   "cell_type": "code",
   "execution_count": 63,
   "metadata": {},
   "outputs": [],
   "source": [
    "df.purchase_date = pd.to_datetime(df.purchase_date)\n"
   ]
  },
  {
   "cell_type": "code",
   "execution_count": 64,
   "metadata": {},
   "outputs": [],
   "source": [
    "df_2017_n3 = df[(df.purchase_date >= '2017') & (df.purchase_date <= '2018-03')].drop(['purchase_date','months','Season','months','Year','nb_prod_different','nb_review','nb_total_items_commande','nb_total_commande','panier_moyen'],axis=1)"
   ]
  },
  {
   "cell_type": "code",
   "execution_count": 65,
   "metadata": {},
   "outputs": [],
   "source": [
    "new_columns = df_2017_n3.select_dtypes(np.number).columns.tolist()+df_2017_n3.select_dtypes(object).columns.to_list()\n",
    "scaler = make_column_transformer((transformer,make_column_selector(dtype_include=np.number)),\n",
    "remainder='passthrough'\n",
    ")\n",
    "normalize =make_column_transformer((StandardScaler(),make_column_selector(dtype_include=np.number)),\n",
    "remainder='passthrough'\n",
    ")\n",
    "df_t2 = scaler.fit_transform(df_2017_n3)\n",
    "test = pd.DataFrame(df_t2,columns=new_columns)"
   ]
  },
  {
   "cell_type": "code",
   "execution_count": 66,
   "metadata": {},
   "outputs": [
    {
     "name": "stdout",
     "output_type": "stream",
     "text": [
      "Initialization method and algorithm are deterministic. Setting n_init to 1.\n",
      "Init: initializing centroids\n",
      "Init: initializing centroids\n",
      "Init: initializing clusters\n",
      "Init: initializing clusters\n",
      "Init: initializing centroids\n",
      "Init: initializing centroids\n",
      "Init: initializing centroids\n",
      "Init: initializing clusters\n",
      "Init: initializing clusters\n",
      "Init: initializing clusters\n",
      "Starting iterations...\n",
      "Starting iterations...\n",
      "Starting iterations...\n",
      "Starting iterations...\n",
      "Starting iterations...\n",
      "Run: 2, iteration: 1/50, moves: 18056, ncost: 155684.1332867462\n",
      "Run: 4, iteration: 1/50, moves: 14430, ncost: 164354.97423707249\n",
      "Run: 3, iteration: 1/50, moves: 21066, ncost: 154217.5608924118\n",
      "Run: 5, iteration: 1/50, moves: 16105, ncost: 150086.94123890364\n",
      "Run: 1, iteration: 1/50, moves: 20828, ncost: 152190.8751133077\n",
      "Run: 2, iteration: 2/50, moves: 6656, ncost: 153729.02670066943\n",
      "Run: 4, iteration: 2/50, moves: 8729, ncost: 160406.39680205256\n",
      "Run: 3, iteration: 2/50, moves: 6558, ncost: 152531.62546152167\n",
      "Run: 5, iteration: 2/50, moves: 4449, ncost: 149302.50999169896\n",
      "Run: 1, iteration: 2/50, moves: 7867, ncost: 149658.5279520254\n",
      "Run: 2, iteration: 3/50, moves: 4041, ncost: 152911.20261459888\n",
      "Run: 4, iteration: 3/50, moves: 8079, ncost: 155142.58048254246\n",
      "Run: 3, iteration: 3/50, moves: 2644, ncost: 152199.626294402\n",
      "Run: 1, iteration: 3/50, moves: 3032, ncost: 149269.27284944028\n",
      "Run: 5, iteration: 3/50, moves: 1818, ncost: 149133.23783995965\n",
      "Run: 2, iteration: 4/50, moves: 3155, ncost: 152087.47529533267\n",
      "Run: 4, iteration: 4/50, moves: 6757, ncost: 151860.35401123282\n",
      "Run: 3, iteration: 4/50, moves: 1579, ncost: 152052.01732269858\n",
      "Run: 1, iteration: 4/50, moves: 1486, ncost: 149136.42812966366\n",
      "Run: 5, iteration: 4/50, moves: 943, ncost: 149074.4930681264\n",
      "Run: 2, iteration: 5/50, moves: 3386, ncost: 150963.3901585413\n",
      "Run: 4, iteration: 5/50, moves: 5198, ncost: 150179.16330314326\n",
      "Run: 3, iteration: 5/50, moves: 1238, ncost: 151958.32303119713\n",
      "Run: 1, iteration: 5/50, moves: 911, ncost: 149081.71839307452\n",
      "Run: 5, iteration: 5/50, moves: 594, ncost: 149053.2776861217\n",
      "Run: 2, iteration: 6/50, moves: 3614, ncost: 149906.57714370656\n",
      "Run: 4, iteration: 6/50, moves: 3618, ncost: 149466.46124202685\n",
      "Run: 3, iteration: 6/50, moves: 1034, ncost: 151890.16053805887\n",
      "Run: 1, iteration: 6/50, moves: 583, ncost: 149057.96206103865\n",
      "Run: 5, iteration: 6/50, moves: 387, ncost: 149042.24653187793\n",
      "Run: 2, iteration: 7/50, moves: 3406, ncost: 149184.2018556278\n",
      "Run: 3, iteration: 7/50, moves: 1000, ncost: 151825.93653719733\n",
      "Run: 4, iteration: 7/50, moves: 2157, ncost: 149261.6078361846\n",
      "Run: 1, iteration: 7/50, moves: 412, ncost: 149045.14235794955\n",
      "Run: 5, iteration: 7/50, moves: 308, ncost: 149035.90245866257\n",
      "Run: 2, iteration: 8/50, moves: 2406, ncost: 148821.96689058936\n",
      "Run: 4, iteration: 8/50, moves: 1331, ncost: 149104.66500985355\n",
      "Run: 3, iteration: 8/50, moves: 897, ncost: 151771.674554174\n",
      "Run: 1, iteration: 8/50, moves: 324, ncost: 149038.013991278\n",
      "Run: 5, iteration: 8/50, moves: 189, ncost: 149033.6595652469\n",
      "Run: 2, iteration: 9/50, moves: 1724, ncost: 148642.7719149044\n",
      "Run: 4, iteration: 9/50, moves: 1194, ncost: 149054.31590636345\n",
      "Run: 3, iteration: 9/50, moves: 771, ncost: 151729.2638261704\n",
      "Run: 1, iteration: 9/50, moves: 225, ncost: 149034.63869853874\n",
      "Run: 5, iteration: 9/50, moves: 124, ncost: 149032.47146349537\n",
      "Run: 3, iteration: 10/50, moves: 697, ncost: 151693.34904541247\n",
      "Run: 2, iteration: 10/50, moves: 1208, ncost: 148568.81039497504\n",
      "Run: 4, iteration: 10/50, moves: 511, ncost: 149042.8634387867\n",
      "Run: 1, iteration: 10/50, moves: 144, ncost: 149033.04396449518\n",
      "Run: 5, iteration: 10/50, moves: 69, ncost: 149032.16071373297\n",
      "Run: 3, iteration: 11/50, moves: 766, ncost: 151648.2743232773\n",
      "Run: 2, iteration: 11/50, moves: 799, ncost: 148533.65509506047\n",
      "Run: 4, iteration: 11/50, moves: 229, ncost: 149040.62305024787\n",
      "Run: 1, iteration: 11/50, moves: 104, ncost: 149032.3080025174\n",
      "Run: 5, iteration: 11/50, moves: 39, ncost: 149032.0283221532\n",
      "Run: 3, iteration: 12/50, moves: 783, ncost: 151607.0129423332\n",
      "Run: 2, iteration: 12/50, moves: 512, ncost: 148519.14810973406\n",
      "Run: 4, iteration: 12/50, moves: 118, ncost: 149039.94511817562\n",
      "Run: 1, iteration: 12/50, moves: 55, ncost: 149032.07598301058\n",
      "Run: 5, iteration: 12/50, moves: 31, ncost: 149031.95747211733\n",
      "Run: 3, iteration: 13/50, moves: 757, ncost: 151564.46541019427\n",
      "Run: 2, iteration: 13/50, moves: 380, ncost: 148510.7374242249\n",
      "Run: 4, iteration: 13/50, moves: 85, ncost: 149039.6386492351\n",
      "Run: 1, iteration: 13/50, moves: 33, ncost: 149031.9775405263\n",
      "Run: 5, iteration: 13/50, moves: 12, ncost: 149031.94054847216\n",
      "Run: 3, iteration: 14/50, moves: 925, ncost: 151504.91948313484\n",
      "Run: 2, iteration: 14/50, moves: 286, ncost: 148506.0262325506\n",
      "Run: 4, iteration: 14/50, moves: 47, ncost: 149039.53136196962\n",
      "Run: 1, iteration: 14/50, moves: 18, ncost: 149031.94459299787\n",
      "Run: 5, iteration: 14/50, moves: 3, ncost: 149031.93888177664\n",
      "Run: 3, iteration: 15/50, moves: 1170, ncost: 151382.9311890857\n",
      "Run: 2, iteration: 15/50, moves: 219, ncost: 148503.5566926854\n",
      "Run: 1, iteration: 15/50, moves: 7, ncost: 149031.93888177702\n",
      "Run: 4, iteration: 15/50, moves: 26, ncost: 149039.4851184167\n",
      "Run: 5, iteration: 15/50, moves: 0, ncost: 149031.93888177664\n",
      "Run: 2, iteration: 16/50, moves: 120, ncost: 148502.70597129824\n",
      "Run: 3, iteration: 16/50, moves: 1871, ncost: 151050.86002107235\n",
      "Run: 1, iteration: 16/50, moves: 0, ncost: 149031.93888177702\n",
      "Run: 4, iteration: 16/50, moves: 17, ncost: 149039.4658930973\n",
      "Run: 2, iteration: 17/50, moves: 84, ncost: 148502.25586170037\n",
      "Run: 3, iteration: 17/50, moves: 2837, ncost: 150404.85971701273\n",
      "Run: 4, iteration: 17/50, moves: 3, ncost: 149039.46426436395\n",
      "Run: 2, iteration: 18/50, moves: 78, ncost: 148501.87302727267\n",
      "Run: 3, iteration: 18/50, moves: 2801, ncost: 149883.5826534148\n",
      "Run: 4, iteration: 18/50, moves: 1, ncost: 149039.4639440709\n",
      "Run: 3, iteration: 19/50, moves: 2759, ncost: 149354.3582421169\n",
      "Run: 2, iteration: 19/50, moves: 68, ncost: 148501.54364822633\n",
      "Run: 4, iteration: 19/50, moves: 0, ncost: 149039.4639440709\n",
      "Run: 2, iteration: 20/50, moves: 82, ncost: 148501.0344757415\n",
      "Run: 3, iteration: 20/50, moves: 2506, ncost: 148949.90915279585\n",
      "Run: 2, iteration: 21/50, moves: 69, ncost: 148500.67670632832\n",
      "Run: 3, iteration: 21/50, moves: 1974, ncost: 148735.6686491489\n",
      "Run: 2, iteration: 22/50, moves: 67, ncost: 148500.31369732853\n",
      "Run: 3, iteration: 22/50, moves: 1347, ncost: 148640.41115779086\n",
      "Run: 2, iteration: 23/50, moves: 59, ncost: 148500.0142145373\n",
      "Run: 3, iteration: 23/50, moves: 924, ncost: 148599.8322598431\n",
      "Run: 2, iteration: 24/50, moves: 56, ncost: 148499.83648750992\n",
      "Run: 3, iteration: 24/50, moves: 587, ncost: 148582.27460538014\n",
      "Run: 2, iteration: 25/50, moves: 42, ncost: 148499.70859722488\n",
      "Run: 3, iteration: 25/50, moves: 393, ncost: 148574.1751444142\n",
      "Run: 2, iteration: 26/50, moves: 28, ncost: 148499.63012062272\n",
      "Run: 3, iteration: 26/50, moves: 365, ncost: 148510.01336334192\n",
      "Run: 2, iteration: 27/50, moves: 38, ncost: 148499.49249058185\n",
      "Run: 3, iteration: 27/50, moves: 552, ncost: 148504.9949548794\n",
      "Run: 2, iteration: 28/50, moves: 31, ncost: 148499.3803219329\n",
      "Run: 3, iteration: 28/50, moves: 221, ncost: 148502.7050848067\n",
      "Run: 2, iteration: 29/50, moves: 44, ncost: 148499.19745739506\n",
      "Run: 3, iteration: 29/50, moves: 103, ncost: 148502.0570302992\n",
      "Run: 2, iteration: 30/50, moves: 51, ncost: 148498.93727829697\n",
      "Run: 3, iteration: 30/50, moves: 72, ncost: 148501.7357167774\n",
      "Run: 2, iteration: 31/50, moves: 107, ncost: 148498.1110931571\n",
      "Run: 3, iteration: 31/50, moves: 81, ncost: 148501.3013280345\n",
      "Run: 2, iteration: 32/50, moves: 134, ncost: 148496.81354062102\n",
      "Run: 3, iteration: 32/50, moves: 86, ncost: 148500.78908684684\n",
      "Run: 2, iteration: 33/50, moves: 124, ncost: 148495.55586003736\n",
      "Run: 3, iteration: 33/50, moves: 81, ncost: 148500.37640944836\n",
      "Run: 2, iteration: 34/50, moves: 149, ncost: 148493.96522260187\n",
      "Run: 3, iteration: 34/50, moves: 63, ncost: 148500.04749370328\n",
      "Run: 2, iteration: 35/50, moves: 177, ncost: 148491.8729816297\n",
      "Run: 3, iteration: 35/50, moves: 48, ncost: 148499.87857543334\n",
      "Run: 2, iteration: 36/50, moves: 167, ncost: 148489.9780834106\n",
      "Run: 3, iteration: 36/50, moves: 41, ncost: 148499.7343854008\n",
      "Run: 2, iteration: 37/50, moves: 164, ncost: 148487.8857192975\n",
      "Run: 3, iteration: 37/50, moves: 33, ncost: 148499.6440623774\n",
      "Run: 2, iteration: 38/50, moves: 172, ncost: 148485.49655179883\n",
      "Run: 3, iteration: 38/50, moves: 37, ncost: 148499.52115866574\n",
      "Run: 2, iteration: 39/50, moves: 193, ncost: 148482.07760013387\n",
      "Run: 3, iteration: 39/50, moves: 33, ncost: 148499.40303011183\n",
      "Run: 2, iteration: 40/50, moves: 247, ncost: 148477.00751030358\n",
      "Run: 3, iteration: 40/50, moves: 43, ncost: 148499.21586611346\n",
      "Run: 2, iteration: 41/50, moves: 249, ncost: 148472.47336884748\n",
      "Run: 3, iteration: 41/50, moves: 47, ncost: 148499.0083670494\n",
      "Run: 2, iteration: 42/50, moves: 207, ncost: 148469.81678185807\n",
      "Run: 3, iteration: 42/50, moves: 74, ncost: 148498.46297203796\n",
      "Run: 2, iteration: 43/50, moves: 148, ncost: 148468.24985112515\n",
      "Run: 3, iteration: 43/50, moves: 124, ncost: 148497.30679082632\n",
      "Run: 2, iteration: 44/50, moves: 137, ncost: 148467.12947707126\n",
      "Run: 3, iteration: 44/50, moves: 128, ncost: 148496.02221155565\n",
      "Run: 2, iteration: 45/50, moves: 75, ncost: 148466.74591935542\n",
      "Run: 3, iteration: 45/50, moves: 145, ncost: 148494.5611414705\n",
      "Run: 2, iteration: 46/50, moves: 55, ncost: 148466.5007538713\n",
      "Run: 3, iteration: 46/50, moves: 134, ncost: 148493.0719392509\n",
      "Run: 2, iteration: 47/50, moves: 67, ncost: 148466.20321132822\n",
      "Run: 3, iteration: 47/50, moves: 166, ncost: 148491.0954698289\n",
      "Run: 2, iteration: 48/50, moves: 42, ncost: 148466.07651206356\n",
      "Run: 3, iteration: 48/50, moves: 155, ncost: 148489.12532327764\n",
      "Run: 2, iteration: 49/50, moves: 28, ncost: 148466.02339826233\n",
      "Run: 3, iteration: 49/50, moves: 160, ncost: 148487.09872570643\n",
      "Run: 2, iteration: 50/50, moves: 20, ncost: 148465.9923467572\n",
      "Run: 3, iteration: 50/50, moves: 192, ncost: 148484.26518545765\n",
      "Best run was number 2\n"
     ]
    }
   ],
   "source": [
    "df_test =normalize.fit_transform(test)\n",
    "model = KPrototypes(n_clusters=k, init=\"Cao\", verbose=2, n_jobs=-1, n_init=5, max_iter=50, random_state=42)\n",
    "\n",
    "clusters_n3 = model.fit_predict(df_t2, categorical=[10,11])\n",
    "clusters_list_n3 = []\n",
    "for c in clusters_n3:\n",
    "    clusters_list_n3.append(c)\n"
   ]
  },
  {
   "cell_type": "code",
   "execution_count": 67,
   "metadata": {},
   "outputs": [],
   "source": [
    "df_2017_n3['clusters']= clusters_list_n3"
   ]
  },
  {
   "attachments": {},
   "cell_type": "markdown",
   "metadata": {},
   "source": [
    "## Clustering 2017 n+6"
   ]
  },
  {
   "cell_type": "code",
   "execution_count": 68,
   "metadata": {},
   "outputs": [],
   "source": [
    "df_2017_n6 = df[(df.purchase_date >= '2017') & (df.purchase_date <= '2018-06')].drop(['purchase_date','months','Season','months','Year','nb_prod_different','nb_review','nb_total_items_commande','nb_total_commande','panier_moyen'],axis=1)"
   ]
  },
  {
   "cell_type": "code",
   "execution_count": 69,
   "metadata": {},
   "outputs": [
    {
     "name": "stdout",
     "output_type": "stream",
     "text": [
      "Initialization method and algorithm are deterministic. Setting n_init to 1.\n",
      "Init: initializing centroids\n",
      "Init: initializing centroids\n",
      "Init: initializing centroids\n",
      "Init: initializing clusters\n",
      "Init: initializing clusters\n",
      "Init: initializing clusters\n",
      "Init: initializing centroids\n",
      "Init: initializing centroids\n",
      "Init: initializing clusters\n",
      "Init: initializing clusters\n",
      "Starting iterations...\n",
      "Starting iterations...\n",
      "Starting iterations...\n",
      "Starting iterations...\n",
      "Starting iterations...\n",
      "Run: 5, iteration: 1/50, moves: 21471, ncost: 210060.64164620152\n",
      "Run: 1, iteration: 1/50, moves: 27212, ncost: 212119.66014206246\n",
      "Run: 4, iteration: 1/50, moves: 19866, ncost: 227314.96838401048\n",
      "Run: 2, iteration: 1/50, moves: 24435, ncost: 217122.46466132277\n",
      "Run: 3, iteration: 1/50, moves: 27748, ncost: 215222.58209536615\n",
      "Run: 5, iteration: 2/50, moves: 5767, ncost: 209106.20767484303\n",
      "Run: 4, iteration: 2/50, moves: 12480, ncost: 220143.63192919537\n",
      "Run: 1, iteration: 2/50, moves: 9968, ncost: 209342.20335038102\n",
      "Run: 3, iteration: 2/50, moves: 8942, ncost: 212645.16247005528\n",
      "Run: 2, iteration: 2/50, moves: 9501, ncost: 214262.59540316602\n",
      "Run: 1, iteration: 3/50, moves: 3563, ncost: 208963.8505970238\n",
      "Run: 4, iteration: 3/50, moves: 10749, ncost: 213611.82787081334\n",
      "Run: 5, iteration: 3/50, moves: 2339, ncost: 208893.74792718163\n",
      "Run: 3, iteration: 3/50, moves: 3909, ncost: 212052.61476795695\n",
      "Run: 2, iteration: 3/50, moves: 4923, ncost: 213356.68363278845\n",
      "Run: 1, iteration: 4/50, moves: 1752, ncost: 208840.8402189881\n",
      "Run: 5, iteration: 4/50, moves: 1292, ncost: 208810.25701533322\n",
      "Run: 4, iteration: 4/50, moves: 7782, ncost: 210720.25152569654\n",
      "Run: 3, iteration: 4/50, moves: 2692, ncost: 211741.870898726\n",
      "Run: 2, iteration: 4/50, moves: 3727, ncost: 212637.70895743754\n",
      "Run: 1, iteration: 5/50, moves: 1103, ncost: 208786.71131998944\n",
      "Run: 5, iteration: 5/50, moves: 883, ncost: 208776.015590741\n",
      "Run: 3, iteration: 5/50, moves: 1871, ncost: 211587.32751863214\n",
      "Run: 4, iteration: 5/50, moves: 5387, ncost: 209281.76287011965\n",
      "Run: 2, iteration: 5/50, moves: 3481, ncost: 211742.64300382353\n",
      "Run: 1, iteration: 6/50, moves: 643, ncost: 208768.3081757751\n",
      "Run: 3, iteration: 6/50, moves: 1454, ncost: 211487.57717862533\n",
      "Run: 5, iteration: 6/50, moves: 530, ncost: 208763.7290107145\n",
      "Run: 4, iteration: 6/50, moves: 3529, ncost: 208851.4406387109\n",
      "Run: 2, iteration: 6/50, moves: 4167, ncost: 210448.9686111208\n",
      "Run: 3, iteration: 7/50, moves: 1205, ncost: 211414.63090650612\n",
      "Run: 1, iteration: 7/50, moves: 355, ncost: 208761.54109381177\n",
      "Run: 4, iteration: 7/50, moves: 2104, ncost: 208701.4285113227\n",
      "Run: 5, iteration: 7/50, moves: 323, ncost: 208758.93595132494\n",
      "Run: 2, iteration: 7/50, moves: 4379, ncost: 209322.2737581111\n",
      "Run: 1, iteration: 8/50, moves: 238, ncost: 208758.0862149976\n",
      "Run: 4, iteration: 8/50, moves: 1361, ncost: 208636.85796626942\n",
      "Run: 3, iteration: 8/50, moves: 1130, ncost: 211343.3602431421\n",
      "Run: 5, iteration: 8/50, moves: 233, ncost: 208756.49794196835\n",
      "Run: 2, iteration: 8/50, moves: 4131, ncost: 208531.95988790633\n",
      "Run: 1, iteration: 9/50, moves: 197, ncost: 208756.12316984808\n",
      "Run: 4, iteration: 9/50, moves: 985, ncost: 208599.5289268671\n",
      "Run: 3, iteration: 9/50, moves: 1282, ncost: 211246.56718974054\n",
      "Run: 2, iteration: 9/50, moves: 3018, ncost: 208114.45122462328\n",
      "Run: 1, iteration: 10/50, moves: 111, ncost: 208755.3974217035\n",
      "Run: 5, iteration: 9/50, moves: 145, ncost: 208755.36085472687\n",
      "Run: 3, iteration: 10/50, moves: 1557, ncost: 211084.41761122132\n",
      "Run: 4, iteration: 10/50, moves: 701, ncost: 208577.07320161024\n",
      "Run: 2, iteration: 10/50, moves: 2167, ncost: 207903.61355200838\n",
      "Run: 1, iteration: 11/50, moves: 82, ncost: 208755.04467942668\n",
      "Run: 3, iteration: 11/50, moves: 2354, ncost: 210676.29610629767\n",
      "Run: 5, iteration: 10/50, moves: 91, ncost: 208754.92916136564\n",
      "Run: 2, iteration: 11/50, moves: 1549, ncost: 207806.12095338313\n",
      "Run: 1, iteration: 12/50, moves: 62, ncost: 208754.84793617134\n",
      "Run: 4, iteration: 11/50, moves: 491, ncost: 208565.02747172245\n",
      "Run: 3, iteration: 12/50, moves: 3347, ncost: 209956.81423152593\n",
      "Run: 5, iteration: 11/50, moves: 60, ncost: 208754.7125895055\n",
      "Run: 2, iteration: 12/50, moves: 1052, ncost: 207764.7120121915\n",
      "Run: 1, iteration: 13/50, moves: 50, ncost: 208754.70277806142\n",
      "Run: 4, iteration: 12/50, moves: 266, ncost: 208561.4755997811\n",
      "Run: 5, iteration: 12/50, moves: 36, ncost: 208754.61838464334\n",
      "Run: 3, iteration: 13/50, moves: 3418, ncost: 209356.24862610773\n",
      "Run: 2, iteration: 13/50, moves: 674, ncost: 207747.07864467183\n",
      "Run: 1, iteration: 14/50, moves: 57, ncost: 208754.55973840842\n",
      "Run: 4, iteration: 13/50, moves: 144, ncost: 208560.72206453368\n",
      "Run: 5, iteration: 13/50, moves: 39, ncost: 208754.52962159077\n",
      "Run: 3, iteration: 14/50, moves: 3319, ncost: 208789.21674283806\n",
      "Run: 2, iteration: 14/50, moves: 506, ncost: 207736.69697608988\n",
      "Run: 1, iteration: 15/50, moves: 28, ncost: 208754.5237334535\n",
      "Run: 5, iteration: 14/50, moves: 20, ncost: 208754.50109984545\n",
      "Run: 3, iteration: 15/50, moves: 3054, ncost: 208322.02680476863\n",
      "Run: 4, iteration: 14/50, moves: 65, ncost: 208560.52996354358\n",
      "Run: 1, iteration: 16/50, moves: 21, ncost: 208754.48136928395\n",
      "Run: 2, iteration: 15/50, moves: 422, ncost: 207729.97695066303\n",
      "Run: 5, iteration: 15/50, moves: 24, ncost: 208754.46309617322\n",
      "Run: 3, iteration: 16/50, moves: 2590, ncost: 208030.09269200484\n",
      "Run: 4, iteration: 15/50, moves: 31, ncost: 208560.48264004863\n",
      "Run: 1, iteration: 17/50, moves: 18, ncost: 208754.46277295772\n",
      "Run: 2, iteration: 16/50, moves: 307, ncost: 207726.04919343075\n",
      "Run: 5, iteration: 16/50, moves: 9, ncost: 208754.45831381288\n",
      "Run: 3, iteration: 17/50, moves: 1962, ncost: 207867.73636258452\n",
      "Run: 4, iteration: 16/50, moves: 8, ncost: 208560.47589247048\n",
      "Run: 1, iteration: 18/50, moves: 2, ncost: 208754.4621883623\n",
      "Run: 2, iteration: 17/50, moves: 205, ncost: 207724.20203018916\n",
      "Run: 3, iteration: 18/50, moves: 1408, ncost: 207792.49427197498\n",
      "Run: 5, iteration: 17/50, moves: 0, ncost: 208754.45831381288\n",
      "Run: 4, iteration: 17/50, moves: 5, ncost: 208560.47269593462\n",
      "Run: 1, iteration: 19/50, moves: 3, ncost: 208754.4607536511\n",
      "Run: 2, iteration: 18/50, moves: 141, ncost: 207723.1010010707\n",
      "Run: 4, iteration: 18/50, moves: 0, ncost: 208560.47269593462\n",
      "Run: 3, iteration: 19/50, moves: 928, ncost: 207757.81468764928\n",
      "Run: 1, iteration: 20/50, moves: 4, ncost: 208754.45878773535\n",
      "Run: 2, iteration: 19/50, moves: 133, ncost: 207722.2887334869\n",
      "Run: 3, iteration: 20/50, moves: 650, ncost: 207741.62058132977\n",
      "Run: 1, iteration: 21/50, moves: 0, ncost: 208754.45878773535\n",
      "Run: 2, iteration: 20/50, moves: 83, ncost: 207721.94311349205\n",
      "Run: 3, iteration: 21/50, moves: 514, ncost: 207731.5025335462\n",
      "Run: 2, iteration: 21/50, moves: 65, ncost: 207721.70027798365\n",
      "Run: 3, iteration: 22/50, moves: 350, ncost: 207726.9520855857\n",
      "Run: 2, iteration: 22/50, moves: 49, ncost: 207721.5692259632\n",
      "Run: 3, iteration: 23/50, moves: 232, ncost: 207724.82607861044\n",
      "Run: 2, iteration: 23/50, moves: 24, ncost: 207721.53597165502\n",
      "Run: 3, iteration: 24/50, moves: 181, ncost: 207723.40728427187\n",
      "Run: 2, iteration: 24/50, moves: 12, ncost: 207721.52303213725\n",
      "Run: 3, iteration: 25/50, moves: 142, ncost: 207722.45338550233\n",
      "Run: 2, iteration: 25/50, moves: 5, ncost: 207721.5195558258\n",
      "Run: 3, iteration: 26/50, moves: 105, ncost: 207721.95356970376\n",
      "Run: 2, iteration: 26/50, moves: 8, ncost: 207721.51270502276\n",
      "Run: 3, iteration: 27/50, moves: 68, ncost: 207721.71352315633\n",
      "Run: 2, iteration: 27/50, moves: 1, ncost: 207721.5121354133\n",
      "Run: 3, iteration: 28/50, moves: 52, ncost: 207721.5772263948\n",
      "Run: 2, iteration: 28/50, moves: 4, ncost: 207721.50932242372\n",
      "Run: 3, iteration: 29/50, moves: 26, ncost: 207721.53964068383\n",
      "Run: 2, iteration: 29/50, moves: 0, ncost: 207721.50932242372\n",
      "Run: 3, iteration: 30/50, moves: 12, ncost: 207721.5241464839\n",
      "Run: 3, iteration: 31/50, moves: 6, ncost: 207721.5196636902\n",
      "Run: 3, iteration: 32/50, moves: 5, ncost: 207721.51641125217\n",
      "Run: 3, iteration: 33/50, moves: 5, ncost: 207721.51411756198\n",
      "Run: 3, iteration: 34/50, moves: 1, ncost: 207721.51380543556\n",
      "Run: 3, iteration: 35/50, moves: 0, ncost: 207721.51380543556\n",
      "Best run was number 2\n"
     ]
    }
   ],
   "source": [
    "df_t3 = scaler.fit_transform(df_2017_n6)\n",
    "model = KPrototypes(n_clusters=k, init=\"Cao\", verbose=2, n_jobs=-1, n_init=5, max_iter=50, random_state=42)\n",
    "\n",
    "clusters_n6 = model.fit_predict(df_t3, categorical=[10,11])\n",
    "clusters_list_n6 = []\n",
    "for c in clusters_n6:\n",
    "    clusters_list_n6.append(c)"
   ]
  },
  {
   "cell_type": "code",
   "execution_count": 70,
   "metadata": {},
   "outputs": [],
   "source": [
    "df_2017_n6['clusters']=clusters_list_n6"
   ]
  },
  {
   "attachments": {},
   "cell_type": "markdown",
   "metadata": {},
   "source": [
    "## Clustering n+9"
   ]
  },
  {
   "cell_type": "code",
   "execution_count": 71,
   "metadata": {},
   "outputs": [],
   "source": [
    "df_2017_n9 = df[(df.purchase_date >= '2017') & (df.purchase_date <= '2018-09')].drop(['purchase_date','months','Season','months','Year','nb_prod_different','nb_review','nb_total_items_commande','nb_total_commande','panier_moyen'],axis=1)"
   ]
  },
  {
   "cell_type": "code",
   "execution_count": 72,
   "metadata": {},
   "outputs": [
    {
     "name": "stdout",
     "output_type": "stream",
     "text": [
      "Initialization method and algorithm are deterministic. Setting n_init to 1.\n",
      "Init: initializing centroids\n",
      "Init: initializing centroids\n",
      "Init: initializing centroids\n",
      "Init: initializing centroids\n",
      "Init: initializing centroids\n",
      "Init: initializing clusters\n",
      "Init: initializing clusters\n",
      "Init: initializing clusters\n",
      "Init: initializing clusters\n",
      "Init: initializing clusters\n",
      "Starting iterations...\n",
      "Starting iterations...\n",
      "Starting iterations...\n",
      "Starting iterations...\n",
      "Starting iterations...\n",
      "Run: 4, iteration: 1/50, moves: 24305, ncost: 268842.52293806773\n",
      "Run: 3, iteration: 1/50, moves: 32041, ncost: 255373.48722170107\n",
      "Run: 2, iteration: 1/50, moves: 27850, ncost: 257949.1164949695\n",
      "Run: 5, iteration: 1/50, moves: 25027, ncost: 249725.09119482987\n",
      "Run: 1, iteration: 1/50, moves: 32243, ncost: 251893.09287848554\n",
      "Run: 4, iteration: 2/50, moves: 13433, ncost: 261968.89406142363\n",
      "Run: 3, iteration: 2/50, moves: 10252, ncost: 252469.7240973587\n",
      "Run: 2, iteration: 2/50, moves: 11372, ncost: 254303.37210656176\n",
      "Run: 1, iteration: 2/50, moves: 11287, ncost: 248632.42640064235\n",
      "Run: 5, iteration: 2/50, moves: 7028, ncost: 248387.15724220753\n",
      "Run: 3, iteration: 3/50, moves: 4675, ncost: 251737.74277569776\n",
      "Run: 4, iteration: 3/50, moves: 11991, ncost: 254255.31471626967\n",
      "Run: 1, iteration: 3/50, moves: 4559, ncost: 248146.05232462473\n",
      "Run: 2, iteration: 3/50, moves: 6089, ncost: 253097.48722317448\n",
      "Run: 5, iteration: 3/50, moves: 3221, ncost: 248066.39825998028\n",
      "Run: 3, iteration: 4/50, moves: 2952, ncost: 251415.59563786146\n",
      "Run: 5, iteration: 4/50, moves: 1864, ncost: 247936.7329284411\n",
      "Run: 4, iteration: 4/50, moves: 9373, ncost: 250612.99975893777\n",
      "Run: 2, iteration: 4/50, moves: 4477, ncost: 252202.94576070958\n",
      "Run: 1, iteration: 4/50, moves: 2142, ncost: 247980.9983647607\n",
      "Run: 3, iteration: 5/50, moves: 2009, ncost: 251271.90046766237\n",
      "Run: 4, iteration: 5/50, moves: 6550, ncost: 248671.13269899625\n",
      "Run: 1, iteration: 5/50, moves: 1442, ncost: 247903.13445567898\n",
      "Run: 5, iteration: 5/50, moves: 1231, ncost: 247882.5420724586\n",
      "Run: 2, iteration: 5/50, moves: 4137, ncost: 251145.05476337633\n",
      "Run: 3, iteration: 6/50, moves: 1354, ncost: 251207.15099780555\n",
      "Run: 4, iteration: 6/50, moves: 4396, ncost: 248061.51224289206\n",
      "Run: 1, iteration: 6/50, moves: 848, ncost: 247873.06698737296\n",
      "Run: 5, iteration: 6/50, moves: 733, ncost: 247863.0591520174\n",
      "Run: 2, iteration: 6/50, moves: 5004, ncost: 249655.82160368247\n",
      "Run: 3, iteration: 7/50, moves: 942, ncost: 251175.24197731\n",
      "Run: 1, iteration: 7/50, moves: 543, ncost: 247860.0888442836\n",
      "Run: 4, iteration: 7/50, moves: 2611, ncost: 247853.3016039092\n",
      "Run: 2, iteration: 7/50, moves: 5100, ncost: 248405.8190705633\n",
      "Run: 5, iteration: 7/50, moves: 428, ncost: 247856.323955053\n",
      "Run: 3, iteration: 8/50, moves: 646, ncost: 251157.19141311216\n",
      "Run: 4, iteration: 8/50, moves: 1681, ncost: 247764.46595144933\n",
      "Run: 1, iteration: 8/50, moves: 349, ncost: 247855.30180363497\n",
      "Run: 5, iteration: 8/50, moves: 249, ncost: 247854.25275443515\n",
      "Run: 3, iteration: 9/50, moves: 551, ncost: 251143.59202938154\n",
      "Run: 2, iteration: 8/50, moves: 4341, ncost: 247639.86266405205\n",
      "Run: 1, iteration: 9/50, moves: 198, ncost: 247853.6402208537\n",
      "Run: 4, iteration: 9/50, moves: 1195, ncost: 247719.0800738666\n",
      "Run: 5, iteration: 9/50, moves: 177, ncost: 247853.10426951005\n",
      "Run: 2, iteration: 9/50, moves: 3305, ncost: 247205.4123578084\n",
      "Run: 3, iteration: 10/50, moves: 490, ncost: 251131.98027356016\n",
      "Run: 1, iteration: 10/50, moves: 134, ncost: 247852.85417731345\n",
      "Run: 5, iteration: 10/50, moves: 124, ncost: 247852.60732001506\n",
      "Run: 2, iteration: 10/50, moves: 2400, ncost: 246989.32380541193\n",
      "Run: 4, iteration: 10/50, moves: 853, ncost: 247694.5508703528\n",
      "Run: 3, iteration: 11/50, moves: 498, ncost: 251117.9556192929\n",
      "Run: 1, iteration: 11/50, moves: 93, ncost: 247852.47044551617\n",
      "Run: 3, iteration: 12/50, moves: 658, ncost: 251092.26318510546\n",
      "Run: 2, iteration: 11/50, moves: 1593, ncost: 246904.80032291202\n",
      "Run: 5, iteration: 11/50, moves: 67, ncost: 247852.4492079702\n",
      "Run: 4, iteration: 11/50, moves: 565, ncost: 247681.6900362946\n",
      "Run: 3, iteration: 13/50, moves: 1066, ncost: 251030.2910728234\n",
      "Run: 1, iteration: 12/50, moves: 34, ncost: 247852.41091951504\n",
      "Run: 2, iteration: 12/50, moves: 1115, ncost: 246862.76687844138\n",
      "Run: 5, iteration: 12/50, moves: 36, ncost: 247852.38727536247\n",
      "Run: 4, iteration: 12/50, moves: 416, ncost: 247674.5218091531\n",
      "Run: 3, iteration: 14/50, moves: 1423, ncost: 250903.20443007833\n",
      "Run: 1, iteration: 13/50, moves: 21, ncost: 247852.3790179096\n",
      "Run: 2, iteration: 13/50, moves: 878, ncost: 246837.69868253975\n",
      "Run: 5, iteration: 13/50, moves: 28, ncost: 247852.36109202442\n",
      "Run: 4, iteration: 13/50, moves: 286, ncost: 247670.83489405178\n",
      "Run: 1, iteration: 14/50, moves: 16, ncost: 247852.36247861545\n",
      "Run: 3, iteration: 15/50, moves: 2211, ncost: 250582.80405879914\n",
      "Run: 5, iteration: 14/50, moves: 7, ncost: 247852.35835224658\n",
      "Run: 2, iteration: 14/50, moves: 634, ncost: 246823.77430774595\n",
      "Run: 4, iteration: 14/50, moves: 215, ncost: 247669.12836054715\n",
      "Run: 3, iteration: 16/50, moves: 3130, ncost: 250044.5508760654\n",
      "Run: 1, iteration: 15/50, moves: 5, ncost: 247852.3592593469\n",
      "Run: 5, iteration: 15/50, moves: 3, ncost: 247852.35498580124\n",
      "Run: 2, iteration: 15/50, moves: 512, ncost: 246815.1000061274\n",
      "Run: 4, iteration: 15/50, moves: 139, ncost: 247668.26163863746\n",
      "Run: 3, iteration: 17/50, moves: 3481, ncost: 249490.55370783233\n",
      "Run: 5, iteration: 16/50, moves: 3, ncost: 247852.35264754234\n",
      "Run: 1, iteration: 16/50, moves: 4, ncost: 247852.35801928016\n",
      "Run: 2, iteration: 16/50, moves: 354, ncost: 246810.37474768067\n",
      "Run: 4, iteration: 16/50, moves: 153, ncost: 247667.17762529186\n",
      "Run: 5, iteration: 17/50, moves: 1, ncost: 247852.3519125227\n",
      "Run: 3, iteration: 18/50, moves: 3937, ncost: 248610.67399052493\n",
      "Run: 1, iteration: 17/50, moves: 1, ncost: 247852.35788196957\n",
      "Run: 2, iteration: 17/50, moves: 283, ncost: 246807.30768135053\n",
      "Run: 4, iteration: 17/50, moves: 154, ncost: 247665.9934803561\n",
      "Run: 5, iteration: 18/50, moves: 0, ncost: 247852.3519125227\n",
      "Run: 3, iteration: 19/50, moves: 3863, ncost: 247996.07924324236\n",
      "Run: 1, iteration: 18/50, moves: 0, ncost: 247852.35788196957\n",
      "Run: 2, iteration: 18/50, moves: 264, ncost: 246804.61046979993\n",
      "Run: 4, iteration: 18/50, moves: 170, ncost: 247664.2953298417\n",
      "Run: 3, iteration: 20/50, moves: 3496, ncost: 247484.75743591215\n",
      "Run: 2, iteration: 19/50, moves: 236, ncost: 246802.26048626233\n",
      "Run: 4, iteration: 19/50, moves: 197, ncost: 247661.76706153492\n",
      "Run: 3, iteration: 21/50, moves: 2784, ncost: 247178.8438507501\n",
      "Run: 2, iteration: 20/50, moves: 229, ncost: 246799.77977615158\n",
      "Run: 4, iteration: 20/50, moves: 330, ncost: 247652.06157121237\n",
      "Run: 3, iteration: 22/50, moves: 2231, ncost: 246997.46607455172\n",
      "Run: 2, iteration: 21/50, moves: 228, ncost: 246797.74766948321\n",
      "Run: 4, iteration: 21/50, moves: 539, ncost: 247620.62280252317\n",
      "Run: 3, iteration: 23/50, moves: 1545, ncost: 246914.69228903853\n",
      "Run: 4, iteration: 22/50, moves: 974, ncost: 247296.85670153215\n",
      "Run: 2, iteration: 22/50, moves: 166, ncost: 246796.75410252568\n",
      "Run: 3, iteration: 24/50, moves: 1177, ncost: 246866.6598985875\n",
      "Run: 4, iteration: 23/50, moves: 2467, ncost: 247141.21527305825\n",
      "Run: 2, iteration: 23/50, moves: 145, ncost: 246795.8235008257\n",
      "Run: 3, iteration: 25/50, moves: 892, ncost: 246838.93446854744\n",
      "Run: 4, iteration: 24/50, moves: 1449, ncost: 247047.73485840345\n",
      "Run: 2, iteration: 24/50, moves: 129, ncost: 246795.22049099315\n",
      "Run: 3, iteration: 26/50, moves: 726, ncost: 246821.74554670512\n",
      "Run: 4, iteration: 25/50, moves: 1169, ncost: 246988.64162184697\n",
      "Run: 2, iteration: 25/50, moves: 95, ncost: 246794.8536161531\n",
      "Run: 3, iteration: 27/50, moves: 520, ncost: 246812.14338763742\n",
      "Run: 4, iteration: 26/50, moves: 1051, ncost: 246941.5390717591\n",
      "Run: 2, iteration: 26/50, moves: 94, ncost: 246794.4500172561\n",
      "Run: 3, iteration: 28/50, moves: 373, ncost: 246807.10809396964\n",
      "Run: 4, iteration: 27/50, moves: 997, ncost: 246893.64019165514\n",
      "Run: 2, iteration: 27/50, moves: 75, ncost: 246794.18687162802\n",
      "Run: 3, iteration: 29/50, moves: 323, ncost: 246803.3227471123\n",
      "Run: 4, iteration: 28/50, moves: 955, ncost: 246855.87127141666\n",
      "Run: 2, iteration: 28/50, moves: 64, ncost: 246794.03938159713\n",
      "Run: 3, iteration: 30/50, moves: 294, ncost: 246800.13283364376\n",
      "Run: 4, iteration: 29/50, moves: 897, ncost: 246824.7660474315\n",
      "Run: 2, iteration: 29/50, moves: 56, ncost: 246793.89697473694\n",
      "Run: 3, iteration: 31/50, moves: 258, ncost: 246797.81940834736\n",
      "Run: 4, iteration: 30/50, moves: 647, ncost: 246806.89049065215\n",
      "Run: 2, iteration: 30/50, moves: 37, ncost: 246793.8231565507\n",
      "Run: 3, iteration: 32/50, moves: 195, ncost: 246796.56387844862\n",
      "Run: 4, iteration: 31/50, moves: 515, ncost: 246795.9880772608\n",
      "Run: 2, iteration: 31/50, moves: 29, ncost: 246793.75740045056\n",
      "Run: 3, iteration: 33/50, moves: 155, ncost: 246795.63626361304\n",
      "Run: 4, iteration: 32/50, moves: 453, ncost: 246788.13618735687\n",
      "Run: 2, iteration: 32/50, moves: 23, ncost: 246793.71605912468\n",
      "Run: 4, iteration: 33/50, moves: 305, ncost: 246784.19099961425\n",
      "Run: 3, iteration: 34/50, moves: 127, ncost: 246795.07795063415\n",
      "Run: 2, iteration: 33/50, moves: 38, ncost: 246793.5846270909\n",
      "Run: 4, iteration: 34/50, moves: 248, ncost: 246781.69484928\n",
      "Run: 3, iteration: 35/50, moves: 89, ncost: 246794.7380292689\n",
      "Run: 2, iteration: 34/50, moves: 33, ncost: 246793.51784112805\n",
      "Run: 4, iteration: 35/50, moves: 200, ncost: 246780.00143883858\n",
      "Run: 3, iteration: 36/50, moves: 89, ncost: 246794.36010715822\n",
      "Run: 2, iteration: 35/50, moves: 30, ncost: 246793.47967900013\n",
      "Run: 4, iteration: 36/50, moves: 163, ncost: 246778.67579644374\n",
      "Run: 3, iteration: 37/50, moves: 77, ncost: 246794.11561969988\n",
      "Run: 2, iteration: 36/50, moves: 25, ncost: 246793.4425163665\n",
      "Run: 4, iteration: 37/50, moves: 127, ncost: 246777.94711629348\n",
      "Run: 3, iteration: 38/50, moves: 56, ncost: 246793.99546316266\n",
      "Run: 2, iteration: 37/50, moves: 20, ncost: 246793.425394443\n",
      "Run: 4, iteration: 38/50, moves: 128, ncost: 246776.92244750957\n",
      "Run: 3, iteration: 39/50, moves: 58, ncost: 246793.8526516518\n",
      "Run: 2, iteration: 38/50, moves: 14, ncost: 246793.4098503023\n",
      "Run: 4, iteration: 39/50, moves: 123, ncost: 246776.27035635494\n",
      "Run: 3, iteration: 40/50, moves: 42, ncost: 246793.76890519276\n",
      "Run: 2, iteration: 39/50, moves: 8, ncost: 246793.40563174777\n",
      "Run: 4, iteration: 40/50, moves: 86, ncost: 246775.93448002246\n",
      "Run: 3, iteration: 41/50, moves: 25, ncost: 246793.726325336\n",
      "Run: 2, iteration: 40/50, moves: 10, ncost: 246793.39716425113\n",
      "Run: 4, iteration: 41/50, moves: 73, ncost: 246775.71451552183\n",
      "Run: 3, iteration: 42/50, moves: 39, ncost: 246793.59392881367\n",
      "Run: 2, iteration: 41/50, moves: 14, ncost: 246793.38037533642\n",
      "Run: 4, iteration: 42/50, moves: 43, ncost: 246775.62661678423\n",
      "Run: 3, iteration: 43/50, moves: 38, ncost: 246793.51756791107\n",
      "Run: 2, iteration: 42/50, moves: 22, ncost: 246793.3506631042\n",
      "Run: 4, iteration: 43/50, moves: 30, ncost: 246775.58590445475\n",
      "Run: 3, iteration: 44/50, moves: 29, ncost: 246793.479678999\n",
      "Run: 2, iteration: 43/50, moves: 18, ncost: 246793.33558320694\n",
      "Run: 4, iteration: 44/50, moves: 22, ncost: 246775.56351118404\n",
      "Run: 3, iteration: 45/50, moves: 25, ncost: 246793.44251636698\n",
      "Run: 2, iteration: 44/50, moves: 10, ncost: 246793.32811061825\n",
      "Run: 4, iteration: 45/50, moves: 19, ncost: 246775.53900455942\n",
      "Run: 3, iteration: 46/50, moves: 20, ncost: 246793.42539444423\n",
      "Run: 2, iteration: 45/50, moves: 7, ncost: 246793.32328246025\n",
      "Run: 4, iteration: 46/50, moves: 15, ncost: 246775.52246087167\n",
      "Run: 2, iteration: 46/50, moves: 3, ncost: 246793.3220837098\n",
      "Run: 3, iteration: 47/50, moves: 14, ncost: 246793.40985030396\n",
      "Run: 4, iteration: 47/50, moves: 11, ncost: 246775.5175995385\n",
      "Run: 2, iteration: 47/50, moves: 3, ncost: 246793.3210974735\n",
      "Run: 3, iteration: 48/50, moves: 8, ncost: 246793.40563174657\n",
      "Run: 4, iteration: 48/50, moves: 5, ncost: 246775.51523509962\n",
      "Run: 2, iteration: 48/50, moves: 1, ncost: 246793.3209211458\n",
      "Run: 3, iteration: 49/50, moves: 10, ncost: 246793.39716425442\n",
      "Run: 4, iteration: 49/50, moves: 3, ncost: 246775.51434696157\n",
      "Run: 2, iteration: 49/50, moves: 0, ncost: 246793.3209211458\n",
      "Run: 3, iteration: 50/50, moves: 14, ncost: 246793.380375336\n",
      "Run: 4, iteration: 50/50, moves: 0, ncost: 246775.51434696157\n",
      "Best run was number 4\n"
     ]
    }
   ],
   "source": [
    "df_t4 = scaler.fit_transform(df_2017_n9)\n",
    "model = KPrototypes(n_clusters=k, init=\"Cao\", verbose=2, n_jobs=-1, n_init=5, max_iter=50, random_state=42)\n",
    "\n",
    "clusters_n9 = model.fit_predict(df_t4, categorical=[10,11])\n",
    "clusters_list_n9 = []\n",
    "for c in clusters_n9:\n",
    "    clusters_list_n9.append(c)"
   ]
  },
  {
   "cell_type": "code",
   "execution_count": 73,
   "metadata": {},
   "outputs": [],
   "source": [
    "df_2017_n9['clusters']=clusters_list_n9"
   ]
  },
  {
   "attachments": {},
   "cell_type": "markdown",
   "metadata": {},
   "source": [
    "## Clustering 2018"
   ]
  },
  {
   "cell_type": "code",
   "execution_count": 74,
   "metadata": {},
   "outputs": [],
   "source": [
    "df_2018 = df[(df.purchase_date >= '2017') & (df.purchase_date < '2019')].drop(['purchase_date','months','Season','months','Year','nb_prod_different','nb_review','nb_total_items_commande','nb_total_commande','panier_moyen'],axis=1)"
   ]
  },
  {
   "cell_type": "code",
   "execution_count": 75,
   "metadata": {},
   "outputs": [
    {
     "name": "stdout",
     "output_type": "stream",
     "text": [
      "Initialization method and algorithm are deterministic. Setting n_init to 1.\n",
      "Init: initializing centroids\n",
      "Init: initializing centroids\n",
      "Init: initializing centroids\n",
      "Init: initializing clusters\n",
      "Init: initializing clusters\n",
      "Init: initializing clusters\n",
      "Init: initializing centroids\n",
      "Init: initializing centroids\n",
      "Init: initializing clusters\n",
      "Init: initializing clusters\n",
      "Starting iterations...\n",
      "Starting iterations...\n",
      "Starting iterations...\n",
      "Starting iterations...\n",
      "Starting iterations...\n",
      "Run: 1, iteration: 1/50, moves: 32243, ncost: 251893.09287848554\n",
      "Run: 2, iteration: 1/50, moves: 27850, ncost: 257949.1164949695\n",
      "Run: 5, iteration: 1/50, moves: 25027, ncost: 249725.09119482987\n",
      "Run: 3, iteration: 1/50, moves: 32041, ncost: 255373.48722170107\n",
      "Run: 4, iteration: 1/50, moves: 24305, ncost: 268842.52293806773\n",
      "Run: 1, iteration: 2/50, moves: 11287, ncost: 248632.42640064235\n",
      "Run: 2, iteration: 2/50, moves: 11372, ncost: 254303.37210656176\n",
      "Run: 5, iteration: 2/50, moves: 7028, ncost: 248387.15724220753\n",
      "Run: 3, iteration: 2/50, moves: 10252, ncost: 252469.7240973587\n",
      "Run: 4, iteration: 2/50, moves: 13433, ncost: 261968.89406142363\n",
      "Run: 1, iteration: 3/50, moves: 4559, ncost: 248146.05232462473\n",
      "Run: 2, iteration: 3/50, moves: 6089, ncost: 253097.48722317448\n",
      "Run: 5, iteration: 3/50, moves: 3221, ncost: 248066.39825998028\n",
      "Run: 3, iteration: 3/50, moves: 4675, ncost: 251737.74277569776\n",
      "Run: 4, iteration: 3/50, moves: 11991, ncost: 254255.31471626967\n",
      "Run: 1, iteration: 4/50, moves: 2142, ncost: 247980.9983647607\n",
      "Run: 2, iteration: 4/50, moves: 4477, ncost: 252202.94576070958\n",
      "Run: 5, iteration: 4/50, moves: 1864, ncost: 247936.7329284411\n",
      "Run: 3, iteration: 4/50, moves: 2952, ncost: 251415.59563786146\n",
      "Run: 1, iteration: 5/50, moves: 1442, ncost: 247903.13445567898\n",
      "Run: 4, iteration: 4/50, moves: 9373, ncost: 250612.99975893777\n",
      "Run: 5, iteration: 5/50, moves: 1231, ncost: 247882.5420724586\n",
      "Run: 2, iteration: 5/50, moves: 4137, ncost: 251145.05476337633\n",
      "Run: 3, iteration: 5/50, moves: 2009, ncost: 251271.90046766237\n",
      "Run: 4, iteration: 5/50, moves: 6550, ncost: 248671.13269899625\n",
      "Run: 1, iteration: 6/50, moves: 848, ncost: 247873.06698737296\n",
      "Run: 5, iteration: 6/50, moves: 733, ncost: 247863.0591520174\n",
      "Run: 2, iteration: 6/50, moves: 5004, ncost: 249655.82160368247\n",
      "Run: 3, iteration: 6/50, moves: 1354, ncost: 251207.15099780555\n",
      "Run: 1, iteration: 7/50, moves: 543, ncost: 247860.0888442836\n",
      "Run: 4, iteration: 6/50, moves: 4396, ncost: 248061.51224289206\n",
      "Run: 5, iteration: 7/50, moves: 428, ncost: 247856.323955053\n",
      "Run: 2, iteration: 7/50, moves: 5100, ncost: 248405.8190705633\n",
      "Run: 3, iteration: 7/50, moves: 942, ncost: 251175.24197731\n",
      "Run: 1, iteration: 8/50, moves: 349, ncost: 247855.30180363497\n",
      "Run: 5, iteration: 8/50, moves: 249, ncost: 247854.25275443515\n",
      "Run: 2, iteration: 8/50, moves: 4341, ncost: 247639.86266405205\n",
      "Run: 4, iteration: 7/50, moves: 2611, ncost: 247853.3016039092\n",
      "Run: 3, iteration: 8/50, moves: 646, ncost: 251157.19141311216\n",
      "Run: 1, iteration: 9/50, moves: 198, ncost: 247853.6402208537\n",
      "Run: 5, iteration: 9/50, moves: 177, ncost: 247853.10426951005\n",
      "Run: 2, iteration: 9/50, moves: 3305, ncost: 247205.4123578084\n",
      "Run: 4, iteration: 8/50, moves: 1681, ncost: 247764.46595144933\n",
      "Run: 3, iteration: 9/50, moves: 551, ncost: 251143.59202938154\n",
      "Run: 1, iteration: 10/50, moves: 134, ncost: 247852.85417731345\n",
      "Run: 5, iteration: 10/50, moves: 124, ncost: 247852.60732001506\n",
      "Run: 2, iteration: 10/50, moves: 2400, ncost: 246989.32380541193\n",
      "Run: 4, iteration: 9/50, moves: 1195, ncost: 247719.0800738666\n",
      "Run: 3, iteration: 10/50, moves: 490, ncost: 251131.98027356016\n",
      "Run: 1, iteration: 11/50, moves: 93, ncost: 247852.47044551617\n",
      "Run: 5, iteration: 11/50, moves: 67, ncost: 247852.4492079702\n",
      "Run: 2, iteration: 11/50, moves: 1593, ncost: 246904.80032291202\n",
      "Run: 4, iteration: 10/50, moves: 853, ncost: 247694.5508703528\n",
      "Run: 3, iteration: 11/50, moves: 498, ncost: 251117.9556192929\n",
      "Run: 1, iteration: 12/50, moves: 34, ncost: 247852.41091951504\n",
      "Run: 5, iteration: 12/50, moves: 36, ncost: 247852.38727536247\n",
      "Run: 2, iteration: 12/50, moves: 1115, ncost: 246862.76687844138\n",
      "Run: 4, iteration: 11/50, moves: 565, ncost: 247681.6900362946\n",
      "Run: 3, iteration: 12/50, moves: 658, ncost: 251092.26318510546\n",
      "Run: 1, iteration: 13/50, moves: 21, ncost: 247852.3790179096\n",
      "Run: 5, iteration: 13/50, moves: 28, ncost: 247852.36109202442\n",
      "Run: 2, iteration: 13/50, moves: 878, ncost: 246837.69868253975\n",
      "Run: 4, iteration: 12/50, moves: 416, ncost: 247674.5218091531\n",
      "Run: 3, iteration: 13/50, moves: 1066, ncost: 251030.2910728234\n",
      "Run: 1, iteration: 14/50, moves: 16, ncost: 247852.36247861545\n",
      "Run: 5, iteration: 14/50, moves: 7, ncost: 247852.35835224658\n",
      "Run: 2, iteration: 14/50, moves: 634, ncost: 246823.77430774595\n",
      "Run: 4, iteration: 13/50, moves: 286, ncost: 247670.83489405178\n",
      "Run: 3, iteration: 14/50, moves: 1423, ncost: 250903.20443007833\n",
      "Run: 1, iteration: 15/50, moves: 5, ncost: 247852.3592593469\n",
      "Run: 5, iteration: 15/50, moves: 3, ncost: 247852.35498580124\n",
      "Run: 4, iteration: 14/50, moves: 215, ncost: 247669.12836054715\n",
      "Run: 2, iteration: 15/50, moves: 512, ncost: 246815.1000061274\n",
      "Run: 3, iteration: 15/50, moves: 2211, ncost: 250582.80405879914\n",
      "Run: 5, iteration: 16/50, moves: 3, ncost: 247852.35264754234\n",
      "Run: 1, iteration: 16/50, moves: 4, ncost: 247852.35801928016\n",
      "Run: 4, iteration: 15/50, moves: 139, ncost: 247668.26163863746\n",
      "Run: 2, iteration: 16/50, moves: 354, ncost: 246810.37474768067\n",
      "Run: 3, iteration: 16/50, moves: 3130, ncost: 250044.5508760654\n",
      "Run: 5, iteration: 17/50, moves: 1, ncost: 247852.3519125227\n",
      "Run: 4, iteration: 16/50, moves: 153, ncost: 247667.17762529186\n",
      "Run: 1, iteration: 17/50, moves: 1, ncost: 247852.35788196957\n",
      "Run: 2, iteration: 17/50, moves: 283, ncost: 246807.30768135053\n",
      "Run: 3, iteration: 17/50, moves: 3481, ncost: 249490.55370783233\n",
      "Run: 5, iteration: 18/50, moves: 0, ncost: 247852.3519125227\n",
      "Run: 4, iteration: 17/50, moves: 154, ncost: 247665.9934803561\n",
      "Run: 1, iteration: 18/50, moves: 0, ncost: 247852.35788196957\n",
      "Run: 2, iteration: 18/50, moves: 264, ncost: 246804.61046979993\n",
      "Run: 3, iteration: 18/50, moves: 3937, ncost: 248610.67399052493\n",
      "Run: 4, iteration: 18/50, moves: 170, ncost: 247664.2953298417\n",
      "Run: 2, iteration: 19/50, moves: 236, ncost: 246802.26048626233\n",
      "Run: 3, iteration: 19/50, moves: 3863, ncost: 247996.07924324236\n",
      "Run: 4, iteration: 19/50, moves: 197, ncost: 247661.76706153492\n",
      "Run: 2, iteration: 20/50, moves: 229, ncost: 246799.77977615158\n",
      "Run: 3, iteration: 20/50, moves: 3496, ncost: 247484.75743591215\n",
      "Run: 4, iteration: 20/50, moves: 330, ncost: 247652.06157121237\n",
      "Run: 2, iteration: 21/50, moves: 228, ncost: 246797.74766948321\n",
      "Run: 3, iteration: 21/50, moves: 2784, ncost: 247178.8438507501\n",
      "Run: 4, iteration: 21/50, moves: 539, ncost: 247620.62280252317\n",
      "Run: 2, iteration: 22/50, moves: 166, ncost: 246796.75410252568\n",
      "Run: 3, iteration: 22/50, moves: 2231, ncost: 246997.46607455172\n",
      "Run: 4, iteration: 22/50, moves: 974, ncost: 247296.85670153215\n",
      "Run: 2, iteration: 23/50, moves: 145, ncost: 246795.8235008257\n",
      "Run: 3, iteration: 23/50, moves: 1545, ncost: 246914.69228903853\n",
      "Run: 4, iteration: 23/50, moves: 2467, ncost: 247141.21527305825\n",
      "Run: 2, iteration: 24/50, moves: 129, ncost: 246795.22049099315\n",
      "Run: 3, iteration: 24/50, moves: 1177, ncost: 246866.6598985875\n",
      "Run: 4, iteration: 24/50, moves: 1449, ncost: 247047.73485840345\n",
      "Run: 2, iteration: 25/50, moves: 95, ncost: 246794.8536161531\n",
      "Run: 3, iteration: 25/50, moves: 892, ncost: 246838.93446854744\n",
      "Run: 4, iteration: 25/50, moves: 1169, ncost: 246988.64162184697\n",
      "Run: 2, iteration: 26/50, moves: 94, ncost: 246794.4500172561\n",
      "Run: 3, iteration: 26/50, moves: 726, ncost: 246821.74554670512\n",
      "Run: 4, iteration: 26/50, moves: 1051, ncost: 246941.5390717591\n",
      "Run: 2, iteration: 27/50, moves: 75, ncost: 246794.18687162802\n",
      "Run: 3, iteration: 27/50, moves: 520, ncost: 246812.14338763742\n",
      "Run: 4, iteration: 27/50, moves: 997, ncost: 246893.64019165514\n",
      "Run: 2, iteration: 28/50, moves: 64, ncost: 246794.03938159713\n",
      "Run: 3, iteration: 28/50, moves: 373, ncost: 246807.10809396964\n",
      "Run: 4, iteration: 28/50, moves: 955, ncost: 246855.87127141666\n",
      "Run: 2, iteration: 29/50, moves: 56, ncost: 246793.89697473694\n",
      "Run: 3, iteration: 29/50, moves: 323, ncost: 246803.3227471123\n",
      "Run: 4, iteration: 29/50, moves: 897, ncost: 246824.7660474315\n",
      "Run: 2, iteration: 30/50, moves: 37, ncost: 246793.8231565507\n",
      "Run: 3, iteration: 30/50, moves: 294, ncost: 246800.13283364376\n",
      "Run: 4, iteration: 30/50, moves: 647, ncost: 246806.89049065215\n",
      "Run: 2, iteration: 31/50, moves: 29, ncost: 246793.75740045056\n",
      "Run: 3, iteration: 31/50, moves: 258, ncost: 246797.81940834736\n",
      "Run: 4, iteration: 31/50, moves: 515, ncost: 246795.9880772608\n",
      "Run: 2, iteration: 32/50, moves: 23, ncost: 246793.71605912468\n",
      "Run: 3, iteration: 32/50, moves: 195, ncost: 246796.56387844862\n",
      "Run: 4, iteration: 32/50, moves: 453, ncost: 246788.13618735687\n",
      "Run: 2, iteration: 33/50, moves: 38, ncost: 246793.5846270909\n",
      "Run: 3, iteration: 33/50, moves: 155, ncost: 246795.63626361304\n",
      "Run: 4, iteration: 33/50, moves: 305, ncost: 246784.19099961425\n",
      "Run: 2, iteration: 34/50, moves: 33, ncost: 246793.51784112805\n",
      "Run: 3, iteration: 34/50, moves: 127, ncost: 246795.07795063415\n",
      "Run: 4, iteration: 34/50, moves: 248, ncost: 246781.69484928\n",
      "Run: 2, iteration: 35/50, moves: 30, ncost: 246793.47967900013\n",
      "Run: 3, iteration: 35/50, moves: 89, ncost: 246794.7380292689\n",
      "Run: 4, iteration: 35/50, moves: 200, ncost: 246780.00143883858\n",
      "Run: 2, iteration: 36/50, moves: 25, ncost: 246793.4425163665\n",
      "Run: 3, iteration: 36/50, moves: 89, ncost: 246794.36010715822\n",
      "Run: 4, iteration: 36/50, moves: 163, ncost: 246778.67579644374\n",
      "Run: 2, iteration: 37/50, moves: 20, ncost: 246793.425394443\n",
      "Run: 3, iteration: 37/50, moves: 77, ncost: 246794.11561969988\n",
      "Run: 4, iteration: 37/50, moves: 127, ncost: 246777.94711629348\n",
      "Run: 2, iteration: 38/50, moves: 14, ncost: 246793.4098503023\n",
      "Run: 3, iteration: 38/50, moves: 56, ncost: 246793.99546316266\n",
      "Run: 4, iteration: 38/50, moves: 128, ncost: 246776.92244750957\n",
      "Run: 2, iteration: 39/50, moves: 8, ncost: 246793.40563174777\n",
      "Run: 3, iteration: 39/50, moves: 58, ncost: 246793.8526516518\n",
      "Run: 4, iteration: 39/50, moves: 123, ncost: 246776.27035635494\n",
      "Run: 2, iteration: 40/50, moves: 10, ncost: 246793.39716425113\n",
      "Run: 3, iteration: 40/50, moves: 42, ncost: 246793.76890519276\n",
      "Run: 4, iteration: 40/50, moves: 86, ncost: 246775.93448002246\n",
      "Run: 2, iteration: 41/50, moves: 14, ncost: 246793.38037533642\n",
      "Run: 3, iteration: 41/50, moves: 25, ncost: 246793.726325336\n",
      "Run: 4, iteration: 41/50, moves: 73, ncost: 246775.71451552183\n",
      "Run: 2, iteration: 42/50, moves: 22, ncost: 246793.3506631042\n",
      "Run: 3, iteration: 42/50, moves: 39, ncost: 246793.59392881367\n",
      "Run: 4, iteration: 42/50, moves: 43, ncost: 246775.62661678423\n",
      "Run: 2, iteration: 43/50, moves: 18, ncost: 246793.33558320694\n",
      "Run: 3, iteration: 43/50, moves: 38, ncost: 246793.51756791107\n",
      "Run: 4, iteration: 43/50, moves: 30, ncost: 246775.58590445475\n",
      "Run: 2, iteration: 44/50, moves: 10, ncost: 246793.32811061825\n",
      "Run: 3, iteration: 44/50, moves: 29, ncost: 246793.479678999\n",
      "Run: 4, iteration: 44/50, moves: 22, ncost: 246775.56351118404\n",
      "Run: 2, iteration: 45/50, moves: 7, ncost: 246793.32328246025\n",
      "Run: 3, iteration: 45/50, moves: 25, ncost: 246793.44251636698\n",
      "Run: 4, iteration: 45/50, moves: 19, ncost: 246775.53900455942\n",
      "Run: 2, iteration: 46/50, moves: 3, ncost: 246793.3220837098\n",
      "Run: 3, iteration: 46/50, moves: 20, ncost: 246793.42539444423\n",
      "Run: 2, iteration: 47/50, moves: 3, ncost: 246793.3210974735\n",
      "Run: 4, iteration: 46/50, moves: 15, ncost: 246775.52246087167\n",
      "Run: 3, iteration: 47/50, moves: 14, ncost: 246793.40985030396\n",
      "Run: 2, iteration: 48/50, moves: 1, ncost: 246793.3209211458\n",
      "Run: 4, iteration: 47/50, moves: 11, ncost: 246775.5175995385\n",
      "Run: 3, iteration: 48/50, moves: 8, ncost: 246793.40563174657\n",
      "Run: 2, iteration: 49/50, moves: 0, ncost: 246793.3209211458\n",
      "Run: 4, iteration: 48/50, moves: 5, ncost: 246775.51523509962\n",
      "Run: 3, iteration: 49/50, moves: 10, ncost: 246793.39716425442\n",
      "Run: 4, iteration: 49/50, moves: 3, ncost: 246775.51434696157\n",
      "Run: 3, iteration: 50/50, moves: 14, ncost: 246793.380375336\n",
      "Run: 4, iteration: 50/50, moves: 0, ncost: 246775.51434696157\n",
      "Best run was number 4\n"
     ]
    }
   ],
   "source": [
    "df_t5 = scaler.fit_transform(df_2018)\n",
    "model = KPrototypes(n_clusters=k, init=\"Cao\", verbose=2, n_jobs=-1, n_init=5, max_iter=50, random_state=42)\n",
    "\n",
    "clusters_2018 = model.fit_predict(df_t5, categorical=[10,11])\n",
    "clusters_list_2018 = []\n",
    "for c in clusters_2018:\n",
    "    clusters_list_2018.append(c)"
   ]
  },
  {
   "cell_type": "code",
   "execution_count": 76,
   "metadata": {},
   "outputs": [],
   "source": [
    "df_2018['clusters']=clusters_list_2018"
   ]
  },
  {
   "attachments": {},
   "cell_type": "markdown",
   "metadata": {},
   "source": [
    "## ARI SCORE"
   ]
  },
  {
   "cell_type": "code",
   "execution_count": 77,
   "metadata": {},
   "outputs": [],
   "source": [
    "from sklearn.metrics.cluster import rand_score"
   ]
  },
  {
   "cell_type": "code",
   "execution_count": 78,
   "metadata": {},
   "outputs": [],
   "source": [
    "t0 = df_2017.clusters.tolist()\n",
    "t1 =df_2017_n3.clusters.loc[df_2017_index].tolist()\n",
    "t2=df_2017_n6.clusters.loc[df_2017_index].tolist()\n",
    "t3 = df_2017_n9.clusters.loc[df_2017_index].tolist()\n",
    "t4=df_2018.clusters.loc[df_2017_index].tolist()"
   ]
  },
  {
   "cell_type": "code",
   "execution_count": 92,
   "metadata": {},
   "outputs": [],
   "source": [
    "df_ari = pd.DataFrame(\n",
    "    {   't0':t0,\n",
    "        't1':t1,\n",
    "        't2':t2,\n",
    "        't3':t3,\n",
    "        't4':t4\n",
    "    }\n",
    ")\n",
    "ari_list = []"
   ]
  },
  {
   "cell_type": "code",
   "execution_count": 96,
   "metadata": {},
   "outputs": [],
   "source": [
    "for elt in df_ari.columns:\n",
    "    if elt == 't0':\n",
    "        \n",
    "    else:\n",
    "        ari = rand_score(df_ari.t0,df_ari[elt])\n",
    "        ari_list.append(ari)"
   ]
  },
  {
   "cell_type": "code",
   "execution_count": null,
   "metadata": {},
   "outputs": [],
   "source": [
    "ari_keys = ['3','6','9','12']\n",
    "ari_dict = dict(zip(ari_keys, ari_list))"
   ]
  },
  {
   "cell_type": "code",
   "execution_count": 106,
   "metadata": {},
   "outputs": [
    {
     "data": {
      "text/plain": [
       "{'3': 0.9311854422238185,\n",
       " '6': 0.8999398463479361,\n",
       " '9': 0.9338001434407404,\n",
       " '12': 0.9338001434407404}"
      ]
     },
     "execution_count": 106,
     "metadata": {},
     "output_type": "execute_result"
    }
   ],
   "source": [
    "ari_dict"
   ]
  },
  {
   "cell_type": "code",
   "execution_count": 105,
   "metadata": {},
   "outputs": [
    {
     "data": {
      "text/plain": [
       "<AxesSubplot:>"
      ]
     },
     "execution_count": 105,
     "metadata": {},
     "output_type": "execute_result"
    },
    {
     "data": {
      "image/png": "[encoded data removed]",
      "text/plain": [
       "<Figure size 640x480 with 1 Axes>"
      ]
     },
     "metadata": {},
     "output_type": "display_data"
    }
   ],
   "source": [
    "sns.lineplot(ari_dict)"
   ]
  },
  {
   "cell_type": "code",
   "execution_count": null,
   "metadata": {},
   "outputs": [],
   "source": []
  },
  {
   "attachments": {},
   "cell_type": "markdown",
   "metadata": {},
   "source": [
    "## PCA"
   ]
  },
  {
   "cell_type": "code",
   "execution_count": 83,
   "metadata": {},
   "outputs": [],
   "source": [
    "df_full = df.drop(['purchase_date','months','Season','months','Year','nb_prod_different','nb_review','nb_total_items_commande','nb_total_commande','panier_moyen'],axis=1)"
   ]
  },
  {
   "cell_type": "code",
   "execution_count": 107,
   "metadata": {},
   "outputs": [
    {
     "name": "stdout",
     "output_type": "stream",
     "text": [
      "Initialization method and algorithm are deterministic. Setting n_init to 1.\n",
      "Init: initializing centroids\n",
      "Init: initializing centroids\n",
      "Init: initializing centroids\n",
      "Init: initializing centroids\n",
      "Init: initializing centroids\n",
      "Init: initializing clusters\n",
      "Init: initializing clusters\n",
      "Init: initializing clusters\n",
      "Init: initializing clusters\n",
      "Init: initializing clusters\n",
      "Starting iterations...\n",
      "Starting iterations...\n",
      "Starting iterations...\n",
      "Starting iterations...\n",
      "Starting iterations...\n",
      "Run: 5, iteration: 1/50, moves: 25131, ncost: 250499.13888264584\n",
      "Run: 2, iteration: 1/50, moves: 27931, ncost: 258770.44361265464\n",
      "Run: 3, iteration: 1/50, moves: 32159, ncost: 256155.14103249795\n",
      "Run: 4, iteration: 1/50, moves: 24379, ncost: 269679.6453311599\n",
      "Run: 1, iteration: 1/50, moves: 32341, ncost: 252672.03957248968\n",
      "Run: 5, iteration: 2/50, moves: 7064, ncost: 249152.9096895061\n",
      "Run: 2, iteration: 2/50, moves: 11405, ncost: 255121.3924158439\n",
      "Run: 3, iteration: 2/50, moves: 10261, ncost: 253241.46838633835\n",
      "Run: 4, iteration: 2/50, moves: 13442, ncost: 262819.6268427228\n",
      "Run: 1, iteration: 2/50, moves: 11330, ncost: 249398.63074623208\n",
      "Run: 5, iteration: 3/50, moves: 3230, ncost: 248828.64869307104\n",
      "Run: 2, iteration: 3/50, moves: 6113, ncost: 253912.8624148943\n",
      "Run: 3, iteration: 3/50, moves: 4674, ncost: 252508.12717073143\n",
      "Run: 1, iteration: 3/50, moves: 4595, ncost: 248907.22406258475\n",
      "Run: 4, iteration: 3/50, moves: 12043, ncost: 255078.97379706457\n",
      "Run: 5, iteration: 4/50, moves: 1888, ncost: 248697.08549003012\n",
      "Run: 2, iteration: 4/50, moves: 4520, ncost: 253007.59986798023\n",
      "Run: 3, iteration: 4/50, moves: 3004, ncost: 252181.6294540805\n",
      "Run: 4, iteration: 4/50, moves: 9408, ncost: 251402.3490059878\n",
      "Run: 1, iteration: 4/50, moves: 2181, ncost: 248739.87060602894\n",
      "Run: 5, iteration: 5/50, moves: 1203, ncost: 248643.18669313693\n",
      "Run: 2, iteration: 5/50, moves: 4180, ncost: 251941.43013798102\n",
      "Run: 3, iteration: 5/50, moves: 2058, ncost: 252034.04987224995\n",
      "Run: 4, iteration: 5/50, moves: 6603, ncost: 249440.71757108206\n",
      "Run: 1, iteration: 5/50, moves: 1421, ncost: 248662.902786267\n",
      "Run: 5, iteration: 6/50, moves: 733, ncost: 248623.38347382165\n",
      "Run: 2, iteration: 6/50, moves: 5020, ncost: 250440.33883893723\n",
      "Run: 4, iteration: 6/50, moves: 4442, ncost: 248821.69266970045\n",
      "Run: 1, iteration: 6/50, moves: 851, ncost: 248632.64290387172\n",
      "Run: 5, iteration: 7/50, moves: 438, ncost: 248616.4521162213\n",
      "Run: 3, iteration: 6/50, moves: 1342, ncost: 251969.59601277998\n",
      "Run: 2, iteration: 7/50, moves: 5126, ncost: 249177.37359984353\n",
      "Run: 4, iteration: 7/50, moves: 2650, ncost: 248610.2975013759\n",
      "Run: 3, iteration: 7/50, moves: 935, ncost: 251935.74146335034\n",
      "Run: 1, iteration: 7/50, moves: 560, ncost: 248619.592897099\n",
      "Run: 2, iteration: 8/50, moves: 4371, ncost: 248403.2934062711\n",
      "Run: 5, iteration: 8/50, moves: 271, ncost: 248614.0356781056\n",
      "Run: 4, iteration: 8/50, moves: 1707, ncost: 248519.86940476982\n",
      "Run: 5, iteration: 9/50, moves: 184, ncost: 248612.77335081005\n",
      "Run: 2, iteration: 9/50, moves: 3321, ncost: 247963.82855725737\n",
      "Run: 3, iteration: 8/50, moves: 692, ncost: 251913.7075589094\n",
      "Run: 1, iteration: 8/50, moves: 369, ncost: 248614.7826064747\n",
      "Run: 4, iteration: 9/50, moves: 1210, ncost: 248474.6594811952\n",
      "Run: 3, iteration: 9/50, moves: 689, ncost: 251892.0702988898\n",
      "Run: 5, iteration: 10/50, moves: 130, ncost: 248612.22255550014\n",
      "Run: 2, iteration: 10/50, moves: 2431, ncost: 247744.02188802822\n",
      "Run: 1, iteration: 9/50, moves: 225, ncost: 248612.8962953218\n",
      "Run: 3, iteration: 10/50, moves: 708, ncost: 251863.85369767918\n",
      "Run: 5, iteration: 11/50, moves: 67, ncost: 248612.0511824905\n",
      "Run: 4, iteration: 10/50, moves: 840, ncost: 248450.3524598543\n",
      "Run: 2, iteration: 11/50, moves: 1617, ncost: 247658.01474235483\n",
      "Run: 1, iteration: 10/50, moves: 118, ncost: 248612.27514295047\n",
      "Run: 3, iteration: 11/50, moves: 1027, ncost: 251805.18518611896\n",
      "Run: 5, iteration: 12/50, moves: 35, ncost: 248612.01069046542\n",
      "Run: 1, iteration: 11/50, moves: 62, ncost: 248612.10896949202\n",
      "Run: 2, iteration: 12/50, moves: 1105, ncost: 247616.31382284913\n",
      "Run: 4, iteration: 11/50, moves: 572, ncost: 248437.51433774683\n",
      "Run: 3, iteration: 12/50, moves: 1431, ncost: 251683.37570844212\n",
      "Run: 5, iteration: 13/50, moves: 3, ncost: 248612.00931949166\n",
      "Run: 1, iteration: 12/50, moves: 48, ncost: 248612.01387992478\n",
      "Run: 2, iteration: 13/50, moves: 889, ncost: 247590.63499632245\n",
      "Run: 4, iteration: 12/50, moves: 404, ncost: 248430.6497177823\n",
      "Run: 3, iteration: 13/50, moves: 2137, ncost: 251383.86001753784\n",
      "Run: 5, iteration: 14/50, moves: 7, ncost: 248612.00508755507\n",
      "Run: 1, iteration: 13/50, moves: 16, ncost: 248612.00558831525\n",
      "Run: 3, iteration: 14/50, moves: 3056, ncost: 250856.36398678517\n",
      "Run: 2, iteration: 14/50, moves: 647, ncost: 247576.35855084736\n",
      "Run: 5, iteration: 15/50, moves: 4, ncost: 248612.0035107031\n",
      "Run: 4, iteration: 13/50, moves: 280, ncost: 248427.25089646858\n",
      "Run: 1, iteration: 14/50, moves: 1, ncost: 248612.0051157157\n",
      "Run: 3, iteration: 15/50, moves: 3502, ncost: 250292.03337945187\n",
      "Run: 2, iteration: 15/50, moves: 520, ncost: 247567.43697318144\n",
      "Run: 5, iteration: 16/50, moves: 1, ncost: 248612.00331158345\n",
      "Run: 1, iteration: 15/50, moves: 1, ncost: 248612.00505585177\n",
      "Run: 4, iteration: 14/50, moves: 199, ncost: 248425.7068196569\n",
      "Run: 3, iteration: 16/50, moves: 3885, ncost: 249414.45234036277\n",
      "Run: 5, iteration: 17/50, moves: 0, ncost: 248612.00331158345\n",
      "Run: 2, iteration: 16/50, moves: 352, ncost: 247562.7009320188\n",
      "Run: 4, iteration: 15/50, moves: 143, ncost: 248424.94308345174\n",
      "Run: 1, iteration: 16/50, moves: 0, ncost: 248612.00505585177\n",
      "Run: 3, iteration: 17/50, moves: 3950, ncost: 248793.8949227862\n",
      "Run: 2, iteration: 17/50, moves: 270, ncost: 247559.82118756638\n",
      "Run: 4, iteration: 16/50, moves: 71, ncost: 248424.712385136\n",
      "Run: 3, iteration: 18/50, moves: 3505, ncost: 248269.41644770047\n",
      "Run: 2, iteration: 18/50, moves: 275, ncost: 247556.9993130364\n",
      "Run: 4, iteration: 17/50, moves: 77, ncost: 248424.40815363757\n",
      "Run: 3, iteration: 19/50, moves: 2821, ncost: 247950.9057891854\n",
      "Run: 2, iteration: 19/50, moves: 255, ncost: 247554.4578994942\n",
      "Run: 4, iteration: 18/50, moves: 76, ncost: 248424.03807381672\n",
      "Run: 3, iteration: 20/50, moves: 2274, ncost: 247761.09961410586\n",
      "Run: 2, iteration: 20/50, moves: 262, ncost: 247551.69644486002\n",
      "Run: 4, iteration: 19/50, moves: 95, ncost: 248423.5322577632\n",
      "Run: 3, iteration: 21/50, moves: 1611, ncost: 247671.92746959356\n",
      "Run: 2, iteration: 21/50, moves: 211, ncost: 247549.87259859673\n",
      "Run: 4, iteration: 20/50, moves: 87, ncost: 248423.08059551977\n",
      "Run: 3, iteration: 22/50, moves: 1163, ncost: 247623.1632638257\n",
      "Run: 2, iteration: 22/50, moves: 169, ncost: 247548.79281015357\n",
      "Run: 3, iteration: 23/50, moves: 932, ncost: 247593.1510962714\n",
      "Run: 2, iteration: 23/50, moves: 144, ncost: 247547.83115737102\n",
      "Run: 4, iteration: 21/50, moves: 124, ncost: 248421.98135677713\n",
      "Run: 3, iteration: 24/50, moves: 761, ncost: 247574.7912257865\n",
      "Run: 2, iteration: 24/50, moves: 136, ncost: 247547.2025862436\n",
      "Run: 4, iteration: 22/50, moves: 135, ncost: 248420.66682782062\n",
      "Run: 3, iteration: 25/50, moves: 534, ncost: 247564.7890983258\n",
      "Run: 2, iteration: 25/50, moves: 90, ncost: 247546.89085899075\n",
      "Run: 4, iteration: 23/50, moves: 196, ncost: 248417.89896088486\n",
      "Run: 2, iteration: 26/50, moves: 93, ncost: 247546.54006804133\n",
      "Run: 3, iteration: 26/50, moves: 376, ncost: 247559.7666535956\n",
      "Run: 4, iteration: 24/50, moves: 311, ncost: 248408.0933066532\n",
      "Run: 2, iteration: 27/50, moves: 73, ncost: 247546.28904522903\n",
      "Run: 3, iteration: 27/50, moves: 318, ncost: 247555.90439641787\n",
      "Run: 4, iteration: 25/50, moves: 516, ncost: 248377.8380586064\n",
      "Run: 3, iteration: 28/50, moves: 319, ncost: 247552.217165006\n",
      "Run: 2, iteration: 28/50, moves: 62, ncost: 247546.1068742618\n",
      "Run: 4, iteration: 26/50, moves: 950, ncost: 248056.3110727463\n",
      "Run: 2, iteration: 29/50, moves: 59, ncost: 247545.96733915262\n",
      "Run: 3, iteration: 29/50, moves: 259, ncost: 247549.85071684016\n",
      "Run: 4, iteration: 27/50, moves: 2496, ncost: 247901.72895629314\n",
      "Run: 2, iteration: 30/50, moves: 42, ncost: 247545.88273734905\n",
      "Run: 3, iteration: 30/50, moves: 192, ncost: 247548.5924767859\n",
      "Run: 4, iteration: 28/50, moves: 1459, ncost: 247807.3976425079\n",
      "Run: 2, iteration: 31/50, moves: 27, ncost: 247545.8355967273\n",
      "Run: 3, iteration: 31/50, moves: 145, ncost: 247547.7437438961\n",
      "Run: 2, iteration: 32/50, moves: 22, ncost: 247545.80162695094\n",
      "Run: 4, iteration: 29/50, moves: 1173, ncost: 247747.65538192829\n",
      "Run: 3, iteration: 32/50, moves: 112, ncost: 247547.2175583044\n",
      "Run: 2, iteration: 33/50, moves: 37, ncost: 247545.68582666162\n",
      "Run: 3, iteration: 33/50, moves: 88, ncost: 247546.9172067257\n",
      "Run: 4, iteration: 30/50, moves: 1104, ncost: 247695.90722460338\n",
      "Run: 2, iteration: 34/50, moves: 38, ncost: 247545.6113901975\n",
      "Run: 3, iteration: 34/50, moves: 90, ncost: 247546.57802201938\n",
      "Run: 4, iteration: 31/50, moves: 1037, ncost: 247646.4899377217\n",
      "Run: 2, iteration: 35/50, moves: 21, ncost: 247545.59211345649\n",
      "Run: 3, iteration: 35/50, moves: 81, ncost: 247546.29301436222\n",
      "Run: 4, iteration: 32/50, moves: 980, ncost: 247607.58328620007\n",
      "Run: 2, iteration: 36/50, moves: 12, ncost: 247545.57911531828\n",
      "Run: 3, iteration: 36/50, moves: 64, ncost: 247546.1068742624\n",
      "Run: 4, iteration: 33/50, moves: 875, ncost: 247577.9221409009\n",
      "Run: 2, iteration: 37/50, moves: 18, ncost: 247545.55981908675\n",
      "Run: 3, iteration: 37/50, moves: 59, ncost: 247545.96733915262\n",
      "Run: 4, iteration: 34/50, moves: 646, ncost: 247560.39068615378\n",
      "Run: 2, iteration: 38/50, moves: 10, ncost: 247545.55259763656\n",
      "Run: 3, iteration: 38/50, moves: 42, ncost: 247545.88273734497\n",
      "Run: 4, iteration: 35/50, moves: 500, ncost: 247549.94989590335\n",
      "Run: 2, iteration: 39/50, moves: 5, ncost: 247545.5502504827\n",
      "Run: 3, iteration: 39/50, moves: 27, ncost: 247545.83559672665\n",
      "Run: 4, iteration: 36/50, moves: 441, ncost: 247542.57110133857\n",
      "Run: 2, iteration: 40/50, moves: 6, ncost: 247545.54592467885\n",
      "Run: 3, iteration: 40/50, moves: 22, ncost: 247545.80162694966\n",
      "Run: 4, iteration: 37/50, moves: 304, ncost: 247538.66017410124\n",
      "Run: 3, iteration: 41/50, moves: 37, ncost: 247545.68582666054\n",
      "Run: 2, iteration: 41/50, moves: 9, ncost: 247545.54055553413\n",
      "Run: 4, iteration: 38/50, moves: 259, ncost: 247535.92198942613\n",
      "Run: 2, iteration: 42/50, moves: 17, ncost: 247545.52617511095\n",
      "Run: 3, iteration: 42/50, moves: 38, ncost: 247545.61139019675\n",
      "Run: 4, iteration: 39/50, moves: 221, ncost: 247533.7905225796\n",
      "Run: 2, iteration: 43/50, moves: 9, ncost: 247545.51707601012\n",
      "Run: 3, iteration: 43/50, moves: 21, ncost: 247545.59211345576\n",
      "Run: 2, iteration: 44/50, moves: 21, ncost: 247545.4801263263\n",
      "Run: 4, iteration: 40/50, moves: 158, ncost: 247532.67242913504\n",
      "Run: 3, iteration: 44/50, moves: 12, ncost: 247545.57911531584\n",
      "Run: 2, iteration: 45/50, moves: 23, ncost: 247545.457848531\n",
      "Run: 3, iteration: 45/50, moves: 18, ncost: 247545.5598190872\n",
      "Run: 4, iteration: 41/50, moves: 150, ncost: 247531.3776524546\n",
      "Run: 2, iteration: 46/50, moves: 5, ncost: 247545.45607047027\n",
      "Run: 3, iteration: 46/50, moves: 10, ncost: 247545.55259763618\n",
      "Run: 4, iteration: 42/50, moves: 152, ncost: 247530.4884820923\n",
      "Run: 2, iteration: 47/50, moves: 5, ncost: 247545.45471131318\n",
      "Run: 3, iteration: 47/50, moves: 5, ncost: 247545.5502504833\n",
      "Run: 4, iteration: 43/50, moves: 78, ncost: 247530.14668221987\n",
      "Run: 3, iteration: 48/50, moves: 6, ncost: 247545.54592467967\n",
      "Run: 2, iteration: 48/50, moves: 0, ncost: 247545.45471131318\n",
      "Run: 4, iteration: 44/50, moves: 83, ncost: 247529.8685789492\n",
      "Run: 3, iteration: 49/50, moves: 9, ncost: 247545.54055553293\n",
      "Run: 4, iteration: 45/50, moves: 54, ncost: 247529.73818075005\n",
      "Run: 3, iteration: 50/50, moves: 17, ncost: 247545.52617511267\n",
      "Run: 4, iteration: 46/50, moves: 31, ncost: 247529.68764520963\n",
      "Run: 4, iteration: 47/50, moves: 38, ncost: 247529.61518433798\n",
      "Run: 4, iteration: 48/50, moves: 28, ncost: 247529.57823618423\n",
      "Run: 4, iteration: 49/50, moves: 19, ncost: 247529.56117728545\n",
      "Run: 4, iteration: 50/50, moves: 6, ncost: 247529.558474353\n",
      "Best run was number 4\n"
     ]
    }
   ],
   "source": [
    "df_ft = scaler.fit_transform(df_full)\n",
    "k = 5\n",
    "model = KPrototypes(n_clusters=k, init=\"Cao\", verbose=2, n_jobs=-1, n_init=5, max_iter=50, random_state=42)\n",
    "\n",
    "clusters_2018 = model.fit_predict(df_ft, categorical=[10,11])\n",
    "clusters_list_2018 = []\n",
    "for c in clusters_2018:\n",
    "    clusters_list_2018.append(c)"
   ]
  },
  {
   "cell_type": "code",
   "execution_count": 109,
   "metadata": {},
   "outputs": [],
   "source": [
    "# preprocessing = make_pipeline(transformer2,MinMaxScaler())\n",
    "pca = make_pipeline(transformer2,PCA(n_components=0.95))\n",
    "components = pca.fit_transform(df_full)\n",
    "df_pca = pd.DataFrame(components)\n",
    "df_pca['cluster'] = clusters_list_2018\n"
   ]
  },
  {
   "cell_type": "code",
   "execution_count": 110,
   "metadata": {},
   "outputs": [
    {
     "data": {
      "text/plain": [
       "<AxesSubplot:xlabel='0', ylabel='1'>"
      ]
     },
     "execution_count": 110,
     "metadata": {},
     "output_type": "execute_result"
    },
    {
     "data": {
      "image/png": "[encoded data removed]",
      "text/plain": [
       "<Figure size 640x480 with 1 Axes>"
      ]
     },
     "metadata": {},
     "output_type": "display_data"
    }
   ],
   "source": [
    "sns.scatterplot(data=df_pca,x=df_pca.iloc[:,0],y=df_pca.iloc[:,1],hue='cluster',palette='viridis')"
   ]
  },
  {
   "cell_type": "code",
   "execution_count": null,
   "metadata": {},
   "outputs": [],
   "source": [
    "# graph = components[:, 0:2]\n",
    "\n",
    "\n",
    "# loadings = graph\n",
    "\n",
    "# fig = px.scatter(graph, x=0, y=1, color=df_pca['cluster'])\n",
    "\n",
    "# for i, feature in enumerate(new_columns):\n",
    "#     fig.add_annotation(\n",
    "#         ax=0, ay=0,\n",
    "#         axref=\"x\", ayref=\"y\",\n",
    "#         x=loadings[i, 0],\n",
    "#         y=loadings[i, 1],\n",
    "#         showarrow=True,\n",
    "#         arrowsize=2,\n",
    "#         arrowhead=2,\n",
    "#         xanchor=\"right\",\n",
    "#         yanchor=\"top\"\n",
    "#     )\n",
    "#     fig.add_annotation(\n",
    "#         x=loadings[i, 0],\n",
    "#         y=loadings[i, 1],\n",
    "#         ax=0, ay=0,\n",
    "#         xanchor=\"center\",\n",
    "#         yanchor=\"bottom\",\n",
    "#         text=feature,\n",
    "#         yshift=5,\n",
    "#     )\n",
    "# fig.show()\n"
   ]
  },
  {
   "attachments": {},
   "cell_type": "markdown",
   "metadata": {},
   "source": [
    "## Analyse"
   ]
  },
  {
   "cell_type": "code",
   "execution_count": 111,
   "metadata": {},
   "outputs": [
    {
     "data": {
      "image/png": "[encoded data removed]",
      "text/plain": [
       "<Figure size 2000x1800 with 12 Axes>"
      ]
     },
     "metadata": {},
     "output_type": "display_data"
    }
   ],
   "source": [
    "fig, ax =plt.subplots(4,3,figsize=(20,18))\n",
    "plt.suptitle(\"Distribution des variables dans notre jeu de donnée\",fontsize =20)\n",
    "n=0\n",
    "p=0\n",
    "for name in df_full.columns.tolist():\n",
    "    sns.histplot(ax=ax[n,p],x=name,data=df)\n",
    "    if p ==0 or p%2!=0:\n",
    "        p+=1\n",
    "    elif p == 2 :\n",
    "        p=0\n",
    "        n+=1"
   ]
  },
  {
   "cell_type": "code",
   "execution_count": 112,
   "metadata": {},
   "outputs": [],
   "source": [
    "mms = MinMaxScaler(feature_range =(1,5))"
   ]
  },
  {
   "cell_type": "code",
   "execution_count": 123,
   "metadata": {},
   "outputs": [],
   "source": [
    "clusters_means = df_full.select_dtypes(np.number)\n",
    "cmn= clusters_means.columns.tolist()"
   ]
  },
  {
   "cell_type": "code",
   "execution_count": 124,
   "metadata": {},
   "outputs": [],
   "source": [
    "df_clusters = pd.DataFrame(mms.fit_transform(clusters_means),columns =cmn)\n",
    "df_clusters['clusters']=clusters_list_2018\n",
    "df_clusters= df_clusters.groupby('clusters').agg('median').reset_index()"
   ]
  },
  {
   "cell_type": "code",
   "execution_count": 125,
   "metadata": {},
   "outputs": [
    {
     "data": {
      "text/html": [
       "<div>\n",
       "<style scoped>\n",
       "    .dataframe tbody tr th:only-of-type {\n",
       "        vertical-align: middle;\n",
       "    }\n",
       "\n",
       "    .dataframe tbody tr th {\n",
       "        vertical-align: top;\n",
       "    }\n",
       "\n",
       "    .dataframe thead th {\n",
       "        text-align: right;\n",
       "    }\n",
       "</style>\n",
       "<table border=\"1\" class=\"dataframe\">\n",
       "  <thead>\n",
       "    <tr style=\"text-align: right;\">\n",
       "      <th></th>\n",
       "      <th>clusters</th>\n",
       "      <th>total_pay</th>\n",
       "      <th>rating_review</th>\n",
       "      <th>delivery_time</th>\n",
       "      <th>payment_installment</th>\n",
       "      <th>freight_value</th>\n",
       "      <th>product_description_lenght</th>\n",
       "      <th>total_size</th>\n",
       "      <th>freq</th>\n",
       "      <th>recense</th>\n",
       "      <th>montant</th>\n",
       "    </tr>\n",
       "  </thead>\n",
       "  <tbody>\n",
       "    <tr>\n",
       "      <th>0</th>\n",
       "      <td>0</td>\n",
       "      <td>1.027607</td>\n",
       "      <td>5.0</td>\n",
       "      <td>1.192308</td>\n",
       "      <td>1.333333</td>\n",
       "      <td>1.164128</td>\n",
       "      <td>1.364092</td>\n",
       "      <td>1.261208</td>\n",
       "      <td>1.000000</td>\n",
       "      <td>1.0</td>\n",
       "      <td>1.8</td>\n",
       "    </tr>\n",
       "    <tr>\n",
       "      <th>1</th>\n",
       "      <td>1</td>\n",
       "      <td>1.019870</td>\n",
       "      <td>5.0</td>\n",
       "      <td>1.153846</td>\n",
       "      <td>1.166667</td>\n",
       "      <td>1.147432</td>\n",
       "      <td>1.981946</td>\n",
       "      <td>1.071923</td>\n",
       "      <td>1.166667</td>\n",
       "      <td>2.2</td>\n",
       "      <td>1.8</td>\n",
       "    </tr>\n",
       "    <tr>\n",
       "      <th>2</th>\n",
       "      <td>2</td>\n",
       "      <td>1.075843</td>\n",
       "      <td>5.0</td>\n",
       "      <td>1.230769</td>\n",
       "      <td>1.666667</td>\n",
       "      <td>1.293693</td>\n",
       "      <td>1.847543</td>\n",
       "      <td>1.556141</td>\n",
       "      <td>1.166667</td>\n",
       "      <td>2.2</td>\n",
       "      <td>3.0</td>\n",
       "    </tr>\n",
       "    <tr>\n",
       "      <th>3</th>\n",
       "      <td>3</td>\n",
       "      <td>1.012333</td>\n",
       "      <td>5.0</td>\n",
       "      <td>1.173077</td>\n",
       "      <td>1.166667</td>\n",
       "      <td>1.140305</td>\n",
       "      <td>1.398195</td>\n",
       "      <td>1.021511</td>\n",
       "      <td>1.166667</td>\n",
       "      <td>2.2</td>\n",
       "      <td>1.4</td>\n",
       "    </tr>\n",
       "    <tr>\n",
       "      <th>4</th>\n",
       "      <td>4</td>\n",
       "      <td>1.059263</td>\n",
       "      <td>5.0</td>\n",
       "      <td>1.230769</td>\n",
       "      <td>1.583333</td>\n",
       "      <td>1.177993</td>\n",
       "      <td>1.711133</td>\n",
       "      <td>1.053939</td>\n",
       "      <td>1.166667</td>\n",
       "      <td>2.2</td>\n",
       "      <td>2.6</td>\n",
       "    </tr>\n",
       "  </tbody>\n",
       "</table>\n",
       "</div>"
      ],
      "text/plain": [
       "   clusters  total_pay  rating_review  delivery_time  payment_installment  \\\n",
       "0         0   1.027607            5.0       1.192308             1.333333   \n",
       "1         1   1.019870            5.0       1.153846             1.166667   \n",
       "2         2   1.075843            5.0       1.230769             1.666667   \n",
       "3         3   1.012333            5.0       1.173077             1.166667   \n",
       "4         4   1.059263            5.0       1.230769             1.583333   \n",
       "\n",
       "   freight_value  product_description_lenght  total_size      freq  recense  \\\n",
       "0       1.164128                    1.364092    1.261208  1.000000      1.0   \n",
       "1       1.147432                    1.981946    1.071923  1.166667      2.2   \n",
       "2       1.293693                    1.847543    1.556141  1.166667      2.2   \n",
       "3       1.140305                    1.398195    1.021511  1.166667      2.2   \n",
       "4       1.177993                    1.711133    1.053939  1.166667      2.2   \n",
       "\n",
       "   montant  \n",
       "0      1.8  \n",
       "1      1.8  \n",
       "2      3.0  \n",
       "3      1.4  \n",
       "4      2.6  "
      ]
     },
     "execution_count": 125,
     "metadata": {},
     "output_type": "execute_result"
    }
   ],
   "source": [
    "df_clusters"
   ]
  },
  {
   "cell_type": "code",
   "execution_count": 116,
   "metadata": {},
   "outputs": [],
   "source": [
    "import plotly.graph_objects as go"
   ]
  },
  {
   "cell_type": "code",
   "execution_count": 117,
   "metadata": {},
   "outputs": [
    {
     "data": {
      "application/vnd.plotly.v1+json": {
       "config": {
        "plotlyServerURL": "https://plot.ly"
       },
       "data": [
        {
         "fill": "toself",
         "name": "Cluster 0",
         "r": [
          0,
          1.0276070362203202,
          5,
          1.1923076923076923,
          1.3333333333333333,
          1.1641280999804726,
          1.3640922768304915,
          1.2612079448723146,
          1,
          1,
          1.8
         ],
         "theta": [
          "total_pay",
          "rating_review",
          "delivery_time",
          "payment_installment",
          "freight_value",
          "product_description_lenght",
          "total_size",
          "freq",
          "recense",
          "montant"
         ],
         "type": "scatterpolar"
        },
        {
         "fill": "toself",
         "name": "Cluster 1",
         "r": [
          1,
          1.0198703869569643,
          5,
          1.1538461538461537,
          1.1666666666666667,
          1.1474321421597344,
          1.9819458375125376,
          1.071922713146872,
          1.1666666666666667,
          2.2,
          1.8
         ],
         "theta": [
          "total_pay",
          "rating_review",
          "delivery_time",
          "payment_installment",
          "freight_value",
          "product_description_lenght",
          "total_size",
          "freq",
          "recense",
          "montant"
         ],
         "type": "scatterpolar"
        },
        {
         "fill": "toself",
         "name": "Cluster 2",
         "r": [
          2,
          1.075843184183371,
          5,
          1.2307692307692308,
          1.6666666666666665,
          1.29369263815661,
          1.8475426278836509,
          1.556141062018646,
          1.1666666666666667,
          2.2,
          3
         ],
         "theta": [
          "total_pay",
          "rating_review",
          "delivery_time",
          "payment_installment",
          "freight_value",
          "product_description_lenght",
          "total_size",
          "freq",
          "recense",
          "montant"
         ],
         "type": "scatterpolar"
        },
        {
         "fill": "toself",
         "name": "Cluster 3",
         "r": [
          3,
          1.0123329395678637,
          5,
          1.1730769230769231,
          1.1666666666666667,
          1.1403046280023432,
          1.3981945837512537,
          1.0215106066747737,
          1.1666666666666667,
          2.2,
          1.4
         ],
         "theta": [
          "total_pay",
          "rating_review",
          "delivery_time",
          "payment_installment",
          "freight_value",
          "product_description_lenght",
          "total_size",
          "freq",
          "recense",
          "montant"
         ],
         "type": "scatterpolar"
        },
        {
         "fill": "toself",
         "name": "Cluster 4",
         "r": [
          4,
          1.0592625575909462,
          5,
          1.2307692307692308,
          1.5833333333333333,
          1.1779925795743018,
          1.7111334002006018,
          1.0539386569382516,
          1.1666666666666667,
          2.2,
          2.6
         ],
         "theta": [
          "total_pay",
          "rating_review",
          "delivery_time",
          "payment_installment",
          "freight_value",
          "product_description_lenght",
          "total_size",
          "freq",
          "recense",
          "montant"
         ],
         "type": "scatterpolar"
        }
       ],
       "layout": {
        "height": 780,
        "polar": {
         "radialaxis": {
          "range": [
           0,
           5
          ],
          "visible": true
         }
        },
        "showlegend": true,
        "template": {
         "data": {
          "bar": [
           {
            "error_x": {
             "color": "#2a3f5f"
            },
            "error_y": {
             "color": "#2a3f5f"
            },
            "marker": {
             "line": {
              "color": "#E5ECF6",
              "width": 0.5
             },
             "pattern": {
              "fillmode": "overlay",
              "size": 10,
              "solidity": 0.2
             }
            },
            "type": "bar"
           }
          ],
          "barpolar": [
           {
            "marker": {
             "line": {
              "color": "#E5ECF6",
              "width": 0.5
             },
             "pattern": {
              "fillmode": "overlay",
              "size": 10,
              "solidity": 0.2
             }
            },
            "type": "barpolar"
           }
          ],
          "carpet": [
           {
            "aaxis": {
             "endlinecolor": "#2a3f5f",
             "gridcolor": "white",
             "linecolor": "white",
             "minorgridcolor": "white",
             "startlinecolor": "#2a3f5f"
            },
            "baxis": {
             "endlinecolor": "#2a3f5f",
             "gridcolor": "white",
             "linecolor": "white",
             "minorgridcolor": "white",
             "startlinecolor": "#2a3f5f"
            },
            "type": "carpet"
           }
          ],
          "choropleth": [
           {
            "colorbar": {
             "outlinewidth": 0,
             "ticks": ""
            },
            "type": "choropleth"
           }
          ],
          "contour": [
           {
            "colorbar": {
             "outlinewidth": 0,
             "ticks": ""
            },
            "colorscale": [
             [
              0,
              "#0d0887"
             ],
             [
              0.1111111111111111,
              "#46039f"
             ],
             [
              0.2222222222222222,
              "#7201a8"
             ],
             [
              0.3333333333333333,
              "#9c179e"
             ],
             [
              0.4444444444444444,
              "#bd3786"
             ],
             [
              0.5555555555555556,
              "#d8576b"
             ],
             [
              0.6666666666666666,
              "#ed7953"
             ],
             [
              0.7777777777777778,
              "#fb9f3a"
             ],
             [
              0.8888888888888888,
              "#fdca26"
             ],
             [
              1,
              "#f0f921"
             ]
            ],
            "type": "contour"
           }
          ],
          "contourcarpet": [
           {
            "colorbar": {
             "outlinewidth": 0,
             "ticks": ""
            },
            "type": "contourcarpet"
           }
          ],
          "heatmap": [
           {
            "colorbar": {
             "outlinewidth": 0,
             "ticks": ""
            },
            "colorscale": [
             [
              0,
              "#0d0887"
             ],
             [
              0.1111111111111111,
              "#46039f"
             ],
             [
              0.2222222222222222,
              "#7201a8"
             ],
             [
              0.3333333333333333,
              "#9c179e"
             ],
             [
              0.4444444444444444,
              "#bd3786"
             ],
             [
              0.5555555555555556,
              "#d8576b"
             ],
             [
              0.6666666666666666,
              "#ed7953"
             ],
             [
              0.7777777777777778,
              "#fb9f3a"
             ],
             [
              0.8888888888888888,
              "#fdca26"
             ],
             [
              1,
              "#f0f921"
             ]
            ],
            "type": "heatmap"
           }
          ],
          "heatmapgl": [
           {
            "colorbar": {
             "outlinewidth": 0,
             "ticks": ""
            },
            "colorscale": [
             [
              0,
              "#0d0887"
             ],
             [
              0.1111111111111111,
              "#46039f"
             ],
             [
              0.2222222222222222,
              "#7201a8"
             ],
             [
              0.3333333333333333,
              "#9c179e"
             ],
             [
              0.4444444444444444,
              "#bd3786"
             ],
             [
              0.5555555555555556,
              "#d8576b"
             ],
             [
              0.6666666666666666,
              "#ed7953"
             ],
             [
              0.7777777777777778,
              "#fb9f3a"
             ],
             [
              0.8888888888888888,
              "#fdca26"
             ],
             [
              1,
              "#f0f921"
             ]
            ],
            "type": "heatmapgl"
           }
          ],
          "histogram": [
           {
            "marker": {
             "pattern": {
              "fillmode": "overlay",
              "size": 10,
              "solidity": 0.2
             }
            },
            "type": "histogram"
           }
          ],
          "histogram2d": [
           {
            "colorbar": {
             "outlinewidth": 0,
             "ticks": ""
            },
            "colorscale": [
             [
              0,
              "#0d0887"
             ],
             [
              0.1111111111111111,
              "#46039f"
             ],
             [
              0.2222222222222222,
              "#7201a8"
             ],
             [
              0.3333333333333333,
              "#9c179e"
             ],
             [
              0.4444444444444444,
              "#bd3786"
             ],
             [
              0.5555555555555556,
              "#d8576b"
             ],
             [
              0.6666666666666666,
              "#ed7953"
             ],
             [
              0.7777777777777778,
              "#fb9f3a"
             ],
             [
              0.8888888888888888,
              "#fdca26"
             ],
             [
              1,
              "#f0f921"
             ]
            ],
            "type": "histogram2d"
           }
          ],
          "histogram2dcontour": [
           {
            "colorbar": {
             "outlinewidth": 0,
             "ticks": ""
            },
            "colorscale": [
             [
              0,
              "#0d0887"
             ],
             [
              0.1111111111111111,
              "#46039f"
             ],
             [
              0.2222222222222222,
              "#7201a8"
             ],
             [
              0.3333333333333333,
              "#9c179e"
             ],
             [
              0.4444444444444444,
              "#bd3786"
             ],
             [
              0.5555555555555556,
              "#d8576b"
             ],
             [
              0.6666666666666666,
              "#ed7953"
             ],
             [
              0.7777777777777778,
              "#fb9f3a"
             ],
             [
              0.8888888888888888,
              "#fdca26"
             ],
             [
              1,
              "#f0f921"
             ]
            ],
            "type": "histogram2dcontour"
           }
          ],
          "mesh3d": [
           {
            "colorbar": {
             "outlinewidth": 0,
             "ticks": ""
            },
            "type": "mesh3d"
           }
          ],
          "parcoords": [
           {
            "line": {
             "colorbar": {
              "outlinewidth": 0,
              "ticks": ""
             }
            },
            "type": "parcoords"
           }
          ],
          "pie": [
           {
            "automargin": true,
            "type": "pie"
           }
          ],
          "scatter": [
           {
            "fillpattern": {
             "fillmode": "overlay",
             "size": 10,
             "solidity": 0.2
            },
            "type": "scatter"
           }
          ],
          "scatter3d": [
           {
            "line": {
             "colorbar": {
              "outlinewidth": 0,
              "ticks": ""
             }
            },
            "marker": {
             "colorbar": {
              "outlinewidth": 0,
              "ticks": ""
             }
            },
            "type": "scatter3d"
           }
          ],
          "scattercarpet": [
           {
            "marker": {
             "colorbar": {
              "outlinewidth": 0,
              "ticks": ""
             }
            },
            "type": "scattercarpet"
           }
          ],
          "scattergeo": [
           {
            "marker": {
             "colorbar": {
              "outlinewidth": 0,
              "ticks": ""
             }
            },
            "type": "scattergeo"
           }
          ],
          "scattergl": [
           {
            "marker": {
             "colorbar": {
              "outlinewidth": 0,
              "ticks": ""
             }
            },
            "type": "scattergl"
           }
          ],
          "scattermapbox": [
           {
            "marker": {
             "colorbar": {
              "outlinewidth": 0,
              "ticks": ""
             }
            },
            "type": "scattermapbox"
           }
          ],
          "scatterpolar": [
           {
            "marker": {
             "colorbar": {
              "outlinewidth": 0,
              "ticks": ""
             }
            },
            "type": "scatterpolar"
           }
          ],
          "scatterpolargl": [
           {
            "marker": {
             "colorbar": {
              "outlinewidth": 0,
              "ticks": ""
             }
            },
            "type": "scatterpolargl"
           }
          ],
          "scatterternary": [
           {
            "marker": {
             "colorbar": {
              "outlinewidth": 0,
              "ticks": ""
             }
            },
            "type": "scatterternary"
           }
          ],
          "surface": [
           {
            "colorbar": {
             "outlinewidth": 0,
             "ticks": ""
            },
            "colorscale": [
             [
              0,
              "#0d0887"
             ],
             [
              0.1111111111111111,
              "#46039f"
             ],
             [
              0.2222222222222222,
              "#7201a8"
             ],
             [
              0.3333333333333333,
              "#9c179e"
             ],
             [
              0.4444444444444444,
              "#bd3786"
             ],
             [
              0.5555555555555556,
              "#d8576b"
             ],
             [
              0.6666666666666666,
              "#ed7953"
             ],
             [
              0.7777777777777778,
              "#fb9f3a"
             ],
             [
              0.8888888888888888,
              "#fdca26"
             ],
             [
              1,
              "#f0f921"
             ]
            ],
            "type": "surface"
           }
          ],
          "table": [
           {
            "cells": {
             "fill": {
              "color": "#EBF0F8"
             },
             "line": {
              "color": "white"
             }
            },
            "header": {
             "fill": {
              "color": "#C8D4E3"
             },
             "line": {
              "color": "white"
             }
            },
            "type": "table"
           }
          ]
         },
         "layout": {
          "annotationdefaults": {
           "arrowcolor": "#2a3f5f",
           "arrowhead": 0,
           "arrowwidth": 1
          },
          "autotypenumbers": "strict",
          "coloraxis": {
           "colorbar": {
            "outlinewidth": 0,
            "ticks": ""
           }
          },
          "colorscale": {
           "diverging": [
            [
             0,
             "#8e0152"
            ],
            [
             0.1,
             "#c51b7d"
            ],
            [
             0.2,
             "#de77ae"
            ],
            [
             0.3,
             "#f1b6da"
            ],
            [
             0.4,
             "#fde0ef"
            ],
            [
             0.5,
             "#f7f7f7"
            ],
            [
             0.6,
             "#e6f5d0"
            ],
            [
             0.7,
             "#b8e186"
            ],
            [
             0.8,
             "#7fbc41"
            ],
            [
             0.9,
             "#4d9221"
            ],
            [
             1,
             "#276419"
            ]
           ],
           "sequential": [
            [
             0,
             "#0d0887"
            ],
            [
             0.1111111111111111,
             "#46039f"
            ],
            [
             0.2222222222222222,
             "#7201a8"
            ],
            [
             0.3333333333333333,
             "#9c179e"
            ],
            [
             0.4444444444444444,
             "#bd3786"
            ],
            [
             0.5555555555555556,
             "#d8576b"
            ],
            [
             0.6666666666666666,
             "#ed7953"
            ],
            [
             0.7777777777777778,
             "#fb9f3a"
            ],
            [
             0.8888888888888888,
             "#fdca26"
            ],
            [
             1,
             "#f0f921"
            ]
           ],
           "sequentialminus": [
            [
             0,
             "#0d0887"
            ],
            [
             0.1111111111111111,
             "#46039f"
            ],
            [
             0.2222222222222222,
             "#7201a8"
            ],
            [
             0.3333333333333333,
             "#9c179e"
            ],
            [
             0.4444444444444444,
             "#bd3786"
            ],
            [
             0.5555555555555556,
             "#d8576b"
            ],
            [
             0.6666666666666666,
             "#ed7953"
            ],
            [
             0.7777777777777778,
             "#fb9f3a"
            ],
            [
             0.8888888888888888,
             "#fdca26"
            ],
            [
             1,
             "#f0f921"
            ]
           ]
          },
          "colorway": [
           "#636efa",
           "#EF553B",
           "#00cc96",
           "#ab63fa",
           "#FFA15A",
           "#19d3f3",
           "#FF6692",
           "#B6E880",
           "#FF97FF",
           "#FECB52"
          ],
          "font": {
           "color": "#2a3f5f"
          },
          "geo": {
           "bgcolor": "white",
           "lakecolor": "white",
           "landcolor": "#E5ECF6",
           "showlakes": true,
           "showland": true,
           "subunitcolor": "white"
          },
          "hoverlabel": {
           "align": "left"
          },
          "hovermode": "closest",
          "mapbox": {
           "style": "light"
          },
          "paper_bgcolor": "white",
          "plot_bgcolor": "#E5ECF6",
          "polar": {
           "angularaxis": {
            "gridcolor": "white",
            "linecolor": "white",
            "ticks": ""
           },
           "bgcolor": "#E5ECF6",
           "radialaxis": {
            "gridcolor": "white",
            "linecolor": "white",
            "ticks": ""
           }
          },
          "scene": {
           "xaxis": {
            "backgroundcolor": "#E5ECF6",
            "gridcolor": "white",
            "gridwidth": 2,
            "linecolor": "white",
            "showbackground": true,
            "ticks": "",
            "zerolinecolor": "white"
           },
           "yaxis": {
            "backgroundcolor": "#E5ECF6",
            "gridcolor": "white",
            "gridwidth": 2,
            "linecolor": "white",
            "showbackground": true,
            "ticks": "",
            "zerolinecolor": "white"
           },
           "zaxis": {
            "backgroundcolor": "#E5ECF6",
            "gridcolor": "white",
            "gridwidth": 2,
            "linecolor": "white",
            "showbackground": true,
            "ticks": "",
            "zerolinecolor": "white"
           }
          },
          "shapedefaults": {
           "line": {
            "color": "#2a3f5f"
           }
          },
          "ternary": {
           "aaxis": {
            "gridcolor": "white",
            "linecolor": "white",
            "ticks": ""
           },
           "baxis": {
            "gridcolor": "white",
            "linecolor": "white",
            "ticks": ""
           },
           "bgcolor": "#E5ECF6",
           "caxis": {
            "gridcolor": "white",
            "linecolor": "white",
            "ticks": ""
           }
          },
          "title": {
           "x": 0.05
          },
          "xaxis": {
           "automargin": true,
           "gridcolor": "white",
           "linecolor": "white",
           "ticks": "",
           "title": {
            "standoff": 15
           },
           "zerolinecolor": "white",
           "zerolinewidth": 2
          },
          "yaxis": {
           "automargin": true,
           "gridcolor": "white",
           "linecolor": "white",
           "ticks": "",
           "title": {
            "standoff": 15
           },
           "zerolinecolor": "white",
           "zerolinewidth": 2
          }
         }
        },
        "width": 780
       }
      }
     },
     "metadata": {},
     "output_type": "display_data"
    }
   ],
   "source": [
    "# Créer une figure en radar pour chaque cluster\n",
    "fig = go.Figure()\n",
    "\n",
    "for cluster, row in df_clusters.iterrows():\n",
    "    values = row.values.tolist()\n",
    "    \n",
    "\n",
    "    \n",
    "\n",
    "    fig.add_trace(go.Scatterpolar(\n",
    "        r=values,\n",
    "        theta=cmn,\n",
    "        fill='toself',\n",
    "        name=f'Cluster {cluster}'\n",
    "    ))\n",
    "\n",
    "# Mettre en forme la figurenum_cols,\n",
    "fig.update_layout(\n",
    "    polar=dict(\n",
    "        radialaxis=dict(\n",
    "            visible=True,\n",
    "            range=[0, 5]\n",
    "        ),\n",
    "    ),\n",
    "    showlegend=True,\n",
    "    width=780,\n",
    "    height=780\n",
    "\n",
    ")\n",
    "\n",
    "# Afficher la figure\n",
    "fig.show()\n",
    "figsize = (60,60)"
   ]
  }
 ],
 "metadata": {
  "kernelspec": {
   "display_name": "jng",
   "language": "python",
   "name": "python3"
  },
  "language_info": {
   "codemirror_mode": {
    "name": "ipython",
    "version": 3
   },
   "file_extension": ".py",
   "mimetype": "text/x-python",
   "name": "python",
   "nbconvert_exporter": "python",
   "pygments_lexer": "ipython3",
   "version": "3.10.8"
  },
  "orig_nbformat": 4,
  "vscode": {
   "interpreter": {
    "hash": "37227ed9c485f36684c918ad2ebf286762189d6ce6ae0d84fce244b97886ca3c"
   }
  }
 },
 "nbformat": 4,
 "nbformat_minor": 2
}
