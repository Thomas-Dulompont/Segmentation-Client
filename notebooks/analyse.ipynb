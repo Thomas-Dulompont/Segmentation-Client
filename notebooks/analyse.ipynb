{
 "cells": [
  {
   "cell_type": "code",
   "execution_count": 240,
   "metadata": {},
   "outputs": [],
   "source": [
    "import pandas as pd\n",
    "import missingno as msno\n",
    "from datetime import datetime"
   ]
  },
  {
   "cell_type": "code",
   "execution_count": 241,
   "metadata": {},
   "outputs": [],
   "source": [
    "customers = pd.read_csv(\"../data/olist_customers_dataset.csv\") # Client\n",
    "geolocalisation = pd.read_csv(\"../data/olist_geolocation_dataset.csv\") # Loc\n",
    "\n",
    "order_items = pd.read_csv(\"../data/olist_order_items_dataset.csv\") # Commandes items\n",
    "order_payments = pd.read_csv(\"../data/olist_order_payments_dataset.csv\") # Commandes paiement\n",
    "order_reviews = pd.read_csv(\"../data/olist_order_reviews_dataset.csv\") # Commandes reviews\n",
    "orders = pd.read_csv(\"../data/olist_orders_dataset.csv\") # Commandes\n",
    "\n",
    "sellers = pd.read_csv(\"../data/olist_sellers_dataset.csv\") # Vendeurs\n",
    "products = pd.read_csv(\"../data/olist_products_dataset.csv\") # Produits\n",
    "cat_trans = pd.read_csv('../data/product_category_name_translation.csv') # Translate\n"
   ]
  },
  {
   "cell_type": "code",
   "execution_count": 242,
   "metadata": {},
   "outputs": [],
   "source": [
    "# orders['order_approved_at'] = pd.to_datetime(orders['order_approved_at'])\n",
    "# orders.set_index('order_approved_at', inplace=True)"
   ]
  },
  {
   "cell_type": "code",
   "execution_count": 243,
   "metadata": {},
   "outputs": [],
   "source": [
    "order_cust = pd.merge(left=customers, right=orders, how=\"left\", left_on=\"customer_id\", right_on=\"customer_id\")\n",
    "forder_cust = pd.merge(left=order_cust, right=order_items, how=\"outer\", left_on=\"order_id\", right_on=\"order_id\")\n",
    "\n",
    "forder_cust['total'] = forder_cust[[\"price\", \"freight_value\"]].sum(axis=1)"
   ]
  },
  {
   "attachments": {},
   "cell_type": "markdown",
   "metadata": {},
   "source": [
    "## Recence "
   ]
  },
  {
   "cell_type": "code",
   "execution_count": 288,
   "metadata": {},
   "outputs": [
    {
     "data": {
      "text/html": [
       "<div>\n",
       "<style scoped>\n",
       "    .dataframe tbody tr th:only-of-type {\n",
       "        vertical-align: middle;\n",
       "    }\n",
       "\n",
       "    .dataframe tbody tr th {\n",
       "        vertical-align: top;\n",
       "    }\n",
       "\n",
       "    .dataframe thead th {\n",
       "        text-align: right;\n",
       "    }\n",
       "</style>\n",
       "<table border=\"1\" class=\"dataframe\">\n",
       "  <thead>\n",
       "    <tr style=\"text-align: right;\">\n",
       "      <th></th>\n",
       "      <th>customer_unique_id</th>\n",
       "      <th>last_date</th>\n",
       "      <th>periode</th>\n",
       "      <th>r_value</th>\n",
       "    </tr>\n",
       "  </thead>\n",
       "  <tbody>\n",
       "    <tr>\n",
       "      <th>0</th>\n",
       "      <td>0000366f3b9a7992bf8c76cfdf3221e2</td>\n",
       "      <td>2018-05-10 11:11:18</td>\n",
       "      <td>116</td>\n",
       "      <td>1</td>\n",
       "    </tr>\n",
       "    <tr>\n",
       "      <th>1</th>\n",
       "      <td>0000b849f77a49e4a4ce2b2a4ca5be3f</td>\n",
       "      <td>2018-05-07 18:25:44</td>\n",
       "      <td>118</td>\n",
       "      <td>1</td>\n",
       "    </tr>\n",
       "    <tr>\n",
       "      <th>2</th>\n",
       "      <td>0000f46a3911fa3c0805444483337064</td>\n",
       "      <td>2017-03-10 21:05:03</td>\n",
       "      <td>541</td>\n",
       "      <td>4</td>\n",
       "    </tr>\n",
       "    <tr>\n",
       "      <th>3</th>\n",
       "      <td>0000f6ccb0745a6a4b88665a16c9f078</td>\n",
       "      <td>2017-10-12 20:49:17</td>\n",
       "      <td>325</td>\n",
       "      <td>3</td>\n",
       "    </tr>\n",
       "    <tr>\n",
       "      <th>4</th>\n",
       "      <td>0004aac84e0df4da2b147fca70cf8255</td>\n",
       "      <td>2017-11-14 20:06:52</td>\n",
       "      <td>292</td>\n",
       "      <td>3</td>\n",
       "    </tr>\n",
       "  </tbody>\n",
       "</table>\n",
       "</div>"
      ],
      "text/plain": [
       "                 customer_unique_id           last_date  periode  r_value\n",
       "0  0000366f3b9a7992bf8c76cfdf3221e2 2018-05-10 11:11:18      116        1\n",
       "1  0000b849f77a49e4a4ce2b2a4ca5be3f 2018-05-07 18:25:44      118        1\n",
       "2  0000f46a3911fa3c0805444483337064 2017-03-10 21:05:03      541        4\n",
       "3  0000f6ccb0745a6a4b88665a16c9f078 2017-10-12 20:49:17      325        3\n",
       "4  0004aac84e0df4da2b147fca70cf8255 2017-11-14 20:06:52      292        3"
      ]
     },
     "execution_count": 288,
     "metadata": {},
     "output_type": "execute_result"
    }
   ],
   "source": [
    "dates = ['order_purchase_timestamp', 'order_approved_at','order_delivered_carrier_date', 'order_delivered_customer_date','order_estimated_delivery_date','shipping_limit_date']\n",
    "forder_cust[dates] =forder_cust[dates].apply(pd.to_datetime, format='%Y-%m-%d')\n",
    "date_1 = forder_cust.sort_values(by ='order_approved_at',ascending = False)\n",
    "\n",
    "\n",
    "recence = date_1.groupby('customer_unique_id').agg(last_date =('order_approved_at','max')).reset_index()\n",
    "\n",
    "\n",
    "recence['periode']=(date_1.order_approved_at.max()-recence.last_date).dt.days\n",
    "recence.dropna(inplace=True)\n",
    "recence.periode = recence.periode.astype(int)\n",
    "\n",
    "def recence_transform(row):\n",
    "    if row['periode'] <= 140:\n",
    "        return 1\n",
    "    if row['periode']> 140 and row['periode'] <= 280:\n",
    "        return 2\n",
    "    if row['periode']>280 and row['periode'] <= 420:\n",
    "        return 3\n",
    "    if row['periode']> 420 and row['periode'] <= 560:\n",
    "        return 4\n",
    "    if row['periode']> 560:\n",
    "        return 5 \n",
    "\n",
    "recence['r_value']=recence.apply(lambda row: recence_transform(row),axis=1)\n",
    "recence.head()"
   ]
  },
  {
   "cell_type": "code",
   "execution_count": null,
   "metadata": {},
   "outputs": [],
   "source": []
  }
 ],
 "metadata": {
  "kernelspec": {
   "display_name": "segmentation-client",
   "language": "python",
   "name": "python3"
  },
  "language_info": {
   "codemirror_mode": {
    "name": "ipython",
    "version": 3
   },
   "file_extension": ".py",
   "mimetype": "text/x-python",
   "name": "python",
   "nbconvert_exporter": "python",
   "pygments_lexer": "ipython3",
   "version": "3.9.16"
  },
  "orig_nbformat": 4,
  "vscode": {
   "interpreter": {
    "hash": "113ff8151af049f5b4e9fdffd0b20667fdcc00ce06e5e2d67cd9b81e1862e1df"
   }
  }
 },
 "nbformat": 4,
 "nbformat_minor": 2
}
