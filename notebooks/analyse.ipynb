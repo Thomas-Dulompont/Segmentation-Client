{
 "cells": [
  {
   "cell_type": "code",
   "execution_count": 2,
   "metadata": {},
   "outputs": [],
   "source": [
    "import pandas as pd\n",
    "import missingno as msno\n",
    "from datetime import datetime\n",
    "import numpy as np\n",
    "import sklearn.compose._column_transformer\n",
    "import seaborn as sns\n",
    "import matplotlib.pyplot as plt"
   ]
  },
  {
   "cell_type": "code",
   "execution_count": 3,
   "metadata": {},
   "outputs": [],
   "source": [
    "customers = pd.read_csv(\"../data/olist_customers_dataset.csv\") # Client\n",
    "geolocalisation = pd.read_csv(\"../data/olist_geolocation_dataset.csv\") # Loc\n",
    "\n",
    "order_items = pd.read_csv(\"../data/olist_order_items_dataset.csv\") # Commandes items\n",
    "order_payments = pd.read_csv(\"../data/olist_order_payments_dataset.csv\") # Commandes paiement\n",
    "order_reviews = pd.read_csv(\"../data/olist_order_reviews_dataset.csv\") # Commandes reviews\n",
    "orders = pd.read_csv(\"../data/olist_orders_dataset.csv\") # Commandes\n",
    "\n",
    "sellers = pd.read_csv(\"../data/olist_sellers_dataset.csv\") # Vendeurs\n",
    "products = pd.read_csv(\"../data/olist_products_dataset.csv\") # Produits\n",
    "cat_trans = pd.read_csv('../data/product_category_name_translation.csv') # Translate\n"
   ]
  },
  {
   "cell_type": "code",
   "execution_count": 4,
   "metadata": {},
   "outputs": [],
   "source": [
    "order_cust = pd.merge(left=customers, right=orders, how=\"left\", left_on=\"customer_id\", right_on=\"customer_id\")\n",
    "forder_cust = pd.merge(left=order_cust, right=order_items, how=\"outer\", left_on=\"order_id\", right_on=\"order_id\")\n",
    "\n",
    "forder_cust['total'] = forder_cust[[\"price\", \"freight_value\"]].sum(axis=1)"
   ]
  },
  {
   "attachments": {},
   "cell_type": "markdown",
   "metadata": {},
   "source": [
    "## Recence "
   ]
  },
  {
   "cell_type": "code",
   "execution_count": 5,
   "metadata": {},
   "outputs": [
    {
     "data": {
      "text/html": [
       "<div>\n",
       "<style scoped>\n",
       "    .dataframe tbody tr th:only-of-type {\n",
       "        vertical-align: middle;\n",
       "    }\n",
       "\n",
       "    .dataframe tbody tr th {\n",
       "        vertical-align: top;\n",
       "    }\n",
       "\n",
       "    .dataframe thead th {\n",
       "        text-align: right;\n",
       "    }\n",
       "</style>\n",
       "<table border=\"1\" class=\"dataframe\">\n",
       "  <thead>\n",
       "    <tr style=\"text-align: right;\">\n",
       "      <th></th>\n",
       "      <th>customer_unique_id</th>\n",
       "      <th>last_date</th>\n",
       "      <th>periode</th>\n",
       "      <th>r_value</th>\n",
       "    </tr>\n",
       "  </thead>\n",
       "  <tbody>\n",
       "    <tr>\n",
       "      <th>0</th>\n",
       "      <td>0000366f3b9a7992bf8c76cfdf3221e2</td>\n",
       "      <td>2018-05-10 11:11:18</td>\n",
       "      <td>116</td>\n",
       "      <td>1</td>\n",
       "    </tr>\n",
       "    <tr>\n",
       "      <th>1</th>\n",
       "      <td>0000b849f77a49e4a4ce2b2a4ca5be3f</td>\n",
       "      <td>2018-05-07 18:25:44</td>\n",
       "      <td>118</td>\n",
       "      <td>1</td>\n",
       "    </tr>\n",
       "    <tr>\n",
       "      <th>2</th>\n",
       "      <td>0000f46a3911fa3c0805444483337064</td>\n",
       "      <td>2017-03-10 21:05:03</td>\n",
       "      <td>541</td>\n",
       "      <td>4</td>\n",
       "    </tr>\n",
       "    <tr>\n",
       "      <th>3</th>\n",
       "      <td>0000f6ccb0745a6a4b88665a16c9f078</td>\n",
       "      <td>2017-10-12 20:49:17</td>\n",
       "      <td>325</td>\n",
       "      <td>3</td>\n",
       "    </tr>\n",
       "    <tr>\n",
       "      <th>4</th>\n",
       "      <td>0004aac84e0df4da2b147fca70cf8255</td>\n",
       "      <td>2017-11-14 20:06:52</td>\n",
       "      <td>292</td>\n",
       "      <td>3</td>\n",
       "    </tr>\n",
       "  </tbody>\n",
       "</table>\n",
       "</div>"
      ],
      "text/plain": [
       "                 customer_unique_id           last_date  periode  r_value\n",
       "0  0000366f3b9a7992bf8c76cfdf3221e2 2018-05-10 11:11:18      116        1\n",
       "1  0000b849f77a49e4a4ce2b2a4ca5be3f 2018-05-07 18:25:44      118        1\n",
       "2  0000f46a3911fa3c0805444483337064 2017-03-10 21:05:03      541        4\n",
       "3  0000f6ccb0745a6a4b88665a16c9f078 2017-10-12 20:49:17      325        3\n",
       "4  0004aac84e0df4da2b147fca70cf8255 2017-11-14 20:06:52      292        3"
      ]
     },
     "execution_count": 5,
     "metadata": {},
     "output_type": "execute_result"
    }
   ],
   "source": [
    "dates = ['order_purchase_timestamp', 'order_approved_at','order_delivered_carrier_date', 'order_delivered_customer_date','order_estimated_delivery_date','shipping_limit_date']\n",
    "forder_cust[dates] =forder_cust[dates].apply(pd.to_datetime, format='%Y-%m-%d')\n",
    "date_1 = forder_cust.sort_values(by ='order_approved_at',ascending = False)\n",
    "\n",
    "\n",
    "recence = date_1.groupby('customer_unique_id').agg(last_date =('order_approved_at','max')).reset_index()\n",
    "\n",
    "\n",
    "recence['periode']=(date_1.order_approved_at.max()-recence.last_date).dt.days\n",
    "recence.dropna(inplace=True)\n",
    "recence.periode = recence.periode.astype(int)\n",
    "\n",
    "def recence_transform(row):\n",
    "    if row['periode'] <= 140:\n",
    "        return 1\n",
    "    if row['periode']> 140 and row['periode'] <= 280:\n",
    "        return 2\n",
    "    if row['periode']>280 and row['periode'] <= 420:\n",
    "        return 3\n",
    "    if row['periode']> 420 and row['periode'] <= 560:\n",
    "        return 4\n",
    "    if row['periode']> 560:\n",
    "        return 5 \n",
    "\n",
    "recence['r_value']=recence.apply(lambda row: recence_transform(row),axis=1)\n",
    "recence.head()"
   ]
  },
  {
   "cell_type": "code",
   "execution_count": 6,
   "metadata": {},
   "outputs": [],
   "source": [
    "\n",
    "liste1 =cat_trans.product_category_name.tolist()\n",
    "liste2 = cat_trans.product_category_name_english.tolist()\n",
    "dict = {}\n",
    "for key in liste1:\n",
    "    for value in liste2:\n",
    "        dict[key] = value\n",
    "        liste2.remove(value)\n",
    "        break\n",
    "products.product_category_name=products.product_category_name.map(dict)\n",
    "order_reviews.drop(['review_comment_title','review_comment_message'],inplace=True,axis=1)\n",
    "order_reviews['review_score'].dropna(inplace=True)"
   ]
  },
  {
   "attachments": {},
   "cell_type": "markdown",
   "metadata": {},
   "source": [
    "## Merging pour l'analyse des commandes"
   ]
  },
  {
   "attachments": {},
   "cell_type": "markdown",
   "metadata": {},
   "source": [
    "### reajustement du df payments pour obtenir une ligne = une commande"
   ]
  },
  {
   "cell_type": "code",
   "execution_count": 7,
   "metadata": {},
   "outputs": [],
   "source": [
    "def get_mode(x):\n",
    "    return x.mode().iloc[0]"
   ]
  },
  {
   "cell_type": "code",
   "execution_count": 8,
   "metadata": {},
   "outputs": [],
   "source": [
    "p1 = order_payments.groupby('order_id').agg(payment_installment = ('payment_installments',get_mode),payment_type = ('payment_type',get_mode),total_pay =('payment_value','sum')).reset_index()\n"
   ]
  },
  {
   "cell_type": "code",
   "execution_count": 9,
   "metadata": {},
   "outputs": [
    {
     "data": {
      "text/plain": [
       "<AxesSubplot:xlabel='payment_installment', ylabel='Count'>"
      ]
     },
     "execution_count": 9,
     "metadata": {},
     "output_type": "execute_result"
    },
    {
     "data": {
      "image/png": "[encoded data removed]",
      "text/plain": [
       "<Figure size 640x480 with 1 Axes>"
      ]
     },
     "metadata": {},
     "output_type": "display_data"
    }
   ],
   "source": [
    "sns.histplot(data=p1,x='payment_installment')"
   ]
  },
  {
   "attachments": {},
   "cell_type": "markdown",
   "metadata": {},
   "source": [
    "### Merging products and order_items et les regrouper par commandes uniques"
   ]
  },
  {
   "cell_type": "code",
   "execution_count": 10,
   "metadata": {},
   "outputs": [],
   "source": [
    "order_items.drop(['seller_id','price','freight_value'],inplace=True,axis=1)\n"
   ]
  },
  {
   "cell_type": "code",
   "execution_count": 11,
   "metadata": {},
   "outputs": [],
   "source": [
    "products_item = pd.merge(order_items,products,how ='left',left_on='product_id',right_on='product_id')\n",
    "a = products_item.groupby(['order_id','product_category_name']).agg(total_commande=('order_item_id','count'),prod =('product_id','nunique')).reset_index()\n",
    "c = a.groupby('order_id').agg(category=('product_category_name',get_mode),items_commande = ('total_commande','sum'),prod_commande=('prod','sum')).reset_index()\n"
   ]
  },
  {
   "attachments": {},
   "cell_type": "markdown",
   "metadata": {},
   "source": [
    "### Merging orders_items/products/payments"
   ]
  },
  {
   "cell_type": "code",
   "execution_count": 12,
   "metadata": {},
   "outputs": [
    {
     "data": {
      "text/html": [
       "<div>\n",
       "<style scoped>\n",
       "    .dataframe tbody tr th:only-of-type {\n",
       "        vertical-align: middle;\n",
       "    }\n",
       "\n",
       "    .dataframe tbody tr th {\n",
       "        vertical-align: top;\n",
       "    }\n",
       "\n",
       "    .dataframe thead th {\n",
       "        text-align: right;\n",
       "    }\n",
       "</style>\n",
       "<table border=\"1\" class=\"dataframe\">\n",
       "  <thead>\n",
       "    <tr style=\"text-align: right;\">\n",
       "      <th></th>\n",
       "      <th>order_id</th>\n",
       "      <th>payment_installment</th>\n",
       "      <th>payment_type</th>\n",
       "      <th>total_pay</th>\n",
       "      <th>category</th>\n",
       "      <th>items_commande</th>\n",
       "      <th>prod_commande</th>\n",
       "    </tr>\n",
       "  </thead>\n",
       "  <tbody>\n",
       "    <tr>\n",
       "      <th>0</th>\n",
       "      <td>00010242fe8c5a6d1ba2dd792cb16214</td>\n",
       "      <td>2</td>\n",
       "      <td>credit_card</td>\n",
       "      <td>72.19</td>\n",
       "      <td>cool_stuff</td>\n",
       "      <td>1.0</td>\n",
       "      <td>1.0</td>\n",
       "    </tr>\n",
       "    <tr>\n",
       "      <th>1</th>\n",
       "      <td>00018f77f2f0320c557190d7a144bdd3</td>\n",
       "      <td>3</td>\n",
       "      <td>credit_card</td>\n",
       "      <td>259.83</td>\n",
       "      <td>pet_shop</td>\n",
       "      <td>1.0</td>\n",
       "      <td>1.0</td>\n",
       "    </tr>\n",
       "    <tr>\n",
       "      <th>2</th>\n",
       "      <td>000229ec398224ef6ca0657da4fc703e</td>\n",
       "      <td>5</td>\n",
       "      <td>credit_card</td>\n",
       "      <td>216.87</td>\n",
       "      <td>furniture_decor</td>\n",
       "      <td>1.0</td>\n",
       "      <td>1.0</td>\n",
       "    </tr>\n",
       "    <tr>\n",
       "      <th>3</th>\n",
       "      <td>00024acbcdf0a6daa1e931b038114c75</td>\n",
       "      <td>2</td>\n",
       "      <td>credit_card</td>\n",
       "      <td>25.78</td>\n",
       "      <td>perfumery</td>\n",
       "      <td>1.0</td>\n",
       "      <td>1.0</td>\n",
       "    </tr>\n",
       "    <tr>\n",
       "      <th>4</th>\n",
       "      <td>00042b26cf59d7ce69dfabb4e55b4fd9</td>\n",
       "      <td>3</td>\n",
       "      <td>credit_card</td>\n",
       "      <td>218.04</td>\n",
       "      <td>garden_tools</td>\n",
       "      <td>1.0</td>\n",
       "      <td>1.0</td>\n",
       "    </tr>\n",
       "    <tr>\n",
       "      <th>...</th>\n",
       "      <td>...</td>\n",
       "      <td>...</td>\n",
       "      <td>...</td>\n",
       "      <td>...</td>\n",
       "      <td>...</td>\n",
       "      <td>...</td>\n",
       "      <td>...</td>\n",
       "    </tr>\n",
       "    <tr>\n",
       "      <th>99435</th>\n",
       "      <td>fffc94f6ce00a00581880bf54a75a037</td>\n",
       "      <td>1</td>\n",
       "      <td>boleto</td>\n",
       "      <td>343.40</td>\n",
       "      <td>housewares</td>\n",
       "      <td>1.0</td>\n",
       "      <td>1.0</td>\n",
       "    </tr>\n",
       "    <tr>\n",
       "      <th>99436</th>\n",
       "      <td>fffcd46ef2263f404302a634eb57f7eb</td>\n",
       "      <td>1</td>\n",
       "      <td>boleto</td>\n",
       "      <td>386.53</td>\n",
       "      <td>computers_accessories</td>\n",
       "      <td>1.0</td>\n",
       "      <td>1.0</td>\n",
       "    </tr>\n",
       "    <tr>\n",
       "      <th>99437</th>\n",
       "      <td>fffce4705a9662cd70adb13d4a31832d</td>\n",
       "      <td>3</td>\n",
       "      <td>credit_card</td>\n",
       "      <td>116.85</td>\n",
       "      <td>sports_leisure</td>\n",
       "      <td>1.0</td>\n",
       "      <td>1.0</td>\n",
       "    </tr>\n",
       "    <tr>\n",
       "      <th>99438</th>\n",
       "      <td>fffe18544ffabc95dfada21779c9644f</td>\n",
       "      <td>3</td>\n",
       "      <td>credit_card</td>\n",
       "      <td>64.71</td>\n",
       "      <td>computers_accessories</td>\n",
       "      <td>1.0</td>\n",
       "      <td>1.0</td>\n",
       "    </tr>\n",
       "    <tr>\n",
       "      <th>99439</th>\n",
       "      <td>fffe41c64501cc87c801fd61db3f6244</td>\n",
       "      <td>1</td>\n",
       "      <td>credit_card</td>\n",
       "      <td>55.79</td>\n",
       "      <td>bed_bath_table</td>\n",
       "      <td>1.0</td>\n",
       "      <td>1.0</td>\n",
       "    </tr>\n",
       "  </tbody>\n",
       "</table>\n",
       "<p>99440 rows × 7 columns</p>\n",
       "</div>"
      ],
      "text/plain": [
       "                               order_id  payment_installment payment_type  \\\n",
       "0      00010242fe8c5a6d1ba2dd792cb16214                    2  credit_card   \n",
       "1      00018f77f2f0320c557190d7a144bdd3                    3  credit_card   \n",
       "2      000229ec398224ef6ca0657da4fc703e                    5  credit_card   \n",
       "3      00024acbcdf0a6daa1e931b038114c75                    2  credit_card   \n",
       "4      00042b26cf59d7ce69dfabb4e55b4fd9                    3  credit_card   \n",
       "...                                 ...                  ...          ...   \n",
       "99435  fffc94f6ce00a00581880bf54a75a037                    1       boleto   \n",
       "99436  fffcd46ef2263f404302a634eb57f7eb                    1       boleto   \n",
       "99437  fffce4705a9662cd70adb13d4a31832d                    3  credit_card   \n",
       "99438  fffe18544ffabc95dfada21779c9644f                    3  credit_card   \n",
       "99439  fffe41c64501cc87c801fd61db3f6244                    1  credit_card   \n",
       "\n",
       "       total_pay               category  items_commande  prod_commande  \n",
       "0          72.19             cool_stuff             1.0            1.0  \n",
       "1         259.83               pet_shop             1.0            1.0  \n",
       "2         216.87        furniture_decor             1.0            1.0  \n",
       "3          25.78              perfumery             1.0            1.0  \n",
       "4         218.04           garden_tools             1.0            1.0  \n",
       "...          ...                    ...             ...            ...  \n",
       "99435     343.40             housewares             1.0            1.0  \n",
       "99436     386.53  computers_accessories             1.0            1.0  \n",
       "99437     116.85         sports_leisure             1.0            1.0  \n",
       "99438      64.71  computers_accessories             1.0            1.0  \n",
       "99439      55.79         bed_bath_table             1.0            1.0  \n",
       "\n",
       "[99440 rows x 7 columns]"
      ]
     },
     "execution_count": 12,
     "metadata": {},
     "output_type": "execute_result"
    }
   ],
   "source": [
    "df_commande = pd.merge(p1,c,how='left',left_on='order_id',right_on='order_id')\n",
    "df_commande\n",
    "#Dataframe montrant par commande , le type de paiement le plus utilisé, le total de la commande en R$, la catégorie du produit le plus commandé, le nb d'items commandé et le nombre de produits différents commandés"
   ]
  },
  {
   "cell_type": "code",
   "execution_count": 13,
   "metadata": {},
   "outputs": [
    {
     "ename": "TypeError",
     "evalue": "unsupported operand type(s) for -: 'str' and 'str'",
     "output_type": "error",
     "traceback": [
      "\u001b[0;31m---------------------------------------------------------------------------\u001b[0m",
      "\u001b[0;31mTypeError\u001b[0m                                 Traceback (most recent call last)",
      "Cell \u001b[0;32mIn [13], line 1\u001b[0m\n\u001b[0;32m----> 1\u001b[0m orders\u001b[39m.\u001b[39mgroupby(\u001b[39m'\u001b[39m\u001b[39morder_id\u001b[39m\u001b[39m'\u001b[39m)\u001b[39m.\u001b[39magg(approval_time \u001b[39m=\u001b[39m (\u001b[39m'\u001b[39;49m\u001b[39morder_approved_at\u001b[39;49m\u001b[39m'\u001b[39;49m\u001b[39m-\u001b[39;49m\u001b[39m'\u001b[39;49m\u001b[39morder_purchase_timestamp\u001b[39;49m\u001b[39m'\u001b[39;49m)\u001b[39m.\u001b[39mdt\u001b[39m.\u001b[39mdays,delivery_time \u001b[39m=\u001b[39m (\u001b[39m'\u001b[39m\u001b[39morder_delivered_customer_date\t\u001b[39m\u001b[39m'\u001b[39m\u001b[39m-\u001b[39m\u001b[39m'\u001b[39m\u001b[39morder_approved_at\u001b[39m\u001b[39m'\u001b[39m)\u001b[39m.\u001b[39mdt\u001b[39m.\u001b[39mdays )\n",
      "\u001b[0;31mTypeError\u001b[0m: unsupported operand type(s) for -: 'str' and 'str'"
     ]
    }
   ],
   "source": [
    "orders.groupby('order_id').agg(delais_approval = ())"
   ]
  },
  {
   "attachments": {},
   "cell_type": "markdown",
   "metadata": {},
   "source": [
    "### ok"
   ]
  },
  {
   "cell_type": "code",
   "execution_count": null,
   "metadata": {},
   "outputs": [],
   "source": [
    "prorder_items = pd.merge(left=df,right=orders,how='left',left_on='order_id',right_on='order_id') #orders_items,orders,products\n",
    "merged_review = pd.merge(left=prorder_items,right=order_reviews,how='inner',left_on='order_id',right_on='order_id')#review\n",
    "merged_payment = pd.merge(left=merged_review,right=order_payments,how='inner',left_on='order_id',right_on='order_id')#payments\n",
    "merged_customers = pd.merge(left=merged_payment,right=customers,how='inner',left_on='customer_id',right_on='customer_id')#rcustomers\n",
    "merged_sellers = pd.merge(left=merged_customers ,right=sellers,how='inner',left_on='seller_id',right_on='seller_id')#sellers"
   ]
  }
 ],
 "metadata": {
  "kernelspec": {
   "display_name": "jng",
   "language": "python",
   "name": "python3"
  },
  "language_info": {
   "codemirror_mode": {
    "name": "ipython",
    "version": 3
   },
   "file_extension": ".py",
   "mimetype": "text/x-python",
   "name": "python",
   "nbconvert_exporter": "python",
   "pygments_lexer": "ipython3",
   "version": "3.10.8"
  },
  "orig_nbformat": 4,
  "vscode": {
   "interpreter": {
    "hash": "37227ed9c485f36684c918ad2ebf286762189d6ce6ae0d84fce244b97886ca3c"
   }
  }
 },
 "nbformat": 4,
 "nbformat_minor": 2
}
