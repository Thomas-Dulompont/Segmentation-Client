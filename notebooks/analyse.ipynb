{
 "cells": [
  {
   "cell_type": "code",
   "execution_count": 1,
   "metadata": {},
   "outputs": [],
   "source": [
    "import pandas as pd\n",
    "import missingno as msno\n",
    "from datetime import datetime\n",
    "import numpy as np\n",
    "import sklearn.compose._column_transformer\n",
    "import seaborn as sns\n",
    "import matplotlib.pyplot as plt"
   ]
  },
  {
   "cell_type": "code",
   "execution_count": 2,
   "metadata": {},
   "outputs": [],
   "source": [
    "customers = pd.read_csv(\"../data/olist_customers_dataset.csv\") # Client\n",
    "geolocalisation = pd.read_csv(\"../data/olist_geolocation_dataset.csv\") # Loc\n",
    "\n",
    "order_items = pd.read_csv(\"../data/olist_order_items_dataset.csv\") # Commandes items\n",
    "order_payments = pd.read_csv(\"../data/olist_order_payments_dataset.csv\") # Commandes paiement\n",
    "order_reviews = pd.read_csv(\"../data/olist_order_reviews_dataset.csv\") # Commandes reviews\n",
    "orders = pd.read_csv(\"../data/olist_orders_dataset.csv\") # Commandes\n",
    "\n",
    "sellers = pd.read_csv(\"../data/olist_sellers_dataset.csv\") # Vendeurs\n",
    "products = pd.read_csv(\"../data/olist_products_dataset.csv\") # Produits\n",
    "cat_trans = pd.read_csv('../data/product_category_name_translation.csv') # Translate\n"
   ]
  },
  {
   "cell_type": "code",
   "execution_count": 3,
   "metadata": {},
   "outputs": [],
   "source": [
    "order_cust = pd.merge(left=customers, right=orders, how=\"left\", left_on=\"customer_id\", right_on=\"customer_id\")\n",
    "forder_cust = pd.merge(left=order_cust, right=order_items, how=\"outer\", left_on=\"order_id\", right_on=\"order_id\")\n",
    "\n",
    "forder_cust['total'] = forder_cust[[\"price\", \"freight_value\"]].sum(axis=1)"
   ]
  },
  {
   "attachments": {},
   "cell_type": "markdown",
   "metadata": {},
   "source": [
    "## Recence "
   ]
  },
  {
   "cell_type": "code",
   "execution_count": 4,
   "metadata": {},
   "outputs": [
    {
     "data": {
      "text/html": [
       "<div>\n",
       "<style scoped>\n",
       "    .dataframe tbody tr th:only-of-type {\n",
       "        vertical-align: middle;\n",
       "    }\n",
       "\n",
       "    .dataframe tbody tr th {\n",
       "        vertical-align: top;\n",
       "    }\n",
       "\n",
       "    .dataframe thead th {\n",
       "        text-align: right;\n",
       "    }\n",
       "</style>\n",
       "<table border=\"1\" class=\"dataframe\">\n",
       "  <thead>\n",
       "    <tr style=\"text-align: right;\">\n",
       "      <th></th>\n",
       "      <th>customer_unique_id</th>\n",
       "      <th>last_date</th>\n",
       "      <th>periode</th>\n",
       "      <th>r_value</th>\n",
       "    </tr>\n",
       "  </thead>\n",
       "  <tbody>\n",
       "    <tr>\n",
       "      <th>0</th>\n",
       "      <td>0000366f3b9a7992bf8c76cfdf3221e2</td>\n",
       "      <td>2018-05-10 11:11:18</td>\n",
       "      <td>116</td>\n",
       "      <td>1</td>\n",
       "    </tr>\n",
       "    <tr>\n",
       "      <th>1</th>\n",
       "      <td>0000b849f77a49e4a4ce2b2a4ca5be3f</td>\n",
       "      <td>2018-05-07 18:25:44</td>\n",
       "      <td>118</td>\n",
       "      <td>1</td>\n",
       "    </tr>\n",
       "    <tr>\n",
       "      <th>2</th>\n",
       "      <td>0000f46a3911fa3c0805444483337064</td>\n",
       "      <td>2017-03-10 21:05:03</td>\n",
       "      <td>541</td>\n",
       "      <td>4</td>\n",
       "    </tr>\n",
       "    <tr>\n",
       "      <th>3</th>\n",
       "      <td>0000f6ccb0745a6a4b88665a16c9f078</td>\n",
       "      <td>2017-10-12 20:49:17</td>\n",
       "      <td>325</td>\n",
       "      <td>3</td>\n",
       "    </tr>\n",
       "    <tr>\n",
       "      <th>4</th>\n",
       "      <td>0004aac84e0df4da2b147fca70cf8255</td>\n",
       "      <td>2017-11-14 20:06:52</td>\n",
       "      <td>292</td>\n",
       "      <td>3</td>\n",
       "    </tr>\n",
       "  </tbody>\n",
       "</table>\n",
       "</div>"
      ],
      "text/plain": [
       "                 customer_unique_id           last_date  periode  r_value\n",
       "0  0000366f3b9a7992bf8c76cfdf3221e2 2018-05-10 11:11:18      116        1\n",
       "1  0000b849f77a49e4a4ce2b2a4ca5be3f 2018-05-07 18:25:44      118        1\n",
       "2  0000f46a3911fa3c0805444483337064 2017-03-10 21:05:03      541        4\n",
       "3  0000f6ccb0745a6a4b88665a16c9f078 2017-10-12 20:49:17      325        3\n",
       "4  0004aac84e0df4da2b147fca70cf8255 2017-11-14 20:06:52      292        3"
      ]
     },
     "execution_count": 4,
     "metadata": {},
     "output_type": "execute_result"
    }
   ],
   "source": [
    "dates = ['order_purchase_timestamp', 'order_approved_at','order_delivered_carrier_date', 'order_delivered_customer_date','order_estimated_delivery_date','shipping_limit_date']\n",
    "forder_cust[dates] =forder_cust[dates].apply(pd.to_datetime, format='%Y-%m-%d')\n",
    "date_1 = forder_cust.sort_values(by ='order_approved_at',ascending = False)\n",
    "\n",
    "\n",
    "recence = date_1.groupby('customer_unique_id').agg(last_date =('order_approved_at','max')).reset_index()\n",
    "\n",
    "\n",
    "recence['periode']=(date_1.order_approved_at.max()-recence.last_date).dt.days\n",
    "recence.dropna(inplace=True)\n",
    "recence.periode = recence.periode.astype(int)\n",
    "\n",
    "def recence_transform(row):\n",
    "    if row['periode'] <= 140:\n",
    "        return 1\n",
    "    if row['periode']> 140 and row['periode'] <= 280:\n",
    "        return 2\n",
    "    if row['periode']>280 and row['periode'] <= 420:\n",
    "        return 3\n",
    "    if row['periode']> 420 and row['periode'] <= 560:\n",
    "        return 4\n",
    "    if row['periode']> 560:\n",
    "        return 5 \n",
    "\n",
    "recence['r_value']=recence.apply(lambda row: recence_transform(row),axis=1)\n",
    "recence.head()"
   ]
  },
  {
   "cell_type": "code",
   "execution_count": 5,
   "metadata": {},
   "outputs": [],
   "source": [
    "\n",
    "liste1 =cat_trans.product_category_name.tolist()\n",
    "liste2 = cat_trans.product_category_name_english.tolist()\n",
    "dict = {}\n",
    "for key in liste1:\n",
    "    for value in liste2:\n",
    "        dict[key] = value\n",
    "        liste2.remove(value)\n",
    "        break\n",
    "products.product_category_name=products.product_category_name.map(dict)\n",
    "order_reviews.drop(['review_comment_title','review_comment_message'],inplace=True,axis=1)\n",
    "order_reviews['review_score'].dropna(inplace=True)"
   ]
  },
  {
   "attachments": {},
   "cell_type": "markdown",
   "metadata": {},
   "source": [
    "## Merging pour l'analyse des commandes"
   ]
  },
  {
   "attachments": {},
   "cell_type": "markdown",
   "metadata": {},
   "source": [
    "### reajustement du df payments pour obtenir une ligne = une commande"
   ]
  },
  {
   "cell_type": "code",
   "execution_count": 6,
   "metadata": {},
   "outputs": [],
   "source": [
    "def get_mode(x):\n",
    "    return x.mode().iloc[0]"
   ]
  },
  {
   "cell_type": "code",
   "execution_count": 7,
   "metadata": {},
   "outputs": [],
   "source": [
    "p1 = order_payments.groupby('order_id').agg(payment_installment = ('payment_installments',get_mode),payment_type = ('payment_type',get_mode),total_pay =('payment_value','sum')).reset_index()\n"
   ]
  },
  {
   "attachments": {},
   "cell_type": "markdown",
   "metadata": {},
   "source": [
    "### Merging products and order_items et les regrouper par commandes uniques"
   ]
  },
  {
   "cell_type": "code",
   "execution_count": 8,
   "metadata": {},
   "outputs": [
    {
     "data": {
      "text/html": [
       "<div>\n",
       "<style scoped>\n",
       "    .dataframe tbody tr th:only-of-type {\n",
       "        vertical-align: middle;\n",
       "    }\n",
       "\n",
       "    .dataframe tbody tr th {\n",
       "        vertical-align: top;\n",
       "    }\n",
       "\n",
       "    .dataframe thead th {\n",
       "        text-align: right;\n",
       "    }\n",
       "</style>\n",
       "<table border=\"1\" class=\"dataframe\">\n",
       "  <thead>\n",
       "    <tr style=\"text-align: right;\">\n",
       "      <th></th>\n",
       "      <th>order_id</th>\n",
       "      <th>payment_installment</th>\n",
       "      <th>payment_type</th>\n",
       "      <th>total_pay</th>\n",
       "      <th>category</th>\n",
       "      <th>items_commande</th>\n",
       "      <th>prod_commande</th>\n",
       "    </tr>\n",
       "  </thead>\n",
       "  <tbody>\n",
       "    <tr>\n",
       "      <th>0</th>\n",
       "      <td>00010242fe8c5a6d1ba2dd792cb16214</td>\n",
       "      <td>2</td>\n",
       "      <td>credit_card</td>\n",
       "      <td>72.19</td>\n",
       "      <td>cool_stuff</td>\n",
       "      <td>1.0</td>\n",
       "      <td>1.0</td>\n",
       "    </tr>\n",
       "    <tr>\n",
       "      <th>1</th>\n",
       "      <td>00018f77f2f0320c557190d7a144bdd3</td>\n",
       "      <td>3</td>\n",
       "      <td>credit_card</td>\n",
       "      <td>259.83</td>\n",
       "      <td>pet_shop</td>\n",
       "      <td>1.0</td>\n",
       "      <td>1.0</td>\n",
       "    </tr>\n",
       "    <tr>\n",
       "      <th>2</th>\n",
       "      <td>000229ec398224ef6ca0657da4fc703e</td>\n",
       "      <td>5</td>\n",
       "      <td>credit_card</td>\n",
       "      <td>216.87</td>\n",
       "      <td>furniture_decor</td>\n",
       "      <td>1.0</td>\n",
       "      <td>1.0</td>\n",
       "    </tr>\n",
       "    <tr>\n",
       "      <th>3</th>\n",
       "      <td>00024acbcdf0a6daa1e931b038114c75</td>\n",
       "      <td>2</td>\n",
       "      <td>credit_card</td>\n",
       "      <td>25.78</td>\n",
       "      <td>perfumery</td>\n",
       "      <td>1.0</td>\n",
       "      <td>1.0</td>\n",
       "    </tr>\n",
       "    <tr>\n",
       "      <th>4</th>\n",
       "      <td>00042b26cf59d7ce69dfabb4e55b4fd9</td>\n",
       "      <td>3</td>\n",
       "      <td>credit_card</td>\n",
       "      <td>218.04</td>\n",
       "      <td>garden_tools</td>\n",
       "      <td>1.0</td>\n",
       "      <td>1.0</td>\n",
       "    </tr>\n",
       "    <tr>\n",
       "      <th>...</th>\n",
       "      <td>...</td>\n",
       "      <td>...</td>\n",
       "      <td>...</td>\n",
       "      <td>...</td>\n",
       "      <td>...</td>\n",
       "      <td>...</td>\n",
       "      <td>...</td>\n",
       "    </tr>\n",
       "    <tr>\n",
       "      <th>99435</th>\n",
       "      <td>fffc94f6ce00a00581880bf54a75a037</td>\n",
       "      <td>1</td>\n",
       "      <td>boleto</td>\n",
       "      <td>343.40</td>\n",
       "      <td>housewares</td>\n",
       "      <td>1.0</td>\n",
       "      <td>1.0</td>\n",
       "    </tr>\n",
       "    <tr>\n",
       "      <th>99436</th>\n",
       "      <td>fffcd46ef2263f404302a634eb57f7eb</td>\n",
       "      <td>1</td>\n",
       "      <td>boleto</td>\n",
       "      <td>386.53</td>\n",
       "      <td>computers_accessories</td>\n",
       "      <td>1.0</td>\n",
       "      <td>1.0</td>\n",
       "    </tr>\n",
       "    <tr>\n",
       "      <th>99437</th>\n",
       "      <td>fffce4705a9662cd70adb13d4a31832d</td>\n",
       "      <td>3</td>\n",
       "      <td>credit_card</td>\n",
       "      <td>116.85</td>\n",
       "      <td>sports_leisure</td>\n",
       "      <td>1.0</td>\n",
       "      <td>1.0</td>\n",
       "    </tr>\n",
       "    <tr>\n",
       "      <th>99438</th>\n",
       "      <td>fffe18544ffabc95dfada21779c9644f</td>\n",
       "      <td>3</td>\n",
       "      <td>credit_card</td>\n",
       "      <td>64.71</td>\n",
       "      <td>computers_accessories</td>\n",
       "      <td>1.0</td>\n",
       "      <td>1.0</td>\n",
       "    </tr>\n",
       "    <tr>\n",
       "      <th>99439</th>\n",
       "      <td>fffe41c64501cc87c801fd61db3f6244</td>\n",
       "      <td>1</td>\n",
       "      <td>credit_card</td>\n",
       "      <td>55.79</td>\n",
       "      <td>bed_bath_table</td>\n",
       "      <td>1.0</td>\n",
       "      <td>1.0</td>\n",
       "    </tr>\n",
       "  </tbody>\n",
       "</table>\n",
       "<p>99440 rows × 7 columns</p>\n",
       "</div>"
      ],
      "text/plain": [
       "                               order_id  payment_installment payment_type  \\\n",
       "0      00010242fe8c5a6d1ba2dd792cb16214                    2  credit_card   \n",
       "1      00018f77f2f0320c557190d7a144bdd3                    3  credit_card   \n",
       "2      000229ec398224ef6ca0657da4fc703e                    5  credit_card   \n",
       "3      00024acbcdf0a6daa1e931b038114c75                    2  credit_card   \n",
       "4      00042b26cf59d7ce69dfabb4e55b4fd9                    3  credit_card   \n",
       "...                                 ...                  ...          ...   \n",
       "99435  fffc94f6ce00a00581880bf54a75a037                    1       boleto   \n",
       "99436  fffcd46ef2263f404302a634eb57f7eb                    1       boleto   \n",
       "99437  fffce4705a9662cd70adb13d4a31832d                    3  credit_card   \n",
       "99438  fffe18544ffabc95dfada21779c9644f                    3  credit_card   \n",
       "99439  fffe41c64501cc87c801fd61db3f6244                    1  credit_card   \n",
       "\n",
       "       total_pay               category  items_commande  prod_commande  \n",
       "0          72.19             cool_stuff             1.0            1.0  \n",
       "1         259.83               pet_shop             1.0            1.0  \n",
       "2         216.87        furniture_decor             1.0            1.0  \n",
       "3          25.78              perfumery             1.0            1.0  \n",
       "4         218.04           garden_tools             1.0            1.0  \n",
       "...          ...                    ...             ...            ...  \n",
       "99435     343.40             housewares             1.0            1.0  \n",
       "99436     386.53  computers_accessories             1.0            1.0  \n",
       "99437     116.85         sports_leisure             1.0            1.0  \n",
       "99438      64.71  computers_accessories             1.0            1.0  \n",
       "99439      55.79         bed_bath_table             1.0            1.0  \n",
       "\n",
       "[99440 rows x 7 columns]"
      ]
     },
     "execution_count": 8,
     "metadata": {},
     "output_type": "execute_result"
    }
   ],
   "source": [
    "order_items.drop(['seller_id','price','freight_value'],inplace=True,axis=1)\n",
    "products_item = pd.merge(order_items,products,how ='left',left_on='product_id',right_on='product_id')\n",
    "a = products_item.groupby(['order_id','product_category_name']).agg(total_commande=('order_item_id','count'),prod =('product_id','nunique')).reset_index()\n",
    "c = a.groupby('order_id').agg(category=('product_category_name',get_mode),items_commande = ('total_commande','sum'),prod_commande=('prod','sum')).reset_index()\n",
    "df_commande = pd.merge(p1,c,how='left',left_on='order_id',right_on='order_id')\n",
    "df_commande\n",
    "#Dataframe montrant par commande , le type de paiement le plus utilisé, le total de la commande en R$, la catégorie du produit le plus commandé, le nb d'items commandé et le nombre de produits différents commandés\n"
   ]
  },
  {
   "attachments": {},
   "cell_type": "markdown",
   "metadata": {},
   "source": [
    "### Merging orders_items/products/payments"
   ]
  },
  {
   "cell_type": "code",
   "execution_count": 9,
   "metadata": {},
   "outputs": [],
   "source": [
    "orders=orders.dropna()\n",
    "orders[['order_purchase_timestamp','order_approved_at','order_delivered_customer_date']]= orders[['order_purchase_timestamp','order_approved_at','order_delivered_customer_date']].apply(pd.to_datetime)\n",
    "orders['purchase_date']=orders.order_purchase_timestamp.dt.to_period('M')\n",
    "orders['approval_time']= (orders['order_approved_at'] - orders['order_purchase_timestamp']).dt.days\n",
    "orders['delivery_time'] = (orders['order_delivered_customer_date']-orders['order_purchase_timestamp']).dt.days\n",
    "orders.delivery_time =orders.delivery_time.astype(int)\n",
    "df_orders = orders[['order_id','customer_id','delivery_time','purchase_date']]"
   ]
  },
  {
   "cell_type": "code",
   "execution_count": 10,
   "metadata": {},
   "outputs": [
    {
     "data": {
      "text/plain": [
       "71"
      ]
     },
     "execution_count": 10,
     "metadata": {},
     "output_type": "execute_result"
    }
   ],
   "source": [
    "df_commande.category.nunique()"
   ]
  },
  {
   "cell_type": "code",
   "execution_count": 11,
   "metadata": {},
   "outputs": [],
   "source": [
    "df_client = pd.merge(df_commande,df_orders,how='left',left_on='order_id',right_on='order_id')"
   ]
  },
  {
   "cell_type": "code",
   "execution_count": 12,
   "metadata": {},
   "outputs": [],
   "source": [
    "df_client['months']=df_client.purchase_date.dt.month\n",
    "season_dict = {1: 'Winter',\n",
    "               2: 'Winter',\n",
    "               3: 'Spring', \n",
    "               4: 'Spring',\n",
    "               5: 'Spring',\n",
    "               6: 'Summer',\n",
    "               7: 'Summer',\n",
    "               8: 'Summer',\n",
    "               9: 'Autumn',\n",
    "               10: 'Autumn',\n",
    "               11: 'Autumn',\n",
    "               12: 'Winter'}\n",
    "df_client['Season'] = df_client['months'].map(season_dict)"
   ]
  },
  {
   "cell_type": "code",
   "execution_count": 13,
   "metadata": {},
   "outputs": [
    {
     "data": {
      "text/plain": [
       "71"
      ]
     },
     "execution_count": 13,
     "metadata": {},
     "output_type": "execute_result"
    }
   ],
   "source": [
    "df_client.category.nunique()"
   ]
  },
  {
   "attachments": {},
   "cell_type": "markdown",
   "metadata": {},
   "source": [
    "### REVIEW"
   ]
  },
  {
   "cell_type": "code",
   "execution_count": 14,
   "metadata": {},
   "outputs": [],
   "source": [
    "df_review = order_reviews.groupby('order_id',).agg(rating = ('review_score','mean'),review = ('review_id','count')).reset_index()\n"
   ]
  },
  {
   "attachments": {},
   "cell_type": "markdown",
   "metadata": {},
   "source": [
    "### Merging df_client et df_review"
   ]
  },
  {
   "cell_type": "code",
   "execution_count": 15,
   "metadata": {},
   "outputs": [
    {
     "data": {
      "text/html": [
       "<div>\n",
       "<style scoped>\n",
       "    .dataframe tbody tr th:only-of-type {\n",
       "        vertical-align: middle;\n",
       "    }\n",
       "\n",
       "    .dataframe tbody tr th {\n",
       "        vertical-align: top;\n",
       "    }\n",
       "\n",
       "    .dataframe thead th {\n",
       "        text-align: right;\n",
       "    }\n",
       "</style>\n",
       "<table border=\"1\" class=\"dataframe\">\n",
       "  <thead>\n",
       "    <tr style=\"text-align: right;\">\n",
       "      <th></th>\n",
       "      <th>order_id</th>\n",
       "      <th>payment_installment</th>\n",
       "      <th>payment_type</th>\n",
       "      <th>total_pay</th>\n",
       "      <th>category</th>\n",
       "      <th>items_commande</th>\n",
       "      <th>prod_commande</th>\n",
       "      <th>customer_id</th>\n",
       "      <th>delivery_time</th>\n",
       "      <th>purchase_date</th>\n",
       "      <th>months</th>\n",
       "      <th>Season</th>\n",
       "      <th>rating</th>\n",
       "      <th>review</th>\n",
       "    </tr>\n",
       "  </thead>\n",
       "  <tbody>\n",
       "    <tr>\n",
       "      <th>0</th>\n",
       "      <td>00010242fe8c5a6d1ba2dd792cb16214</td>\n",
       "      <td>2</td>\n",
       "      <td>credit_card</td>\n",
       "      <td>72.19</td>\n",
       "      <td>cool_stuff</td>\n",
       "      <td>1.0</td>\n",
       "      <td>1.0</td>\n",
       "      <td>3ce436f183e68e07877b285a838db11a</td>\n",
       "      <td>7.0</td>\n",
       "      <td>2017-09</td>\n",
       "      <td>9</td>\n",
       "      <td>Autumn</td>\n",
       "      <td>5.0</td>\n",
       "      <td>1.0</td>\n",
       "    </tr>\n",
       "    <tr>\n",
       "      <th>1</th>\n",
       "      <td>00018f77f2f0320c557190d7a144bdd3</td>\n",
       "      <td>3</td>\n",
       "      <td>credit_card</td>\n",
       "      <td>259.83</td>\n",
       "      <td>pet_shop</td>\n",
       "      <td>1.0</td>\n",
       "      <td>1.0</td>\n",
       "      <td>f6dd3ec061db4e3987629fe6b26e5cce</td>\n",
       "      <td>16.0</td>\n",
       "      <td>2017-04</td>\n",
       "      <td>4</td>\n",
       "      <td>Spring</td>\n",
       "      <td>4.0</td>\n",
       "      <td>1.0</td>\n",
       "    </tr>\n",
       "    <tr>\n",
       "      <th>2</th>\n",
       "      <td>000229ec398224ef6ca0657da4fc703e</td>\n",
       "      <td>5</td>\n",
       "      <td>credit_card</td>\n",
       "      <td>216.87</td>\n",
       "      <td>furniture_decor</td>\n",
       "      <td>1.0</td>\n",
       "      <td>1.0</td>\n",
       "      <td>6489ae5e4333f3693df5ad4372dab6d3</td>\n",
       "      <td>7.0</td>\n",
       "      <td>2018-01</td>\n",
       "      <td>1</td>\n",
       "      <td>Winter</td>\n",
       "      <td>5.0</td>\n",
       "      <td>1.0</td>\n",
       "    </tr>\n",
       "    <tr>\n",
       "      <th>3</th>\n",
       "      <td>00024acbcdf0a6daa1e931b038114c75</td>\n",
       "      <td>2</td>\n",
       "      <td>credit_card</td>\n",
       "      <td>25.78</td>\n",
       "      <td>perfumery</td>\n",
       "      <td>1.0</td>\n",
       "      <td>1.0</td>\n",
       "      <td>d4eb9395c8c0431ee92fce09860c5a06</td>\n",
       "      <td>6.0</td>\n",
       "      <td>2018-08</td>\n",
       "      <td>8</td>\n",
       "      <td>Summer</td>\n",
       "      <td>4.0</td>\n",
       "      <td>1.0</td>\n",
       "    </tr>\n",
       "    <tr>\n",
       "      <th>4</th>\n",
       "      <td>00042b26cf59d7ce69dfabb4e55b4fd9</td>\n",
       "      <td>3</td>\n",
       "      <td>credit_card</td>\n",
       "      <td>218.04</td>\n",
       "      <td>garden_tools</td>\n",
       "      <td>1.0</td>\n",
       "      <td>1.0</td>\n",
       "      <td>58dbd0b2d70206bf40e62cd34e84d795</td>\n",
       "      <td>25.0</td>\n",
       "      <td>2017-02</td>\n",
       "      <td>2</td>\n",
       "      <td>Winter</td>\n",
       "      <td>5.0</td>\n",
       "      <td>1.0</td>\n",
       "    </tr>\n",
       "    <tr>\n",
       "      <th>...</th>\n",
       "      <td>...</td>\n",
       "      <td>...</td>\n",
       "      <td>...</td>\n",
       "      <td>...</td>\n",
       "      <td>...</td>\n",
       "      <td>...</td>\n",
       "      <td>...</td>\n",
       "      <td>...</td>\n",
       "      <td>...</td>\n",
       "      <td>...</td>\n",
       "      <td>...</td>\n",
       "      <td>...</td>\n",
       "      <td>...</td>\n",
       "      <td>...</td>\n",
       "    </tr>\n",
       "    <tr>\n",
       "      <th>99435</th>\n",
       "      <td>fffc94f6ce00a00581880bf54a75a037</td>\n",
       "      <td>1</td>\n",
       "      <td>boleto</td>\n",
       "      <td>343.40</td>\n",
       "      <td>housewares</td>\n",
       "      <td>1.0</td>\n",
       "      <td>1.0</td>\n",
       "      <td>b51593916b4b8e0d6f66f2ae24f2673d</td>\n",
       "      <td>17.0</td>\n",
       "      <td>2018-04</td>\n",
       "      <td>4</td>\n",
       "      <td>Spring</td>\n",
       "      <td>5.0</td>\n",
       "      <td>1.0</td>\n",
       "    </tr>\n",
       "    <tr>\n",
       "      <th>99436</th>\n",
       "      <td>fffcd46ef2263f404302a634eb57f7eb</td>\n",
       "      <td>1</td>\n",
       "      <td>boleto</td>\n",
       "      <td>386.53</td>\n",
       "      <td>computers_accessories</td>\n",
       "      <td>1.0</td>\n",
       "      <td>1.0</td>\n",
       "      <td>84c5d4fbaf120aae381fad077416eaa0</td>\n",
       "      <td>9.0</td>\n",
       "      <td>2018-07</td>\n",
       "      <td>7</td>\n",
       "      <td>Summer</td>\n",
       "      <td>5.0</td>\n",
       "      <td>1.0</td>\n",
       "    </tr>\n",
       "    <tr>\n",
       "      <th>99437</th>\n",
       "      <td>fffce4705a9662cd70adb13d4a31832d</td>\n",
       "      <td>3</td>\n",
       "      <td>credit_card</td>\n",
       "      <td>116.85</td>\n",
       "      <td>sports_leisure</td>\n",
       "      <td>1.0</td>\n",
       "      <td>1.0</td>\n",
       "      <td>29309aa813182aaddc9b259e31b870e6</td>\n",
       "      <td>4.0</td>\n",
       "      <td>2017-10</td>\n",
       "      <td>10</td>\n",
       "      <td>Autumn</td>\n",
       "      <td>5.0</td>\n",
       "      <td>1.0</td>\n",
       "    </tr>\n",
       "    <tr>\n",
       "      <th>99438</th>\n",
       "      <td>fffe18544ffabc95dfada21779c9644f</td>\n",
       "      <td>3</td>\n",
       "      <td>credit_card</td>\n",
       "      <td>64.71</td>\n",
       "      <td>computers_accessories</td>\n",
       "      <td>1.0</td>\n",
       "      <td>1.0</td>\n",
       "      <td>b5e6afd5a41800fdf401e0272ca74655</td>\n",
       "      <td>1.0</td>\n",
       "      <td>2017-08</td>\n",
       "      <td>8</td>\n",
       "      <td>Summer</td>\n",
       "      <td>5.0</td>\n",
       "      <td>1.0</td>\n",
       "    </tr>\n",
       "    <tr>\n",
       "      <th>99439</th>\n",
       "      <td>fffe41c64501cc87c801fd61db3f6244</td>\n",
       "      <td>1</td>\n",
       "      <td>credit_card</td>\n",
       "      <td>55.79</td>\n",
       "      <td>bed_bath_table</td>\n",
       "      <td>1.0</td>\n",
       "      <td>1.0</td>\n",
       "      <td>96d649da0cc4ff33bb408b199d4c7dcf</td>\n",
       "      <td>5.0</td>\n",
       "      <td>2018-06</td>\n",
       "      <td>6</td>\n",
       "      <td>Summer</td>\n",
       "      <td>5.0</td>\n",
       "      <td>1.0</td>\n",
       "    </tr>\n",
       "  </tbody>\n",
       "</table>\n",
       "<p>99440 rows × 14 columns</p>\n",
       "</div>"
      ],
      "text/plain": [
       "                               order_id  payment_installment payment_type  \\\n",
       "0      00010242fe8c5a6d1ba2dd792cb16214                    2  credit_card   \n",
       "1      00018f77f2f0320c557190d7a144bdd3                    3  credit_card   \n",
       "2      000229ec398224ef6ca0657da4fc703e                    5  credit_card   \n",
       "3      00024acbcdf0a6daa1e931b038114c75                    2  credit_card   \n",
       "4      00042b26cf59d7ce69dfabb4e55b4fd9                    3  credit_card   \n",
       "...                                 ...                  ...          ...   \n",
       "99435  fffc94f6ce00a00581880bf54a75a037                    1       boleto   \n",
       "99436  fffcd46ef2263f404302a634eb57f7eb                    1       boleto   \n",
       "99437  fffce4705a9662cd70adb13d4a31832d                    3  credit_card   \n",
       "99438  fffe18544ffabc95dfada21779c9644f                    3  credit_card   \n",
       "99439  fffe41c64501cc87c801fd61db3f6244                    1  credit_card   \n",
       "\n",
       "       total_pay               category  items_commande  prod_commande  \\\n",
       "0          72.19             cool_stuff             1.0            1.0   \n",
       "1         259.83               pet_shop             1.0            1.0   \n",
       "2         216.87        furniture_decor             1.0            1.0   \n",
       "3          25.78              perfumery             1.0            1.0   \n",
       "4         218.04           garden_tools             1.0            1.0   \n",
       "...          ...                    ...             ...            ...   \n",
       "99435     343.40             housewares             1.0            1.0   \n",
       "99436     386.53  computers_accessories             1.0            1.0   \n",
       "99437     116.85         sports_leisure             1.0            1.0   \n",
       "99438      64.71  computers_accessories             1.0            1.0   \n",
       "99439      55.79         bed_bath_table             1.0            1.0   \n",
       "\n",
       "                            customer_id  delivery_time purchase_date  months  \\\n",
       "0      3ce436f183e68e07877b285a838db11a            7.0       2017-09       9   \n",
       "1      f6dd3ec061db4e3987629fe6b26e5cce           16.0       2017-04       4   \n",
       "2      6489ae5e4333f3693df5ad4372dab6d3            7.0       2018-01       1   \n",
       "3      d4eb9395c8c0431ee92fce09860c5a06            6.0       2018-08       8   \n",
       "4      58dbd0b2d70206bf40e62cd34e84d795           25.0       2017-02       2   \n",
       "...                                 ...            ...           ...     ...   \n",
       "99435  b51593916b4b8e0d6f66f2ae24f2673d           17.0       2018-04       4   \n",
       "99436  84c5d4fbaf120aae381fad077416eaa0            9.0       2018-07       7   \n",
       "99437  29309aa813182aaddc9b259e31b870e6            4.0       2017-10      10   \n",
       "99438  b5e6afd5a41800fdf401e0272ca74655            1.0       2017-08       8   \n",
       "99439  96d649da0cc4ff33bb408b199d4c7dcf            5.0       2018-06       6   \n",
       "\n",
       "       Season  rating  review  \n",
       "0      Autumn     5.0     1.0  \n",
       "1      Spring     4.0     1.0  \n",
       "2      Winter     5.0     1.0  \n",
       "3      Summer     4.0     1.0  \n",
       "4      Winter     5.0     1.0  \n",
       "...       ...     ...     ...  \n",
       "99435  Spring     5.0     1.0  \n",
       "99436  Summer     5.0     1.0  \n",
       "99437  Autumn     5.0     1.0  \n",
       "99438  Summer     5.0     1.0  \n",
       "99439  Summer     5.0     1.0  \n",
       "\n",
       "[99440 rows x 14 columns]"
      ]
     },
     "execution_count": 15,
     "metadata": {},
     "output_type": "execute_result"
    }
   ],
   "source": [
    "df_merge = pd.merge(df_client,df_review,how='left',left_on='order_id',right_on='order_id')\n",
    "df_merge"
   ]
  },
  {
   "cell_type": "code",
   "execution_count": 16,
   "metadata": {},
   "outputs": [],
   "source": [
    "df_merge2 = pd.merge(df_merge,customers,how='left',left_on='customer_id',right_on='customer_id')\n",
    "df_merge2.drop(['customer_id','customer_zip_code_prefix'],axis=1,inplace=True)\n",
    "df_merge2.dropna()\n",
    "df_merge2.category.fillna('None',inplace=True)\n",
    "sum_list = ['total_pay','items_commande','prod_commande','review']\n",
    "mod_list = ['customer_city','customer_state','category','payment_type']#,'payment_type','category']\n",
    "max_list = ['purchase_date']\n",
    "last_list = ['Season','months']\n",
    "mean_list = ['rating','delivery_time','payment_installment','freight_value','product_description_lenght','total_size']\n",
    "count_list = ['order_id']\n",
    "d1 = dict.fromkeys(sum_list, 'sum')\n",
    "d2 = dict.fromkeys(mod_list, get_mode)\n",
    "d3 = dict.fromkeys(max_list,'max')\n",
    "d4 = dict.fromkeys(last_list,'last')\n",
    "d5 = dict.fromkeys(mean_list,'mean')\n",
    "d6 = dict.fromkeys(count_list,'count')\n",
    "d = {**d1, **d2,**d3,**d4,**d5,**d6}"
   ]
  },
  {
   "cell_type": "code",
   "execution_count": 18,
   "metadata": {},
   "outputs": [],
   "source": [
    "order_items = pd.read_csv(\"../data/olist_order_items_dataset.csv\") # Commandes items\n",
    "products = pd.read_csv(\"../data/olist_products_dataset.csv\") # Produits"
   ]
  },
  {
   "cell_type": "code",
   "execution_count": 19,
   "metadata": {},
   "outputs": [
    {
     "data": {
      "text/html": [
       "<div>\n",
       "<style scoped>\n",
       "    .dataframe tbody tr th:only-of-type {\n",
       "        vertical-align: middle;\n",
       "    }\n",
       "\n",
       "    .dataframe tbody tr th {\n",
       "        vertical-align: top;\n",
       "    }\n",
       "\n",
       "    .dataframe thead th {\n",
       "        text-align: right;\n",
       "    }\n",
       "</style>\n",
       "<table border=\"1\" class=\"dataframe\">\n",
       "  <thead>\n",
       "    <tr style=\"text-align: right;\">\n",
       "      <th></th>\n",
       "      <th>order_id</th>\n",
       "      <th>freight_value</th>\n",
       "      <th>total_size</th>\n",
       "      <th>product_description_lenght</th>\n",
       "    </tr>\n",
       "  </thead>\n",
       "  <tbody>\n",
       "    <tr>\n",
       "      <th>0</th>\n",
       "      <td>00010242fe8c5a6d1ba2dd792cb16214</td>\n",
       "      <td>13.29</td>\n",
       "      <td>3528.0</td>\n",
       "      <td>598.0</td>\n",
       "    </tr>\n",
       "    <tr>\n",
       "      <th>1</th>\n",
       "      <td>00018f77f2f0320c557190d7a144bdd3</td>\n",
       "      <td>19.93</td>\n",
       "      <td>60000.0</td>\n",
       "      <td>239.0</td>\n",
       "    </tr>\n",
       "    <tr>\n",
       "      <th>2</th>\n",
       "      <td>000229ec398224ef6ca0657da4fc703e</td>\n",
       "      <td>17.87</td>\n",
       "      <td>14157.0</td>\n",
       "      <td>695.0</td>\n",
       "    </tr>\n",
       "    <tr>\n",
       "      <th>3</th>\n",
       "      <td>00024acbcdf0a6daa1e931b038114c75</td>\n",
       "      <td>12.79</td>\n",
       "      <td>2400.0</td>\n",
       "      <td>480.0</td>\n",
       "    </tr>\n",
       "    <tr>\n",
       "      <th>4</th>\n",
       "      <td>00042b26cf59d7ce69dfabb4e55b4fd9</td>\n",
       "      <td>18.14</td>\n",
       "      <td>42000.0</td>\n",
       "      <td>409.0</td>\n",
       "    </tr>\n",
       "    <tr>\n",
       "      <th>...</th>\n",
       "      <td>...</td>\n",
       "      <td>...</td>\n",
       "      <td>...</td>\n",
       "      <td>...</td>\n",
       "    </tr>\n",
       "    <tr>\n",
       "      <th>98661</th>\n",
       "      <td>fffc94f6ce00a00581880bf54a75a037</td>\n",
       "      <td>43.41</td>\n",
       "      <td>53400.0</td>\n",
       "      <td>1002.0</td>\n",
       "    </tr>\n",
       "    <tr>\n",
       "      <th>98662</th>\n",
       "      <td>fffcd46ef2263f404302a634eb57f7eb</td>\n",
       "      <td>36.53</td>\n",
       "      <td>44460.0</td>\n",
       "      <td>232.0</td>\n",
       "    </tr>\n",
       "    <tr>\n",
       "      <th>98663</th>\n",
       "      <td>fffce4705a9662cd70adb13d4a31832d</td>\n",
       "      <td>16.95</td>\n",
       "      <td>9576.0</td>\n",
       "      <td>869.0</td>\n",
       "    </tr>\n",
       "    <tr>\n",
       "      <th>98664</th>\n",
       "      <td>fffe18544ffabc95dfada21779c9644f</td>\n",
       "      <td>8.72</td>\n",
       "      <td>8000.0</td>\n",
       "      <td>1306.0</td>\n",
       "    </tr>\n",
       "    <tr>\n",
       "      <th>98665</th>\n",
       "      <td>fffe41c64501cc87c801fd61db3f6244</td>\n",
       "      <td>12.79</td>\n",
       "      <td>1710.0</td>\n",
       "      <td>511.0</td>\n",
       "    </tr>\n",
       "  </tbody>\n",
       "</table>\n",
       "<p>98666 rows × 4 columns</p>\n",
       "</div>"
      ],
      "text/plain": [
       "                               order_id  freight_value  total_size  \\\n",
       "0      00010242fe8c5a6d1ba2dd792cb16214          13.29      3528.0   \n",
       "1      00018f77f2f0320c557190d7a144bdd3          19.93     60000.0   \n",
       "2      000229ec398224ef6ca0657da4fc703e          17.87     14157.0   \n",
       "3      00024acbcdf0a6daa1e931b038114c75          12.79      2400.0   \n",
       "4      00042b26cf59d7ce69dfabb4e55b4fd9          18.14     42000.0   \n",
       "...                                 ...            ...         ...   \n",
       "98661  fffc94f6ce00a00581880bf54a75a037          43.41     53400.0   \n",
       "98662  fffcd46ef2263f404302a634eb57f7eb          36.53     44460.0   \n",
       "98663  fffce4705a9662cd70adb13d4a31832d          16.95      9576.0   \n",
       "98664  fffe18544ffabc95dfada21779c9644f           8.72      8000.0   \n",
       "98665  fffe41c64501cc87c801fd61db3f6244          12.79      1710.0   \n",
       "\n",
       "       product_description_lenght  \n",
       "0                           598.0  \n",
       "1                           239.0  \n",
       "2                           695.0  \n",
       "3                           480.0  \n",
       "4                           409.0  \n",
       "...                           ...  \n",
       "98661                      1002.0  \n",
       "98662                       232.0  \n",
       "98663                       869.0  \n",
       "98664                      1306.0  \n",
       "98665                       511.0  \n",
       "\n",
       "[98666 rows x 4 columns]"
      ]
     },
     "execution_count": 19,
     "metadata": {},
     "output_type": "execute_result"
    }
   ],
   "source": [
    "products['total_size']=products.product_height_cm*products.product_length_cm*products.product_width_cm\n",
    "\n",
    "jpp = pd.merge(order_items,products,how='left',left_on='product_id',right_on='product_id')\n",
    "jpp = jpp.groupby('order_id').agg({'freight_value':'mean','total_size':'mean','product_description_lenght':'mean'}).reset_index()\n",
    "jpp"
   ]
  },
  {
   "cell_type": "code",
   "execution_count": 20,
   "metadata": {},
   "outputs": [
    {
     "data": {
      "text/html": [
       "<div>\n",
       "<style scoped>\n",
       "    .dataframe tbody tr th:only-of-type {\n",
       "        vertical-align: middle;\n",
       "    }\n",
       "\n",
       "    .dataframe tbody tr th {\n",
       "        vertical-align: top;\n",
       "    }\n",
       "\n",
       "    .dataframe thead th {\n",
       "        text-align: right;\n",
       "    }\n",
       "</style>\n",
       "<table border=\"1\" class=\"dataframe\">\n",
       "  <thead>\n",
       "    <tr style=\"text-align: right;\">\n",
       "      <th></th>\n",
       "      <th>order_id</th>\n",
       "      <th>payment_installment</th>\n",
       "      <th>payment_type</th>\n",
       "      <th>total_pay</th>\n",
       "      <th>category</th>\n",
       "      <th>items_commande</th>\n",
       "      <th>prod_commande</th>\n",
       "      <th>delivery_time</th>\n",
       "      <th>purchase_date</th>\n",
       "      <th>months</th>\n",
       "      <th>Season</th>\n",
       "      <th>rating</th>\n",
       "      <th>review</th>\n",
       "      <th>customer_unique_id</th>\n",
       "      <th>customer_city</th>\n",
       "      <th>customer_state</th>\n",
       "      <th>freight_value</th>\n",
       "      <th>total_size</th>\n",
       "      <th>product_description_lenght</th>\n",
       "    </tr>\n",
       "  </thead>\n",
       "  <tbody>\n",
       "    <tr>\n",
       "      <th>0</th>\n",
       "      <td>00010242fe8c5a6d1ba2dd792cb16214</td>\n",
       "      <td>2</td>\n",
       "      <td>credit_card</td>\n",
       "      <td>72.19</td>\n",
       "      <td>cool_stuff</td>\n",
       "      <td>1.0</td>\n",
       "      <td>1.0</td>\n",
       "      <td>7.0</td>\n",
       "      <td>2017-09</td>\n",
       "      <td>9</td>\n",
       "      <td>Autumn</td>\n",
       "      <td>5.0</td>\n",
       "      <td>1.0</td>\n",
       "      <td>871766c5855e863f6eccc05f988b23cb</td>\n",
       "      <td>campos dos goytacazes</td>\n",
       "      <td>RJ</td>\n",
       "      <td>13.29</td>\n",
       "      <td>3528.0</td>\n",
       "      <td>598.0</td>\n",
       "    </tr>\n",
       "    <tr>\n",
       "      <th>1</th>\n",
       "      <td>00018f77f2f0320c557190d7a144bdd3</td>\n",
       "      <td>3</td>\n",
       "      <td>credit_card</td>\n",
       "      <td>259.83</td>\n",
       "      <td>pet_shop</td>\n",
       "      <td>1.0</td>\n",
       "      <td>1.0</td>\n",
       "      <td>16.0</td>\n",
       "      <td>2017-04</td>\n",
       "      <td>4</td>\n",
       "      <td>Spring</td>\n",
       "      <td>4.0</td>\n",
       "      <td>1.0</td>\n",
       "      <td>eb28e67c4c0b83846050ddfb8a35d051</td>\n",
       "      <td>santa fe do sul</td>\n",
       "      <td>SP</td>\n",
       "      <td>19.93</td>\n",
       "      <td>60000.0</td>\n",
       "      <td>239.0</td>\n",
       "    </tr>\n",
       "    <tr>\n",
       "      <th>2</th>\n",
       "      <td>000229ec398224ef6ca0657da4fc703e</td>\n",
       "      <td>5</td>\n",
       "      <td>credit_card</td>\n",
       "      <td>216.87</td>\n",
       "      <td>furniture_decor</td>\n",
       "      <td>1.0</td>\n",
       "      <td>1.0</td>\n",
       "      <td>7.0</td>\n",
       "      <td>2018-01</td>\n",
       "      <td>1</td>\n",
       "      <td>Winter</td>\n",
       "      <td>5.0</td>\n",
       "      <td>1.0</td>\n",
       "      <td>3818d81c6709e39d06b2738a8d3a2474</td>\n",
       "      <td>para de minas</td>\n",
       "      <td>MG</td>\n",
       "      <td>17.87</td>\n",
       "      <td>14157.0</td>\n",
       "      <td>695.0</td>\n",
       "    </tr>\n",
       "    <tr>\n",
       "      <th>3</th>\n",
       "      <td>00024acbcdf0a6daa1e931b038114c75</td>\n",
       "      <td>2</td>\n",
       "      <td>credit_card</td>\n",
       "      <td>25.78</td>\n",
       "      <td>perfumery</td>\n",
       "      <td>1.0</td>\n",
       "      <td>1.0</td>\n",
       "      <td>6.0</td>\n",
       "      <td>2018-08</td>\n",
       "      <td>8</td>\n",
       "      <td>Summer</td>\n",
       "      <td>4.0</td>\n",
       "      <td>1.0</td>\n",
       "      <td>af861d436cfc08b2c2ddefd0ba074622</td>\n",
       "      <td>atibaia</td>\n",
       "      <td>SP</td>\n",
       "      <td>12.79</td>\n",
       "      <td>2400.0</td>\n",
       "      <td>480.0</td>\n",
       "    </tr>\n",
       "    <tr>\n",
       "      <th>4</th>\n",
       "      <td>00042b26cf59d7ce69dfabb4e55b4fd9</td>\n",
       "      <td>3</td>\n",
       "      <td>credit_card</td>\n",
       "      <td>218.04</td>\n",
       "      <td>garden_tools</td>\n",
       "      <td>1.0</td>\n",
       "      <td>1.0</td>\n",
       "      <td>25.0</td>\n",
       "      <td>2017-02</td>\n",
       "      <td>2</td>\n",
       "      <td>Winter</td>\n",
       "      <td>5.0</td>\n",
       "      <td>1.0</td>\n",
       "      <td>64b576fb70d441e8f1b2d7d446e483c5</td>\n",
       "      <td>varzea paulista</td>\n",
       "      <td>SP</td>\n",
       "      <td>18.14</td>\n",
       "      <td>42000.0</td>\n",
       "      <td>409.0</td>\n",
       "    </tr>\n",
       "    <tr>\n",
       "      <th>...</th>\n",
       "      <td>...</td>\n",
       "      <td>...</td>\n",
       "      <td>...</td>\n",
       "      <td>...</td>\n",
       "      <td>...</td>\n",
       "      <td>...</td>\n",
       "      <td>...</td>\n",
       "      <td>...</td>\n",
       "      <td>...</td>\n",
       "      <td>...</td>\n",
       "      <td>...</td>\n",
       "      <td>...</td>\n",
       "      <td>...</td>\n",
       "      <td>...</td>\n",
       "      <td>...</td>\n",
       "      <td>...</td>\n",
       "      <td>...</td>\n",
       "      <td>...</td>\n",
       "      <td>...</td>\n",
       "    </tr>\n",
       "    <tr>\n",
       "      <th>99435</th>\n",
       "      <td>fffc94f6ce00a00581880bf54a75a037</td>\n",
       "      <td>1</td>\n",
       "      <td>boleto</td>\n",
       "      <td>343.40</td>\n",
       "      <td>housewares</td>\n",
       "      <td>1.0</td>\n",
       "      <td>1.0</td>\n",
       "      <td>17.0</td>\n",
       "      <td>2018-04</td>\n",
       "      <td>4</td>\n",
       "      <td>Spring</td>\n",
       "      <td>5.0</td>\n",
       "      <td>1.0</td>\n",
       "      <td>0c9aeda10a71f369396d0c04dce13a64</td>\n",
       "      <td>sao luis</td>\n",
       "      <td>MA</td>\n",
       "      <td>43.41</td>\n",
       "      <td>53400.0</td>\n",
       "      <td>1002.0</td>\n",
       "    </tr>\n",
       "    <tr>\n",
       "      <th>99436</th>\n",
       "      <td>fffcd46ef2263f404302a634eb57f7eb</td>\n",
       "      <td>1</td>\n",
       "      <td>boleto</td>\n",
       "      <td>386.53</td>\n",
       "      <td>computers_accessories</td>\n",
       "      <td>1.0</td>\n",
       "      <td>1.0</td>\n",
       "      <td>9.0</td>\n",
       "      <td>2018-07</td>\n",
       "      <td>7</td>\n",
       "      <td>Summer</td>\n",
       "      <td>5.0</td>\n",
       "      <td>1.0</td>\n",
       "      <td>0da9fe112eae0c74d3ba1fe16de0988b</td>\n",
       "      <td>curitiba</td>\n",
       "      <td>PR</td>\n",
       "      <td>36.53</td>\n",
       "      <td>44460.0</td>\n",
       "      <td>232.0</td>\n",
       "    </tr>\n",
       "    <tr>\n",
       "      <th>99437</th>\n",
       "      <td>fffce4705a9662cd70adb13d4a31832d</td>\n",
       "      <td>3</td>\n",
       "      <td>credit_card</td>\n",
       "      <td>116.85</td>\n",
       "      <td>sports_leisure</td>\n",
       "      <td>1.0</td>\n",
       "      <td>1.0</td>\n",
       "      <td>4.0</td>\n",
       "      <td>2017-10</td>\n",
       "      <td>10</td>\n",
       "      <td>Autumn</td>\n",
       "      <td>5.0</td>\n",
       "      <td>1.0</td>\n",
       "      <td>cd79b407828f02fdbba457111c38e4c4</td>\n",
       "      <td>sao paulo</td>\n",
       "      <td>SP</td>\n",
       "      <td>16.95</td>\n",
       "      <td>9576.0</td>\n",
       "      <td>869.0</td>\n",
       "    </tr>\n",
       "    <tr>\n",
       "      <th>99438</th>\n",
       "      <td>fffe18544ffabc95dfada21779c9644f</td>\n",
       "      <td>3</td>\n",
       "      <td>credit_card</td>\n",
       "      <td>64.71</td>\n",
       "      <td>computers_accessories</td>\n",
       "      <td>1.0</td>\n",
       "      <td>1.0</td>\n",
       "      <td>1.0</td>\n",
       "      <td>2017-08</td>\n",
       "      <td>8</td>\n",
       "      <td>Summer</td>\n",
       "      <td>5.0</td>\n",
       "      <td>1.0</td>\n",
       "      <td>eb803377c9315b564bdedad672039306</td>\n",
       "      <td>vinhedo</td>\n",
       "      <td>SP</td>\n",
       "      <td>8.72</td>\n",
       "      <td>8000.0</td>\n",
       "      <td>1306.0</td>\n",
       "    </tr>\n",
       "    <tr>\n",
       "      <th>99439</th>\n",
       "      <td>fffe41c64501cc87c801fd61db3f6244</td>\n",
       "      <td>1</td>\n",
       "      <td>credit_card</td>\n",
       "      <td>55.79</td>\n",
       "      <td>bed_bath_table</td>\n",
       "      <td>1.0</td>\n",
       "      <td>1.0</td>\n",
       "      <td>5.0</td>\n",
       "      <td>2018-06</td>\n",
       "      <td>6</td>\n",
       "      <td>Summer</td>\n",
       "      <td>5.0</td>\n",
       "      <td>1.0</td>\n",
       "      <td>cd76a00d8e3ca5e6ab9ed9ecb6667ac4</td>\n",
       "      <td>botucatu</td>\n",
       "      <td>SP</td>\n",
       "      <td>12.79</td>\n",
       "      <td>1710.0</td>\n",
       "      <td>511.0</td>\n",
       "    </tr>\n",
       "  </tbody>\n",
       "</table>\n",
       "<p>99440 rows × 19 columns</p>\n",
       "</div>"
      ],
      "text/plain": [
       "                               order_id  payment_installment payment_type  \\\n",
       "0      00010242fe8c5a6d1ba2dd792cb16214                    2  credit_card   \n",
       "1      00018f77f2f0320c557190d7a144bdd3                    3  credit_card   \n",
       "2      000229ec398224ef6ca0657da4fc703e                    5  credit_card   \n",
       "3      00024acbcdf0a6daa1e931b038114c75                    2  credit_card   \n",
       "4      00042b26cf59d7ce69dfabb4e55b4fd9                    3  credit_card   \n",
       "...                                 ...                  ...          ...   \n",
       "99435  fffc94f6ce00a00581880bf54a75a037                    1       boleto   \n",
       "99436  fffcd46ef2263f404302a634eb57f7eb                    1       boleto   \n",
       "99437  fffce4705a9662cd70adb13d4a31832d                    3  credit_card   \n",
       "99438  fffe18544ffabc95dfada21779c9644f                    3  credit_card   \n",
       "99439  fffe41c64501cc87c801fd61db3f6244                    1  credit_card   \n",
       "\n",
       "       total_pay               category  items_commande  prod_commande  \\\n",
       "0          72.19             cool_stuff             1.0            1.0   \n",
       "1         259.83               pet_shop             1.0            1.0   \n",
       "2         216.87        furniture_decor             1.0            1.0   \n",
       "3          25.78              perfumery             1.0            1.0   \n",
       "4         218.04           garden_tools             1.0            1.0   \n",
       "...          ...                    ...             ...            ...   \n",
       "99435     343.40             housewares             1.0            1.0   \n",
       "99436     386.53  computers_accessories             1.0            1.0   \n",
       "99437     116.85         sports_leisure             1.0            1.0   \n",
       "99438      64.71  computers_accessories             1.0            1.0   \n",
       "99439      55.79         bed_bath_table             1.0            1.0   \n",
       "\n",
       "       delivery_time purchase_date  months  Season  rating  review  \\\n",
       "0                7.0       2017-09       9  Autumn     5.0     1.0   \n",
       "1               16.0       2017-04       4  Spring     4.0     1.0   \n",
       "2                7.0       2018-01       1  Winter     5.0     1.0   \n",
       "3                6.0       2018-08       8  Summer     4.0     1.0   \n",
       "4               25.0       2017-02       2  Winter     5.0     1.0   \n",
       "...              ...           ...     ...     ...     ...     ...   \n",
       "99435           17.0       2018-04       4  Spring     5.0     1.0   \n",
       "99436            9.0       2018-07       7  Summer     5.0     1.0   \n",
       "99437            4.0       2017-10      10  Autumn     5.0     1.0   \n",
       "99438            1.0       2017-08       8  Summer     5.0     1.0   \n",
       "99439            5.0       2018-06       6  Summer     5.0     1.0   \n",
       "\n",
       "                     customer_unique_id          customer_city customer_state  \\\n",
       "0      871766c5855e863f6eccc05f988b23cb  campos dos goytacazes             RJ   \n",
       "1      eb28e67c4c0b83846050ddfb8a35d051        santa fe do sul             SP   \n",
       "2      3818d81c6709e39d06b2738a8d3a2474          para de minas             MG   \n",
       "3      af861d436cfc08b2c2ddefd0ba074622                atibaia             SP   \n",
       "4      64b576fb70d441e8f1b2d7d446e483c5        varzea paulista             SP   \n",
       "...                                 ...                    ...            ...   \n",
       "99435  0c9aeda10a71f369396d0c04dce13a64               sao luis             MA   \n",
       "99436  0da9fe112eae0c74d3ba1fe16de0988b               curitiba             PR   \n",
       "99437  cd79b407828f02fdbba457111c38e4c4              sao paulo             SP   \n",
       "99438  eb803377c9315b564bdedad672039306                vinhedo             SP   \n",
       "99439  cd76a00d8e3ca5e6ab9ed9ecb6667ac4               botucatu             SP   \n",
       "\n",
       "       freight_value  total_size  product_description_lenght  \n",
       "0              13.29      3528.0                       598.0  \n",
       "1              19.93     60000.0                       239.0  \n",
       "2              17.87     14157.0                       695.0  \n",
       "3              12.79      2400.0                       480.0  \n",
       "4              18.14     42000.0                       409.0  \n",
       "...              ...         ...                         ...  \n",
       "99435          43.41     53400.0                      1002.0  \n",
       "99436          36.53     44460.0                       232.0  \n",
       "99437          16.95      9576.0                       869.0  \n",
       "99438           8.72      8000.0                      1306.0  \n",
       "99439          12.79      1710.0                       511.0  \n",
       "\n",
       "[99440 rows x 19 columns]"
      ]
     },
     "execution_count": 20,
     "metadata": {},
     "output_type": "execute_result"
    }
   ],
   "source": [
    "df_merge3 = pd.merge(df_merge2,jpp,how='left',left_on='order_id',right_on='order_id')\n",
    "df_merge3"
   ]
  },
  {
   "cell_type": "code",
   "execution_count": 21,
   "metadata": {},
   "outputs": [],
   "source": [
    "df_last = df_merge3.groupby('customer_unique_id').agg(d).reset_index()\n",
    "rfm = pd.read_csv('data.csv')\n",
    "rfm.drop(['zipcode','city','state','total','no_purchase_period'],axis=1,inplace=True)"
   ]
  },
  {
   "cell_type": "code",
   "execution_count": 31,
   "metadata": {},
   "outputs": [],
   "source": [
    "df = pd.merge(df_last,rfm,how='left',left_on='customer_unique_id',right_on = 'id')\n",
    "df.drop(['id','last_purchase','customer_unique_id'],axis=1,inplace=True)\n",
    "df.dropna(how = 'any',inplace=True)"
   ]
  },
  {
   "cell_type": "code",
   "execution_count": 32,
   "metadata": {},
   "outputs": [],
   "source": [
    "transformer = {'Meubles et décoration': ['bed_bath_table','furniture_decor','office_furniture','home_comfort_2','home_confort', 'housewares', 'furniture_living_room','kitchen_dining_laundry_garden_furniture', 'furniture_bedroom','furniture_mattress_and_upholstery'],\n",
    "                'Électronique et informatique': ['audio','fixed_telephony','telephony', 'computers_accessories', 'electronics', 'consoles_games', 'computers', 'signaling_and_security','tablets_printing_image', 'cds_dvds_musicals', 'dvds_blu_ray', 'music'],\n",
    "                'Santé et beauté': ['health_beauty', 'perfumery'],\n",
    "                'Mode et accessoires': ['fashion_bags_accessories', 'fashion_underwear_beach', 'fashion_shoes', 'fashion_male_clothing', 'fashion_sport', 'luggage_accessories','fashio_female_clothing', 'fashion_childrens_clothes'],\n",
    "                'Petits appareils ménagers': ['home_appliances','home_appliances_2','small_appliances', 'small_appliances_home_oven_and_coffee', 'air_conditioning'],\n",
    "                'Outils et matériaux de construction': ['construction_tools_construction','construction_tools_safety','construction_tools_construction,' 'construction_tools_safety', 'construction_tools_lights', 'costruction_tools_garden', 'costruction_tools_tools','home_construction'],\n",
    "                'Loisirs et sports':['sports_leisure', 'garden_tools', 'musical_instruments', 'cool_stuff', 'toys', 'books_general_interest', 'books_technical', 'books_imported', 'cine_photo', 'art', 'arts_and_craftmanship'],\n",
    "                'Autres': ['stationery',  'watches_gifts', 'auto', 'christmas_supplies', 'drinks','baby', 'pet_shop', 'market_place', 'flowers', 'industry_commerce_and_business', 'food_drink', 'food', 'agro_industry_and_commerce', 'party_supplies', 'diapers_and_hygiene', 'security_and_services','la_cuisine'],\n",
    "                'Inconnu' : ['None']\n",
    "}        \n",
    "keys =transformer.keys()\n",
    "for key in keys:\n",
    "  df.category = df.category.replace(to_replace=transformer[key], value=key)\n"
   ]
  },
  {
   "cell_type": "code",
   "execution_count": 33,
   "metadata": {},
   "outputs": [],
   "source": [
    "df.columns =['total_pay', 'nb_total_items_commande', 'nb_prod_different', 'nb_review',\n",
    "       'customer_city', 'customer_state', 'category', 'payment_type','purchase_date','Season',\n",
    "       'months', 'rating_review', 'delivery_time', 'payment_installment',\n",
    "       'freight_value', 'product_description_lenght', 'total_size', 'nb_total_commande',\n",
    "       'freq', 'recense', 'montant']"
   ]
  },
  {
   "cell_type": "code",
   "execution_count": 34,
   "metadata": {},
   "outputs": [],
   "source": [
    "df['panier_moyen']=df['total_pay']/df['nb_total_commande']\n",
    "df.drop(['customer_city','customer_state'],axis=1,inplace=True)\n",
    "df.to_csv('merged.csv',index=False)\n"
   ]
  },
  {
   "attachments": {},
   "cell_type": "markdown",
   "metadata": {},
   "source": [
    "### TESST"
   ]
  },
  {
   "cell_type": "code",
   "execution_count": 35,
   "metadata": {},
   "outputs": [],
   "source": [
    "merged = pd.read_csv('merged.csv')\n",
    "df = merged.copy()\n",
    "df.recense = df.recense +3\n",
    "df.freq = df.freq +3 \n",
    "df.drop()\n"
   ]
  },
  {
   "cell_type": "code",
   "execution_count": 61,
   "metadata": {},
   "outputs": [],
   "source": [
    "from sklearn.compose import make_column_selector,make_column_transformer\n",
    "from sklearn.pipeline import make_pipeline\n",
    "from sklearn.decomposition import PCA\n",
    "from sklearn.preprocessing import MinMaxScaler,OneHotEncoder,FunctionTransformer,StandardScaler\n",
    "from sklearn.manifold import TSNE\n",
    "import plotly.express as px\n",
    "from kmodes.kprototypes import KPrototypes"
   ]
  },
  {
   "attachments": {},
   "cell_type": "markdown",
   "metadata": {},
   "source": [
    "## Clustering 2017"
   ]
  },
  {
   "cell_type": "code",
   "execution_count": 56,
   "metadata": {},
   "outputs": [],
   "source": [
    "df.sort_values('purchase_date',ascending=False,inplace=True)\n",
    "df['Year']=df.purchase_date.astype(str).str[0:4]"
   ]
  },
  {
   "cell_type": "code",
   "execution_count": 74,
   "metadata": {},
   "outputs": [],
   "source": [
    "df_2017 = df[df.Year=='2017'].drop(['purchase_date','months','Season','months','Year','nb_prod_different','nb_review','nb_total_items_commande','total_pay'],axis=1)\n",
    "df_2017_index = df_2017.index.tolist()"
   ]
  },
  {
   "cell_type": "code",
   "execution_count": 62,
   "metadata": {},
   "outputs": [],
   "source": [
    "def log(x):\n",
    "    return np.log1p(abs(x))\n",
    "transformer = FunctionTransformer(log)\n",
    "transformer2 = make_column_transformer(\n",
    "    (OneHotEncoder(sparse=False),make_column_selector(dtype_exclude=np.number)),\n",
    "    (transformer,make_column_selector(dtype_include=np.number))\n",
    "    )"
   ]
  },
  {
   "cell_type": "code",
   "execution_count": 63,
   "metadata": {},
   "outputs": [
    {
     "data": {
      "text/html": [
       "<div>\n",
       "<style scoped>\n",
       "    .dataframe tbody tr th:only-of-type {\n",
       "        vertical-align: middle;\n",
       "    }\n",
       "\n",
       "    .dataframe tbody tr th {\n",
       "        vertical-align: top;\n",
       "    }\n",
       "\n",
       "    .dataframe thead th {\n",
       "        text-align: right;\n",
       "    }\n",
       "</style>\n",
       "<table border=\"1\" class=\"dataframe\">\n",
       "  <thead>\n",
       "    <tr style=\"text-align: right;\">\n",
       "      <th></th>\n",
       "      <th>rating_review</th>\n",
       "      <th>delivery_time</th>\n",
       "      <th>payment_installment</th>\n",
       "      <th>freight_value</th>\n",
       "      <th>product_description_lenght</th>\n",
       "      <th>total_size</th>\n",
       "      <th>nb_total_commande</th>\n",
       "      <th>freq</th>\n",
       "      <th>recense</th>\n",
       "      <th>montant</th>\n",
       "      <th>panier_moyen</th>\n",
       "      <th>category</th>\n",
       "      <th>payment_type</th>\n",
       "    </tr>\n",
       "  </thead>\n",
       "  <tbody>\n",
       "    <tr>\n",
       "      <th>0</th>\n",
       "      <td>1.791759</td>\n",
       "      <td>2.197225</td>\n",
       "      <td>0.693147</td>\n",
       "      <td>2.778819</td>\n",
       "      <td>5.902633</td>\n",
       "      <td>7.390799</td>\n",
       "      <td>0.693147</td>\n",
       "      <td>1.386294</td>\n",
       "      <td>1.386294</td>\n",
       "      <td>0.693147</td>\n",
       "      <td>3.999668</td>\n",
       "      <td>Loisirs et sports</td>\n",
       "      <td>credit_card</td>\n",
       "    </tr>\n",
       "    <tr>\n",
       "      <th>1</th>\n",
       "      <td>0.693147</td>\n",
       "      <td>3.091042</td>\n",
       "      <td>0.693147</td>\n",
       "      <td>2.778819</td>\n",
       "      <td>5.996452</td>\n",
       "      <td>8.489411</td>\n",
       "      <td>0.693147</td>\n",
       "      <td>1.386294</td>\n",
       "      <td>1.386294</td>\n",
       "      <td>0.693147</td>\n",
       "      <td>4.043051</td>\n",
       "      <td>Électronique et informatique</td>\n",
       "      <td>credit_card</td>\n",
       "    </tr>\n",
       "    <tr>\n",
       "      <th>2</th>\n",
       "      <td>1.386294</td>\n",
       "      <td>2.944439</td>\n",
       "      <td>1.098612</td>\n",
       "      <td>2.782539</td>\n",
       "      <td>5.736572</td>\n",
       "      <td>6.977281</td>\n",
       "      <td>0.693147</td>\n",
       "      <td>1.386294</td>\n",
       "      <td>1.386294</td>\n",
       "      <td>0.693147</td>\n",
       "      <td>4.312944</td>\n",
       "      <td>Autres</td>\n",
       "      <td>credit_card</td>\n",
       "    </tr>\n",
       "    <tr>\n",
       "      <th>3</th>\n",
       "      <td>0.693147</td>\n",
       "      <td>3.218876</td>\n",
       "      <td>1.098612</td>\n",
       "      <td>2.842581</td>\n",
       "      <td>5.945421</td>\n",
       "      <td>9.798183</td>\n",
       "      <td>0.693147</td>\n",
       "      <td>1.386294</td>\n",
       "      <td>1.386294</td>\n",
       "      <td>0.693147</td>\n",
       "      <td>4.30609</td>\n",
       "      <td>Meubles et décoration</td>\n",
       "      <td>credit_card</td>\n",
       "    </tr>\n",
       "    <tr>\n",
       "      <th>4</th>\n",
       "      <td>1.791759</td>\n",
       "      <td>2.944439</td>\n",
       "      <td>2.397895</td>\n",
       "      <td>3.099191</td>\n",
       "      <td>7.131699</td>\n",
       "      <td>6.781058</td>\n",
       "      <td>0.693147</td>\n",
       "      <td>1.386294</td>\n",
       "      <td>1.386294</td>\n",
       "      <td>1.94591</td>\n",
       "      <td>5.701012</td>\n",
       "      <td>Autres</td>\n",
       "      <td>credit_card</td>\n",
       "    </tr>\n",
       "    <tr>\n",
       "      <th>...</th>\n",
       "      <td>...</td>\n",
       "      <td>...</td>\n",
       "      <td>...</td>\n",
       "      <td>...</td>\n",
       "      <td>...</td>\n",
       "      <td>...</td>\n",
       "      <td>...</td>\n",
       "      <td>...</td>\n",
       "      <td>...</td>\n",
       "      <td>...</td>\n",
       "      <td>...</td>\n",
       "      <td>...</td>\n",
       "      <td>...</td>\n",
       "    </tr>\n",
       "    <tr>\n",
       "      <th>40461</th>\n",
       "      <td>1.791759</td>\n",
       "      <td>2.484907</td>\n",
       "      <td>0.693147</td>\n",
       "      <td>2.84135</td>\n",
       "      <td>6.509762</td>\n",
       "      <td>8.855663</td>\n",
       "      <td>1.386294</td>\n",
       "      <td>1.386294</td>\n",
       "      <td>1.386294</td>\n",
       "      <td>2.079442</td>\n",
       "      <td>4.7706</td>\n",
       "      <td>Loisirs et sports</td>\n",
       "      <td>boleto</td>\n",
       "    </tr>\n",
       "    <tr>\n",
       "      <th>40462</th>\n",
       "      <td>1.098612</td>\n",
       "      <td>2.397895</td>\n",
       "      <td>2.397895</td>\n",
       "      <td>2.834389</td>\n",
       "      <td>7.920083</td>\n",
       "      <td>9.474319</td>\n",
       "      <td>0.693147</td>\n",
       "      <td>1.386294</td>\n",
       "      <td>1.386294</td>\n",
       "      <td>1.386294</td>\n",
       "      <td>4.990501</td>\n",
       "      <td>Loisirs et sports</td>\n",
       "      <td>credit_card</td>\n",
       "    </tr>\n",
       "    <tr>\n",
       "      <th>40463</th>\n",
       "      <td>1.791759</td>\n",
       "      <td>2.197225</td>\n",
       "      <td>0.693147</td>\n",
       "      <td>2.944439</td>\n",
       "      <td>6.318968</td>\n",
       "      <td>9.230829</td>\n",
       "      <td>0.693147</td>\n",
       "      <td>1.386294</td>\n",
       "      <td>1.386294</td>\n",
       "      <td>0.693147</td>\n",
       "      <td>3.988984</td>\n",
       "      <td>Autres</td>\n",
       "      <td>credit_card</td>\n",
       "    </tr>\n",
       "    <tr>\n",
       "      <th>40464</th>\n",
       "      <td>1.609438</td>\n",
       "      <td>1.791759</td>\n",
       "      <td>0.693147</td>\n",
       "      <td>2.481568</td>\n",
       "      <td>5.590987</td>\n",
       "      <td>6.44254</td>\n",
       "      <td>0.693147</td>\n",
       "      <td>1.386294</td>\n",
       "      <td>1.386294</td>\n",
       "      <td>0.693147</td>\n",
       "      <td>3.553918</td>\n",
       "      <td>Électronique et informatique</td>\n",
       "      <td>boleto</td>\n",
       "    </tr>\n",
       "    <tr>\n",
       "      <th>40465</th>\n",
       "      <td>1.791759</td>\n",
       "      <td>2.302585</td>\n",
       "      <td>1.386294</td>\n",
       "      <td>2.785628</td>\n",
       "      <td>6.618739</td>\n",
       "      <td>7.902857</td>\n",
       "      <td>0.693147</td>\n",
       "      <td>1.386294</td>\n",
       "      <td>1.386294</td>\n",
       "      <td>1.386294</td>\n",
       "      <td>5.107217</td>\n",
       "      <td>Autres</td>\n",
       "      <td>credit_card</td>\n",
       "    </tr>\n",
       "  </tbody>\n",
       "</table>\n",
       "<p>40466 rows × 13 columns</p>\n",
       "</div>"
      ],
      "text/plain": [
       "      rating_review delivery_time payment_installment freight_value  \\\n",
       "0          1.791759      2.197225            0.693147      2.778819   \n",
       "1          0.693147      3.091042            0.693147      2.778819   \n",
       "2          1.386294      2.944439            1.098612      2.782539   \n",
       "3          0.693147      3.218876            1.098612      2.842581   \n",
       "4          1.791759      2.944439            2.397895      3.099191   \n",
       "...             ...           ...                 ...           ...   \n",
       "40461      1.791759      2.484907            0.693147       2.84135   \n",
       "40462      1.098612      2.397895            2.397895      2.834389   \n",
       "40463      1.791759      2.197225            0.693147      2.944439   \n",
       "40464      1.609438      1.791759            0.693147      2.481568   \n",
       "40465      1.791759      2.302585            1.386294      2.785628   \n",
       "\n",
       "      product_description_lenght total_size nb_total_commande      freq  \\\n",
       "0                       5.902633   7.390799          0.693147  1.386294   \n",
       "1                       5.996452   8.489411          0.693147  1.386294   \n",
       "2                       5.736572   6.977281          0.693147  1.386294   \n",
       "3                       5.945421   9.798183          0.693147  1.386294   \n",
       "4                       7.131699   6.781058          0.693147  1.386294   \n",
       "...                          ...        ...               ...       ...   \n",
       "40461                   6.509762   8.855663          1.386294  1.386294   \n",
       "40462                   7.920083   9.474319          0.693147  1.386294   \n",
       "40463                   6.318968   9.230829          0.693147  1.386294   \n",
       "40464                   5.590987    6.44254          0.693147  1.386294   \n",
       "40465                   6.618739   7.902857          0.693147  1.386294   \n",
       "\n",
       "        recense   montant panier_moyen                      category  \\\n",
       "0      1.386294  0.693147     3.999668             Loisirs et sports   \n",
       "1      1.386294  0.693147     4.043051  Électronique et informatique   \n",
       "2      1.386294  0.693147     4.312944                        Autres   \n",
       "3      1.386294  0.693147      4.30609         Meubles et décoration   \n",
       "4      1.386294   1.94591     5.701012                        Autres   \n",
       "...         ...       ...          ...                           ...   \n",
       "40461  1.386294  2.079442       4.7706             Loisirs et sports   \n",
       "40462  1.386294  1.386294     4.990501             Loisirs et sports   \n",
       "40463  1.386294  0.693147     3.988984                        Autres   \n",
       "40464  1.386294  0.693147     3.553918  Électronique et informatique   \n",
       "40465  1.386294  1.386294     5.107217                        Autres   \n",
       "\n",
       "      payment_type  \n",
       "0      credit_card  \n",
       "1      credit_card  \n",
       "2      credit_card  \n",
       "3      credit_card  \n",
       "4      credit_card  \n",
       "...            ...  \n",
       "40461       boleto  \n",
       "40462  credit_card  \n",
       "40463  credit_card  \n",
       "40464       boleto  \n",
       "40465  credit_card  \n",
       "\n",
       "[40466 rows x 13 columns]"
      ]
     },
     "execution_count": 63,
     "metadata": {},
     "output_type": "execute_result"
    }
   ],
   "source": [
    "new_columns = df_2017.select_dtypes(np.number).columns.tolist()+df_2017.select_dtypes(object).columns.to_list()\n",
    "scaler = make_column_transformer((transformer,make_column_selector(dtype_include=np.number)),\n",
    "remainder='passthrough'\n",
    ")\n",
    "normalize =make_column_transformer((StandardScaler(),make_column_selector(dtype_include=np.number)),\n",
    "remainder='passthrough'\n",
    ")\n",
    "df_t = scaler.fit_transform(df_2017)\n",
    "test = pd.DataFrame(df_t,columns=new_columns)\n"
   ]
  },
  {
   "cell_type": "code",
   "execution_count": 68,
   "metadata": {},
   "outputs": [
    {
     "name": "stdout",
     "output_type": "stream",
     "text": [
      "Initialization method and algorithm are deterministic. Setting n_init to 1.\n",
      "Init: initializing centroids\n",
      "Init: initializing centroids\n",
      "Init: initializing clusters\n",
      "Init: initializing centroids\n",
      "Init: initializing clusters\n",
      "Init: initializing centroids\n",
      "Init: initializing centroids\n",
      "Init: initializing clusters\n",
      "Init: initializing clusters\n",
      "Init: initializing clusters\n",
      "Starting iterations...\n",
      "Starting iterations...\n",
      "Starting iterations...\n",
      "Starting iterations...\n",
      "Starting iterations...\n",
      "Run: 5, iteration: 1/50, moves: 15649, ncost: 96438.8646934393\n",
      "Run: 1, iteration: 1/50, moves: 11409, ncost: 96964.80254138878\n",
      "Run: 4, iteration: 1/50, moves: 10648, ncost: 93903.47095626043\n",
      "Run: 3, iteration: 1/50, moves: 13688, ncost: 94584.07702217471\n",
      "Run: 2, iteration: 1/50, moves: 12544, ncost: 95789.82101670645\n",
      "Run: 5, iteration: 2/50, moves: 4305, ncost: 95235.67473557466\n",
      "Run: 1, iteration: 2/50, moves: 6837, ncost: 93809.2542320306\n",
      "Run: 4, iteration: 2/50, moves: 5746, ncost: 91822.1441358754\n",
      "Run: 3, iteration: 2/50, moves: 4701, ncost: 93376.96077445468\n",
      "Run: 2, iteration: 2/50, moves: 5110, ncost: 94366.22137642116\n",
      "Run: 5, iteration: 3/50, moves: 2565, ncost: 94308.3543961626\n",
      "Run: 1, iteration: 3/50, moves: 3314, ncost: 93127.79091935082\n",
      "Run: 4, iteration: 3/50, moves: 2853, ncost: 91370.96958769043\n",
      "Run: 3, iteration: 3/50, moves: 2601, ncost: 92711.41289364384\n",
      "Run: 2, iteration: 3/50, moves: 3817, ncost: 93112.48709791903\n",
      "Run: 5, iteration: 4/50, moves: 2391, ncost: 93399.6806949955\n",
      "Run: 1, iteration: 4/50, moves: 2148, ncost: 92598.48385617748\n",
      "Run: 3, iteration: 4/50, moves: 2148, ncost: 92289.9687082166\n",
      "Run: 4, iteration: 4/50, moves: 1438, ncost: 91256.83879178163\n",
      "Run: 2, iteration: 4/50, moves: 3666, ncost: 91974.81717132371\n",
      "Run: 1, iteration: 5/50, moves: 2209, ncost: 92070.62246038952\n",
      "Run: 5, iteration: 5/50, moves: 2716, ncost: 92491.36734444635\n",
      "Run: 2, iteration: 5/50, moves: 2648, ncost: 91401.48813376509\n",
      "Run: 3, iteration: 5/50, moves: 2150, ncost: 91851.34528801318\n",
      "Run: 4, iteration: 5/50, moves: 772, ncost: 91214.46202950359\n",
      "Run: 1, iteration: 6/50, moves: 1683, ncost: 91771.40760563067\n",
      "Run: 2, iteration: 6/50, moves: 1346, ncost: 91275.82106675325\n",
      "Run: 5, iteration: 6/50, moves: 2587, ncost: 91803.32073383052\n",
      "Run: 4, iteration: 6/50, moves: 456, ncost: 91195.6320629249\n",
      "Run: 3, iteration: 6/50, moves: 1916, ncost: 91537.55680449255\n",
      "Run: 2, iteration: 7/50, moves: 840, ncost: 91218.80603216923\n",
      "Run: 1, iteration: 7/50, moves: 1127, ncost: 91630.93147760362\n",
      "Run: 4, iteration: 7/50, moves: 373, ncost: 91182.2719027953\n",
      "Run: 5, iteration: 7/50, moves: 2167, ncost: 91414.46916052522\n",
      "Run: 3, iteration: 7/50, moves: 1431, ncost: 91378.1187136602\n",
      "Run: 1, iteration: 8/50, moves: 847, ncost: 91547.33008669222\n",
      "Run: 4, iteration: 8/50, moves: 384, ncost: 91166.75494348339\n",
      "Run: 2, iteration: 8/50, moves: 493, ncost: 91201.28426937475\n",
      "Run: 5, iteration: 8/50, moves: 1470, ncost: 91264.38235060021\n",
      "Run: 3, iteration: 8/50, moves: 939, ncost: 91316.75107342133\n",
      "Run: 1, iteration: 9/50, moves: 988, ncost: 91422.597673306\n",
      "Run: 2, iteration: 9/50, moves: 345, ncost: 91192.80850343389\n",
      "Run: 4, iteration: 9/50, moves: 318, ncost: 91155.98622795747\n",
      "Run: 3, iteration: 9/50, moves: 683, ncost: 91283.75516392928\n",
      "Run: 5, iteration: 9/50, moves: 944, ncost: 91204.92646865326\n",
      "Run: 1, iteration: 10/50, moves: 864, ncost: 91352.26313280313\n",
      "Run: 2, iteration: 10/50, moves: 237, ncost: 91189.487226305\n",
      "Run: 4, iteration: 10/50, moves: 223, ncost: 91150.92898762913\n",
      "Run: 5, iteration: 10/50, moves: 570, ncost: 91183.80298536345\n",
      "Run: 3, iteration: 10/50, moves: 604, ncost: 91253.75783925771\n",
      "Run: 2, iteration: 11/50, moves: 112, ncost: 91188.67013382642\n",
      "Run: 4, iteration: 11/50, moves: 152, ncost: 91148.41336756964\n",
      "Run: 1, iteration: 11/50, moves: 531, ncost: 91299.32095480843\n",
      "Run: 5, iteration: 11/50, moves: 418, ncost: 91170.09259301408\n",
      "Run: 2, iteration: 12/50, moves: 43, ncost: 91188.50689438508\n",
      "Run: 3, iteration: 11/50, moves: 604, ncost: 91218.14416465865\n",
      "Run: 4, iteration: 12/50, moves: 120, ncost: 91146.86863995851\n",
      "Run: 1, iteration: 12/50, moves: 493, ncost: 91285.60149006733\n",
      "Run: 5, iteration: 12/50, moves: 318, ncost: 91162.48518130743\n",
      "Run: 3, iteration: 12/50, moves: 488, ncost: 91196.7936527597\n",
      "Run: 2, iteration: 13/50, moves: 31, ncost: 91188.40542604744\n",
      "Run: 4, iteration: 13/50, moves: 83, ncost: 91146.03457834218\n",
      "Run: 5, iteration: 13/50, moves: 201, ncost: 91159.18114278148\n",
      "Run: 1, iteration: 13/50, moves: 234, ncost: 91280.51316764046\n",
      "Run: 3, iteration: 13/50, moves: 373, ncost: 91183.43597763126\n",
      "Run: 4, iteration: 14/50, moves: 65, ncost: 91145.64908325687\n",
      "Run: 2, iteration: 14/50, moves: 16, ncost: 91188.3757128185\n",
      "Run: 5, iteration: 14/50, moves: 155, ncost: 91156.91328687404\n",
      "Run: 1, iteration: 14/50, moves: 143, ncost: 91278.65674768962\n",
      "Run: 4, iteration: 15/50, moves: 39, ncost: 91145.48614638457\n",
      "Run: 5, iteration: 15/50, moves: 138, ncost: 91155.08839813301\n",
      "Run: 3, iteration: 14/50, moves: 374, ncost: 91168.47947767744\n",
      "Run: 1, iteration: 15/50, moves: 122, ncost: 91277.42085150798\n",
      "Run: 2, iteration: 15/50, moves: 2, ncost: 91188.3730904659\n",
      "Run: 4, iteration: 16/50, moves: 38, ncost: 91145.35363207354\n",
      "Run: 5, iteration: 16/50, moves: 87, ncost: 91154.39496449372\n",
      "Run: 1, iteration: 16/50, moves: 59, ncost: 91277.05374161417\n",
      "Run: 4, iteration: 17/50, moves: 34, ncost: 91145.21636673773\n",
      "Run: 3, iteration: 15/50, moves: 309, ncost: 91157.49281259334\n",
      "Run: 2, iteration: 16/50, moves: 0, ncost: 91188.3730904659\n",
      "Run: 5, iteration: 17/50, moves: 53, ncost: 91154.14125103845\n",
      "Run: 1, iteration: 17/50, moves: 42, ncost: 91276.89050707943\n",
      "Run: 4, iteration: 18/50, moves: 15, ncost: 91145.17051428162\n",
      "Run: 3, iteration: 16/50, moves: 250, ncost: 91151.60305373272\n",
      "Run: 5, iteration: 18/50, moves: 32, ncost: 91154.03763088798\n",
      "Run: 1, iteration: 18/50, moves: 13, ncost: 91276.86025739422\n",
      "Run: 4, iteration: 19/50, moves: 10, ncost: 91145.15371287512\n",
      "Run: 3, iteration: 17/50, moves: 143, ncost: 91148.9591964472\n",
      "Run: 5, iteration: 19/50, moves: 20, ncost: 91153.98621568065\n",
      "Run: 1, iteration: 19/50, moves: 11, ncost: 91276.84129080093\n",
      "Run: 4, iteration: 20/50, moves: 6, ncost: 91145.14726901753\n",
      "Run: 5, iteration: 20/50, moves: 20, ncost: 91153.92599587553\n",
      "Run: 3, iteration: 18/50, moves: 125, ncost: 91147.17827905965\n",
      "Run: 1, iteration: 20/50, moves: 6, ncost: 91276.8277230533\n",
      "Run: 4, iteration: 21/50, moves: 7, ncost: 91145.14019082629\n",
      "Run: 5, iteration: 21/50, moves: 10, ncost: 91153.91261024468\n",
      "Run: 3, iteration: 19/50, moves: 93, ncost: 91146.16428637273\n",
      "Run: 1, iteration: 21/50, moves: 10, ncost: 91276.8063687463\n",
      "Run: 4, iteration: 22/50, moves: 5, ncost: 91145.13327674834\n",
      "Run: 5, iteration: 22/50, moves: 7, ncost: 91153.9019590008\n",
      "Run: 3, iteration: 20/50, moves: 62, ncost: 91145.7864800314\n",
      "Run: 1, iteration: 22/50, moves: 3, ncost: 91276.80052879757\n",
      "Run: 4, iteration: 23/50, moves: 3, ncost: 91145.12884136134\n",
      "Run: 3, iteration: 21/50, moves: 56, ncost: 91145.50831691128\n",
      "Run: 5, iteration: 23/50, moves: 10, ncost: 91153.88942338737\n",
      "Run: 1, iteration: 23/50, moves: 1, ncost: 91276.80019882065\n",
      "Run: 4, iteration: 24/50, moves: 0, ncost: 91145.12884136134\n",
      "Run: 3, iteration: 22/50, moves: 41, ncost: 91145.35911452745\n",
      "Run: 5, iteration: 24/50, moves: 3, ncost: 91153.88571841862\n",
      "Run: 1, iteration: 24/50, moves: 0, ncost: 91276.80019882065\n",
      "Run: 3, iteration: 23/50, moves: 35, ncost: 91145.21636673746\n",
      "Run: 5, iteration: 25/50, moves: 5, ncost: 91153.88251452641\n",
      "Run: 3, iteration: 24/50, moves: 15, ncost: 91145.17051428194\n",
      "Run: 5, iteration: 26/50, moves: 0, ncost: 91153.88251452641\n",
      "Run: 3, iteration: 25/50, moves: 10, ncost: 91145.153712875\n",
      "Run: 3, iteration: 26/50, moves: 6, ncost: 91145.1472690175\n",
      "Run: 3, iteration: 27/50, moves: 7, ncost: 91145.14019082641\n",
      "Run: 3, iteration: 28/50, moves: 5, ncost: 91145.13327674814\n",
      "Run: 3, iteration: 29/50, moves: 3, ncost: 91145.12884136123\n",
      "Run: 3, iteration: 30/50, moves: 0, ncost: 91145.12884136123\n",
      "Best run was number 3\n"
     ]
    }
   ],
   "source": [
    "k = 5\n",
    "df_test =normalize.fit_transform(test)\n",
    "model = KPrototypes(n_clusters=k, init=\"Cao\", verbose=2, n_jobs=-1, n_init=5, max_iter=50, random_state=42)\n",
    "\n",
    "clusters = model.fit_predict(df_t, categorical=[11,12])\n"
   ]
  },
  {
   "cell_type": "code",
   "execution_count": 69,
   "metadata": {},
   "outputs": [],
   "source": [
    "clusters_list = []\n",
    "for c in clusters:\n",
    "    clusters_list.append(c)"
   ]
  },
  {
   "attachments": {},
   "cell_type": "markdown",
   "metadata": {},
   "source": [
    "## CLUSTERING 2017 N+3\n"
   ]
  },
  {
   "cell_type": "code",
   "execution_count": 77,
   "metadata": {},
   "outputs": [
    {
     "data": {
      "text/html": [
       "<div>\n",
       "<style scoped>\n",
       "    .dataframe tbody tr th:only-of-type {\n",
       "        vertical-align: middle;\n",
       "    }\n",
       "\n",
       "    .dataframe tbody tr th {\n",
       "        vertical-align: top;\n",
       "    }\n",
       "\n",
       "    .dataframe thead th {\n",
       "        text-align: right;\n",
       "    }\n",
       "</style>\n",
       "<table border=\"1\" class=\"dataframe\">\n",
       "  <thead>\n",
       "    <tr style=\"text-align: right;\">\n",
       "      <th></th>\n",
       "      <th>total_pay</th>\n",
       "      <th>nb_total_items_commande</th>\n",
       "      <th>nb_prod_different</th>\n",
       "      <th>nb_review</th>\n",
       "      <th>category</th>\n",
       "      <th>payment_type</th>\n",
       "      <th>purchase_date</th>\n",
       "      <th>Season</th>\n",
       "      <th>months</th>\n",
       "      <th>rating_review</th>\n",
       "      <th>...</th>\n",
       "      <th>payment_installment</th>\n",
       "      <th>freight_value</th>\n",
       "      <th>product_description_lenght</th>\n",
       "      <th>total_size</th>\n",
       "      <th>nb_total_commande</th>\n",
       "      <th>freq</th>\n",
       "      <th>recense</th>\n",
       "      <th>montant</th>\n",
       "      <th>panier_moyen</th>\n",
       "      <th>Year</th>\n",
       "    </tr>\n",
       "  </thead>\n",
       "  <tbody>\n",
       "    <tr>\n",
       "      <th>24590</th>\n",
       "      <td>88.26</td>\n",
       "      <td>1.0</td>\n",
       "      <td>1.0</td>\n",
       "      <td>1.0</td>\n",
       "      <td>Autres</td>\n",
       "      <td>boleto</td>\n",
       "      <td>2018-08-01</td>\n",
       "      <td>Summer</td>\n",
       "      <td>8</td>\n",
       "      <td>5.0</td>\n",
       "      <td>...</td>\n",
       "      <td>1.0</td>\n",
       "      <td>23.26</td>\n",
       "      <td>791.0</td>\n",
       "      <td>19200.0</td>\n",
       "      <td>1</td>\n",
       "      <td>6</td>\n",
       "      <td>13.0</td>\n",
       "      <td>2</td>\n",
       "      <td>88.26</td>\n",
       "      <td>2018</td>\n",
       "    </tr>\n",
       "    <tr>\n",
       "      <th>37244</th>\n",
       "      <td>674.82</td>\n",
       "      <td>1.0</td>\n",
       "      <td>1.0</td>\n",
       "      <td>1.0</td>\n",
       "      <td>Santé et beauté</td>\n",
       "      <td>credit_card</td>\n",
       "      <td>2018-08-01</td>\n",
       "      <td>Summer</td>\n",
       "      <td>8</td>\n",
       "      <td>5.0</td>\n",
       "      <td>...</td>\n",
       "      <td>10.0</td>\n",
       "      <td>26.82</td>\n",
       "      <td>3866.0</td>\n",
       "      <td>4800.0</td>\n",
       "      <td>1</td>\n",
       "      <td>6</td>\n",
       "      <td>13.0</td>\n",
       "      <td>10</td>\n",
       "      <td>674.82</td>\n",
       "      <td>2018</td>\n",
       "    </tr>\n",
       "    <tr>\n",
       "      <th>65062</th>\n",
       "      <td>26.38</td>\n",
       "      <td>1.0</td>\n",
       "      <td>1.0</td>\n",
       "      <td>1.0</td>\n",
       "      <td>Électronique et informatique</td>\n",
       "      <td>credit_card</td>\n",
       "      <td>2018-08-01</td>\n",
       "      <td>Summer</td>\n",
       "      <td>8</td>\n",
       "      <td>4.0</td>\n",
       "      <td>...</td>\n",
       "      <td>1.0</td>\n",
       "      <td>7.39</td>\n",
       "      <td>517.0</td>\n",
       "      <td>1344.0</td>\n",
       "      <td>1</td>\n",
       "      <td>6</td>\n",
       "      <td>13.0</td>\n",
       "      <td>1</td>\n",
       "      <td>26.38</td>\n",
       "      <td>2018</td>\n",
       "    </tr>\n",
       "    <tr>\n",
       "      <th>82594</th>\n",
       "      <td>192.03</td>\n",
       "      <td>1.0</td>\n",
       "      <td>1.0</td>\n",
       "      <td>1.0</td>\n",
       "      <td>Meubles et décoration</td>\n",
       "      <td>credit_card</td>\n",
       "      <td>2018-08-01</td>\n",
       "      <td>Summer</td>\n",
       "      <td>8</td>\n",
       "      <td>5.0</td>\n",
       "      <td>...</td>\n",
       "      <td>3.0</td>\n",
       "      <td>42.03</td>\n",
       "      <td>616.0</td>\n",
       "      <td>31500.0</td>\n",
       "      <td>1</td>\n",
       "      <td>6</td>\n",
       "      <td>13.0</td>\n",
       "      <td>4</td>\n",
       "      <td>192.03</td>\n",
       "      <td>2018</td>\n",
       "    </tr>\n",
       "    <tr>\n",
       "      <th>37167</th>\n",
       "      <td>195.61</td>\n",
       "      <td>1.0</td>\n",
       "      <td>1.0</td>\n",
       "      <td>1.0</td>\n",
       "      <td>Électronique et informatique</td>\n",
       "      <td>boleto</td>\n",
       "      <td>2018-08-01</td>\n",
       "      <td>Summer</td>\n",
       "      <td>8</td>\n",
       "      <td>5.0</td>\n",
       "      <td>...</td>\n",
       "      <td>1.0</td>\n",
       "      <td>15.71</td>\n",
       "      <td>977.0</td>\n",
       "      <td>4800.0</td>\n",
       "      <td>1</td>\n",
       "      <td>6</td>\n",
       "      <td>13.0</td>\n",
       "      <td>4</td>\n",
       "      <td>195.61</td>\n",
       "      <td>2018</td>\n",
       "    </tr>\n",
       "    <tr>\n",
       "      <th>...</th>\n",
       "      <td>...</td>\n",
       "      <td>...</td>\n",
       "      <td>...</td>\n",
       "      <td>...</td>\n",
       "      <td>...</td>\n",
       "      <td>...</td>\n",
       "      <td>...</td>\n",
       "      <td>...</td>\n",
       "      <td>...</td>\n",
       "      <td>...</td>\n",
       "      <td>...</td>\n",
       "      <td>...</td>\n",
       "      <td>...</td>\n",
       "      <td>...</td>\n",
       "      <td>...</td>\n",
       "      <td>...</td>\n",
       "      <td>...</td>\n",
       "      <td>...</td>\n",
       "      <td>...</td>\n",
       "      <td>...</td>\n",
       "      <td>...</td>\n",
       "    </tr>\n",
       "    <tr>\n",
       "      <th>89606</th>\n",
       "      <td>65.46</td>\n",
       "      <td>1.0</td>\n",
       "      <td>1.0</td>\n",
       "      <td>1.0</td>\n",
       "      <td>Santé et beauté</td>\n",
       "      <td>credit_card</td>\n",
       "      <td>2016-10-01</td>\n",
       "      <td>Autumn</td>\n",
       "      <td>10</td>\n",
       "      <td>3.0</td>\n",
       "      <td>...</td>\n",
       "      <td>1.0</td>\n",
       "      <td>15.56</td>\n",
       "      <td>565.0</td>\n",
       "      <td>5100.0</td>\n",
       "      <td>1</td>\n",
       "      <td>3</td>\n",
       "      <td>3.0</td>\n",
       "      <td>1</td>\n",
       "      <td>65.46</td>\n",
       "      <td>2016</td>\n",
       "    </tr>\n",
       "    <tr>\n",
       "      <th>63888</th>\n",
       "      <td>89.16</td>\n",
       "      <td>1.0</td>\n",
       "      <td>1.0</td>\n",
       "      <td>1.0</td>\n",
       "      <td>Loisirs et sports</td>\n",
       "      <td>credit_card</td>\n",
       "      <td>2016-10-01</td>\n",
       "      <td>Autumn</td>\n",
       "      <td>10</td>\n",
       "      <td>5.0</td>\n",
       "      <td>...</td>\n",
       "      <td>2.0</td>\n",
       "      <td>19.26</td>\n",
       "      <td>1115.0</td>\n",
       "      <td>13800.0</td>\n",
       "      <td>1</td>\n",
       "      <td>3</td>\n",
       "      <td>3.0</td>\n",
       "      <td>2</td>\n",
       "      <td>89.16</td>\n",
       "      <td>2016</td>\n",
       "    </tr>\n",
       "    <tr>\n",
       "      <th>27160</th>\n",
       "      <td>214.98</td>\n",
       "      <td>1.0</td>\n",
       "      <td>1.0</td>\n",
       "      <td>1.0</td>\n",
       "      <td>Électronique et informatique</td>\n",
       "      <td>credit_card</td>\n",
       "      <td>2016-10-01</td>\n",
       "      <td>Autumn</td>\n",
       "      <td>10</td>\n",
       "      <td>5.0</td>\n",
       "      <td>...</td>\n",
       "      <td>7.0</td>\n",
       "      <td>15.98</td>\n",
       "      <td>607.0</td>\n",
       "      <td>1768.0</td>\n",
       "      <td>1</td>\n",
       "      <td>3</td>\n",
       "      <td>3.0</td>\n",
       "      <td>4</td>\n",
       "      <td>214.98</td>\n",
       "      <td>2016</td>\n",
       "    </tr>\n",
       "    <tr>\n",
       "      <th>79586</th>\n",
       "      <td>71.21</td>\n",
       "      <td>1.0</td>\n",
       "      <td>1.0</td>\n",
       "      <td>1.0</td>\n",
       "      <td>Santé et beauté</td>\n",
       "      <td>credit_card</td>\n",
       "      <td>2016-10-01</td>\n",
       "      <td>Autumn</td>\n",
       "      <td>10</td>\n",
       "      <td>5.0</td>\n",
       "      <td>...</td>\n",
       "      <td>1.0</td>\n",
       "      <td>11.31</td>\n",
       "      <td>1739.0</td>\n",
       "      <td>8000.0</td>\n",
       "      <td>1</td>\n",
       "      <td>3</td>\n",
       "      <td>3.0</td>\n",
       "      <td>1</td>\n",
       "      <td>71.21</td>\n",
       "      <td>2016</td>\n",
       "    </tr>\n",
       "    <tr>\n",
       "      <th>85400</th>\n",
       "      <td>121.13</td>\n",
       "      <td>1.0</td>\n",
       "      <td>1.0</td>\n",
       "      <td>1.0</td>\n",
       "      <td>Meubles et décoration</td>\n",
       "      <td>credit_card</td>\n",
       "      <td>2016-10-01</td>\n",
       "      <td>Autumn</td>\n",
       "      <td>10</td>\n",
       "      <td>1.0</td>\n",
       "      <td>...</td>\n",
       "      <td>6.0</td>\n",
       "      <td>11.23</td>\n",
       "      <td>1688.0</td>\n",
       "      <td>4624.0</td>\n",
       "      <td>1</td>\n",
       "      <td>3</td>\n",
       "      <td>3.0</td>\n",
       "      <td>2</td>\n",
       "      <td>121.13</td>\n",
       "      <td>2016</td>\n",
       "    </tr>\n",
       "  </tbody>\n",
       "</table>\n",
       "<p>91484 rows × 21 columns</p>\n",
       "</div>"
      ],
      "text/plain": [
       "       total_pay  nb_total_items_commande  nb_prod_different  nb_review  \\\n",
       "24590      88.26                      1.0                1.0        1.0   \n",
       "37244     674.82                      1.0                1.0        1.0   \n",
       "65062      26.38                      1.0                1.0        1.0   \n",
       "82594     192.03                      1.0                1.0        1.0   \n",
       "37167     195.61                      1.0                1.0        1.0   \n",
       "...          ...                      ...                ...        ...   \n",
       "89606      65.46                      1.0                1.0        1.0   \n",
       "63888      89.16                      1.0                1.0        1.0   \n",
       "27160     214.98                      1.0                1.0        1.0   \n",
       "79586      71.21                      1.0                1.0        1.0   \n",
       "85400     121.13                      1.0                1.0        1.0   \n",
       "\n",
       "                           category payment_type purchase_date  Season  \\\n",
       "24590                        Autres       boleto    2018-08-01  Summer   \n",
       "37244               Santé et beauté  credit_card    2018-08-01  Summer   \n",
       "65062  Électronique et informatique  credit_card    2018-08-01  Summer   \n",
       "82594         Meubles et décoration  credit_card    2018-08-01  Summer   \n",
       "37167  Électronique et informatique       boleto    2018-08-01  Summer   \n",
       "...                             ...          ...           ...     ...   \n",
       "89606               Santé et beauté  credit_card    2016-10-01  Autumn   \n",
       "63888             Loisirs et sports  credit_card    2016-10-01  Autumn   \n",
       "27160  Électronique et informatique  credit_card    2016-10-01  Autumn   \n",
       "79586               Santé et beauté  credit_card    2016-10-01  Autumn   \n",
       "85400         Meubles et décoration  credit_card    2016-10-01  Autumn   \n",
       "\n",
       "       months  rating_review  ...  payment_installment  freight_value  \\\n",
       "24590       8            5.0  ...                  1.0          23.26   \n",
       "37244       8            5.0  ...                 10.0          26.82   \n",
       "65062       8            4.0  ...                  1.0           7.39   \n",
       "82594       8            5.0  ...                  3.0          42.03   \n",
       "37167       8            5.0  ...                  1.0          15.71   \n",
       "...       ...            ...  ...                  ...            ...   \n",
       "89606      10            3.0  ...                  1.0          15.56   \n",
       "63888      10            5.0  ...                  2.0          19.26   \n",
       "27160      10            5.0  ...                  7.0          15.98   \n",
       "79586      10            5.0  ...                  1.0          11.31   \n",
       "85400      10            1.0  ...                  6.0          11.23   \n",
       "\n",
       "       product_description_lenght  total_size  nb_total_commande  freq  \\\n",
       "24590                       791.0     19200.0                  1     6   \n",
       "37244                      3866.0      4800.0                  1     6   \n",
       "65062                       517.0      1344.0                  1     6   \n",
       "82594                       616.0     31500.0                  1     6   \n",
       "37167                       977.0      4800.0                  1     6   \n",
       "...                           ...         ...                ...   ...   \n",
       "89606                       565.0      5100.0                  1     3   \n",
       "63888                      1115.0     13800.0                  1     3   \n",
       "27160                       607.0      1768.0                  1     3   \n",
       "79586                      1739.0      8000.0                  1     3   \n",
       "85400                      1688.0      4624.0                  1     3   \n",
       "\n",
       "       recense  montant  panier_moyen  Year  \n",
       "24590     13.0        2         88.26  2018  \n",
       "37244     13.0       10        674.82  2018  \n",
       "65062     13.0        1         26.38  2018  \n",
       "82594     13.0        4        192.03  2018  \n",
       "37167     13.0        4        195.61  2018  \n",
       "...        ...      ...           ...   ...  \n",
       "89606      3.0        1         65.46  2016  \n",
       "63888      3.0        2         89.16  2016  \n",
       "27160      3.0        4        214.98  2016  \n",
       "79586      3.0        1         71.21  2016  \n",
       "85400      3.0        2        121.13  2016  \n",
       "\n",
       "[91484 rows x 21 columns]"
      ]
     },
     "execution_count": 77,
     "metadata": {},
     "output_type": "execute_result"
    }
   ],
   "source": [
    "df.purchase_date = pd.to_datetime(df.purchase_date)\n"
   ]
  },
  {
   "cell_type": "code",
   "execution_count": 89,
   "metadata": {},
   "outputs": [],
   "source": [
    "df_2017_n3 = df[(df.purchase_date >= '2017') & (df.purchase_date <= '2018-03')].drop(['purchase_date','months','Season','months','Year','nb_prod_different','nb_review','nb_total_items_commande','total_pay'],axis=1)"
   ]
  },
  {
   "cell_type": "code",
   "execution_count": 90,
   "metadata": {},
   "outputs": [],
   "source": [
    "new_columns = df_2017_n3.select_dtypes(np.number).columns.tolist()+df_2017_n3.select_dtypes(object).columns.to_list()\n",
    "scaler = make_column_transformer((transformer,make_column_selector(dtype_include=np.number)),\n",
    "remainder='passthrough'\n",
    ")\n",
    "normalize =make_column_transformer((StandardScaler(),make_column_selector(dtype_include=np.number)),\n",
    "remainder='passthrough'\n",
    ")\n",
    "df_t2 = scaler.fit_transform(df_2017_n3)\n",
    "test = pd.DataFrame(df_t2,columns=new_columns)"
   ]
  },
  {
   "cell_type": "code",
   "execution_count": null,
   "metadata": {},
   "outputs": [],
   "source": [
    "k = 5\n",
    "df_test =normalize.fit_transform(test)\n",
    "model = KPrototypes(n_clusters=k, init=\"Cao\", verbose=2, n_jobs=-1, n_init=5, max_iter=50, random_state=42)\n",
    "\n",
    "clusters = model.fit_predict(df_t2, categorical=[11,12])\n"
   ]
  },
  {
   "attachments": {},
   "cell_type": "markdown",
   "metadata": {},
   "source": [
    "## PCA"
   ]
  },
  {
   "cell_type": "code",
   "execution_count": null,
   "metadata": {},
   "outputs": [],
   "source": [
    "# preprocessing = make_pipeline(transformer2,MinMaxScaler())\n",
    "pca = make_pipeline(transformer2,PCA(n_components=0.95))\n",
    "components = pca.fit_transform(df_2017_n3)\n",
    "df_pca = pd.DataFrame(components)\n",
    "df_pca['cluster'] = clusters_list\n"
   ]
  },
  {
   "cell_type": "code",
   "execution_count": 72,
   "metadata": {},
   "outputs": [
    {
     "data": {
      "text/plain": [
       "<AxesSubplot:xlabel='0', ylabel='1'>"
      ]
     },
     "execution_count": 72,
     "metadata": {},
     "output_type": "execute_result"
    },
    {
     "data": {
      "image/png": "[encoded data removed]",
      "text/plain": [
       "<Figure size 640x480 with 1 Axes>"
      ]
     },
     "metadata": {},
     "output_type": "display_data"
    }
   ],
   "source": [
    "sns.scatterplot(data=df_pca,x=df_pca.iloc[:,0],y=df_pca.iloc[:,1],hue='cluster',palette='viridis')"
   ]
  },
  {
   "cell_type": "code",
   "execution_count": null,
   "metadata": {},
   "outputs": [],
   "source": [
    "# graph = components[:, 0:2]\n",
    "\n",
    "\n",
    "# loadings = graph\n",
    "\n",
    "# fig = px.scatter(graph, x=0, y=1, color=df_pca['cluster'])\n",
    "\n",
    "# for i, feature in enumerate(new_columns):\n",
    "#     fig.add_annotation(\n",
    "#         ax=0, ay=0,\n",
    "#         axref=\"x\", ayref=\"y\",\n",
    "#         x=loadings[i, 0],\n",
    "#         y=loadings[i, 1],\n",
    "#         showarrow=True,\n",
    "#         arrowsize=2,\n",
    "#         arrowhead=2,\n",
    "#         xanchor=\"right\",\n",
    "#         yanchor=\"top\"\n",
    "#     )\n",
    "#     fig.add_annotation(\n",
    "#         x=loadings[i, 0],\n",
    "#         y=loadings[i, 1],\n",
    "#         ax=0, ay=0,\n",
    "#         xanchor=\"center\",\n",
    "#         yanchor=\"bottom\",\n",
    "#         text=feature,\n",
    "#         yshift=5,\n",
    "#     )\n",
    "# fig.show()\n"
   ]
  },
  {
   "attachments": {},
   "cell_type": "markdown",
   "metadata": {},
   "source": [
    "### Clustering 2017 N+3"
   ]
  },
  {
   "cell_type": "code",
   "execution_count": null,
   "metadata": {},
   "outputs": [],
   "source": []
  },
  {
   "cell_type": "code",
   "execution_count": null,
   "metadata": {},
   "outputs": [],
   "source": []
  },
  {
   "attachments": {},
   "cell_type": "markdown",
   "metadata": {},
   "source": [
    "## Analyse"
   ]
  },
  {
   "cell_type": "code",
   "execution_count": null,
   "metadata": {},
   "outputs": [
    {
     "data": {
      "image/png": "[encoded data removed]",
      "text/plain": [
       "<Figure size 2000x1800 with 12 Axes>"
      ]
     },
     "metadata": {},
     "output_type": "display_data"
    }
   ],
   "source": [
    "fig, ax =plt.subplots(4,3,figsize=(20,18))\n",
    "plt.suptitle(\"Distribution des variables dans notre jeu de donnée\",fontsize =20)\n",
    "n=0\n",
    "p=0\n",
    "for name in df.columns.tolist():\n",
    "    sns.histplot(ax=ax[n,p],x=name,data=df)\n",
    "    if p ==0 or p%2!=0:\n",
    "        p+=1\n",
    "    elif p == 2 :\n",
    "        p=0\n",
    "        n+=1"
   ]
  },
  {
   "cell_type": "code",
   "execution_count": null,
   "metadata": {},
   "outputs": [],
   "source": [
    "mms = MinMaxScaler(feature_range =(1,5))"
   ]
  },
  {
   "cell_type": "code",
   "execution_count": null,
   "metadata": {},
   "outputs": [],
   "source": [
    "clusters_means = df.select_dtypes(np.number).drop('clusters',axis=1)\n",
    "cmn= clusters_means.columns.tolist()"
   ]
  },
  {
   "cell_type": "code",
   "execution_count": null,
   "metadata": {},
   "outputs": [],
   "source": [
    "df_clusters = pd.DataFrame(mms.fit_transform(clusters_means),columns =cmn)\n",
    "df_clusters['clusters']=clusters_list\n",
    "df_clusters= df_clusters.groupby('clusters').agg('median').reset_index()"
   ]
  },
  {
   "cell_type": "code",
   "execution_count": null,
   "metadata": {},
   "outputs": [],
   "source": [
    "import plotly.graph_objects as go"
   ]
  },
  {
   "cell_type": "code",
   "execution_count": null,
   "metadata": {},
   "outputs": [
    {
     "data": {
      "application/vnd.plotly.v1+json": {
       "config": {
        "plotlyServerURL": "https://plot.ly"
       },
       "data": [
        {
         "fill": "toself",
         "name": "Cluster 0",
         "r": [
          0,
          1.0478260264572312,
          1.1666666666666667,
          1.2692307692307692,
          1.5,
          1,
          1,
          1,
          2.2,
          1.0464638371700445
         ],
         "theta": [
          "total_pay",
          "nb_total_items_commande",
          "delivery_time",
          "payment_installment",
          "nb_total_commande",
          "freq",
          "recense",
          "montant",
          "panier_moyen"
         ],
         "type": "scatterpolar"
        },
        {
         "fill": "toself",
         "name": "Cluster 1",
         "r": [
          1,
          1.034738756262592,
          1.1666666666666667,
          1.1153846153846154,
          1.3333333333333333,
          1,
          1.1666666666666667,
          3.4,
          2.2,
          1.0336812286654427
         ],
         "theta": [
          "total_pay",
          "nb_total_items_commande",
          "delivery_time",
          "payment_installment",
          "nb_total_commande",
          "freq",
          "recense",
          "montant",
          "panier_moyen"
         ],
         "type": "scatterpolar"
        },
        {
         "fill": "toself",
         "name": "Cluster 2",
         "r": [
          2,
          1.01891538973627,
          1.1666666666666667,
          1.2692307692307692,
          1.1666666666666667,
          1,
          1,
          1,
          1.4,
          1.0186751757114327
         ],
         "theta": [
          "total_pay",
          "nb_total_items_commande",
          "delivery_time",
          "payment_installment",
          "nb_total_commande",
          "freq",
          "recense",
          "montant",
          "panier_moyen"
         ],
         "type": "scatterpolar"
        },
        {
         "fill": "toself",
         "name": "Cluster 3",
         "r": [
          3,
          1.124117414857677,
          1.1666666666666667,
          1.2019230769230769,
          1.8333333333333333,
          1,
          1.1666666666666667,
          2.2,
          4.6,
          1.1189205894910759
         ],
         "theta": [
          "total_pay",
          "nb_total_items_commande",
          "delivery_time",
          "payment_installment",
          "nb_total_commande",
          "freq",
          "recense",
          "montant",
          "panier_moyen"
         ],
         "type": "scatterpolar"
        },
        {
         "fill": "toself",
         "name": "Cluster 4",
         "r": [
          4,
          1.0097169502485996,
          1.1666666666666667,
          1.1153846153846154,
          1.1666666666666667,
          1,
          1.1666666666666667,
          2.2,
          1.4,
          1.0096642203407085
         ],
         "theta": [
          "total_pay",
          "nb_total_items_commande",
          "delivery_time",
          "payment_installment",
          "nb_total_commande",
          "freq",
          "recense",
          "montant",
          "panier_moyen"
         ],
         "type": "scatterpolar"
        }
       ],
       "layout": {
        "height": 780,
        "polar": {
         "radialaxis": {
          "range": [
           0,
           5
          ],
          "visible": true
         }
        },
        "showlegend": true,
        "template": {
         "data": {
          "bar": [
           {
            "error_x": {
             "color": "#2a3f5f"
            },
            "error_y": {
             "color": "#2a3f5f"
            },
            "marker": {
             "line": {
              "color": "#E5ECF6",
              "width": 0.5
             },
             "pattern": {
              "fillmode": "overlay",
              "size": 10,
              "solidity": 0.2
             }
            },
            "type": "bar"
           }
          ],
          "barpolar": [
           {
            "marker": {
             "line": {
              "color": "#E5ECF6",
              "width": 0.5
             },
             "pattern": {
              "fillmode": "overlay",
              "size": 10,
              "solidity": 0.2
             }
            },
            "type": "barpolar"
           }
          ],
          "carpet": [
           {
            "aaxis": {
             "endlinecolor": "#2a3f5f",
             "gridcolor": "white",
             "linecolor": "white",
             "minorgridcolor": "white",
             "startlinecolor": "#2a3f5f"
            },
            "baxis": {
             "endlinecolor": "#2a3f5f",
             "gridcolor": "white",
             "linecolor": "white",
             "minorgridcolor": "white",
             "startlinecolor": "#2a3f5f"
            },
            "type": "carpet"
           }
          ],
          "choropleth": [
           {
            "colorbar": {
             "outlinewidth": 0,
             "ticks": ""
            },
            "type": "choropleth"
           }
          ],
          "contour": [
           {
            "colorbar": {
             "outlinewidth": 0,
             "ticks": ""
            },
            "colorscale": [
             [
              0,
              "#0d0887"
             ],
             [
              0.1111111111111111,
              "#46039f"
             ],
             [
              0.2222222222222222,
              "#7201a8"
             ],
             [
              0.3333333333333333,
              "#9c179e"
             ],
             [
              0.4444444444444444,
              "#bd3786"
             ],
             [
              0.5555555555555556,
              "#d8576b"
             ],
             [
              0.6666666666666666,
              "#ed7953"
             ],
             [
              0.7777777777777778,
              "#fb9f3a"
             ],
             [
              0.8888888888888888,
              "#fdca26"
             ],
             [
              1,
              "#f0f921"
             ]
            ],
            "type": "contour"
           }
          ],
          "contourcarpet": [
           {
            "colorbar": {
             "outlinewidth": 0,
             "ticks": ""
            },
            "type": "contourcarpet"
           }
          ],
          "heatmap": [
           {
            "colorbar": {
             "outlinewidth": 0,
             "ticks": ""
            },
            "colorscale": [
             [
              0,
              "#0d0887"
             ],
             [
              0.1111111111111111,
              "#46039f"
             ],
             [
              0.2222222222222222,
              "#7201a8"
             ],
             [
              0.3333333333333333,
              "#9c179e"
             ],
             [
              0.4444444444444444,
              "#bd3786"
             ],
             [
              0.5555555555555556,
              "#d8576b"
             ],
             [
              0.6666666666666666,
              "#ed7953"
             ],
             [
              0.7777777777777778,
              "#fb9f3a"
             ],
             [
              0.8888888888888888,
              "#fdca26"
             ],
             [
              1,
              "#f0f921"
             ]
            ],
            "type": "heatmap"
           }
          ],
          "heatmapgl": [
           {
            "colorbar": {
             "outlinewidth": 0,
             "ticks": ""
            },
            "colorscale": [
             [
              0,
              "#0d0887"
             ],
             [
              0.1111111111111111,
              "#46039f"
             ],
             [
              0.2222222222222222,
              "#7201a8"
             ],
             [
              0.3333333333333333,
              "#9c179e"
             ],
             [
              0.4444444444444444,
              "#bd3786"
             ],
             [
              0.5555555555555556,
              "#d8576b"
             ],
             [
              0.6666666666666666,
              "#ed7953"
             ],
             [
              0.7777777777777778,
              "#fb9f3a"
             ],
             [
              0.8888888888888888,
              "#fdca26"
             ],
             [
              1,
              "#f0f921"
             ]
            ],
            "type": "heatmapgl"
           }
          ],
          "histogram": [
           {
            "marker": {
             "pattern": {
              "fillmode": "overlay",
              "size": 10,
              "solidity": 0.2
             }
            },
            "type": "histogram"
           }
          ],
          "histogram2d": [
           {
            "colorbar": {
             "outlinewidth": 0,
             "ticks": ""
            },
            "colorscale": [
             [
              0,
              "#0d0887"
             ],
             [
              0.1111111111111111,
              "#46039f"
             ],
             [
              0.2222222222222222,
              "#7201a8"
             ],
             [
              0.3333333333333333,
              "#9c179e"
             ],
             [
              0.4444444444444444,
              "#bd3786"
             ],
             [
              0.5555555555555556,
              "#d8576b"
             ],
             [
              0.6666666666666666,
              "#ed7953"
             ],
             [
              0.7777777777777778,
              "#fb9f3a"
             ],
             [
              0.8888888888888888,
              "#fdca26"
             ],
             [
              1,
              "#f0f921"
             ]
            ],
            "type": "histogram2d"
           }
          ],
          "histogram2dcontour": [
           {
            "colorbar": {
             "outlinewidth": 0,
             "ticks": ""
            },
            "colorscale": [
             [
              0,
              "#0d0887"
             ],
             [
              0.1111111111111111,
              "#46039f"
             ],
             [
              0.2222222222222222,
              "#7201a8"
             ],
             [
              0.3333333333333333,
              "#9c179e"
             ],
             [
              0.4444444444444444,
              "#bd3786"
             ],
             [
              0.5555555555555556,
              "#d8576b"
             ],
             [
              0.6666666666666666,
              "#ed7953"
             ],
             [
              0.7777777777777778,
              "#fb9f3a"
             ],
             [
              0.8888888888888888,
              "#fdca26"
             ],
             [
              1,
              "#f0f921"
             ]
            ],
            "type": "histogram2dcontour"
           }
          ],
          "mesh3d": [
           {
            "colorbar": {
             "outlinewidth": 0,
             "ticks": ""
            },
            "type": "mesh3d"
           }
          ],
          "parcoords": [
           {
            "line": {
             "colorbar": {
              "outlinewidth": 0,
              "ticks": ""
             }
            },
            "type": "parcoords"
           }
          ],
          "pie": [
           {
            "automargin": true,
            "type": "pie"
           }
          ],
          "scatter": [
           {
            "fillpattern": {
             "fillmode": "overlay",
             "size": 10,
             "solidity": 0.2
            },
            "type": "scatter"
           }
          ],
          "scatter3d": [
           {
            "line": {
             "colorbar": {
              "outlinewidth": 0,
              "ticks": ""
             }
            },
            "marker": {
             "colorbar": {
              "outlinewidth": 0,
              "ticks": ""
             }
            },
            "type": "scatter3d"
           }
          ],
          "scattercarpet": [
           {
            "marker": {
             "colorbar": {
              "outlinewidth": 0,
              "ticks": ""
             }
            },
            "type": "scattercarpet"
           }
          ],
          "scattergeo": [
           {
            "marker": {
             "colorbar": {
              "outlinewidth": 0,
              "ticks": ""
             }
            },
            "type": "scattergeo"
           }
          ],
          "scattergl": [
           {
            "marker": {
             "colorbar": {
              "outlinewidth": 0,
              "ticks": ""
             }
            },
            "type": "scattergl"
           }
          ],
          "scattermapbox": [
           {
            "marker": {
             "colorbar": {
              "outlinewidth": 0,
              "ticks": ""
             }
            },
            "type": "scattermapbox"
           }
          ],
          "scatterpolar": [
           {
            "marker": {
             "colorbar": {
              "outlinewidth": 0,
              "ticks": ""
             }
            },
            "type": "scatterpolar"
           }
          ],
          "scatterpolargl": [
           {
            "marker": {
             "colorbar": {
              "outlinewidth": 0,
              "ticks": ""
             }
            },
            "type": "scatterpolargl"
           }
          ],
          "scatterternary": [
           {
            "marker": {
             "colorbar": {
              "outlinewidth": 0,
              "ticks": ""
             }
            },
            "type": "scatterternary"
           }
          ],
          "surface": [
           {
            "colorbar": {
             "outlinewidth": 0,
             "ticks": ""
            },
            "colorscale": [
             [
              0,
              "#0d0887"
             ],
             [
              0.1111111111111111,
              "#46039f"
             ],
             [
              0.2222222222222222,
              "#7201a8"
             ],
             [
              0.3333333333333333,
              "#9c179e"
             ],
             [
              0.4444444444444444,
              "#bd3786"
             ],
             [
              0.5555555555555556,
              "#d8576b"
             ],
             [
              0.6666666666666666,
              "#ed7953"
             ],
             [
              0.7777777777777778,
              "#fb9f3a"
             ],
             [
              0.8888888888888888,
              "#fdca26"
             ],
             [
              1,
              "#f0f921"
             ]
            ],
            "type": "surface"
           }
          ],
          "table": [
           {
            "cells": {
             "fill": {
              "color": "#EBF0F8"
             },
             "line": {
              "color": "white"
             }
            },
            "header": {
             "fill": {
              "color": "#C8D4E3"
             },
             "line": {
              "color": "white"
             }
            },
            "type": "table"
           }
          ]
         },
         "layout": {
          "annotationdefaults": {
           "arrowcolor": "#2a3f5f",
           "arrowhead": 0,
           "arrowwidth": 1
          },
          "autotypenumbers": "strict",
          "coloraxis": {
           "colorbar": {
            "outlinewidth": 0,
            "ticks": ""
           }
          },
          "colorscale": {
           "diverging": [
            [
             0,
             "#8e0152"
            ],
            [
             0.1,
             "#c51b7d"
            ],
            [
             0.2,
             "#de77ae"
            ],
            [
             0.3,
             "#f1b6da"
            ],
            [
             0.4,
             "#fde0ef"
            ],
            [
             0.5,
             "#f7f7f7"
            ],
            [
             0.6,
             "#e6f5d0"
            ],
            [
             0.7,
             "#b8e186"
            ],
            [
             0.8,
             "#7fbc41"
            ],
            [
             0.9,
             "#4d9221"
            ],
            [
             1,
             "#276419"
            ]
           ],
           "sequential": [
            [
             0,
             "#0d0887"
            ],
            [
             0.1111111111111111,
             "#46039f"
            ],
            [
             0.2222222222222222,
             "#7201a8"
            ],
            [
             0.3333333333333333,
             "#9c179e"
            ],
            [
             0.4444444444444444,
             "#bd3786"
            ],
            [
             0.5555555555555556,
             "#d8576b"
            ],
            [
             0.6666666666666666,
             "#ed7953"
            ],
            [
             0.7777777777777778,
             "#fb9f3a"
            ],
            [
             0.8888888888888888,
             "#fdca26"
            ],
            [
             1,
             "#f0f921"
            ]
           ],
           "sequentialminus": [
            [
             0,
             "#0d0887"
            ],
            [
             0.1111111111111111,
             "#46039f"
            ],
            [
             0.2222222222222222,
             "#7201a8"
            ],
            [
             0.3333333333333333,
             "#9c179e"
            ],
            [
             0.4444444444444444,
             "#bd3786"
            ],
            [
             0.5555555555555556,
             "#d8576b"
            ],
            [
             0.6666666666666666,
             "#ed7953"
            ],
            [
             0.7777777777777778,
             "#fb9f3a"
            ],
            [
             0.8888888888888888,
             "#fdca26"
            ],
            [
             1,
             "#f0f921"
            ]
           ]
          },
          "colorway": [
           "#636efa",
           "#EF553B",
           "#00cc96",
           "#ab63fa",
           "#FFA15A",
           "#19d3f3",
           "#FF6692",
           "#B6E880",
           "#FF97FF",
           "#FECB52"
          ],
          "font": {
           "color": "#2a3f5f"
          },
          "geo": {
           "bgcolor": "white",
           "lakecolor": "white",
           "landcolor": "#E5ECF6",
           "showlakes": true,
           "showland": true,
           "subunitcolor": "white"
          },
          "hoverlabel": {
           "align": "left"
          },
          "hovermode": "closest",
          "mapbox": {
           "style": "light"
          },
          "paper_bgcolor": "white",
          "plot_bgcolor": "#E5ECF6",
          "polar": {
           "angularaxis": {
            "gridcolor": "white",
            "linecolor": "white",
            "ticks": ""
           },
           "bgcolor": "#E5ECF6",
           "radialaxis": {
            "gridcolor": "white",
            "linecolor": "white",
            "ticks": ""
           }
          },
          "scene": {
           "xaxis": {
            "backgroundcolor": "#E5ECF6",
            "gridcolor": "white",
            "gridwidth": 2,
            "linecolor": "white",
            "showbackground": true,
            "ticks": "",
            "zerolinecolor": "white"
           },
           "yaxis": {
            "backgroundcolor": "#E5ECF6",
            "gridcolor": "white",
            "gridwidth": 2,
            "linecolor": "white",
            "showbackground": true,
            "ticks": "",
            "zerolinecolor": "white"
           },
           "zaxis": {
            "backgroundcolor": "#E5ECF6",
            "gridcolor": "white",
            "gridwidth": 2,
            "linecolor": "white",
            "showbackground": true,
            "ticks": "",
            "zerolinecolor": "white"
           }
          },
          "shapedefaults": {
           "line": {
            "color": "#2a3f5f"
           }
          },
          "ternary": {
           "aaxis": {
            "gridcolor": "white",
            "linecolor": "white",
            "ticks": ""
           },
           "baxis": {
            "gridcolor": "white",
            "linecolor": "white",
            "ticks": ""
           },
           "bgcolor": "#E5ECF6",
           "caxis": {
            "gridcolor": "white",
            "linecolor": "white",
            "ticks": ""
           }
          },
          "title": {
           "x": 0.05
          },
          "xaxis": {
           "automargin": true,
           "gridcolor": "white",
           "linecolor": "white",
           "ticks": "",
           "title": {
            "standoff": 15
           },
           "zerolinecolor": "white",
           "zerolinewidth": 2
          },
          "yaxis": {
           "automargin": true,
           "gridcolor": "white",
           "linecolor": "white",
           "ticks": "",
           "title": {
            "standoff": 15
           },
           "zerolinecolor": "white",
           "zerolinewidth": 2
          }
         }
        },
        "width": 780
       }
      }
     },
     "metadata": {},
     "output_type": "display_data"
    }
   ],
   "source": [
    "# Créer une figure en radar pour chaque cluster\n",
    "fig = go.Figure()\n",
    "\n",
    "for cluster, row in df_clusters.iterrows():\n",
    "    values = row.values.tolist()\n",
    "    \n",
    "\n",
    "    \n",
    "\n",
    "    fig.add_trace(go.Scatterpolar(\n",
    "        r=values,\n",
    "        theta=cmn,\n",
    "        fill='toself',\n",
    "        name=f'Cluster {cluster}'\n",
    "    ))\n",
    "\n",
    "# Mettre en forme la figurenum_cols,\n",
    "fig.update_layout(\n",
    "    polar=dict(\n",
    "        radialaxis=dict(\n",
    "            visible=True,\n",
    "            range=[0, 5]\n",
    "        ),\n",
    "    ),\n",
    "    showlegend=True,\n",
    "    width=780,\n",
    "    height=780\n",
    "\n",
    ")\n",
    "\n",
    "# Afficher la figure\n",
    "fig.show()\n",
    "figsize = (60,60)"
   ]
  }
 ],
 "metadata": {
  "kernelspec": {
   "display_name": "jng",
   "language": "python",
   "name": "python3"
  },
  "language_info": {
   "codemirror_mode": {
    "name": "ipython",
    "version": 3
   },
   "file_extension": ".py",
   "mimetype": "text/x-python",
   "name": "python",
   "nbconvert_exporter": "python",
   "pygments_lexer": "ipython3",
   "version": "3.10.8"
  },
  "orig_nbformat": 4,
  "vscode": {
   "interpreter": {
    "hash": "37227ed9c485f36684c918ad2ebf286762189d6ce6ae0d84fce244b97886ca3c"
   }
  }
 },
 "nbformat": 4,
 "nbformat_minor": 2
}
