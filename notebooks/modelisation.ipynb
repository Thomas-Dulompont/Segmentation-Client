{
 "cells": [
  {
   "cell_type": "code",
   "execution_count": 41,
   "metadata": {},
   "outputs": [],
   "source": [
    "import numpy as np\n",
    "import pandas as pd\n",
    "from sklearn.pipeline import Pipeline\n",
    "from sklearn.preprocessing import RobustScaler, OneHotEncoder, StandardScaler, PolynomialFeatures, OrdinalEncoder, LabelEncoder\n",
    "from sklearn.compose import ColumnTransformer\n",
    "from sklearn.model_selection import GridSearchCV, RandomizedSearchCV, StratifiedShuffleSplit, ShuffleSplit\n",
    "from sklearn.cluster import KMeans\n",
    "from sklearn.decomposition import PCA, TruncatedSVD\n",
    "from kmodes.kprototypes import KPrototypes\n",
    "import matplotlib.pyplot as plt\n",
    "import os\n",
    "\n",
    "df = pd.read_csv(\"data.csv\")\n",
    "\n",
    "X = df\n",
    "\n",
    "cat_var = ['state', 'id', 'zipcode', 'city', \"last_purchase\"]\n",
    "num_var = ['total', 'freq', 'no_purchase_period', 'recense', 'montant']"
   ]
  },
  {
   "cell_type": "code",
   "execution_count": 42,
   "metadata": {},
   "outputs": [],
   "source": [
    "cat_transformer = OneHotEncoder(handle_unknown='ignore')\n",
    "\n",
    "num_transformer = StandardScaler()\n",
    "\n",
    "f_encoder = ColumnTransformer(\n",
    "    transformers=[\n",
    "        ('cat', cat_transformer, cat_var),\n",
    "        ('num', num_transformer, num_var)\n",
    "    ]\n",
    ")\n",
    "\n",
    "encoder = ColumnTransformer(\n",
    "    transformers=[\n",
    "        #('cat', cat_transformer, cat_var),\n",
    "        ('num', num_transformer, num_var)\n",
    "    ]\n",
    ")\n",
    "\n",
    "pipeline = Pipeline([\n",
    "    ('enc', encoder),\n",
    "])\n",
    "\n",
    "f_pipeline = Pipeline([\n",
    "    ('enc', f_encoder),\n",
    "])"
   ]
  },
  {
   "cell_type": "code",
   "execution_count": 43,
   "metadata": {},
   "outputs": [
    {
     "name": "stdout",
     "output_type": "stream",
     "text": [
      "Initialization method and algorithm are deterministic. Setting n_init to 1.\n",
      "Init: initializing centroids\n",
      "Init: initializing centroids\n",
      "Init: initializing centroids\n",
      "Init: initializing clusters\n",
      "Init: initializing clusters\n",
      "Init: initializing clusters\n",
      "Starting iterations...\n",
      "Init: initializing centroids\n",
      "Starting iterations...\n",
      "Init: initializing clusters\n",
      "Init: initializing centroids\n",
      "Init: initializing clusters\n",
      "Starting iterations...\n",
      "Run: 3, iteration: 1/50, moves: 28769, ncost: 2866613199.644403\n",
      "Run: 2, iteration: 1/50, moves: 28338, ncost: 2222439215.8615856\n",
      "Run: 1, iteration: 1/50, moves: 29063, ncost: 2376834816.109366\n",
      "Run: 3, iteration: 2/50, moves: 16366, ncost: 2422722393.755911\n",
      "Run: 2, iteration: 2/50, moves: 12223, ncost: 2034067844.6901484\n",
      "Run: 1, iteration: 2/50, moves: 16127, ncost: 2090057110.0359616\n",
      "Run: 2, iteration: 3/50, moves: 5315, ncost: 1966699973.041371\n",
      "Run: 3, iteration: 3/50, moves: 11282, ncost: 2186474034.8762355\n",
      "Run: 1, iteration: 3/50, moves: 10059, ncost: 1940767151.560148\n",
      "Run: 2, iteration: 4/50, moves: 3327, ncost: 1928018779.7492242\n",
      "Run: 3, iteration: 4/50, moves: 6913, ncost: 2026023644.4093587\n",
      "Run: 1, iteration: 4/50, moves: 5303, ncost: 1873930233.354489\n",
      "Run: 2, iteration: 5/50, moves: 3182, ncost: 1891765973.3230934\n",
      "Run: 3, iteration: 5/50, moves: 4648, ncost: 1918389956.1026592\n",
      "Run: 1, iteration: 5/50, moves: 3044, ncost: 1846313122.8880444\n",
      "Run: 2, iteration: 6/50, moves: 3511, ncost: 1856143997.7517526\n",
      "Run: 3, iteration: 6/50, moves: 2621, ncost: 1865504830.9350798\n",
      "Run: 1, iteration: 6/50, moves: 2082, ncost: 1834775472.3737366\n",
      "Run: 3, iteration: 7/50, moves: 1540, ncost: 1843241569.9386315\n",
      "Run: 2, iteration: 7/50, moves: 2998, ncost: 1830510490.0672948\n",
      "Run: 1, iteration: 7/50, moves: 1213, ncost: 1829473283.3986485\n",
      "Run: 3, iteration: 8/50, moves: 1024, ncost: 1833683407.512499\n",
      "Run: 2, iteration: 8/50, moves: 1825, ncost: 1816493666.851152\n",
      "Run: 1, iteration: 8/50, moves: 721, ncost: 1827672919.5995643\n",
      "Run: 3, iteration: 9/50, moves: 643, ncost: 1829079426.3135486\n",
      "Run: 2, iteration: 9/50, moves: 1057, ncost: 1811300824.9790437\n",
      "Run: 1, iteration: 9/50, moves: 348, ncost: 1827312446.1921136\n",
      "Run: 3, iteration: 10/50, moves: 423, ncost: 1827588153.861829\n",
      "Run: 2, iteration: 10/50, moves: 714, ncost: 1809213159.858599\n",
      "Run: 1, iteration: 10/50, moves: 153, ncost: 1827252665.9242737\n",
      "Run: 3, iteration: 11/50, moves: 216, ncost: 1827294790.8510785\n",
      "Run: 2, iteration: 11/50, moves: 551, ncost: 1807594165.0734217\n",
      "Run: 1, iteration: 11/50, moves: 66, ncost: 1827241967.4185686\n",
      "Run: 3, iteration: 12/50, moves: 86, ncost: 1827250618.6703737\n",
      "Run: 2, iteration: 12/50, moves: 479, ncost: 1806570809.6469002\n",
      "Run: 1, iteration: 12/50, moves: 49, ncost: 1827237410.3725634\n",
      "Run: 3, iteration: 13/50, moves: 31, ncost: 1827240856.8784351\n",
      "Run: 2, iteration: 13/50, moves: 358, ncost: 1806083085.798565\n",
      "Run: 1, iteration: 13/50, moves: 17, ncost: 1827236869.0577285\n",
      "Run: 3, iteration: 14/50, moves: 22, ncost: 1827237297.87665\n",
      "Run: 2, iteration: 14/50, moves: 285, ncost: 1805860306.8853796\n",
      "Run: 1, iteration: 14/50, moves: 13, ncost: 1827235537.4740562\n",
      "Run: 3, iteration: 15/50, moves: 10, ncost: 1827236854.0652542\n",
      "Run: 2, iteration: 15/50, moves: 202, ncost: 1805705043.6015947\n",
      "Run: 1, iteration: 15/50, moves: 4, ncost: 1827235392.0318143\n",
      "Run: 3, iteration: 16/50, moves: 9, ncost: 1827235529.6497138\n",
      "Run: 2, iteration: 16/50, moves: 189, ncost: 1805486622.5502126\n",
      "Run: 1, iteration: 16/50, moves: 1, ncost: 1827235388.7105465\n",
      "Run: 3, iteration: 17/50, moves: 3, ncost: 1827235403.0674284\n",
      "Run: 2, iteration: 17/50, moves: 135, ncost: 1805335872.6777158\n",
      "Run: 1, iteration: 17/50, moves: 0, ncost: 1827235388.7105465\n",
      "Init: initializing centroids\n",
      "Init: initializing clusters\n",
      "Run: 3, iteration: 18/50, moves: 1, ncost: 1827235388.710551\n",
      "Run: 2, iteration: 18/50, moves: 106, ncost: 1805010595.017355\n",
      "Starting iterations...\n",
      "Run: 3, iteration: 19/50, moves: 0, ncost: 1827235388.710551\n",
      "Init: initializing centroids\n",
      "Init: initializing clusters\n",
      "Run: 2, iteration: 19/50, moves: 82, ncost: 1804535890.3354044\n",
      "Starting iterations...\n",
      "Run: 4, iteration: 1/50, moves: 33607, ncost: 2626029476.9548726\n",
      "Run: 2, iteration: 20/50, moves: 155, ncost: 1804074660.8225803\n",
      "Run: 5, iteration: 1/50, moves: 21889, ncost: 2014418316.264531\n",
      "Run: 2, iteration: 21/50, moves: 173, ncost: 1803719667.786516\n",
      "Run: 4, iteration: 2/50, moves: 21681, ncost: 2245657879.3241167\n",
      "Run: 2, iteration: 22/50, moves: 162, ncost: 1803511832.3154738\n",
      "Run: 5, iteration: 2/50, moves: 7005, ncost: 1890818807.9216504\n",
      "Run: 4, iteration: 3/50, moves: 12601, ncost: 2046045065.2182927\n",
      "Run: 2, iteration: 23/50, moves: 148, ncost: 1803403796.9710407\n",
      "Run: 5, iteration: 3/50, moves: 3263, ncost: 1853610359.1974924\n",
      "Run: 4, iteration: 4/50, moves: 6813, ncost: 1928396878.7156582\n",
      "Run: 2, iteration: 24/50, moves: 119, ncost: 1803316014.0120099\n",
      "Run: 5, iteration: 4/50, moves: 2228, ncost: 1838360420.1078258\n",
      "Run: 4, iteration: 5/50, moves: 3737, ncost: 1869760560.1770859\n",
      "Run: 2, iteration: 25/50, moves: 104, ncost: 1803261504.5332372\n",
      "Run: 5, iteration: 5/50, moves: 1505, ncost: 1831101839.5670817\n",
      "Run: 4, iteration: 6/50, moves: 2253, ncost: 1844711507.46655\n",
      "Run: 2, iteration: 26/50, moves: 49, ncost: 1803248884.1340322\n",
      "Run: 5, iteration: 6/50, moves: 898, ncost: 1828074939.2671018\n",
      "Run: 4, iteration: 7/50, moves: 1396, ncost: 1834064898.4888685\n",
      "Run: 2, iteration: 27/50, moves: 30, ncost: 1803237701.8979583\n",
      "Run: 5, iteration: 7/50, moves: 469, ncost: 1827368416.1203408\n",
      "Run: 4, iteration: 8/50, moves: 832, ncost: 1829274001.2515736\n",
      "Run: 2, iteration: 28/50, moves: 21, ncost: 1803234909.8518424\n",
      "Run: 5, iteration: 8/50, moves: 218, ncost: 1827260062.0481136\n",
      "Run: 4, iteration: 9/50, moves: 525, ncost: 1827639412.7817156\n",
      "Run: 2, iteration: 29/50, moves: 10, ncost: 1803234470.547591\n",
      "Run: 5, iteration: 9/50, moves: 78, ncost: 1827246479.9803042\n",
      "Run: 4, iteration: 10/50, moves: 233, ncost: 1827307039.1672409\n",
      "Run: 2, iteration: 30/50, moves: 3, ncost: 1803234429.127697\n",
      "Run: 5, iteration: 10/50, moves: 64, ncost: 1827238634.321502\n",
      "Run: 4, iteration: 11/50, moves: 108, ncost: 1827251764.0515733\n",
      "Run: 2, iteration: 31/50, moves: 1, ncost: 1803234424.4633255\n",
      "Run: 5, iteration: 11/50, moves: 28, ncost: 1827236941.2526221\n",
      "Run: 4, iteration: 12/50, moves: 47, ncost: 1827240843.873328\n",
      "Run: 5, iteration: 12/50, moves: 16, ncost: 1827236203.3269703\n",
      "Run: 2, iteration: 32/50, moves: 0, ncost: 1803234424.4633255\n",
      "Run: 4, iteration: 13/50, moves: 23, ncost: 1827237293.3538716\n",
      "Run: 5, iteration: 13/50, moves: 8, ncost: 1827235403.2093434\n",
      "Run: 4, iteration: 14/50, moves: 9, ncost: 1827236854.0652559\n",
      "Run: 5, iteration: 14/50, moves: 1, ncost: 1827235388.8525598\n",
      "Run: 4, iteration: 15/50, moves: 9, ncost: 1827235529.6497135\n",
      "Run: 5, iteration: 15/50, moves: 0, ncost: 1827235388.8525598\n",
      "Run: 4, iteration: 16/50, moves: 3, ncost: 1827235403.0674288\n",
      "Run: 4, iteration: 17/50, moves: 1, ncost: 1827235388.710544\n",
      "Run: 4, iteration: 18/50, moves: 0, ncost: 1827235388.710544\n",
      "Best run was number 2\n"
     ]
    }
   ],
   "source": [
    "best = {}\n",
    "k = 5\n",
    "model = KPrototypes(n_clusters=k, init=\"Cao\", verbose=2, n_jobs=3, n_init=5, max_iter=50, random_state=42)\n",
    "\n",
    "df_nor = df.copy()\n",
    "df_nor[num_var] = pipeline.fit_transform(df_nor[num_var])\n",
    "\n",
    "test = list(df.columns.get_indexer_for(cat_var))\n",
    "clusters = model.fit(df, categorical=test)\n",
    "best[k] = model.cost_"
   ]
  },
  {
   "cell_type": "code",
   "execution_count": 44,
   "metadata": {},
   "outputs": [],
   "source": [
    "df[\"label\"] = model.labels_"
   ]
  },
  {
   "cell_type": "code",
   "execution_count": 51,
   "metadata": {},
   "outputs": [
    {
     "ename": "TypeError",
     "evalue": "PCA does not support sparse input. See TruncatedSVD for a possible alternative.",
     "output_type": "error",
     "traceback": [
      "\u001b[0;31m---------------------------------------------------------------------------\u001b[0m",
      "\u001b[0;31mTypeError\u001b[0m                                 Traceback (most recent call last)",
      "Cell \u001b[0;32mIn[51], line 9\u001b[0m\n\u001b[1;32m      6\u001b[0m features \u001b[39m=\u001b[39m \u001b[39mlist\u001b[39m(df\u001b[39m.\u001b[39mdrop(\u001b[39m'\u001b[39m\u001b[39mlabel\u001b[39m\u001b[39m'\u001b[39m, axis\u001b[39m=\u001b[39m\u001b[39m1\u001b[39m)\u001b[39m.\u001b[39mcolumns)\n\u001b[1;32m      8\u001b[0m pca \u001b[39m=\u001b[39m PCA(n_components\u001b[39m=\u001b[39m\u001b[39m2\u001b[39m)\n\u001b[0;32m----> 9\u001b[0m components \u001b[39m=\u001b[39m pca\u001b[39m.\u001b[39;49mfit_transform(f_pipeline\u001b[39m.\u001b[39;49mfit_transform(df\u001b[39m.\u001b[39;49mdrop(\u001b[39m\"\u001b[39;49m\u001b[39mlabel\u001b[39;49m\u001b[39m\"\u001b[39;49m, axis\u001b[39m=\u001b[39;49m\u001b[39m1\u001b[39;49m)))\n\u001b[1;32m     11\u001b[0m loadings \u001b[39m=\u001b[39m pca\u001b[39m.\u001b[39mcomponents_\u001b[39m.\u001b[39mT \u001b[39m*\u001b[39m np\u001b[39m.\u001b[39msqrt(pca\u001b[39m.\u001b[39mexplained_variance_)\n\u001b[1;32m     13\u001b[0m fig \u001b[39m=\u001b[39m px\u001b[39m.\u001b[39mscatter(components, x\u001b[39m=\u001b[39m\u001b[39m0\u001b[39m, y\u001b[39m=\u001b[39m\u001b[39m1\u001b[39m, color\u001b[39m=\u001b[39mdf[\u001b[39m'\u001b[39m\u001b[39mlabel\u001b[39m\u001b[39m'\u001b[39m])\n",
      "File \u001b[0;32m~/miniconda3/envs/segmentation-client/lib/python3.9/site-packages/sklearn/utils/_set_output.py:142\u001b[0m, in \u001b[0;36m_wrap_method_output.<locals>.wrapped\u001b[0;34m(self, X, *args, **kwargs)\u001b[0m\n\u001b[1;32m    140\u001b[0m \u001b[39m@wraps\u001b[39m(f)\n\u001b[1;32m    141\u001b[0m \u001b[39mdef\u001b[39;00m \u001b[39mwrapped\u001b[39m(\u001b[39mself\u001b[39m, X, \u001b[39m*\u001b[39margs, \u001b[39m*\u001b[39m\u001b[39m*\u001b[39mkwargs):\n\u001b[0;32m--> 142\u001b[0m     data_to_wrap \u001b[39m=\u001b[39m f(\u001b[39mself\u001b[39;49m, X, \u001b[39m*\u001b[39;49margs, \u001b[39m*\u001b[39;49m\u001b[39m*\u001b[39;49mkwargs)\n\u001b[1;32m    143\u001b[0m     \u001b[39mif\u001b[39;00m \u001b[39misinstance\u001b[39m(data_to_wrap, \u001b[39mtuple\u001b[39m):\n\u001b[1;32m    144\u001b[0m         \u001b[39m# only wrap the first output for cross decomposition\u001b[39;00m\n\u001b[1;32m    145\u001b[0m         \u001b[39mreturn\u001b[39;00m (\n\u001b[1;32m    146\u001b[0m             _wrap_data_with_container(method, data_to_wrap[\u001b[39m0\u001b[39m], X, \u001b[39mself\u001b[39m),\n\u001b[1;32m    147\u001b[0m             \u001b[39m*\u001b[39mdata_to_wrap[\u001b[39m1\u001b[39m:],\n\u001b[1;32m    148\u001b[0m         )\n",
      "File \u001b[0;32m~/miniconda3/envs/segmentation-client/lib/python3.9/site-packages/sklearn/decomposition/_pca.py:462\u001b[0m, in \u001b[0;36mPCA.fit_transform\u001b[0;34m(self, X, y)\u001b[0m\n\u001b[1;32m    439\u001b[0m \u001b[39m\u001b[39m\u001b[39m\"\"\"Fit the model with X and apply the dimensionality reduction on X.\u001b[39;00m\n\u001b[1;32m    440\u001b[0m \n\u001b[1;32m    441\u001b[0m \u001b[39mParameters\u001b[39;00m\n\u001b[0;32m   (...)\u001b[0m\n\u001b[1;32m    458\u001b[0m \u001b[39mC-ordered array, use 'np.ascontiguousarray'.\u001b[39;00m\n\u001b[1;32m    459\u001b[0m \u001b[39m\"\"\"\u001b[39;00m\n\u001b[1;32m    460\u001b[0m \u001b[39mself\u001b[39m\u001b[39m.\u001b[39m_validate_params()\n\u001b[0;32m--> 462\u001b[0m U, S, Vt \u001b[39m=\u001b[39m \u001b[39mself\u001b[39;49m\u001b[39m.\u001b[39;49m_fit(X)\n\u001b[1;32m    463\u001b[0m U \u001b[39m=\u001b[39m U[:, : \u001b[39mself\u001b[39m\u001b[39m.\u001b[39mn_components_]\n\u001b[1;32m    465\u001b[0m \u001b[39mif\u001b[39;00m \u001b[39mself\u001b[39m\u001b[39m.\u001b[39mwhiten:\n\u001b[1;32m    466\u001b[0m     \u001b[39m# X_new = X * V / S * sqrt(n_samples) = U * sqrt(n_samples)\u001b[39;00m\n",
      "File \u001b[0;32m~/miniconda3/envs/segmentation-client/lib/python3.9/site-packages/sklearn/decomposition/_pca.py:480\u001b[0m, in \u001b[0;36mPCA._fit\u001b[0;34m(self, X)\u001b[0m\n\u001b[1;32m    477\u001b[0m \u001b[39m# Raise an error for sparse input.\u001b[39;00m\n\u001b[1;32m    478\u001b[0m \u001b[39m# This is more informative than the generic one raised by check_array.\u001b[39;00m\n\u001b[1;32m    479\u001b[0m \u001b[39mif\u001b[39;00m issparse(X):\n\u001b[0;32m--> 480\u001b[0m     \u001b[39mraise\u001b[39;00m \u001b[39mTypeError\u001b[39;00m(\n\u001b[1;32m    481\u001b[0m         \u001b[39m\"\u001b[39m\u001b[39mPCA does not support sparse input. See \u001b[39m\u001b[39m\"\u001b[39m\n\u001b[1;32m    482\u001b[0m         \u001b[39m\"\u001b[39m\u001b[39mTruncatedSVD for a possible alternative.\u001b[39m\u001b[39m\"\u001b[39m\n\u001b[1;32m    483\u001b[0m     )\n\u001b[1;32m    485\u001b[0m X \u001b[39m=\u001b[39m \u001b[39mself\u001b[39m\u001b[39m.\u001b[39m_validate_data(\n\u001b[1;32m    486\u001b[0m     X, dtype\u001b[39m=\u001b[39m[np\u001b[39m.\u001b[39mfloat64, np\u001b[39m.\u001b[39mfloat32], ensure_2d\u001b[39m=\u001b[39m\u001b[39mTrue\u001b[39;00m, copy\u001b[39m=\u001b[39m\u001b[39mself\u001b[39m\u001b[39m.\u001b[39mcopy\n\u001b[1;32m    487\u001b[0m )\n\u001b[1;32m    489\u001b[0m \u001b[39m# Handle n_components==None\u001b[39;00m\n",
      "\u001b[0;31mTypeError\u001b[0m: PCA does not support sparse input. See TruncatedSVD for a possible alternative."
     ]
    }
   ],
   "source": [
    "import plotly.express as px\n",
    "from sklearn.decomposition import PCA\n",
    "from sklearn import datasets\n",
    "from sklearn.preprocessing import StandardScaler\n",
    "\n",
    "features = list(df.drop('label', axis=1).columns)\n",
    "\n",
    "pca = PCA(n_components=2)\n",
    "components = pca.fit_transform(f_pipeline.fit_transform(df.drop(\"label\", axis=1)))\n",
    "\n",
    "loadings = pca.components_.T * np.sqrt(pca.explained_variance_)\n",
    "\n",
    "fig = px.scatter(components, x=0, y=1, color=df['label'])\n",
    "\n",
    "for i, feature in enumerate(features):\n",
    "    fig.add_annotation(\n",
    "        ax=0, ay=0,\n",
    "        axref=\"x\", ayref=\"y\",\n",
    "        x=loadings[i, 0],\n",
    "        y=loadings[i, 1],\n",
    "        showarrow=True,\n",
    "        arrowsize=2,\n",
    "        arrowhead=2,\n",
    "        xanchor=\"right\",\n",
    "        yanchor=\"top\"\n",
    "    )\n",
    "    fig.add_annotation(\n",
    "        x=loadings[i, 0],\n",
    "        y=loadings[i, 1],\n",
    "        ax=0, ay=0,\n",
    "        xanchor=\"center\",\n",
    "        yanchor=\"bottom\",\n",
    "        text=feature,\n",
    "        yshift=5,\n",
    "    )\n",
    "fig.show()"
   ]
  },
  {
   "cell_type": "code",
   "execution_count": 53,
   "metadata": {},
   "outputs": [
    {
     "data": {
      "text/plain": [
       "<95407x201873 sparse matrix of type '<class 'numpy.float64'>'\n",
       "\twith 954070 stored elements in Compressed Sparse Row format>"
      ]
     },
     "execution_count": 53,
     "metadata": {},
     "output_type": "execute_result"
    }
   ],
   "source": [
    "f_pipeline.fit_transform(df)"
   ]
  },
  {
   "cell_type": "code",
   "execution_count": 59,
   "metadata": {},
   "outputs": [
    {
     "ename": "AttributeError",
     "evalue": "to_dense not found",
     "output_type": "error",
     "traceback": [
      "\u001b[0;31m---------------------------------------------------------------------------\u001b[0m",
      "\u001b[0;31mAttributeError\u001b[0m                            Traceback (most recent call last)",
      "Cell \u001b[0;32mIn[59], line 1\u001b[0m\n\u001b[0;32m----> 1\u001b[0m f_pipeline\u001b[39m.\u001b[39;49mfit_transform(df)\u001b[39m.\u001b[39;49mto_dense()\n",
      "File \u001b[0;32m~/miniconda3/envs/segmentation-client/lib/python3.9/site-packages/scipy/sparse/_base.py:771\u001b[0m, in \u001b[0;36mspmatrix.__getattr__\u001b[0;34m(self, attr)\u001b[0m\n\u001b[1;32m    769\u001b[0m     \u001b[39mreturn\u001b[39;00m \u001b[39mself\u001b[39m\u001b[39m.\u001b[39mgetnnz()\n\u001b[1;32m    770\u001b[0m \u001b[39melse\u001b[39;00m:\n\u001b[0;32m--> 771\u001b[0m     \u001b[39mraise\u001b[39;00m \u001b[39mAttributeError\u001b[39;00m(attr \u001b[39m+\u001b[39m \u001b[39m\"\u001b[39m\u001b[39m not found\u001b[39m\u001b[39m\"\u001b[39m)\n",
      "\u001b[0;31mAttributeError\u001b[0m: to_dense not found"
     ]
    }
   ],
   "source": [
    "f_pipeline.fit_transform(df)"
   ]
  }
 ],
 "metadata": {
  "kernelspec": {
   "display_name": "jng",
   "language": "python",
   "name": "python3"
  },
  "language_info": {
   "codemirror_mode": {
    "name": "ipython",
    "version": 3
   },
   "file_extension": ".py",
   "mimetype": "text/x-python",
   "name": "python",
   "nbconvert_exporter": "python",
   "pygments_lexer": "ipython3",
   "version": "3.10.8 (main, Nov  4 2022, 13:48:29) [GCC 11.2.0]"
  },
  "orig_nbformat": 4,
  "vscode": {
   "interpreter": {
    "hash": "37227ed9c485f36684c918ad2ebf286762189d6ce6ae0d84fce244b97886ca3c"
   }
  }
 },
 "nbformat": 4,
 "nbformat_minor": 2
}
